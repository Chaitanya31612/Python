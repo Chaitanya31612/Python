{
 "cells": [
  {
   "cell_type": "code",
   "execution_count": 4,
   "metadata": {},
   "outputs": [
    {
     "ename": "AttributeError",
     "evalue": "'list' object has no attribute 'shape'",
     "output_type": "error",
     "traceback": [
      "\u001b[1;31m---------------------------------------------------------------------------\u001b[0m",
      "\u001b[1;31mAttributeError\u001b[0m                            Traceback (most recent call last)",
      "\u001b[1;32m<ipython-input-4-227492a76b2b>\u001b[0m in \u001b[0;36m<module>\u001b[1;34m()\u001b[0m\n\u001b[0;32m     16\u001b[0m \u001b[1;33m\u001b[0m\u001b[0m\n\u001b[0;32m     17\u001b[0m \u001b[0mwinelist\u001b[0m \u001b[1;33m=\u001b[0m \u001b[0mread_csv\u001b[0m\u001b[1;33m(\u001b[0m\u001b[1;34m\"winequality-red.csv\"\u001b[0m\u001b[1;33m)\u001b[0m\u001b[1;33m\u001b[0m\u001b[0m\n\u001b[1;32m---> 18\u001b[1;33m \u001b[0mwinelist\u001b[0m\u001b[1;33m.\u001b[0m\u001b[0mshape\u001b[0m\u001b[1;33m\u001b[0m\u001b[0m\n\u001b[0m",
      "\u001b[1;31mAttributeError\u001b[0m: 'list' object has no attribute 'shape'"
     ]
    }
   ],
   "source": [
    "import csv\n",
    "import numpy as np\n",
    "\n",
    "def read_csv(x):\n",
    "    string_data = open(x).read()\n",
    "    string_list = string_data.split(\"\\n\")[1:]\n",
    "    final_list = []\n",
    "    \n",
    "    for row in string_list:\n",
    "        string_fields = row.split(\";\")\n",
    "        int_fields = []\n",
    "        for value in string_fields:\n",
    "            int_fields.append((value))\n",
    "        final_list.append(int_fields)\n",
    "    return final_list\n",
    "\n",
    "winelist = read_csv(\"winequality-red.csv\")\n",
    "winelist"
   ]
  },
  {
   "cell_type": "code",
   "execution_count": 37,
   "metadata": {},
   "outputs": [
    {
     "data": {
      "text/plain": [
       "(1, 1, 1599)"
      ]
     },
     "execution_count": 37,
     "metadata": {},
     "output_type": "execute_result"
    }
   ],
   "source": [
    "np.shape(wines)"
   ]
  },
  {
   "cell_type": "code",
   "execution_count": 21,
   "metadata": {},
   "outputs": [
    {
     "data": {
      "text/plain": [
       "array([[ 7.8  ,  0.88 ,  0.   , ...,  0.68 ,  9.8  ,  5.   ],\n",
       "       [ 7.8  ,  0.76 ,  0.04 , ...,  0.65 ,  9.8  ,  5.   ],\n",
       "       [11.2  ,  0.28 ,  0.56 , ...,  0.58 ,  9.8  ,  6.   ],\n",
       "       ...,\n",
       "       [ 6.3  ,  0.51 ,  0.13 , ...,  0.75 , 11.   ,  6.   ],\n",
       "       [ 5.9  ,  0.645,  0.12 , ...,  0.71 , 10.2  ,  5.   ],\n",
       "       [ 6.   ,  0.31 ,  0.47 , ...,  0.66 , 11.   ,  6.   ]])"
      ]
     },
     "execution_count": 21,
     "metadata": {},
     "output_type": "execute_result"
    }
   ],
   "source": [
    "import numpy as np\n",
    "wines=np.genfromtxt(\"../winequality-red.csv\", delimiter=\";\",skip_header=1)\n",
    "wines"
   ]
  },
  {
   "cell_type": "code",
   "execution_count": 7,
   "metadata": {},
   "outputs": [
    {
     "data": {
      "text/plain": [
       "(1598, 12)"
      ]
     },
     "execution_count": 7,
     "metadata": {},
     "output_type": "execute_result"
    }
   ],
   "source": [
    "np.shape(wines)\n"
   ]
  },
  {
   "cell_type": "code",
   "execution_count": 8,
   "metadata": {},
   "outputs": [
    {
     "data": {
      "text/plain": [
       "array([10., 10., 12., ..., 12., 10., 12.])"
      ]
     },
     "execution_count": 8,
     "metadata": {},
     "output_type": "execute_result"
    }
   ],
   "source": [
    "#add the quality column to itself,\n",
    "\n",
    "wines[:,11] + wines[:,11]\n",
    "\n"
   ]
  },
  {
   "cell_type": "code",
   "execution_count": 20,
   "metadata": {},
   "outputs": [
    {
     "name": "stdout",
     "output_type": "stream",
     "text": [
      "[49.  49.  58.8 ... 66.  51.  66. ]\n",
      "112.0\n",
      "25.200000000000003\n"
     ]
    }
   ],
   "source": [
    "#multiply alcohol by quality, and select the wine with the highest score:\n",
    "a=np.array(wines[:,10] * wines[:,11])\n",
    "print(a)\n",
    "print(a.max())\n",
    "print(a.min())"
   ]
  },
  {
   "cell_type": "code",
   "execution_count": 22,
   "metadata": {},
   "outputs": [
    {
     "name": "stdout",
     "output_type": "stream",
     "text": [
      "[[ 8.75331839  1.17844785  0.20356379 ...  0.74219007 10.41487018\n",
      "   5.40485797]\n",
      " [ 8.75331839  1.05844785  0.24356379 ...  0.71219007 10.41487018\n",
      "   5.40485797]\n",
      " [12.15331839  0.57844785  0.76356379 ...  0.64219007 10.41487018\n",
      "   6.40485797]\n",
      " ...\n",
      " [ 7.25331839  0.80844785  0.33356379 ...  0.81219007 11.61487018\n",
      "   6.40485797]\n",
      " [ 6.85331839  0.94344785  0.32356379 ...  0.77219007 10.81487018\n",
      "   5.40485797]\n",
      " [ 6.95331839  0.60844785  0.67356379 ...  0.72219007 11.61487018\n",
      "   6.40485797]]\n"
     ]
    }
   ],
   "source": [
    "#broadcasting\n",
    "rand_array = np.random.rand(12)\n",
    "r=wines + rand_array\n",
    "print(r)\n"
   ]
  },
  {
   "cell_type": "code",
   "execution_count": 25,
   "metadata": {},
   "outputs": [
    {
     "name": "stdout",
     "output_type": "stream",
     "text": [
      "9007.0\n",
      "[13295.7       843.285     433.29     4057.65      139.783   25373.\n",
      " 74268.       1592.80014  5290.96     1051.82    16656.95     9007.     ]\n"
     ]
    },
    {
     "data": {
      "text/plain": [
       "(12,)"
      ]
     },
     "execution_count": 25,
     "metadata": {},
     "output_type": "execute_result"
    }
   ],
   "source": [
    "#sum one column\n",
    "\n",
    "print(wines[:,11].sum())\n",
    "#sum all columns\n",
    "a=wines.sum(axis=0)\n",
    "print(a)\n",
    "\n",
    "#check the shape\n",
    "wines.sum(axis=0).shape\n"
   ]
  },
  {
   "cell_type": "code",
   "execution_count": 33,
   "metadata": {},
   "outputs": [
    {
     "name": "stdout",
     "output_type": "stream",
     "text": [
      "[123.0548   99.699   111.553   ... 100.48174 105.21547  92.49249]\n"
     ]
    },
    {
     "data": {
      "text/plain": [
       "array([123.0548,  99.699 ])"
      ]
     },
     "execution_count": 33,
     "metadata": {},
     "output_type": "execute_result"
    }
   ],
   "source": [
    "#with axis=1, sum of each row:\n",
    "a=np.array(wines.sum(axis=1))\n",
    "print(a)\n",
    "#only for two rows\n",
    "wines[0:2,:].sum(axis=1)\n",
    "\n"
   ]
  },
  {
   "cell_type": "code",
   "execution_count": 36,
   "metadata": {},
   "outputs": [
    {
     "name": "stdout",
     "output_type": "stream",
     "text": [
      "[False False False ... False False False]\n"
     ]
    },
    {
     "data": {
      "text/plain": [
       "array([False, False, False, ..., False, False, False])"
      ]
     },
     "execution_count": 36,
     "metadata": {},
     "output_type": "execute_result"
    }
   ],
   "source": [
    "#comparison operators\n",
    "#to see which wines have a quality rating higher than 5, we can do this:\n",
    "print(wines[:,11] > 50)\n",
    "\n",
    "#to see if any wines have a quality rating equal to 10:\n",
    "wines[:,11] == 10\n",
    "\n"
   ]
  },
  {
   "cell_type": "code",
   "execution_count": 56,
   "metadata": {},
   "outputs": [
    {
     "name": "stdout",
     "output_type": "stream",
     "text": [
      "[False False False ... False False False]\n",
      "\n",
      "\n",
      "\n",
      "[[7.9000e+00 3.5000e-01 4.6000e-01 3.6000e+00 7.8000e-02 1.5000e+01\n",
      "  3.7000e+01 9.9730e-01 3.3500e+00 8.6000e-01 1.2800e+01 8.0000e+00]\n",
      " [1.0300e+01 3.2000e-01 4.5000e-01 6.4000e+00 7.3000e-02 5.0000e+00\n",
      "  1.3000e+01 9.9760e-01 3.2300e+00 8.2000e-01 1.2600e+01 8.0000e+00]\n",
      " [5.6000e+00 8.5000e-01 5.0000e-02 1.4000e+00 4.5000e-02 1.2000e+01\n",
      "  8.8000e+01 9.9240e-01 3.5600e+00 8.2000e-01 1.2900e+01 8.0000e+00]\n",
      " [1.2600e+01 3.1000e-01 7.2000e-01 2.2000e+00 7.2000e-02 6.0000e+00\n",
      "  2.9000e+01 9.9870e-01 2.8800e+00 8.2000e-01 9.8000e+00 8.0000e+00]\n",
      " [1.1300e+01 6.2000e-01 6.7000e-01 5.2000e+00 8.6000e-02 6.0000e+00\n",
      "  1.9000e+01 9.9880e-01 3.2200e+00 6.9000e-01 1.3400e+01 8.0000e+00]\n",
      " [9.4000e+00 3.0000e-01 5.6000e-01 2.8000e+00 8.0000e-02 6.0000e+00\n",
      "  1.7000e+01 9.9640e-01 3.1500e+00 9.2000e-01 1.1700e+01 8.0000e+00]\n",
      " [1.0700e+01 3.5000e-01 5.3000e-01 2.6000e+00 7.0000e-02 5.0000e+00\n",
      "  1.6000e+01 9.9720e-01 3.1500e+00 6.5000e-01 1.1000e+01 8.0000e+00]\n",
      " [1.0700e+01 3.5000e-01 5.3000e-01 2.6000e+00 7.0000e-02 5.0000e+00\n",
      "  1.6000e+01 9.9720e-01 3.1500e+00 6.5000e-01 1.1000e+01 8.0000e+00]\n",
      " [5.0000e+00 4.2000e-01 2.4000e-01 2.0000e+00 6.0000e-02 1.9000e+01\n",
      "  5.0000e+01 9.9170e-01 3.7200e+00 7.4000e-01 1.4000e+01 8.0000e+00]\n",
      " [7.8000e+00 5.7000e-01 9.0000e-02 2.3000e+00 6.5000e-02 3.4000e+01\n",
      "  4.5000e+01 9.9417e-01 3.4600e+00 7.4000e-01 1.2700e+01 8.0000e+00]\n",
      " [9.1000e+00 4.0000e-01 5.0000e-01 1.8000e+00 7.1000e-02 7.0000e+00\n",
      "  1.6000e+01 9.9462e-01 3.2100e+00 6.9000e-01 1.2500e+01 8.0000e+00]\n",
      " [1.0000e+01 2.6000e-01 5.4000e-01 1.9000e+00 8.3000e-02 4.2000e+01\n",
      "  7.4000e+01 9.9451e-01 2.9800e+00 6.3000e-01 1.1800e+01 8.0000e+00]\n",
      " [7.9000e+00 5.4000e-01 3.4000e-01 2.5000e+00 7.6000e-02 8.0000e+00\n",
      "  1.7000e+01 9.9235e-01 3.2000e+00 7.2000e-01 1.3100e+01 8.0000e+00]\n",
      " [8.6000e+00 4.2000e-01 3.9000e-01 1.8000e+00 6.8000e-02 6.0000e+00\n",
      "  1.2000e+01 9.9516e-01 3.3500e+00 6.9000e-01 1.1700e+01 8.0000e+00]\n",
      " [5.5000e+00 4.9000e-01 3.0000e-02 1.8000e+00 4.4000e-02 2.8000e+01\n",
      "  8.7000e+01 9.9080e-01 3.5000e+00 8.2000e-01 1.4000e+01 8.0000e+00]\n",
      " [7.2000e+00 3.3000e-01 3.3000e-01 1.7000e+00 6.1000e-02 3.0000e+00\n",
      "  1.3000e+01 9.9600e-01 3.2300e+00 1.1000e+00 1.0000e+01 8.0000e+00]\n",
      " [7.2000e+00 3.8000e-01 3.1000e-01 2.0000e+00 5.6000e-02 1.5000e+01\n",
      "  2.9000e+01 9.9472e-01 3.2300e+00 7.6000e-01 1.1300e+01 8.0000e+00]\n",
      " [7.4000e+00 3.6000e-01 3.0000e-01 1.8000e+00 7.4000e-02 1.7000e+01\n",
      "  2.4000e+01 9.9419e-01 3.2400e+00 7.0000e-01 1.1400e+01 8.0000e+00]]\n"
     ]
    },
    {
     "data": {
      "text/plain": [
       "array([[7.900e+00, 3.500e-01, 4.600e-01, 3.600e+00, 7.800e-02, 1.500e+01,\n",
       "        3.700e+01, 9.973e-01, 3.350e+00, 8.600e-01, 1.280e+01, 8.000e+00],\n",
       "       [1.030e+01, 3.200e-01, 4.500e-01, 6.400e+00, 7.300e-02, 5.000e+00,\n",
       "        1.300e+01, 9.976e-01, 3.230e+00, 8.200e-01, 1.260e+01, 8.000e+00],\n",
       "       [5.600e+00, 8.500e-01, 5.000e-02, 1.400e+00, 4.500e-02, 1.200e+01,\n",
       "        8.800e+01, 9.924e-01, 3.560e+00, 8.200e-01, 1.290e+01, 8.000e+00]])"
      ]
     },
     "execution_count": 56,
     "metadata": {},
     "output_type": "execute_result"
    }
   ],
   "source": [
    "#subsetting\n",
    "#only select rows in wines where the quality is over 7:\n",
    "\n",
    "high_quality = wines[:,11] > 7 \n",
    "print(high_quality)\n",
    "print(\"\\n\\n\")\n",
    "#shows all the rows where the value is true along with all the columns\n",
    "print\n",
    "print(wines[high_quality,:])\n",
    "\n",
    "#further limiting the search\n",
    "#shows rows 0 to 2 along with all the columns out of true rows selected\n",
    "wines[high_quality,:][:3,:]\n"
   ]
  },
  {
   "cell_type": "code",
   "execution_count": 59,
   "metadata": {},
   "outputs": [
    {
     "data": {
      "text/plain": [
       "array([[12.8,  8. ],\n",
       "       [12.6,  8. ],\n",
       "       [12.9,  8. ],\n",
       "       [13.4,  8. ],\n",
       "       [11.7,  8. ],\n",
       "       [11. ,  8. ],\n",
       "       [11. ,  8. ],\n",
       "       [14. ,  8. ],\n",
       "       [12.7,  8. ],\n",
       "       [12.5,  8. ],\n",
       "       [11.8,  8. ],\n",
       "       [13.1,  8. ],\n",
       "       [11.7,  8. ],\n",
       "       [14. ,  8. ],\n",
       "       [11.3,  8. ],\n",
       "       [11.4,  8. ]])"
      ]
     },
     "execution_count": 59,
     "metadata": {},
     "output_type": "execute_result"
    }
   ],
   "source": [
    "#subseting\n",
    "#to look for wines with a lot of alcohol and high quality. \n",
    "\n",
    "high_quality_and_alcohol = (wines[:,10] > 10) & (wines[:,11] > 7)\n",
    "wines[high_quality_and_alcohol,10:]\n",
    "#shows the col 10 and 11 "
   ]
  },
  {
   "cell_type": "code",
   "execution_count": 63,
   "metadata": {},
   "outputs": [
    {
     "data": {
      "text/plain": [
       "array([[20., 20.],\n",
       "       [20., 20.],\n",
       "       [20., 20.],\n",
       "       [20., 20.],\n",
       "       [20., 20.],\n",
       "       [20., 20.],\n",
       "       [20., 20.],\n",
       "       [20., 20.],\n",
       "       [20., 20.],\n",
       "       [20., 20.],\n",
       "       [20., 20.],\n",
       "       [20., 20.],\n",
       "       [20., 20.],\n",
       "       [20., 20.],\n",
       "       [20., 20.],\n",
       "       [20., 20.]])"
      ]
     },
     "execution_count": 63,
     "metadata": {},
     "output_type": "execute_result"
    }
   ],
   "source": [
    "#combining subsetting and assignment to overwrite certain values in an array:\n",
    "\n",
    "high_quality_and_alcohol = (wines[:,10] > 10) & (wines[:,11] > 7) \n",
    "#set value 20 in columns 10 onwards (10th and 11th)\n",
    "wines[high_quality_and_alcohol,10:] = 20\n",
    "wines[high_quality_and_alcohol,10:]"
   ]
  },
  {
   "cell_type": "code",
   "execution_count": null,
   "metadata": {
    "collapsed": true
   },
   "outputs": [],
   "source": []
  }
 ],
 "metadata": {
  "kernelspec": {
   "display_name": "Python 3",
   "language": "python",
   "name": "python3"
  },
  "language_info": {
   "codemirror_mode": {
    "name": "ipython",
    "version": 3
   },
   "file_extension": ".py",
   "mimetype": "text/x-python",
   "name": "python",
   "nbconvert_exporter": "python",
   "pygments_lexer": "ipython3",
   "version": "3.6.3"
  }
 },
 "nbformat": 4,
 "nbformat_minor": 2
}
