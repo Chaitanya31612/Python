{
  "nbformat": 4,
  "nbformat_minor": 0,
  "metadata": {
    "colab": {
      "name": "ListDict_colab.ipynb",
      "provenance": [],
      "collapsed_sections": [],
      "include_colab_link": true
    },
    "kernelspec": {
      "name": "python3",
      "display_name": "Python 3"
    }
  },
  "cells": [
    {
      "cell_type": "markdown",
      "metadata": {
        "id": "view-in-github",
        "colab_type": "text"
      },
      "source": [
        "<a href=\"https://colab.research.google.com/github/sarwansingh/Python/blob/master/ListDict_colab.ipynb\" target=\"_parent\"><img src=\"https://colab.research.google.com/assets/colab-badge.svg\" alt=\"Open In Colab\"/></a>"
      ]
    },
    {
      "cell_type": "code",
      "metadata": {
        "id": "wSqIMUiWb3s2",
        "colab_type": "code",
        "colab": {
          "base_uri": "https://localhost:8080/",
          "height": 34
        },
        "outputId": "3321f49d-d3de-4170-8017-ae44e1f76dea"
      },
      "source": [
        "student = [[101,\"amit kr\" , 2010.50] , [102 , \"sita devi\" , 4040.90] ]\n",
        "print(student)"
      ],
      "execution_count": 1,
      "outputs": [
        {
          "output_type": "stream",
          "text": [
            "[[101, 'amit kr', 2010.5], [102, 'sita devi', 4040.9]]\n"
          ],
          "name": "stdout"
        }
      ]
    },
    {
      "cell_type": "markdown",
      "metadata": {
        "id": "hw442OR7dfo3",
        "colab_type": "text"
      },
      "source": [
        "**Dictonaries explained**"
      ]
    },
    {
      "cell_type": "code",
      "metadata": {
        "id": "Qp9ApFGpdqH9",
        "colab_type": "code",
        "colab": {}
      },
      "source": [
        "dict1= {101:\"amit\" , 102 :\"Himmat singh\" , 103 : \"laxman\" }"
      ],
      "execution_count": 0,
      "outputs": []
    },
    {
      "cell_type": "code",
      "metadata": {
        "id": "Dyy2fghbd2vO",
        "colab_type": "code",
        "colab": {}
      },
      "source": [
        ""
      ],
      "execution_count": 0,
      "outputs": []
    }
  ]
}