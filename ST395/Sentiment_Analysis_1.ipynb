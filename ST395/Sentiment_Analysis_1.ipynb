{
 "cells": [
  {
   "cell_type": "code",
   "execution_count": 2,
   "metadata": {},
   "outputs": [],
   "source": [
    "import nltk\n",
    "from nltk.tokenize import word_tokenize\n",
    "# Step 1 – Training data\n",
    "train = [(\"Great place to be when you are in Bangalore.\", \"pos\"), (\"The place was being renovated when I visited so the seating was limited.\", \"neg\"), (\"Loved the ambience, loved the food\", \"pos\"), (\"The food is delicious but not over the top.\", \"neg\"), (\"Service - Little slow, probably because too many people.\", \"neg\"), (\"The place is not easy to locate\", \"neg\"), (\"Mushroom fried rice was spicy\", \"pos\") ]\n",
    "  \n"
   ]
  },
  {
   "cell_type": "code",
   "execution_count": 3,
   "metadata": {},
   "outputs": [
    {
     "data": {
      "text/plain": [
       "[('Great place to be when you are in Bangalore.', 'pos'),\n",
       " ('The place was being renovated when I visited so the seating was limited.',\n",
       "  'neg'),\n",
       " ('Loved the ambience, loved the food', 'pos'),\n",
       " ('The food is delicious but not over the top.', 'neg'),\n",
       " ('Service - Little slow, probably because too many people.', 'neg'),\n",
       " ('The place is not easy to locate', 'neg'),\n",
       " ('Mushroom fried rice was spicy', 'pos')]"
      ]
     },
     "execution_count": 3,
     "metadata": {},
     "output_type": "execute_result"
    }
   ],
   "source": [
    "train"
   ]
  },
  {
   "cell_type": "code",
   "execution_count": 4,
   "metadata": {},
   "outputs": [
    {
     "name": "stdout",
     "output_type": "stream",
     "text": [
      "*dictionary*\n",
      "{'you', 'loved', 'ambience', 'is', 'service', 'fried', 'i', 'people', 'locate', 'visited', 'not', 'over', 'being', 'rice', 'place', 'slow', 'many', 'renovated', 'to', 'little', '.', ',', 'probably', 'easy', 'was', 'when', 'but', 'limited', 'because', 'food', 'mushroom', 'spicy', 'the', 'delicious', '-', 'bangalore', 'so', 'top', 'seating', 'in', 'too', 'be', 'great', 'are'}\n"
     ]
    }
   ],
   "source": [
    "# Step 2\n",
    "dictionary = set(word.lower() for passage in train for word in word_tokenize(passage[0]))\n",
    "print(\"*dictionary*\")\n",
    "print(dictionary)\n"
   ]
  },
  {
   "cell_type": "code",
   "execution_count": 5,
   "metadata": {},
   "outputs": [
    {
     "name": "stdout",
     "output_type": "stream",
     "text": [
      "*t*\n",
      "[({'you': True, 'loved': False, 'ambience': False, 'is': False, 'service': False, 'fried': False, 'i': False, 'people': False, 'locate': False, 'visited': False, 'not': False, 'over': False, 'being': False, 'rice': False, 'place': True, 'slow': False, 'many': False, 'renovated': False, 'to': True, 'little': False, '.': True, ',': False, 'probably': False, 'easy': False, 'was': False, 'when': True, 'but': False, 'limited': False, 'because': False, 'food': False, 'mushroom': False, 'spicy': False, 'the': False, 'delicious': False, '-': False, 'bangalore': False, 'so': False, 'top': False, 'seating': False, 'in': True, 'too': False, 'be': True, 'great': False, 'are': True}, 'pos'), ({'you': False, 'loved': False, 'ambience': False, 'is': False, 'service': False, 'fried': False, 'i': False, 'people': False, 'locate': False, 'visited': True, 'not': False, 'over': False, 'being': True, 'rice': False, 'place': True, 'slow': False, 'many': False, 'renovated': True, 'to': False, 'little': False, '.': True, ',': False, 'probably': False, 'easy': False, 'was': True, 'when': True, 'but': False, 'limited': True, 'because': False, 'food': False, 'mushroom': False, 'spicy': False, 'the': True, 'delicious': False, '-': False, 'bangalore': False, 'so': True, 'top': False, 'seating': True, 'in': False, 'too': False, 'be': False, 'great': False, 'are': False}, 'neg'), ({'you': False, 'loved': True, 'ambience': True, 'is': False, 'service': False, 'fried': False, 'i': False, 'people': False, 'locate': False, 'visited': False, 'not': False, 'over': False, 'being': False, 'rice': False, 'place': False, 'slow': False, 'many': False, 'renovated': False, 'to': False, 'little': False, '.': False, ',': True, 'probably': False, 'easy': False, 'was': False, 'when': False, 'but': False, 'limited': False, 'because': False, 'food': True, 'mushroom': False, 'spicy': False, 'the': True, 'delicious': False, '-': False, 'bangalore': False, 'so': False, 'top': False, 'seating': False, 'in': False, 'too': False, 'be': False, 'great': False, 'are': False}, 'pos'), ({'you': False, 'loved': False, 'ambience': False, 'is': True, 'service': False, 'fried': False, 'i': False, 'people': False, 'locate': False, 'visited': False, 'not': True, 'over': True, 'being': False, 'rice': False, 'place': False, 'slow': False, 'many': False, 'renovated': False, 'to': False, 'little': False, '.': True, ',': False, 'probably': False, 'easy': False, 'was': False, 'when': False, 'but': True, 'limited': False, 'because': False, 'food': True, 'mushroom': False, 'spicy': False, 'the': True, 'delicious': True, '-': False, 'bangalore': False, 'so': False, 'top': True, 'seating': False, 'in': False, 'too': False, 'be': False, 'great': False, 'are': False}, 'neg'), ({'you': False, 'loved': False, 'ambience': False, 'is': False, 'service': False, 'fried': False, 'i': False, 'people': True, 'locate': False, 'visited': False, 'not': False, 'over': False, 'being': False, 'rice': False, 'place': False, 'slow': True, 'many': True, 'renovated': False, 'to': False, 'little': False, '.': True, ',': True, 'probably': True, 'easy': False, 'was': False, 'when': False, 'but': False, 'limited': False, 'because': True, 'food': False, 'mushroom': False, 'spicy': False, 'the': False, 'delicious': False, '-': True, 'bangalore': False, 'so': False, 'top': False, 'seating': False, 'in': False, 'too': True, 'be': False, 'great': False, 'are': False}, 'neg'), ({'you': False, 'loved': False, 'ambience': False, 'is': True, 'service': False, 'fried': False, 'i': False, 'people': False, 'locate': True, 'visited': False, 'not': True, 'over': False, 'being': False, 'rice': False, 'place': True, 'slow': False, 'many': False, 'renovated': False, 'to': True, 'little': False, '.': False, ',': False, 'probably': False, 'easy': True, 'was': False, 'when': False, 'but': False, 'limited': False, 'because': False, 'food': False, 'mushroom': False, 'spicy': False, 'the': False, 'delicious': False, '-': False, 'bangalore': False, 'so': False, 'top': False, 'seating': False, 'in': False, 'too': False, 'be': False, 'great': False, 'are': False}, 'neg'), ({'you': False, 'loved': False, 'ambience': False, 'is': False, 'service': False, 'fried': True, 'i': False, 'people': False, 'locate': False, 'visited': False, 'not': False, 'over': False, 'being': False, 'rice': True, 'place': False, 'slow': False, 'many': False, 'renovated': False, 'to': False, 'little': False, '.': False, ',': False, 'probably': False, 'easy': False, 'was': True, 'when': False, 'but': False, 'limited': False, 'because': False, 'food': False, 'mushroom': False, 'spicy': True, 'the': False, 'delicious': False, '-': False, 'bangalore': False, 'so': False, 'top': False, 'seating': False, 'in': False, 'too': False, 'be': False, 'great': False, 'are': False}, 'pos')]\n"
     ]
    }
   ],
   "source": [
    "\n",
    "# Step 3\n",
    "t = [({word: (word in word_tokenize(x[0])) for word in dictionary}, x[1]) for x in train]\n",
    "print(\"*t*\")\n",
    "print(t)  \n"
   ]
  },
  {
   "cell_type": "code",
   "execution_count": 7,
   "metadata": {},
   "outputs": [],
   "source": [
    "# Step 4 – the classifier is trained with sample data\n",
    "classifier = nltk.NaiveBayesClassifier.train(t)\n"
   ]
  },
  {
   "cell_type": "code",
   "execution_count": 14,
   "metadata": {},
   "outputs": [
    {
     "name": "stdout",
     "output_type": "stream",
     "text": [
      "*test_data_features*\n",
      "***\n",
      "pos\n"
     ]
    }
   ],
   "source": [
    "#step 5-  testing the result - prediction \n",
    "\n",
    "  \n",
    "test_data = \"Manchurian was tasty and hot\" #pos\n",
    "test_data = \"seating is limited in resturant\" # neg\n",
    "test_data = \"home not easy to locate\"  #neg\n",
    "#test_data = \"food was delicious\" #pos\n",
    "#test_data = \" Ram had mouth watering food\" #pos\n",
    "test_data = \"sitting was not good\"  #neg\n",
    "\n",
    "test_data_features = {word.lower(): (word in word_tokenize(test_data.lower())) for word in dictionary}\n",
    "print(\"*test_data_features*\")\n",
    "#print(test_data_features)\n",
    "  \n",
    "print(\"***\")\n",
    "print (classifier.classify(test_data_features))\n"
   ]
  },
  {
   "cell_type": "code",
   "execution_count": null,
   "metadata": {
    "collapsed": true
   },
   "outputs": [],
   "source": []
  }
 ],
 "metadata": {
  "kernelspec": {
   "display_name": "Python 3",
   "language": "python",
   "name": "python3"
  },
  "language_info": {
   "codemirror_mode": {
    "name": "ipython",
    "version": 3
   },
   "file_extension": ".py",
   "mimetype": "text/x-python",
   "name": "python",
   "nbconvert_exporter": "python",
   "pygments_lexer": "ipython3",
   "version": "3.6.3"
  }
 },
 "nbformat": 4,
 "nbformat_minor": 2
}
