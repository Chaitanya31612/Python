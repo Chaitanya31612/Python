{
  "nbformat": 4,
  "nbformat_minor": 0,
  "metadata": {
    "colab": {
      "name": "test.ipynb",
      "version": "0.3.2",
      "provenance": [],
      "include_colab_link": true
    },
    "kernelspec": {
      "name": "python3",
      "display_name": "Python 3"
    }
  },
  "cells": [
    {
      "cell_type": "markdown",
      "metadata": {
        "id": "view-in-github",
        "colab_type": "text"
      },
      "source": [
        "<a href=\"https://colab.research.google.com/github/sarwansingh/Python/blob/master/test.ipynb\" target=\"_parent\"><img src=\"https://colab.research.google.com/assets/colab-badge.svg\" alt=\"Open In Colab\"/></a>"
      ]
    },
    {
      "cell_type": "code",
      "metadata": {
        "id": "_e9g-z4hBUr2",
        "colab_type": "code",
        "colab": {}
      },
      "source": [
        "#NIELIT"
      ],
      "execution_count": 0,
      "outputs": []
    },
    {
      "cell_type": "markdown",
      "metadata": {
        "id": "JXMtI3PjBfpT",
        "colab_type": "text"
      },
      "source": [
        "#NIELIT"
      ]
    },
    {
      "cell_type": "markdown",
      "metadata": {
        "id": "AnkGh1xgCPZP",
        "colab_type": "text"
      },
      "source": [
        ""
      ]
    },
    {
      "cell_type": "markdown",
      "metadata": {
        "id": "jYoj-5zoCXwf",
        "colab_type": "text"
      },
      "source": [
        "*strike*"
      ]
    },
    {
      "cell_type": "markdown",
      "metadata": {
        "id": "8FVZSJzlCk3Q",
        "colab_type": "text"
      },
      "source": [
        "[Links](https://research.google.com/colaboratory) are "
      ]
    },
    {
      "cell_type": "code",
      "metadata": {
        "id": "69Z5JdqICmhr",
        "colab_type": "code",
        "colab": {}
      },
      "source": [
        "#this is code \n",
        "A=100\n",
        "b=A+39"
      ],
      "execution_count": 0,
      "outputs": []
    },
    {
      "cell_type": "code",
      "metadata": {
        "id": "Z8CTh76NCqWU",
        "colab_type": "code",
        "colab": {
          "base_uri": "https://localhost:8080/",
          "height": 34
        },
        "outputId": "3180e4e0-64d1-40f9-86f6-ac416e23ccb9"
      },
      "source": [
        "print(b)"
      ],
      "execution_count": 8,
      "outputs": [
        {
          "output_type": "stream",
          "text": [
            "139\n"
          ],
          "name": "stdout"
        }
      ]
    },
    {
      "cell_type": "code",
      "metadata": {
        "id": "JjvHsseqCthg",
        "colab_type": "code",
        "colab": {}
      },
      "source": [
        ""
      ],
      "execution_count": 0,
      "outputs": []
    },
    {
      "cell_type": "markdown",
      "metadata": {
        "id": "xcgXZs6cC3XM",
        "colab_type": "text"
      },
      "source": [
        "$y=x^2$"
      ]
    },
    {
      "cell_type": "code",
      "metadata": {
        "id": "mwBxH_ITC377",
        "colab_type": "code",
        "colab": {}
      },
      "source": [
        ""
      ],
      "execution_count": 0,
      "outputs": []
    }
  ]
}