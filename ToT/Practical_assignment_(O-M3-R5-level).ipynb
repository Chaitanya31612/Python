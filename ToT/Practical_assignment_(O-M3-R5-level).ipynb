{
  "nbformat": 4,
  "nbformat_minor": 0,
  "metadata": {
    "colab": {
      "name": "Practical assignment (O level).ipynb",
      "version": "0.3.2",
      "provenance": [],
      "collapsed_sections": []
    },
    "kernelspec": {
      "name": "python3",
      "display_name": "Python 3"
    }
  },
  "cells": [
    {
      "cell_type": "markdown",
      "metadata": {
        "id": "qWRF8yv470S1",
        "colab_type": "text"
      },
      "source": [
        "i.\tWrite a program to print all Armstrong numbers in a given range. Note: An Armstrong number is a number whose sum of cubes of digits is equal to the number itself. E.g. 370=33+73+03"
      ]
    },
    {
      "cell_type": "code",
      "metadata": {
        "id": "XI1LK8uv727_",
        "colab_type": "code",
        "outputId": "57b58b92-70d4-4821-9929-355ce30cdc76",
        "colab": {
          "base_uri": "https://localhost:8080/",
          "height": 68
        }
      },
      "source": [
        "# take input from the user\n",
        "lower = int(input(\"Enter lower range: \"))\n",
        "upper = int(input(\"Enter upper range: \"))\n",
        " \n",
        "for num in range(lower,upper + 1):\n",
        "   # initialize sum\n",
        "   sum = 0\n",
        " \n",
        "   # find the sum of the cube of each digit\n",
        "   temp = num\n",
        "   while temp > 0:\n",
        "       digit = temp % 10\n",
        "       sum += digit ** 3\n",
        "       temp //= 10\n",
        " \n",
        "   if num == sum:\n",
        "       print(num)\n"
      ],
      "execution_count": 0,
      "outputs": [
        {
          "output_type": "stream",
          "text": [
            "Enter lower range: 100\n",
            "Enter upper range: 300\n",
            "153\n"
          ],
          "name": "stdout"
        }
      ]
    },
    {
      "cell_type": "markdown",
      "metadata": {
        "id": "2P4CLIcD8Hjn",
        "colab_type": "text"
      },
      "source": [
        "ii.\tWrite a function to obtain sum n terms of the following series for any positive integer value of X \n",
        "X +X3 /3! +X5 /5! ! +X7 /7! + … \n"
      ]
    },
    {
      "cell_type": "code",
      "metadata": {
        "id": "IltDGu2i8JY3",
        "colab_type": "code",
        "outputId": "d7259266-3719-4be9-cfda-9f4e03aa363a",
        "colab": {
          "base_uri": "https://localhost:8080/",
          "height": 68
        }
      },
      "source": [
        "def fact(num):\n",
        "    f=1\n",
        "    for s in range (1,num+1):\n",
        "        f=f*s\n",
        "    return f\n",
        "\n",
        "\n",
        "n=int(input(\"enter value of n:\"))\n",
        "x= int(input(\"enter value of x:\"))\n",
        "\n",
        "i=1\n",
        "s=0\n",
        "j=1\n",
        "while j<=n:\n",
        "    p=pow(x,i)\n",
        "    k=fact(i)\n",
        "    i=i+2\n",
        "    s=s+p/k\n",
        "    j=j+1\n",
        "print(\"sum= \",s)\n"
      ],
      "execution_count": 0,
      "outputs": [
        {
          "output_type": "stream",
          "text": [
            "enter value of n:7\n",
            "enter value of x:1\n",
            "sum=  1.175201193643034\n"
          ],
          "name": "stdout"
        }
      ]
    },
    {
      "cell_type": "markdown",
      "metadata": {
        "id": "_7r4rZ1r8o4_",
        "colab_type": "text"
      },
      "source": [
        "iii.\tWrite a function to obtain sum n terms of the following series for any positive integer value of X \n",
        "1+x/1!+x2/2!+x3/3!+…\n"
      ]
    },
    {
      "cell_type": "code",
      "metadata": {
        "id": "I3TMO-yQ8rBv",
        "colab_type": "code",
        "outputId": "7aa5f25d-cf73-4df6-b546-650227e41bc2",
        "colab": {
          "base_uri": "https://localhost:8080/",
          "height": 68
        }
      },
      "source": [
        "def fact(num):\n",
        "    f=1\n",
        "    for s in range (1,num+1):\n",
        "        f=f*s\n",
        "    return f\n",
        "    \n",
        "n=int(input(\"enter value of n:\"))\n",
        "x= int(input(\"enter value of x:\"))\n",
        "\n",
        "i=1\n",
        "s=0\n",
        "j=1\n",
        "while j<=n:\n",
        "    p=pow(x,i)\n",
        "    k=fact(i)\n",
        "    i=i+1\n",
        "    s=1+p/k\n",
        "    j=j+1\n",
        "print(\"sum= \",s)\n"
      ],
      "execution_count": 0,
      "outputs": [
        {
          "output_type": "stream",
          "text": [
            "enter value of n:7\n",
            "enter value of x:1\n",
            "sum=  1.0001984126984127\n"
          ],
          "name": "stdout"
        }
      ]
    },
    {
      "cell_type": "markdown",
      "metadata": {
        "id": "QaeXp7Bv8ygv",
        "colab_type": "text"
      },
      "source": [
        "iv.\tWrite a program to multiply two numbers by repeated addition e.g. \n",
        "     6*7 = 6+6+6+6+6+6+6\n"
      ]
    },
    {
      "cell_type": "code",
      "metadata": {
        "id": "TSy0MwuJ80Uv",
        "colab_type": "code",
        "outputId": "b64dc0f7-ef03-472e-a6ef-9d0cca945c43",
        "colab": {
          "base_uri": "https://localhost:8080/",
          "height": 85
        }
      },
      "source": [
        "a=int(input(\"enter first number\"))\n",
        "b= int(input(\"enter second number\"))\n",
        "f=0\n",
        "for i in range(1, b+1):\n",
        "    f=f+a\n",
        "print(f)\n",
        "6\n"
      ],
      "execution_count": 0,
      "outputs": [
        {
          "output_type": "stream",
          "text": [
            "enter first number7\n",
            "enter second number6\n",
            "42\n"
          ],
          "name": "stdout"
        },
        {
          "output_type": "execute_result",
          "data": {
            "text/plain": [
              "6"
            ]
          },
          "metadata": {
            "tags": []
          },
          "execution_count": 3
        }
      ]
    },
    {
      "cell_type": "markdown",
      "metadata": {
        "id": "sVUD6muO87o_",
        "colab_type": "text"
      },
      "source": [
        "v.\tWrite a program to compute the wages of a daily laborer as per the following rules :- \n",
        "Hours Worked Rate Applicable \n",
        "Upto first 8 hrs Rs100/- \n",
        "a)\tFor next 4 hrs Rs30/- per hr extra\n",
        "b)\tFor next 4 hrs Rs40/- per hr extra \n",
        "c)\tFor next 4 hrs Rs50/- per hr extra \n",
        "d)\tFor rest Rs60/- per hr extra \n",
        "vi.\tAccept the name of the labourer and no. of hours worked. Calculate and display the wages. The program should run for N number of labourers as specified by the user.\n"
      ]
    },
    {
      "cell_type": "code",
      "metadata": {
        "id": "HM3PjL1g8-qX",
        "colab_type": "code",
        "outputId": "18d5c6e4-4c29-421e-c588-6224428015af",
        "colab": {
          "base_uri": "https://localhost:8080/",
          "height": 153
        }
      },
      "source": [
        "def main():\n",
        "    initWage=100\n",
        "    name=input(\"Enter Name of Employee:\")\n",
        "    hours=int(input(\"Enter total hours worked:\"))\n",
        "    if hours<=8:\n",
        "        totalWage = initWage\n",
        "        print(totalWage)\n",
        "    elif(hours>8 and hours<=12):\n",
        "        tempHour = hours-8\n",
        "        tempWage = tempHour*30\n",
        "        totalWage = tempWage + initWage\n",
        "        print(totalWage)\n",
        "    \n",
        "    elif(hours>12 and hours<=16):\n",
        "        tempHour = hours-12\n",
        "        tempWage = 4*30\n",
        "        totalWage = initWage + tempWage + (tempHour*40)\n",
        "        print(totalWage)\n",
        "\n",
        "    \n",
        "    elif(hours>16 and hours<=20):\n",
        "        tempHour = hours-16\n",
        "        tempWage = (4*30) + (4*40)\n",
        "        totalWage = initWage + tempWage + (tempHour*50)\n",
        "        print(totalWage)\n",
        "\n",
        "    \n",
        "    elif(hours>20 and hours<=24):\n",
        "        print(\"hello\")\n",
        "        tempHour = hours-20\n",
        "        tempWage = (4*30) + (4*40) + (4*50)\n",
        "        totalWage = initWage + tempWage + (tempHour*60)\n",
        "        print(totalWage)\n",
        "    \n",
        "    else:\n",
        "        print(\"A single day only has 24 hours.\")\n",
        "        \n",
        "    \n",
        "n=int(input(\"enter no of labourers\"))\n",
        "\n",
        "for i in range(n):\n",
        "    main()\n"
      ],
      "execution_count": 0,
      "outputs": [
        {
          "output_type": "stream",
          "text": [
            "enter no of labourers2\n",
            "Enter Name of Employee:aa\n",
            "Enter total hours worked:7\n",
            "100\n",
            "Enter Name of Employee:ss\n",
            "Enter total hours worked:21\n",
            "hello\n",
            "640\n"
          ],
          "name": "stdout"
        }
      ]
    },
    {
      "cell_type": "markdown",
      "metadata": {
        "id": "TZ7dvKuh9Hn3",
        "colab_type": "text"
      },
      "source": [
        "\n",
        "vii.\tWrite a function that takes a string as parameter and returns a string with every successive repetitive character replaced by ? e.g. school may become scho?l.\n"
      ]
    },
    {
      "cell_type": "code",
      "metadata": {
        "id": "INyj4AnL9Jbv",
        "colab_type": "code",
        "outputId": "dd0f709f-7a79-48b8-ba71-96ebd374213a",
        "colab": {
          "base_uri": "https://localhost:8080/",
          "height": 51
        }
      },
      "source": [
        "s=input(\"enter a string\")\n",
        "ss=list(s)\n",
        "n=len(ss)\n",
        "\n",
        "if(n<2):\n",
        "    print(\"no of characters too less\")\n",
        "\n",
        "for i in range(n-1):\n",
        "    if (ss[i]==ss[i+1]):\n",
        "        ss[i+1]=\"?\"\n",
        "\n",
        "\n",
        "str=\"\".join(ss) \n",
        "print(str)\n"
      ],
      "execution_count": 0,
      "outputs": [
        {
          "output_type": "stream",
          "text": [
            "enter a stringschool is veery far\n",
            "scho?l is ve?ry far\n"
          ],
          "name": "stdout"
        }
      ]
    },
    {
      "cell_type": "markdown",
      "metadata": {
        "id": "92YvRIDW9RLv",
        "colab_type": "text"
      },
      "source": [
        "viii.\tWrite a program that takes in a sentence as input and displays the number of words, number of capital letters, no. of small letters and number of special symbols."
      ]
    },
    {
      "cell_type": "code",
      "metadata": {
        "id": "ALQGYuHo9S7u",
        "colab_type": "code",
        "outputId": "f1f8e1b3-cd5e-485f-9795-2b6289f0f0e8",
        "colab": {
          "base_uri": "https://localhost:8080/",
          "height": 119
        }
      },
      "source": [
        "def Count(str): \n",
        "    x = str.split()\n",
        "    upper, lower, number, special = 0, 0, 0, 0\n",
        "    for i in range(len(str)): \n",
        "        if str[i] >= 'A' and str[i] <= 'Z': \n",
        "            upper += 1\n",
        "        elif str[i] >= 'a' and str[i] <= 'z': \n",
        "            lower += 1\n",
        "        elif str[i] >= '0' and str[i] <= '9': \n",
        "            number += 1\n",
        "        else: \n",
        "            special += 1\n",
        "    print('No of words:', len(x)) \n",
        "    print('Upper case letters:', upper) \n",
        "    print('Lower case letters:', lower) \n",
        "    print('Number:', number) \n",
        "    print('Special characters:', special) \n",
        "  \n",
        "\n",
        "str = input(\"enter a string\")\n",
        "Count(str)\n"
      ],
      "execution_count": 0,
      "outputs": [
        {
          "output_type": "stream",
          "text": [
            "enter a stringwelcome to NIELIT chandigarh\n",
            "No of words: 4\n",
            "Upper case letters: 6\n",
            "Lower case letters: 19\n",
            "Number: 0\n",
            "Special characters: 3\n"
          ],
          "name": "stdout"
        }
      ]
    },
    {
      "cell_type": "markdown",
      "metadata": {
        "id": "S13yvZ9L9atH",
        "colab_type": "text"
      },
      "source": [
        "ix.\tWrite a Python program that takes list of numbers as input from the user and produces a cumulative list where each element in the list at any position n is sum of all elements at positions upto n-1"
      ]
    },
    {
      "cell_type": "code",
      "metadata": {
        "id": "GutYuH669chg",
        "colab_type": "code",
        "outputId": "68269f51-0dca-4e93-9507-517426805bab",
        "colab": {
          "base_uri": "https://localhost:8080/",
          "height": 153
        }
      },
      "source": [
        "a=[]\n",
        "n= int(input(\"Enter the number of elements in list:\"))\n",
        "for x in range(0,n):\n",
        "    element=int(input(\"Enter element:\"))\n",
        "    a.append(element)\n",
        "b=[sum(a[0:x+1]) for x in range(0,len(a))]\n",
        "print(\"The original list is: \",a)\n",
        "print(\"The new list is: \",b)\n"
      ],
      "execution_count": 0,
      "outputs": [
        {
          "output_type": "stream",
          "text": [
            "Enter the number of elements in list:5\n",
            "Enter element:11\n",
            "Enter element:2\n",
            "Enter element:10\n",
            "Enter element:1\n",
            "Enter element:5\n",
            "The original list is:  [11, 2, 10, 1, 5]\n",
            "The new list is:  [11, 13, 23, 24, 29]\n"
          ],
          "name": "stdout"
        }
      ]
    },
    {
      "cell_type": "markdown",
      "metadata": {
        "id": "PBYvOHiY9kvG",
        "colab_type": "text"
      },
      "source": [
        "x.\tWrite a program which takes list of numbers as input and finds:\n",
        "a)\tThe largest number in the list\n",
        "b)\tThe smallest number in the list\n",
        "c)\tProduct of all the items in the list\n"
      ]
    },
    {
      "cell_type": "code",
      "metadata": {
        "id": "nbFKIS-K9nh_",
        "colab_type": "code",
        "outputId": "3624b16d-858b-476f-ef1a-999fc96918ad",
        "colab": {
          "base_uri": "https://localhost:8080/",
          "height": 136
        }
      },
      "source": [
        "list1 = [] \n",
        "  \n",
        "# asking number of elements to put in list \n",
        "num = int(input(\"Enter number of elements in list: \")) \n",
        "  \n",
        "for i in range(1, num + 1): \n",
        "    elements = int(input(\"Enter elements: \")) \n",
        "    list1.append(elements) \n",
        "      \n",
        "# print maximum element \n",
        "print(\"Largest element is:\", max(list1))\n"
      ],
      "execution_count": 0,
      "outputs": [
        {
          "output_type": "stream",
          "text": [
            "Enter number of elements in list: 5\n",
            "Enter elements: 1\n",
            "Enter elements: 2\n",
            "Enter elements: 3\n",
            "Enter elements: 4\n",
            "Enter elements: 5\n",
            "Largest element is: 5\n"
          ],
          "name": "stdout"
        }
      ]
    },
    {
      "cell_type": "code",
      "metadata": {
        "id": "adzSTTBs9yr9",
        "colab_type": "code",
        "outputId": "f459ce02-27f8-47b8-f430-51b5a1772835",
        "colab": {
          "base_uri": "https://localhost:8080/",
          "height": 85
        }
      },
      "source": [
        "list1 = [] \n",
        "  \n",
        "# asking number of elements to put in list \n",
        "num = int(input(\"Enter number of elements in list: \")) \n",
        "  \n",
        "# iterating till num to append elements in list \n",
        "for i in range(1, num + 1): \n",
        "    ele = int(input(\"Enter elements: \")) \n",
        "    list1.append(ele) \n",
        "      \n",
        "# print maximum element \n",
        "print(\"Smallest element is:\", min(list1))\n"
      ],
      "execution_count": 0,
      "outputs": [
        {
          "output_type": "stream",
          "text": [
            "Enter number of elements in list: 2\n",
            "Enter elements: 10\n",
            "Enter elements: 3\n",
            "Smallest element is: 3\n"
          ],
          "name": "stdout"
        }
      ]
    },
    {
      "cell_type": "code",
      "metadata": {
        "id": "gYgics7L93Ne",
        "colab_type": "code",
        "outputId": "261c47a9-5e3f-4d7d-ba61-48bba254879d",
        "colab": {
          "base_uri": "https://localhost:8080/",
          "height": 51
        }
      },
      "source": [
        "def multiply(myList): \n",
        "  result = 1\n",
        "  for x in myList: \n",
        "    result = result * x  \n",
        "  return result  \n",
        "      \n",
        "list1 = [1, 2, 3]  \n",
        "list2 = [3, 2, 4] \n",
        "print(multiply(list1)) \n",
        "print(multiply(list2))\n"
      ],
      "execution_count": 0,
      "outputs": [
        {
          "output_type": "stream",
          "text": [
            "6\n",
            "24\n"
          ],
          "name": "stdout"
        }
      ]
    },
    {
      "cell_type": "markdown",
      "metadata": {
        "id": "27X2P5rV-HRw",
        "colab_type": "text"
      },
      "source": [
        "xi.\tWrite a Python function that takes two lists and returns True if they have at least one common item"
      ]
    },
    {
      "cell_type": "code",
      "metadata": {
        "id": "K4ruOS9t-JA-",
        "colab_type": "code",
        "outputId": "1d1345b2-ee85-43b9-b4bf-52493a174496",
        "colab": {
          "base_uri": "https://localhost:8080/",
          "height": 51
        }
      },
      "source": [
        "def common_item(list1, list2):\n",
        "     result = False\n",
        "     for x in list1:\n",
        "         for y in list2:\n",
        "             if x == y:\n",
        "                 result = True\n",
        "                 return result\n",
        "print(common_item([1,2,3,4,5], [5,4,7,8,9]))\n",
        "print(common_item([1,2,3,4,5], [6,7,8,9]))\n"
      ],
      "execution_count": 0,
      "outputs": [
        {
          "output_type": "stream",
          "text": [
            "True\n",
            "None\n"
          ],
          "name": "stdout"
        }
      ]
    },
    {
      "cell_type": "markdown",
      "metadata": {
        "id": "w2xZjYa_-L9G",
        "colab_type": "text"
      },
      "source": [
        "xii.\tWrite a Python program to combine two dictionary adding values for common keys. \n",
        "d1 = {'a': 100, 'b': 200, 'c':300}\n",
        "d2 = {'a': 300, 'b': 200, 'd':400}\n",
        "Sample output: Counter({'a': 400, 'b': 400, 'd': 400, 'c': 300})\n"
      ]
    },
    {
      "cell_type": "code",
      "metadata": {
        "id": "KKMlxiwc-OIm",
        "colab_type": "code",
        "outputId": "fea99d1e-61da-4af9-d019-ce1735ca46d0",
        "colab": {
          "base_uri": "https://localhost:8080/",
          "height": 34
        }
      },
      "source": [
        "from collections import Counter\n",
        "d1 = {'a': 100, 'b': 200, 'c':300}\n",
        "d2 = {'a': 300, 'b': 200, 'd':400}\n",
        "d = Counter(d1) + Counter(d2)\n",
        "print(d)\n"
      ],
      "execution_count": 0,
      "outputs": [
        {
          "output_type": "stream",
          "text": [
            "Counter({'a': 400, 'b': 400, 'd': 400, 'c': 300})\n"
          ],
          "name": "stdout"
        }
      ]
    },
    {
      "cell_type": "markdown",
      "metadata": {
        "id": "BLtYDXMx-Q7m",
        "colab_type": "text"
      },
      "source": [
        "xiii.\tWrite a program that takes sentence as input from the user and computes the frequency of each letter. Use a variable of dictionary type to maintain and show the frequency of each letter"
      ]
    },
    {
      "cell_type": "code",
      "metadata": {
        "id": "fGEix5b--SmO",
        "colab_type": "code",
        "outputId": "e356398f-7cc6-4d4d-ae9c-caa0ea21451b",
        "colab": {
          "base_uri": "https://localhost:8080/",
          "height": 51
        }
      },
      "source": [
        "def histogram(s):\n",
        "    d=dict()\n",
        "    for c in s:\n",
        "        if c not in d:\n",
        "            d[c]=1\n",
        "        else:\n",
        "            d[c]=d[c]+1\n",
        "    return d\n",
        "def main():\n",
        "    str=input(\"Enter a string\")\n",
        "    hist=histogram(str)\n",
        "    print(hist)\n",
        "    \n",
        "main()\n"
      ],
      "execution_count": 0,
      "outputs": [
        {
          "output_type": "stream",
          "text": [
            "Enter a stringwelcome to NIELIT\n",
            "{'w': 1, 'e': 2, 'l': 1, 'c': 1, 'o': 2, 'm': 1, ' ': 2, 't': 1, 'N': 1, 'I': 2, 'E': 1, 'L': 1, 'T': 1}\n"
          ],
          "name": "stdout"
        }
      ]
    },
    {
      "cell_type": "markdown",
      "metadata": {
        "id": "yesvjY-5-bdG",
        "colab_type": "text"
      },
      "source": [
        "xiv.\tApply recursive call to do the following: \n",
        "a)\tProduct of two numbers using repetitive addition\n"
      ]
    },
    {
      "cell_type": "code",
      "metadata": {
        "id": "mi0JTnkj-cOm",
        "colab_type": "code",
        "outputId": "548016c9-3ccc-4273-da54-1de15aa4a0c7",
        "colab": {
          "base_uri": "https://localhost:8080/",
          "height": 34
        }
      },
      "source": [
        "def product( x , y ): \n",
        "    # if x is less than y, swap  the numbers \n",
        "    if x < y: \n",
        "        return product(y, x) \n",
        "      \n",
        "    # iteratively calculate y times sum of x \n",
        "    elif y != 0: \n",
        "        return (x + product (x, y - 1)) \n",
        "      \n",
        "    # if any of the two numbers is zero return zero \n",
        "    else: \n",
        "        return 0\n",
        "  \n",
        "x = 5\n",
        "y = 2\n",
        "print( product(x, y))\n"
      ],
      "execution_count": 0,
      "outputs": [
        {
          "output_type": "stream",
          "text": [
            "10\n"
          ],
          "name": "stdout"
        }
      ]
    },
    {
      "cell_type": "markdown",
      "metadata": {
        "id": "1Omm0M4--fGO",
        "colab_type": "text"
      },
      "source": [
        "b)\tPrint fibonacci series upto tem n"
      ]
    },
    {
      "cell_type": "code",
      "metadata": {
        "id": "agD1kp1n-hFe",
        "colab_type": "code",
        "outputId": "fdfd00cf-e4eb-4053-a381-c9be9636bafc",
        "colab": {
          "base_uri": "https://localhost:8080/",
          "height": 255
        }
      },
      "source": [
        "def main():\n",
        "    a=0\n",
        "    b=1\n",
        "    print(\"Enter the number of element in the series: \")\n",
        "    n=int(input(\"Enter value of n\"))\n",
        "    print(\"Fibonacci series is \\n\");\n",
        "    fibo(a,b,n)\n",
        "\n",
        "\n",
        "def fibo(a,b,n):\n",
        "    if n!=0:\n",
        "        print(a)\n",
        "        fibo(b,a+b,n-1)\n",
        "\n",
        "main()\n"
      ],
      "execution_count": 0,
      "outputs": [
        {
          "output_type": "stream",
          "text": [
            "Enter the number of element in the series: \n",
            "Enter value of n10\n",
            "Fibonacci series is \n",
            "\n",
            "0\n",
            "1\n",
            "1\n",
            "2\n",
            "3\n",
            "5\n",
            "8\n",
            "13\n",
            "21\n",
            "34\n"
          ],
          "name": "stdout"
        }
      ]
    },
    {
      "cell_type": "markdown",
      "metadata": {
        "id": "DzhLnG9P-lyO",
        "colab_type": "text"
      },
      "source": [
        "xv.\tWrite a program to input two numbers as input and compute the greatest common divisor"
      ]
    },
    {
      "cell_type": "code",
      "metadata": {
        "id": "utjCgS4e-nQg",
        "colab_type": "code",
        "outputId": "7b66479a-604d-46d6-99c0-0454a951945c",
        "colab": {
          "base_uri": "https://localhost:8080/",
          "height": 85
        }
      },
      "source": [
        "a = float(input(\" Please Enter the First Value a: \"))\n",
        "b = float(input(\" Please Enter the Second Value b: \"))\n",
        "\n",
        "i = 1\n",
        "while(i <= a and i <= b):\n",
        "    if(a % i == 0 and b % i == 0):\n",
        "        gcd = i\n",
        "    i = i + 1\n",
        "    \n",
        "print(\"\\n HCF of {0} and {1} = {2}\".format(a, b, gcd))\n"
      ],
      "execution_count": 0,
      "outputs": [
        {
          "output_type": "stream",
          "text": [
            " Please Enter the First Value a: 54\n",
            " Please Enter the Second Value b: 24\n",
            "\n",
            " HCF of 54.0 and 24.0 = 6\n"
          ],
          "name": "stdout"
        }
      ]
    },
    {
      "cell_type": "code",
      "metadata": {
        "id": "ZmS9VDiE-sCW",
        "colab_type": "code",
        "outputId": "591b6bf3-f491-42e5-8ffe-eed2baeb09e7",
        "colab": {
          "base_uri": "https://localhost:8080/",
          "height": 85
        }
      },
      "source": [
        "def gcd(a,b):\n",
        "    if(b==0):\n",
        "        return a\n",
        "    else:\n",
        "        return gcd(b,a%b)\n",
        "a=int(input(\"Enter first number:\"))\n",
        "b=int(input(\"Enter second number:\"))\n",
        "GCD=gcd(a,b)\n",
        "print(\"GCD is: \")\n",
        "print(GCD)\n"
      ],
      "execution_count": 0,
      "outputs": [
        {
          "output_type": "stream",
          "text": [
            "Enter first number:54\n",
            "Enter second number:24\n",
            "GCD is: \n",
            "6\n"
          ],
          "name": "stdout"
        }
      ]
    },
    {
      "cell_type": "markdown",
      "metadata": {
        "id": "MSVokzee-xwO",
        "colab_type": "text"
      },
      "source": [
        "xvi.\tWrite a function that takes two filenames f1 and f2 as input. The function should read the contents of f1 line by line and write them onto f2."
      ]
    },
    {
      "cell_type": "code",
      "metadata": {
        "id": "LZqzWmmM-yZn",
        "colab_type": "code",
        "colab": {}
      },
      "source": [
        "file1= input (“Enter first filename”)\n",
        "file2= input (“Enter second filename”)\n",
        "\n",
        "with open (file1, “r”) as f:\n",
        "\twith open (file2, \"w\") as f1:\n",
        "\t\tfor line in f:\n",
        "\t\t\tf1.write(line)\n"
      ],
      "execution_count": 0,
      "outputs": []
    },
    {
      "cell_type": "markdown",
      "metadata": {
        "id": "uiqTexpl-3VO",
        "colab_type": "text"
      },
      "source": [
        "xix.\tWrite a NumPy program to find the most frequent value in an array."
      ]
    },
    {
      "cell_type": "code",
      "metadata": {
        "id": "L23R9NTH-5Ye",
        "colab_type": "code",
        "outputId": "437f3734-7e0a-44b6-e801-af923b16d5d2",
        "colab": {
          "base_uri": "https://localhost:8080/",
          "height": 34
        }
      },
      "source": [
        "import numpy as np\n",
        "a = np.array([1,2,3,1,2,1,1,1,3,2,2,1])\n",
        "counts = np.bincount(a)\n",
        "print (np.argmax(counts))\n"
      ],
      "execution_count": 0,
      "outputs": [
        {
          "output_type": "stream",
          "text": [
            "1\n"
          ],
          "name": "stdout"
        }
      ]
    },
    {
      "cell_type": "code",
      "metadata": {
        "id": "6jdR-9YE_BVt",
        "colab_type": "code",
        "outputId": "a4690985-f168-4a42-bd08-ee94a33500d1",
        "colab": {
          "base_uri": "https://localhost:8080/",
          "height": 34
        }
      },
      "source": [
        "import numpy as np\n",
        "def mostFrequent(arr, n): \n",
        "  \n",
        "    # Sort the array \n",
        "    arr.sort() \n",
        "  \n",
        "    # find the max frequency using \n",
        "    # linear traversal \n",
        "    max_count = 1; res = arr[0]; curr_count = 1\n",
        "      \n",
        "    for i in range(1, n):  \n",
        "        if (arr[i] == arr[i - 1]): \n",
        "            curr_count += 1\n",
        "              \n",
        "        else : \n",
        "            if (curr_count > max_count):  \n",
        "                max_count = curr_count \n",
        "                res = arr[i - 1] \n",
        "              \n",
        "            curr_count = 1\n",
        "      \n",
        "    # If last element is most frequent \n",
        "    if (curr_count > max_count): \n",
        "      \n",
        "        max_count = curr_count \n",
        "        res = arr[n - 1] \n",
        "      \n",
        "    return res \n",
        "  \n",
        "arr=np.array([23, 23, 12, 12, 3, 23, 1,23,45,66])\n",
        "n = len(arr) \n",
        "print (mostFrequent(arr, n))\n"
      ],
      "execution_count": 0,
      "outputs": [
        {
          "output_type": "stream",
          "text": [
            "23\n"
          ],
          "name": "stdout"
        }
      ]
    },
    {
      "cell_type": "markdown",
      "metadata": {
        "id": "iaAzFb0l_Jp2",
        "colab_type": "text"
      },
      "source": [
        "xx.\tTake two NumPy arrays having two dimensions. Concatenate the arrays on axis 1."
      ]
    },
    {
      "cell_type": "code",
      "metadata": {
        "id": "_8_2rnUS_L2G",
        "colab_type": "code",
        "outputId": "55666609-96db-4ec5-f4bd-ab5ef5bdea17",
        "colab": {
          "base_uri": "https://localhost:8080/",
          "height": 170
        }
      },
      "source": [
        "import numpy as np\n",
        "\n",
        "array = np.arange(9)\n",
        "array2D_1 = array.reshape((3,3))\n",
        "array2D_2 = np.arange(10,19).reshape(3,3)\n",
        "print(array2D_1)\n",
        "print(array2D_2)\n",
        "\n",
        "np.concatenate((array2D_1,array2D_2),axis=1)\n"
      ],
      "execution_count": 0,
      "outputs": [
        {
          "output_type": "stream",
          "text": [
            "[[0 1 2]\n",
            " [3 4 5]\n",
            " [6 7 8]]\n",
            "[[10 11 12]\n",
            " [13 14 15]\n",
            " [16 17 18]]\n"
          ],
          "name": "stdout"
        },
        {
          "output_type": "execute_result",
          "data": {
            "text/plain": [
              "array([[ 0,  1,  2, 10, 11, 12],\n",
              "       [ 3,  4,  5, 13, 14, 15],\n",
              "       [ 6,  7,  8, 16, 17, 18]])"
            ]
          },
          "metadata": {
            "tags": []
          },
          "execution_count": 24
        }
      ]
    },
    {
      "cell_type": "markdown",
      "metadata": {
        "id": "dR1rx_IYyk8h",
        "colab_type": "text"
      },
      "source": [
        ""
      ]
    },
    {
      "cell_type": "markdown",
      "metadata": {
        "id": "e7t1gsSE7RhC",
        "colab_type": "text"
      },
      "source": [
        "xvii.\tWrite a function that reads the contents of the file f3.txt and counts the number of alphabets, blank spaces, lowercase letters, number of words starting with a vowel and number of occurrences of a work “hello””"
      ]
    },
    {
      "cell_type": "code",
      "metadata": {
        "id": "3DU4qLMdylc3",
        "colab_type": "code",
        "outputId": "d111c84c-2993-49d2-e66d-7b9cbea1197d",
        "colab": {
          "base_uri": "https://localhost:8080/",
          "height": 102
        }
      },
      "source": [
        "def Count(str): \n",
        "    x = str.split()\n",
        "    upper,lower, blank, special,vowels,wvowel, chello  = 0, 0, 0, 0, 0, 0, 0\n",
        "    for i in range(len(str)): \n",
        "        if str[i] >= 'A' and str[i] <= 'Z': \n",
        "            upper += 1\n",
        "        elif str[i] >= 'a' and str[i] <= 'z':\n",
        "            lower +=1\n",
        "       \n",
        "        elif ord(str[i]) == 32:\n",
        "            blank+=1\n",
        "        else: \n",
        "            special += 1\n",
        "    for j in x:\n",
        "      flag=0\n",
        "      for i in j:\n",
        "        if(i=='a' or i=='e' or i=='i' or i=='o' or i=='u' or i=='A' or i=='E' or i=='I' or i=='O' or i=='U'):\n",
        "            vowels=vowels+1\n",
        "            flag=1\n",
        "      if flag==1:\n",
        "        wvowel+=1\n",
        "    \n",
        "    for t in x:\n",
        "      if t==\"Hello\":\n",
        "        chello +=1\n",
        "    alphabets= upper+lower  \n",
        "    print('alphabets:', alphabets) \n",
        "    print('Lower case letters:', lower) \n",
        "    print('Blank spaces:', blank) \n",
        "    print('Words with Vowels:', wvowel) \n",
        "    print('Words with Hello:', chello) \n",
        "  \n",
        "with open ('abc.txt','r') as f:\n",
        "contents=f.read()\n",
        "Count(contents)"
      ],
      "execution_count": 0,
      "outputs": [
        {
          "output_type": "stream",
          "text": [
            "alphabets: 37\n",
            "Lower case letters: 34\n",
            "Blank spaces: 6\n",
            "Words with Vowels: 5\n",
            "Words with Hello: 2\n"
          ],
          "name": "stdout"
        }
      ]
    }
  ]
}