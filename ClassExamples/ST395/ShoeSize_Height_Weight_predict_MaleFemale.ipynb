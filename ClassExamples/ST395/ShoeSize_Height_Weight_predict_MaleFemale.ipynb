{
 "cells": [
  {
   "cell_type": "code",
   "execution_count": 5,
   "metadata": {},
   "outputs": [
    {
     "name": "stdout",
     "output_type": "stream",
     "text": [
      "\n",
      "1) Using Decision Tree Prediction is ['female']\n",
      "2) Using K Neighbors Classifier Prediction is ['female']\n",
      "3) Using MLPC Classifier Prediction is ['female']\n",
      "4) Using RandomForestClassifier Prediction is ['female']\n",
      "\n"
     ]
    }
   ],
   "source": [
    "from sklearn.tree import DecisionTreeClassifier\n",
    "from sklearn.neighbors import KNeighborsClassifier\n",
    "from sklearn.neural_network import MLPClassifier\n",
    "from sklearn.ensemble import RandomForestClassifier\n",
    " \n",
    "#{height, weights, shoe size}\n",
    "X = [[190,70,44],[166,65,45],[190,90,47],[175,64,39],[171,75,40],[177,80,42],[160,60,38],[144,54,37]]\n",
    "Y = ['male','male','male','male','female','female','female','female']\n",
    " \n",
    "#Predict for this vector (height, wieghts, shoe size)\n",
    "#P = [[183,75,25]]\n",
    "#P = [[165,55,40]]  #test for female  for weight 55 or 85 after 25 years\n",
    "#P = [[183,80,30]]   #test for male \n",
    "P =  [[170,56,25]]\n",
    " \n",
    "#{Decision Tree Model}\n",
    "clf = DecisionTreeClassifier()\n",
    "clf = clf.fit(X,Y)\n",
    "print (\"\\n1) Using Decision Tree Prediction is \" + str(clf.predict(P)))\n",
    " \n",
    "#{K Neighbors Classifier}\n",
    "knn = KNeighborsClassifier()\n",
    "knn.fit(X,Y)\n",
    "print (\"2) Using K Neighbors Classifier Prediction is \" + str(knn.predict(P)))\n",
    " \n",
    "#{using MLPClassifier}\n",
    "mlpc = MLPClassifier()\n",
    "mlpc.fit(X,Y)\n",
    "print (\"3) Using MLPC Classifier Prediction is \" + str(mlpc.predict(P)))\n",
    " \n",
    "#{using MLPClassifier}\n",
    "rfor = RandomForestClassifier()\n",
    "rfor.fit(X,Y)\n",
    "print (\"4) Using RandomForestClassifier Prediction is \" + str(rfor.predict(P)) +\"\\n\")\n",
    " "
   ]
  },
  {
   "cell_type": "code",
   "execution_count": null,
   "metadata": {
    "collapsed": true
   },
   "outputs": [],
   "source": []
  },
  {
   "cell_type": "code",
   "execution_count": null,
   "metadata": {
    "collapsed": true
   },
   "outputs": [],
   "source": []
  },
  {
   "cell_type": "code",
   "execution_count": null,
   "metadata": {
    "collapsed": true
   },
   "outputs": [],
   "source": []
  }
 ],
 "metadata": {
  "kernelspec": {
   "display_name": "Python 3",
   "language": "python",
   "name": "python3"
  },
  "language_info": {
   "codemirror_mode": {
    "name": "ipython",
    "version": 3
   },
   "file_extension": ".py",
   "mimetype": "text/x-python",
   "name": "python",
   "nbconvert_exporter": "python",
   "pygments_lexer": "ipython3",
   "version": "3.6.3"
  }
 },
 "nbformat": 4,
 "nbformat_minor": 2
}
