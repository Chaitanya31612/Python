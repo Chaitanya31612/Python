{
 "cells": [
  {
   "cell_type": "code",
   "execution_count": null,
   "metadata": {},
   "outputs": [
    {
     "name": "stdout",
     "output_type": "stream",
     "text": [
      "Found 0 faces!\n",
      "Found 1 faces!\n",
      "Found 1 faces!\n",
      "Found 1 faces!\n",
      "Found 1 faces!\n",
      "Found 1 faces!\n",
      "Found 0 faces!\n",
      "Found 1 faces!\n",
      "Found 1 faces!\n",
      "Found 2 faces!\n",
      "Found 2 faces!\n",
      "Found 2 faces!\n",
      "Found 1 faces!\n",
      "Found 1 faces!\n",
      "Found 1 faces!\n",
      "Found 1 faces!\n",
      "Found 1 faces!\n",
      "Found 1 faces!\n",
      "Found 1 faces!\n",
      "Found 1 faces!\n",
      "Found 0 faces!\n",
      "Found 0 faces!\n",
      "Found 0 faces!\n",
      "Found 0 faces!\n",
      "Found 1 faces!\n",
      "Found 1 faces!\n",
      "Found 1 faces!\n",
      "Found 1 faces!\n",
      "Found 1 faces!\n",
      "Found 1 faces!\n",
      "Found 1 faces!\n",
      "Found 1 faces!\n",
      "Found 1 faces!\n",
      "Found 1 faces!\n",
      "Found 1 faces!\n",
      "Found 1 faces!\n",
      "Found 1 faces!\n",
      "Found 1 faces!\n"
     ]
    }
   ],
   "source": [
    "# This script will detect faces via your webcam.\n",
    "# Tested with OpenCV3\n",
    "\n",
    "import cv2\n",
    "import time\n",
    "\n",
    "cap = cv2.VideoCapture(0)\n",
    "\n",
    "# Create the haar cascade\n",
    "faceCascade = cv2.CascadeClassifier(\"haarcascade_frontalface_default.xml\")\n",
    "\n",
    "while(True):\n",
    "    # Capture frame-by-frame\n",
    "    ret, frame = cap.read()\n",
    "\n",
    "    # Our operations on the frame come here\n",
    "    gray = cv2.cvtColor(frame, cv2.COLOR_BGR2GRAY)\n",
    "\n",
    "    # Detect faces in the image\n",
    "    faces = faceCascade.detectMultiScale(\n",
    "        gray,\n",
    "        scaleFactor=1.1,\n",
    "        minNeighbors=5,\n",
    "        minSize=(30, 30)\n",
    "        #flags = cv2.CV_HAAR_SCALE_IMAGE\n",
    "    )\n",
    "\n",
    "    print(\"Found {0} faces!\".format(len(faces)))\n",
    "    time.sleep(2)\n",
    "\n",
    "    # Draw a rectangle around the faces\n",
    "    for (x, y, w, h) in faces:\n",
    "        cv2.rectangle(frame, (x, y), (x+w, y+h), (0, 255, 0), 2)\n",
    "\n",
    "\n",
    "    # Display the resulting frame\n",
    "    cv2.imshow('frame', frame)\n",
    "    if cv2.waitKey(10) & 0xFF == ord('q'):\n",
    "        break\n",
    "\n",
    "# When everything done, release the capture\n",
    "cap.release()\n",
    "cv2.destroyAllWindows()\n"
   ]
  },
  {
   "cell_type": "code",
   "execution_count": null,
   "metadata": {
    "collapsed": true
   },
   "outputs": [],
   "source": []
  }
 ],
 "metadata": {
  "kernelspec": {
   "display_name": "Python 3",
   "language": "python",
   "name": "python3"
  },
  "language_info": {
   "codemirror_mode": {
    "name": "ipython",
    "version": 3
   },
   "file_extension": ".py",
   "mimetype": "text/x-python",
   "name": "python",
   "nbconvert_exporter": "python",
   "pygments_lexer": "ipython3",
   "version": "3.6.3"
  }
 },
 "nbformat": 4,
 "nbformat_minor": 2
}
