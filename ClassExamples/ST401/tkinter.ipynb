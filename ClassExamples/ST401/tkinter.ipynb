{
 "cells": [
  {
   "cell_type": "code",
   "execution_count": 1,
   "metadata": {
    "collapsed": true
   },
   "outputs": [],
   "source": [
    "#first tkinter program\n",
    "import tkinter\n",
    "w1 = tkinter.Tk()\n",
    "w1.title('First TK interface')\n",
    "w1.mainloop()"
   ]
  },
  {
   "cell_type": "code",
   "execution_count": 17,
   "metadata": {},
   "outputs": [],
   "source": [
    "#Adding label to the window\n",
    "import tkinter\n",
    "w1 = tkinter.Tk()\n",
    "w1.title('Example :Label ')\n",
    "l1 =tkinter.Label(w1 , text='this is label')\n",
    "l1.pack()\n",
    "\n",
    "w1.mainloop()"
   ]
  },
  {
   "cell_type": "code",
   "execution_count": 21,
   "metadata": {},
   "outputs": [],
   "source": [
    "#Adding label v2 to the window\n",
    "import tkinter\n",
    "w1 = tkinter.Tk()\n",
    "w1.title('Example :Label ')\n",
    "l1 =tkinter.Label(w1 , text='this is label one', fg='red')\n",
    "l1.pack()\n",
    "l2 =tkinter.Label(w1 , text='this is label two' ,bg='yellow').pack()\n",
    "w1.mainloop()"
   ]
  },
  {
   "cell_type": "code",
   "execution_count": 41,
   "metadata": {},
   "outputs": [],
   "source": [
    "#Adding Button to the window\n",
    "import tkinter\n",
    "w1 = tkinter.Tk()\n",
    "w1.title('Example : Button ')\n",
    "tkinter.Button (w1, text ='click Me' , width=100,bg='cyan').pack()\n",
    "w1.mainloop()"
   ]
  },
  {
   "cell_type": "code",
   "execution_count": 34,
   "metadata": {
    "collapsed": true
   },
   "outputs": [],
   "source": [
    "def power (num1 ,num2=1) :\n",
    "    n= num1**num2\n",
    "    print(n)"
   ]
  },
  {
   "cell_type": "code",
   "execution_count": 29,
   "metadata": {},
   "outputs": [
    {
     "name": "stdout",
     "output_type": "stream",
     "text": [
      "100\n"
     ]
    }
   ],
   "source": [
    "power(10,2)"
   ]
  },
  {
   "cell_type": "code",
   "execution_count": 30,
   "metadata": {},
   "outputs": [
    {
     "name": "stdout",
     "output_type": "stream",
     "text": [
      "1024\n"
     ]
    }
   ],
   "source": [
    "power(2,10)"
   ]
  },
  {
   "cell_type": "code",
   "execution_count": 31,
   "metadata": {},
   "outputs": [
    {
     "name": "stdout",
     "output_type": "stream",
     "text": [
      "100\n"
     ]
    }
   ],
   "source": [
    "power(num2=2,num1=10)"
   ]
  },
  {
   "cell_type": "code",
   "execution_count": 35,
   "metadata": {},
   "outputs": [
    {
     "name": "stdout",
     "output_type": "stream",
     "text": [
      "10\n"
     ]
    }
   ],
   "source": [
    "power(10)"
   ]
  },
  {
   "cell_type": "code",
   "execution_count": 39,
   "metadata": {
    "collapsed": true
   },
   "outputs": [],
   "source": [
    "def sum(n1,n2=0,n3=0):\n",
    "    n=n1+n2+n3\n",
    "    print(n)"
   ]
  },
  {
   "cell_type": "code",
   "execution_count": 37,
   "metadata": {},
   "outputs": [
    {
     "name": "stdout",
     "output_type": "stream",
     "text": [
      "6\n"
     ]
    }
   ],
   "source": [
    "sum(1,2,3)"
   ]
  },
  {
   "cell_type": "code",
   "execution_count": 40,
   "metadata": {},
   "outputs": [
    {
     "name": "stdout",
     "output_type": "stream",
     "text": [
      "30\n"
     ]
    }
   ],
   "source": [
    "sum(10,20)"
   ]
  },
  {
   "cell_type": "code",
   "execution_count": 48,
   "metadata": {},
   "outputs": [
    {
     "name": "stdout",
     "output_type": "stream",
     "text": [
      "I am in show\n"
     ]
    }
   ],
   "source": [
    "#Adding Button v2 to the window\n",
    "import tkinter\n",
    "def show():\n",
    "    print('I am in show')\n",
    "    #pass\n",
    "\n",
    "w1 = tkinter.Tk()\n",
    "w1.title('Example : Button ')\n",
    "tkinter.Button (w1, text ='click Me' , width=100,bg='cyan', command=show()).pack()\n",
    "w1.mainloop()"
   ]
  },
  {
   "cell_type": "code",
   "execution_count": 50,
   "metadata": {},
   "outputs": [],
   "source": [
    "#Adding  Label & Button  to the window\n",
    "import tkinter\n",
    "\n",
    "w1 = tkinter.Tk()\n",
    "w1.title('Example : Button ')\n",
    "tkinter.Label(w1 , text= 'Label one', bg = 'yellow').pack()\n",
    "tkinter.Button (w1, text ='click Me' , width=100,bg='cyan' ).pack()\n",
    "w1.mainloop()"
   ]
  },
  {
   "cell_type": "code",
   "execution_count": 52,
   "metadata": {
    "collapsed": true
   },
   "outputs": [],
   "source": [
    "#Adding  Label , Entry & Button  to the window\n",
    "import tkinter\n",
    "\n",
    "w1 = tkinter.Tk()\n",
    "w1.title('Example : Button ')\n",
    "tkinter.Label(w1 , text= 'Label one', bg = 'yellow').pack()\n",
    "tkinter.Entry(w1,bg = 'cyan').pack()\n",
    "tkinter.Button (w1, text ='click Me' , width=100,bg='green' ).pack()\n",
    "w1.mainloop()"
   ]
  },
  {
   "cell_type": "code",
   "execution_count": 58,
   "metadata": {},
   "outputs": [],
   "source": [
    "#Adding  Label , Entry & Button  to the window in the grid\n",
    "import tkinter\n",
    "\n",
    "w1 = tkinter.Tk()\n",
    "w1.title('Example : Button ')\n",
    "tkinter.Label(w1 , text= 'Enter Name', bg = 'yellow').grid(row=0,column=0)\n",
    "tkinter.Entry(w1,bg = 'cyan').grid(row=0,column=1)\n",
    "tkinter.Button (w1, text ='Upload' ,bg='green' ).grid(row=1)\n",
    "\n",
    "w1.mainloop()"
   ]
  },
  {
   "cell_type": "code",
   "execution_count": 60,
   "metadata": {
    "collapsed": true
   },
   "outputs": [],
   "source": [
    "#Question : check the text enter by user(for palindrome) and display result in label \n",
    "import tkinter\n",
    "\n",
    "w1 = tkinter.Tk()\n",
    "w1.title('Example : Button ')\n",
    "tkinter.Label(w1 , text= 'Enter Text  : ' ).grid(row=0,column=0)\n",
    "tkinter.Entry(w1).grid(row=0,column=1)\n",
    "\n",
    "tkinter.Label(w1 , text= 'Result Status :' ).grid(row=1,column=0)\n",
    "tkinter.Label(w1  ).grid(row=1,column=1) \n",
    "# checkbutton\n",
    "tkinter.Checkbutton(w1, text='case sensitive').grid(row=1,column=1)\n",
    "\n",
    "tkinter.Button (w1, text ='Check Palindrome'   ).grid(row=2)\n",
    "\n",
    "w1.mainloop()"
   ]
  },
  {
   "cell_type": "code",
   "execution_count": 72,
   "metadata": {},
   "outputs": [],
   "source": [
    "import tkinter\n",
    "\n",
    "w1 = tkinter.Tk()\n",
    "m1 = tkinter.Menu(w1)\n",
    "w1.config(menu=m1)\n",
    "fmenu = tkinter.Menu(m1)\n",
    "m1.add_cascade(label='file' , menu=fmenu)\n",
    "fmenu.add_command(label='palindrome')\n",
    "fmenu.add_command(label='prime')\n",
    "fmenu.add_separator()\n",
    "fmenu.add_command(label ='quit' , command=w1.quit)\n",
    "\n",
    "w1.mainloop()"
   ]
  },
  {
   "cell_type": "code",
   "execution_count": 1,
   "metadata": {},
   "outputs": [],
   "source": [
    "import tkinter\n",
    "\n",
    "w1 = tkinter.Tk()\n",
    "logo = tkinter.PhotoImage(file='nielit.png')\n",
    "tkinter.Label(w1, image=logo).pack()\n",
    "w1.mainloop()"
   ]
  },
  {
   "cell_type": "code",
   "execution_count": 4,
   "metadata": {
    "collapsed": true
   },
   "outputs": [],
   "source": [
    "import tkinter\n",
    "\n",
    "w1 = tkinter.Tk()\n",
    "logo = tkinter.PhotoImage(file='nielit.png')\n",
    "tkinter.Label(w1, text='this is nielit logo', image=logo).pack()\n",
    "w1.mainloop()"
   ]
  },
  {
   "cell_type": "code",
   "execution_count": 35,
   "metadata": {},
   "outputs": [
    {
     "name": "stderr",
     "output_type": "stream",
     "text": [
      "Exception in Tkinter callback\n",
      "Traceback (most recent call last):\n",
      "  File \"C:\\ProgramData\\Anaconda3\\lib\\tkinter\\__init__.py\", line 1699, in __call__\n",
      "    return self.func(*args)\n",
      "  File \"<ipython-input-35-0cd9459a199e>\", line 5, in btnClick\n",
      "    L.config(text='new')\n",
      "AttributeError: 'NoneType' object has no attribute 'config'\n"
     ]
    }
   ],
   "source": [
    "import tkinter \n",
    "\n",
    "top = tkinter.Tk() \n",
    "def btnClick(): \n",
    "    L.config(text='new') \n",
    "    B['text'] = 'new'\n",
    "    top.update()\n",
    "\n",
    "L = tkinter.Label(top, text='old').pack()    \n",
    "B = tkinter.Button(top, text =\"change text\", command=btnClick )\n",
    "B.pack() \n",
    "top.mainloop() \n",
    "\n",
    "#top.destroy"
   ]
  },
  {
   "cell_type": "code",
   "execution_count": null,
   "metadata": {
    "collapsed": true
   },
   "outputs": [],
   "source": []
  }
 ],
 "metadata": {
  "kernelspec": {
   "display_name": "Python 3",
   "language": "python",
   "name": "python3"
  },
  "language_info": {
   "codemirror_mode": {
    "name": "ipython",
    "version": 3
   },
   "file_extension": ".py",
   "mimetype": "text/x-python",
   "name": "python",
   "nbconvert_exporter": "python",
   "pygments_lexer": "ipython3",
   "version": "3.6.3"
  }
 },
 "nbformat": 4,
 "nbformat_minor": 2
}
