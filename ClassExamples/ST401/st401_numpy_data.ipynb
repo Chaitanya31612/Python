{
 "cells": [
  {
   "cell_type": "code",
   "execution_count": 1,
   "metadata": {
    "collapsed": true
   },
   "outputs": [],
   "source": [
    "import numpy as np\n",
    "heightdata = np.genfromtxt('data/president_heights.csv',delimiter=',',skip_header=1)"
   ]
  },
  {
   "cell_type": "code",
   "execution_count": 2,
   "metadata": {
    "collapsed": true
   },
   "outputs": [],
   "source": [
    "\n",
    "seattledata = np.genfromtxt('data/Seattle2014.csv',delimiter=',',skip_header=1)"
   ]
  },
  {
   "cell_type": "code",
   "execution_count": 9,
   "metadata": {},
   "outputs": [],
   "source": [
    "import csv\n",
    "#csv.reader(open('data/president_heights.csv','r'),delimiter=',')\n",
    "# pdata = csv.reader(open('data/president_heights.csv','r'),delimiter=',')"
   ]
  },
  {
   "cell_type": "code",
   "execution_count": 8,
   "metadata": {},
   "outputs": [
    {
     "data": {
      "text/plain": [
       "<_csv.reader at 0x2108861ff50>"
      ]
     },
     "execution_count": 8,
     "metadata": {},
     "output_type": "execute_result"
    }
   ],
   "source": [
    "pdata #output of above two commands is the same location as under"
   ]
  },
  {
   "cell_type": "code",
   "execution_count": 10,
   "metadata": {
    "collapsed": true
   },
   "outputs": [],
   "source": [
    "pdata = list(csv.reader(open('data/president_heights.csv','r'),delimiter=','))"
   ]
  },
  {
   "cell_type": "code",
   "execution_count": 11,
   "metadata": {},
   "outputs": [
    {
     "name": "stdout",
     "output_type": "stream",
     "text": [
      "[['order', 'name', 'height(cm)'], ['1', 'George Washington', '189'], ['2', 'John Adams', '170'], ['3', 'Thomas Jefferson', '189'], ['4', 'James Madison', '163'], ['5', 'James Monroe', '183'], ['6', 'John Quincy Adams', '171'], ['7', 'Andrew Jackson', '185'], ['8', 'Martin Van Buren', '168'], ['9', 'William Henry Harrison', '173'], ['10', 'John Tyler', '183'], ['11', 'James K. Polk', '173'], ['12', 'Zachary Taylor', '173'], ['13', 'Millard Fillmore', '175'], ['14', 'Franklin Pierce', '178'], ['15', 'James Buchanan', '183'], ['16', 'Abraham Lincoln', '193'], ['17', 'Andrew Johnson', '178'], ['18', 'Ulysses S. Grant', '173'], ['19', 'Rutherford B. Hayes', '174'], ['20', 'James A. Garfield', '183'], ['21', 'Chester A. Arthur', '183'], ['23', 'Benjamin Harrison', '168'], ['25', 'William McKinley', '170'], ['26', 'Theodore Roosevelt', '178'], ['27', 'William Howard Taft', '182'], ['28', 'Woodrow Wilson', '180'], ['29', 'Warren G. Harding', '183'], ['30', 'Calvin Coolidge', '178'], ['31', 'Herbert Hoover', '182'], ['32', 'Franklin D. Roosevelt', '188'], ['33', 'Harry S. Truman', '175'], ['34', 'Dwight D. Eisenhower', '179'], ['35', 'John F. Kennedy', '183'], ['36', 'Lyndon B. Johnson', '193'], ['37', 'Richard Nixon', '182'], ['38', 'Gerald Ford', '183'], ['39', 'Jimmy Carter', '177'], ['40', 'Ronald Reagan', '185'], ['41', 'George H. W. Bush', '188'], ['42', 'Bill Clinton', '188'], ['43', 'George W. Bush', '182'], ['44', 'Barack Obama', '185']]\n"
     ]
    }
   ],
   "source": [
    "print(pdata)"
   ]
  },
  {
   "cell_type": "code",
   "execution_count": 12,
   "metadata": {
    "collapsed": true
   },
   "outputs": [],
   "source": [
    "pdatat = tuple(csv.reader(open('data/president_heights.csv','r'),delimiter=','))"
   ]
  },
  {
   "cell_type": "code",
   "execution_count": 13,
   "metadata": {},
   "outputs": [
    {
     "data": {
      "text/plain": [
       "(['order', 'name', 'height(cm)'],\n",
       " ['1', 'George Washington', '189'],\n",
       " ['2', 'John Adams', '170'],\n",
       " ['3', 'Thomas Jefferson', '189'],\n",
       " ['4', 'James Madison', '163'],\n",
       " ['5', 'James Monroe', '183'],\n",
       " ['6', 'John Quincy Adams', '171'],\n",
       " ['7', 'Andrew Jackson', '185'],\n",
       " ['8', 'Martin Van Buren', '168'],\n",
       " ['9', 'William Henry Harrison', '173'],\n",
       " ['10', 'John Tyler', '183'],\n",
       " ['11', 'James K. Polk', '173'],\n",
       " ['12', 'Zachary Taylor', '173'],\n",
       " ['13', 'Millard Fillmore', '175'],\n",
       " ['14', 'Franklin Pierce', '178'],\n",
       " ['15', 'James Buchanan', '183'],\n",
       " ['16', 'Abraham Lincoln', '193'],\n",
       " ['17', 'Andrew Johnson', '178'],\n",
       " ['18', 'Ulysses S. Grant', '173'],\n",
       " ['19', 'Rutherford B. Hayes', '174'],\n",
       " ['20', 'James A. Garfield', '183'],\n",
       " ['21', 'Chester A. Arthur', '183'],\n",
       " ['23', 'Benjamin Harrison', '168'],\n",
       " ['25', 'William McKinley', '170'],\n",
       " ['26', 'Theodore Roosevelt', '178'],\n",
       " ['27', 'William Howard Taft', '182'],\n",
       " ['28', 'Woodrow Wilson', '180'],\n",
       " ['29', 'Warren G. Harding', '183'],\n",
       " ['30', 'Calvin Coolidge', '178'],\n",
       " ['31', 'Herbert Hoover', '182'],\n",
       " ['32', 'Franklin D. Roosevelt', '188'],\n",
       " ['33', 'Harry S. Truman', '175'],\n",
       " ['34', 'Dwight D. Eisenhower', '179'],\n",
       " ['35', 'John F. Kennedy', '183'],\n",
       " ['36', 'Lyndon B. Johnson', '193'],\n",
       " ['37', 'Richard Nixon', '182'],\n",
       " ['38', 'Gerald Ford', '183'],\n",
       " ['39', 'Jimmy Carter', '177'],\n",
       " ['40', 'Ronald Reagan', '185'],\n",
       " ['41', 'George H. W. Bush', '188'],\n",
       " ['42', 'Bill Clinton', '188'],\n",
       " ['43', 'George W. Bush', '182'],\n",
       " ['44', 'Barack Obama', '185'])"
      ]
     },
     "execution_count": 13,
     "metadata": {},
     "output_type": "execute_result"
    }
   ],
   "source": [
    "pdatat"
   ]
  },
  {
   "cell_type": "code",
   "execution_count": 23,
   "metadata": {},
   "outputs": [],
   "source": [
    "# extract height from all records in list heights\n",
    "#last column from heightdata\n",
    "\n",
    "pdataArr = np.array(pdata ) #convert pdata-list into numpy array"
   ]
  },
  {
   "cell_type": "code",
   "execution_count": 30,
   "metadata": {},
   "outputs": [
    {
     "ename": "TypeError",
     "evalue": "only length-1 arrays can be converted to Python scalars",
     "output_type": "error",
     "traceback": [
      "\u001b[1;31m---------------------------------------------------------------------------\u001b[0m",
      "\u001b[1;31mTypeError\u001b[0m                                 Traceback (most recent call last)",
      "\u001b[1;32m<ipython-input-30-61facca3fd9d>\u001b[0m in \u001b[0;36m<module>\u001b[1;34m()\u001b[0m\n\u001b[0;32m      1\u001b[0m \u001b[1;31m#slice the  numpy array for extracting height column\u001b[0m\u001b[1;33m\u001b[0m\u001b[1;33m\u001b[0m\u001b[0m\n\u001b[1;32m----> 2\u001b[1;33m \u001b[0mheight\u001b[0m \u001b[1;33m=\u001b[0m \u001b[0mint\u001b[0m\u001b[1;33m(\u001b[0m\u001b[0mpdataArr\u001b[0m\u001b[1;33m[\u001b[0m\u001b[1;36m1\u001b[0m\u001b[1;33m:\u001b[0m\u001b[1;33m,\u001b[0m\u001b[1;36m2\u001b[0m\u001b[1;33m]\u001b[0m\u001b[1;33m)\u001b[0m\u001b[1;33m\u001b[0m\u001b[0m\n\u001b[0m",
      "\u001b[1;31mTypeError\u001b[0m: only length-1 arrays can be converted to Python scalars"
     ]
    }
   ],
   "source": [
    "#slice the  numpy array for extracting height column\n",
    "height =(pdataArr[1:,2])"
   ]
  },
  {
   "cell_type": "code",
   "execution_count": 51,
   "metadata": {},
   "outputs": [
    {
     "data": {
      "text/plain": [
       "array(['189', '170', '189', '163', '183', '171', '185', '168', '173',\n",
       "       '183', '173', '173', '175', '178', '183', '193', '178', '173',\n",
       "       '174', '183', '183', '168', '170', '178', '182', '180', '183',\n",
       "       '178', '182', '188', '175', '179', '183', '193', '182', '183',\n",
       "       '177', '185', '188', '188', '182', '185'],\n",
       "      dtype='<U22')"
      ]
     },
     "execution_count": 51,
     "metadata": {},
     "output_type": "execute_result"
    }
   ],
   "source": [
    "height"
   ]
  },
  {
   "cell_type": "code",
   "execution_count": 66,
   "metadata": {},
   "outputs": [
    {
     "name": "stdout",
     "output_type": "stream",
     "text": [
      "[189 170 189 163 183 171 185 168 173 183 173 173 175 178 183 193 178 173\n",
      " 174 183 183 168 170 178 182 180 183 178 182 188 175 179 183 193 182 183\n",
      " 177 185 188 188 182 185]\n"
     ]
    }
   ],
   "source": [
    "h1 =list([])  #creating empty list \n",
    "for ele in height:\n",
    "    h1.append(  int(ele) )  #appending each element to list after type conversion to int\n",
    "\n",
    "\n",
    "heights = np.array(h1)\n",
    "print(heights)"
   ]
  },
  {
   "cell_type": "code",
   "execution_count": 45,
   "metadata": {
    "collapsed": true
   },
   "outputs": [],
   "source": [
    "indiapop = list(csv.reader(open('data/IndiaPopulation.csv','r'),delimiter=','))"
   ]
  },
  {
   "cell_type": "code",
   "execution_count": 46,
   "metadata": {},
   "outputs": [
    {
     "data": {
      "text/plain": [
       "array([['Year', 'Population', 'Yearly % change', 'Yearly change',\n",
       "        'Migrants (net)'],\n",
       "       ['2018', '1,35,40,51,854', '1.11%', '1,48,71,727', '-4,90,000'],\n",
       "       ['2017', '1,33,91,80,127', '1.13%', '1,50,08,773', '-4,90,000'],\n",
       "       ['2016', '1,32,41,71,354', '1.15%', '1,51,17,374', '-4,90,000'],\n",
       "       ['2015', '1,30,90,53,980', '1.24%', '1,56,14,658', '-5,15,643'],\n",
       "       ['2010', '1,23,09,80,691', '1.47%', '1,73,72,403', '-5,82,766'],\n",
       "       ['2005', '1,14,41,18,674', '1.67%', '1,82,13,552', '-3,90,182'],\n",
       "       ['2000', '1,05,30,50,912', '1.86%', '1,85,13,623', '-1,43,380'],\n",
       "       ['1995', '96,04,82,795', '2.00%', '1,80,69,863', '-1,10,587'],\n",
       "       ['1990', '87,01,33,480', '2.17%', '1,76,93,362', '9,029'],\n",
       "       ['1985', '78,16,66,671', '2.33%', '1,69,76,631', '1,16,619'],\n",
       "       ['1980', '69,67,83,517', '2.32%', '1,50,96,359', '2,31,436'],\n",
       "       ['1975', '62,13,01,720', '2.34%', '1,35,44,641', '4,28,664'],\n",
       "       ['1970', '55,35,78,513', '2.15%', '1,11,75,230', '-69,036'],\n",
       "       ['1965', '49,77,02,365', '2.06%', '96,44,351', '-21,142'],\n",
       "       ['1960', '44,94,80,608', '1.89%', '80,42,311', '-30,805'],\n",
       "       ['1955', '40,92,69,055', '1.69%', '65,88,771', '-21,142']],\n",
       "      dtype='<U28')"
      ]
     },
     "execution_count": 46,
     "metadata": {},
     "output_type": "execute_result"
    }
   ],
   "source": [
    "#convert list to numpy array\n",
    "indiapopArr = np.array(indiapop)\n",
    "indiapopArr[:,0:5]"
   ]
  },
  {
   "cell_type": "code",
   "execution_count": 36,
   "metadata": {},
   "outputs": [
    {
     "data": {
      "text/plain": [
       "[['Year',\n",
       "  'Population',\n",
       "  'Yearly %ÿ',\n",
       "  'Yearly',\n",
       "  'Migrants (net)',\n",
       "  'Median Age',\n",
       "  'Fertility Rate',\n",
       "  'Density (P/Kmý)',\n",
       "  'Urban',\n",
       "  'Urban Population',\n",
       "  \"Country's Share of\",\n",
       "  'World Population',\n",
       "  'India'],\n",
       " ['',\n",
       "  '',\n",
       "  'Change',\n",
       "  'Change',\n",
       "  '',\n",
       "  '',\n",
       "  '',\n",
       "  '',\n",
       "  'Pop %',\n",
       "  '',\n",
       "  'World Pop',\n",
       "  '',\n",
       "  'Global Rank'],\n",
       " ['2018',\n",
       "  '1,35,40,51,854',\n",
       "  '1.11%',\n",
       "  '1,48,71,727',\n",
       "  '-4,90,000',\n",
       "  '27',\n",
       "  '2.41',\n",
       "  '455',\n",
       "  '32.50%',\n",
       "  '44,99,45,237',\n",
       "  '17.74%',\n",
       "  '7,63,28,19,325',\n",
       "  '2'],\n",
       " ['2017',\n",
       "  '1,33,91,80,127',\n",
       "  '1.13%',\n",
       "  '1,50,08,773',\n",
       "  '-4,90,000',\n",
       "  '27',\n",
       "  '2.41',\n",
       "  '450',\n",
       "  '32.80%',\n",
       "  '43,98,01,466',\n",
       "  '17.74%',\n",
       "  '7,55,02,62,101',\n",
       "  '2'],\n",
       " ['2016',\n",
       "  '1,32,41,71,354',\n",
       "  '1.15%',\n",
       "  '1,51,17,374',\n",
       "  '-4,90,000',\n",
       "  '27',\n",
       "  '2.41',\n",
       "  '445',\n",
       "  '32.50%',\n",
       "  '42,98,02,441',\n",
       "  '17.73%',\n",
       "  '7,46,69,64,280',\n",
       "  '2'],\n",
       " ['2015',\n",
       "  '1,30,90,53,980',\n",
       "  '1.24%',\n",
       "  '1,56,14,658',\n",
       "  '-5,15,643',\n",
       "  '26.7',\n",
       "  '2.44',\n",
       "  '440',\n",
       "  '32.10%',\n",
       "  '41,99,38,867',\n",
       "  '17.73%',\n",
       "  '7,38,30,08,820',\n",
       "  '2'],\n",
       " ['2010',\n",
       "  '1,23,09,80,691',\n",
       "  '1.47%',\n",
       "  '1,73,72,403',\n",
       "  '-5,82,766',\n",
       "  '25.1',\n",
       "  '2.8',\n",
       "  '414',\n",
       "  '30.30%',\n",
       "  '37,29,01,884',\n",
       "  '17.69%',\n",
       "  '6,95,81,69,159',\n",
       "  '2'],\n",
       " ['2005',\n",
       "  '1,14,41,18,674',\n",
       "  '1.67%',\n",
       "  '1,82,13,552',\n",
       "  '-3,90,182',\n",
       "  '23.8',\n",
       "  '3.14',\n",
       "  '385',\n",
       "  '28.80%',\n",
       "  '32,95,16,783',\n",
       "  '17.49%',\n",
       "  '6,54,21,59,383',\n",
       "  '2'],\n",
       " ['2000',\n",
       "  '1,05,30,50,912',\n",
       "  '1.86%',\n",
       "  '1,85,13,623',\n",
       "  '-1,43,380',\n",
       "  '22.7',\n",
       "  '3.48',\n",
       "  '354',\n",
       "  '27.40%',\n",
       "  '28,83,65,219',\n",
       "  '17.14%',\n",
       "  '6,14,50,06,989',\n",
       "  '2'],\n",
       " ['1995',\n",
       "  '96,04,82,795',\n",
       "  '2.00%',\n",
       "  '1,80,69,863',\n",
       "  '-1,10,587',\n",
       "  '21.8',\n",
       "  '3.83',\n",
       "  '323',\n",
       "  '26.50%',\n",
       "  '25,43,14,016',\n",
       "  '16.70%',\n",
       "  '5,75,14,74,416',\n",
       "  '2'],\n",
       " ['1990',\n",
       "  '87,01,33,480',\n",
       "  '2.17%',\n",
       "  '1,76,93,362',\n",
       "  '9,029',\n",
       "  '21.1',\n",
       "  '4.27',\n",
       "  '293',\n",
       "  '25.50%',\n",
       "  '22,19,79,229',\n",
       "  '16.32%',\n",
       "  '5,33,09,43,460',\n",
       "  '2'],\n",
       " ['1985',\n",
       "  '78,16,66,671',\n",
       "  '2.33%',\n",
       "  '1,69,76,631',\n",
       "  '1,16,619',\n",
       "  '20.6',\n",
       "  '4.68',\n",
       "  '263',\n",
       "  '24.40%',\n",
       "  '19,03,38,784',\n",
       "  '16.04%',\n",
       "  '4,87,37,81,796',\n",
       "  '2'],\n",
       " ['1980',\n",
       "  '69,67,83,517',\n",
       "  '2.32%',\n",
       "  '1,50,96,359',\n",
       "  '2,31,436',\n",
       "  '20.2',\n",
       "  '4.97',\n",
       "  '234',\n",
       "  '23.20%',\n",
       "  '16,14,45,950',\n",
       "  '15.63%',\n",
       "  '4,45,84,11,534',\n",
       "  '2'],\n",
       " ['1975',\n",
       "  '62,13,01,720',\n",
       "  '2.34%',\n",
       "  '1,35,44,641',\n",
       "  '4,28,664',\n",
       "  '19.8',\n",
       "  '5.41',\n",
       "  '209',\n",
       "  '21.40%',\n",
       "  '13,27,32,329',\n",
       "  '15.23%',\n",
       "  '4,07,90,87,198',\n",
       "  '2'],\n",
       " ['1970',\n",
       "  '55,35,78,513',\n",
       "  '2.15%',\n",
       "  '1,11,75,230',\n",
       "  '-69,036',\n",
       "  '19.4',\n",
       "  '5.72',\n",
       "  '186',\n",
       "  '19.80%',\n",
       "  '10,97,09,315',\n",
       "  '14.96%',\n",
       "  '3,70,05,77,650',\n",
       "  '2'],\n",
       " ['1965',\n",
       "  '49,77,02,365',\n",
       "  '2.06%',\n",
       "  '96,44,351',\n",
       "  '-21,142',\n",
       "  '20.8',\n",
       "  '5.9',\n",
       "  '167',\n",
       "  '18.80%',\n",
       "  '9,35,40,800',\n",
       "  '14.90%',\n",
       "  '3,33,95,92,688',\n",
       "  '2'],\n",
       " ['1960',\n",
       "  '44,94,80,608',\n",
       "  '1.89%',\n",
       "  '80,42,311',\n",
       "  '-30,805',\n",
       "  '20.3',\n",
       "  '5.9',\n",
       "  '151',\n",
       "  '17.90%',\n",
       "  '8,05,86,315',\n",
       "  '14.82%',\n",
       "  '3,03,32,12,527',\n",
       "  '2'],\n",
       " ['1955',\n",
       "  '40,92,69,055',\n",
       "  '1.69%',\n",
       "  '65,88,771',\n",
       "  '-21,142',\n",
       "  '20.8',\n",
       "  '5.9',\n",
       "  '138',\n",
       "  '17.60%',\n",
       "  '7,19,06,548',\n",
       "  '14.76%',\n",
       "  '2,77,22,42,535',\n",
       "  '2']]"
      ]
     },
     "execution_count": 36,
     "metadata": {},
     "output_type": "execute_result"
    }
   ],
   "source": [
    "indiapop"
   ]
  },
  {
   "cell_type": "code",
   "execution_count": 49,
   "metadata": {},
   "outputs": [],
   "source": [
    "indiapopG = np.genfromtxt('data/IndiaPopulation.csv',delimiter=',')"
   ]
  },
  {
   "cell_type": "code",
   "execution_count": 50,
   "metadata": {},
   "outputs": [
    {
     "data": {
      "text/plain": [
       "array([[             nan,              nan,              nan,\n",
       "                     nan,              nan,              nan,\n",
       "                     nan,              nan,              nan,\n",
       "                     nan,              nan,              nan,\n",
       "                     nan],\n",
       "       [  2.01800000e+03,   1.35405185e+09,   1.11000000e-02,\n",
       "          1.48717270e+07,  -4.90000000e+05,   2.70000000e+01,\n",
       "          2.41000000e+00,   4.55000000e+02,   3.25000000e-01,\n",
       "          4.49945237e+08,   1.77400000e-01,   7.63281932e+09,\n",
       "          2.00000000e+00],\n",
       "       [  2.01700000e+03,   1.33918013e+09,   1.13000000e-02,\n",
       "          1.50087730e+07,  -4.90000000e+05,   2.70000000e+01,\n",
       "          2.41000000e+00,   4.50000000e+02,   3.28000000e-01,\n",
       "          4.39801466e+08,   1.77400000e-01,   7.55026210e+09,\n",
       "          2.00000000e+00],\n",
       "       [  2.01600000e+03,   1.32417135e+09,   1.15000000e-02,\n",
       "          1.51173740e+07,  -4.90000000e+05,   2.70000000e+01,\n",
       "          2.41000000e+00,   4.45000000e+02,   3.25000000e-01,\n",
       "          4.29802441e+08,   1.77300000e-01,   7.46696428e+09,\n",
       "          2.00000000e+00],\n",
       "       [  2.01500000e+03,   1.30905398e+09,   1.24000000e-02,\n",
       "          1.56146580e+07,  -5.15643000e+05,   2.67000000e+01,\n",
       "          2.44000000e+00,   4.40000000e+02,   3.21000000e-01,\n",
       "          4.19938867e+08,   1.77300000e-01,   7.38300882e+09,\n",
       "          2.00000000e+00],\n",
       "       [  2.01000000e+03,   1.23098069e+09,   1.47000000e-02,\n",
       "          1.73724030e+07,  -5.82766000e+05,   2.51000000e+01,\n",
       "          2.80000000e+00,   4.14000000e+02,   3.03000000e-01,\n",
       "          3.72901884e+08,   1.76900000e-01,   6.95816916e+09,\n",
       "          2.00000000e+00],\n",
       "       [  2.00500000e+03,   1.14411867e+09,   1.67000000e-02,\n",
       "          1.82135520e+07,  -3.90182000e+05,   2.38000000e+01,\n",
       "          3.14000000e+00,   3.85000000e+02,   2.88000000e-01,\n",
       "          3.29516783e+08,   1.74900000e-01,   6.54215938e+09,\n",
       "          2.00000000e+00],\n",
       "       [  2.00000000e+03,   1.05305091e+09,   1.86000000e-02,\n",
       "          1.85136230e+07,  -1.43380000e+05,   2.27000000e+01,\n",
       "          3.48000000e+00,   3.54000000e+02,   2.74000000e-01,\n",
       "          2.88365219e+08,   1.71400000e-01,   6.14500699e+09,\n",
       "          2.00000000e+00],\n",
       "       [  1.99500000e+03,   9.60482795e+08,   2.00000000e-02,\n",
       "          1.80698630e+07,  -1.10587000e+05,   2.18000000e+01,\n",
       "          3.83000000e+00,   3.23000000e+02,   2.65000000e-01,\n",
       "          2.54314016e+08,   1.67000000e-01,   5.75147442e+09,\n",
       "          2.00000000e+00],\n",
       "       [  1.99000000e+03,   8.70133480e+08,   2.17000000e-02,\n",
       "          1.76933620e+07,   9.02900000e+03,   2.11000000e+01,\n",
       "          4.27000000e+00,   2.93000000e+02,   2.55000000e-01,\n",
       "          2.21979229e+08,   1.63200000e-01,   5.33094346e+09,\n",
       "          2.00000000e+00],\n",
       "       [  1.98500000e+03,   7.81666671e+08,   2.33000000e-02,\n",
       "          1.69766310e+07,   1.16619000e+05,   2.06000000e+01,\n",
       "          4.68000000e+00,   2.63000000e+02,   2.44000000e-01,\n",
       "          1.90338784e+08,   1.60400000e-01,   4.87378180e+09,\n",
       "          2.00000000e+00],\n",
       "       [  1.98000000e+03,   6.96783517e+08,   2.32000000e-02,\n",
       "          1.50963590e+07,   2.31436000e+05,   2.02000000e+01,\n",
       "          4.97000000e+00,   2.34000000e+02,   2.32000000e-01,\n",
       "          1.61445950e+08,   1.56300000e-01,   4.45841153e+09,\n",
       "          2.00000000e+00],\n",
       "       [  1.97500000e+03,   6.21301720e+08,   2.34000000e-02,\n",
       "          1.35446410e+07,   4.28664000e+05,   1.98000000e+01,\n",
       "          5.41000000e+00,   2.09000000e+02,   2.14000000e-01,\n",
       "          1.32732329e+08,   1.52300000e-01,   4.07908720e+09,\n",
       "          2.00000000e+00],\n",
       "       [  1.97000000e+03,   5.53578513e+08,   2.15000000e-02,\n",
       "          1.11752300e+07,  -6.90360000e+04,   1.94000000e+01,\n",
       "          5.72000000e+00,   1.86000000e+02,   1.98000000e-01,\n",
       "          1.09709315e+08,   1.49600000e-01,   3.70057765e+09,\n",
       "          2.00000000e+00],\n",
       "       [  1.96500000e+03,   4.97702365e+08,   2.06000000e-02,\n",
       "          9.64435100e+06,  -2.11420000e+04,   2.08000000e+01,\n",
       "          5.90000000e+00,   1.67000000e+02,   1.88000000e-01,\n",
       "          9.35408000e+07,   1.49000000e-01,   3.33959269e+09,\n",
       "          2.00000000e+00],\n",
       "       [  1.96000000e+03,   4.49480608e+08,   1.89000000e-02,\n",
       "          8.04231100e+06,  -3.08050000e+04,   2.03000000e+01,\n",
       "          5.90000000e+00,   1.51000000e+02,   1.79000000e-01,\n",
       "          8.05863150e+07,   1.48200000e-01,   3.03321253e+09,\n",
       "          2.00000000e+00],\n",
       "       [  1.95500000e+03,   4.09269055e+08,   1.69000000e-02,\n",
       "          6.58877100e+06,  -2.11420000e+04,   2.08000000e+01,\n",
       "          5.90000000e+00,   1.38000000e+02,   1.76000000e-01,\n",
       "          7.19065480e+07,   1.47600000e-01,   2.77224254e+09,\n",
       "          2.00000000e+00]])"
      ]
     },
     "execution_count": 50,
     "metadata": {},
     "output_type": "execute_result"
    }
   ],
   "source": [
    "indiapopG"
   ]
  },
  {
   "cell_type": "code",
   "execution_count": null,
   "metadata": {
    "collapsed": true
   },
   "outputs": [],
   "source": []
  }
 ],
 "metadata": {
  "kernelspec": {
   "display_name": "Python 3",
   "language": "python",
   "name": "python3"
  },
  "language_info": {
   "codemirror_mode": {
    "name": "ipython",
    "version": 3
   },
   "file_extension": ".py",
   "mimetype": "text/x-python",
   "name": "python",
   "nbconvert_exporter": "python",
   "pygments_lexer": "ipython3",
   "version": "3.6.3"
  }
 },
 "nbformat": 4,
 "nbformat_minor": 2
}
