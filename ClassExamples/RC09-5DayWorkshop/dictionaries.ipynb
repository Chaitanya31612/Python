{
 "cells": [
  {
   "cell_type": "code",
   "execution_count": 3,
   "metadata": {},
   "outputs": [
    {
     "name": "stdout",
     "output_type": "stream",
     "text": [
      "['R', 'm', 'v', ' ', 'v', 'w', 'l', 's', ' ', 'f', 'r', 'm', ' ', 't', 'h', 's', ' ', 's', 't', 'r', 'n', 'g']\n",
      "Rmv vwls frm ths strng\n",
      "<class 'str'>\n",
      "Rmv vwls frm ths strng\n"
     ]
    }
   ],
   "source": [
    "#to remove vowels from a sentence\n",
    "sentence=\"Remove vowels from this string\"\n",
    "vowels=\"aeiou\"\n",
    "filtered_list=[]\n",
    "for l in sentence:\n",
    "    if l not in vowels:\n",
    "        filtered_list.append(l)\n",
    "print(filtered_list)\n",
    "print(''.join(filtered_list))\n",
    "l2=''.join(filtered_list)\n",
    "print(type(l2))\n",
    "print(l2)"
   ]
  },
  {
   "cell_type": "code",
   "execution_count": 6,
   "metadata": {},
   "outputs": [
    {
     "name": "stdout",
     "output_type": "stream",
     "text": [
      "<class 'list'>\n",
      "<class 'str'>\n"
     ]
    },
    {
     "data": {
      "text/plain": [
       "2"
      ]
     },
     "execution_count": 6,
     "metadata": {},
     "output_type": "execute_result"
    }
   ],
   "source": [
    "#count the occurence of a in a string\n",
    "sentence=[]\n",
    "print(type(sentence))\n",
    "sentence=\"How aare you\"\n",
    "sentence.casefold(sentence)\n",
    "sentence.count('a')\n",
    "print(type(sentence))\n",
    "#or\n",
    "\n",
    "sentence=\"How aare you\"\n",
    "sentence.count('a')\n"
   ]
  },
  {
   "cell_type": "code",
   "execution_count": 18,
   "metadata": {},
   "outputs": [
    {
     "name": "stdout",
     "output_type": "stream",
     "text": [
      "abc\n",
      "rmt\n"
     ]
    }
   ],
   "source": [
    "#count the elements which are of size 3\n",
    "l1=[]\n",
    "l1=['abc', 'xyzq', 'rmt']\n",
    "for x in l1:\n",
    "    if len(x)==3:\n",
    "        print(x)\n",
    "    "
   ]
  },
  {
   "cell_type": "code",
   "execution_count": 7,
   "metadata": {},
   "outputs": [
    {
     "name": "stdout",
     "output_type": "stream",
     "text": [
      "[1, 2, 3]\n",
      "[4, 1, 2, 5, 7, 6, 2, 3, 4, 3, 8, 9]\n"
     ]
    },
    {
     "data": {
      "text/plain": [
       "[4, 5, 6, 7, 8, 9]"
      ]
     },
     "execution_count": 7,
     "metadata": {},
     "output_type": "execute_result"
    }
   ],
   "source": [
    "#print the unique duplicate list without the small no\n",
    "smallnumber=[1,2,3]\n",
    "duplicates=[4,1,2,5,7,6,2,3,4,3,8,9]\n",
    "print(smallnumber)\n",
    "print(duplicates)\n",
    "list(set(duplicates)-set(smallnumber))"
   ]
  },
  {
   "cell_type": "code",
   "execution_count": 16,
   "metadata": {},
   "outputs": [
    {
     "name": "stdout",
     "output_type": "stream",
     "text": [
      "[('a', 1), ('b', 2), ('c', 3), ('z', 26), ('y', 25), ('x', 24), ('d', 4)]\n",
      "{'a': 1, 'b': 2, 'c': 3, 'z': 26, 'y': 25, 'x': 24, 'd': 4}\n"
     ]
    }
   ],
   "source": [
    "# Convert to a dictionary\n",
    "helloWorld=['a',1,'b',2,'c',3,'z',26, 'y', 25, 'x', 24, 'd', 4]\n",
    "helloWorldlist= list(zip(helloWorld[0::2], helloWorld[1::2]))\n",
    "helloWorldDictionary = dict(zip(helloWorld[0::2], helloWorld[1::2]))\n",
    "print(helloWorldlist)\n",
    "# Print out the result\n",
    "print(helloWorldDictionary)"
   ]
  },
  {
   "cell_type": "code",
   "execution_count": 3,
   "metadata": {},
   "outputs": [
    {
     "name": "stdout",
     "output_type": "stream",
     "text": [
      "{'xyz': 123, 'abc': 345}\n",
      "dict_keys(['xyz', 'abc'])\n",
      "dict_values([123, 345])\n",
      "xyz  123\n",
      "abc  345\n",
      "0 xyz 123\n",
      "1 abc 345\n",
      "True\n",
      "False\n"
     ]
    }
   ],
   "source": [
    "# Create a new dictionary \n",
    "d = dict() # or d = {}\n",
    " \n",
    "# Add a key - value pairs to dictionary\n",
    "d['xyz'] = 123\n",
    "d['abc'] = 345\n",
    " \n",
    "# print the whole dictionary\n",
    "print(d)\n",
    " \n",
    "# print only the keys\n",
    "print(d.keys())\n",
    " \n",
    "# print only values\n",
    "print(d.values())\n",
    " \n",
    "# iterate over dictionary \n",
    "for i in d :\n",
    "    print(\"%s  %d\" %(i, d[i]))\n",
    " \n",
    "# another method of iteration\n",
    "for index, value in enumerate(d):\n",
    "    print (index, value , d[value])\n",
    " \n",
    "# check if key exist\n",
    "print('xyz' in d)\n",
    " \n",
    "# delete the key-value pair\n",
    "del d['xyz']\n",
    " \n",
    "# check again \n",
    "print(\"xyz\" in d)"
   ]
  },
  {
   "cell_type": "code",
   "execution_count": 43,
   "metadata": {},
   "outputs": [
    {
     "name": "stdout",
     "output_type": "stream",
     "text": [
      "The constituents of dictionary as string are : \n",
      "{'Name': 'Nandini', 'Age': 19}\n",
      "The constituents of dictionary as list are : \n",
      "dict_items([('Name', 'Nandini'), ('Age', 19)])\n"
     ]
    }
   ],
   "source": [
    "# Python code to demonstrate working of\n",
    "# str() and items()\n",
    "\n",
    "# Initializing dictionary\n",
    "dic = { 'Name' : 'Nandini', 'Age' : 19 }\n",
    "\n",
    "# using str() to display dic as string\n",
    "print (\"The constituents of dictionary as string are : \")\n",
    "print (str(dic))\n",
    "\n",
    "# using str() to display dic as list\n",
    "print (\"The constituents of dictionary as list are : \")\n",
    "print (dic.items())"
   ]
  },
  {
   "cell_type": "code",
   "execution_count": 44,
   "metadata": {},
   "outputs": [
    {
     "name": "stdout",
     "output_type": "stream",
     "text": [
      "The size of dic is : 3\n",
      "The data type of dic is : <class 'dict'>\n",
      "The data type of li is : <class 'list'>\n"
     ]
    }
   ],
   "source": [
    "# Python code to demonstrate working of\n",
    "# len() and type()\n",
    "\n",
    "# Initializing dictionary\n",
    "dic = { 'Name' : 'Nandini', 'Age' : 19, 'ID' : 2541997 }\n",
    "\n",
    "# Initializing list\n",
    "li = [ 1, 3, 5, 6 ]\n",
    "\n",
    "# using len() to display dic size\n",
    "print (\"The size of dic is : \",end=\"\")\n",
    "print (len(dic))\n",
    "\n",
    "# using type() to display data type\n",
    "print (\"The data type of dic is : \",end=\"\")\n",
    "print (type(dic))\n",
    "\n",
    "# using type() to display data type\n",
    "print (\"The data type of li is : \",end=\"\")\n",
    "print (type(li))"
   ]
  },
  {
   "cell_type": "code",
   "execution_count": 21,
   "metadata": {},
   "outputs": [
    {
     "name": "stdout",
     "output_type": "stream",
     "text": [
      "The new copied dictionary is : \n",
      "dict_items([('Name', 'Nandini'), ('Age', 19)])\n",
      "The contents of deleted dictionary is : dict_items([])\n",
      "dict_items([('Name', 'Nandini'), ('Age', 19)])\n",
      "dict4 is now blank\n",
      "dict_items([])\n"
     ]
    }
   ],
   "source": [
    "# Python code to demonstrate working of\n",
    "# clear() and copy()\n",
    " \n",
    "# Initializing dictionary\n",
    "dic1 = { 'Name' : 'Nandini', 'Age' : 19 }\n",
    " \n",
    "# Initializing dictionary \n",
    "dic3 = {}\n",
    " \n",
    "# using copy() to make shallow copy of dictionary\n",
    "dic3 = dic1.copy()\n",
    "dic4={}\n",
    "dic4=dic1\n",
    "# printing new dictionary\n",
    "print (\"The new copied dictionary is : \")\n",
    "print (dic3.items())\n",
    " \n",
    "# clearing the dictionary\n",
    "dic1.clear()\n",
    " \n",
    "# printing cleared dictionary\n",
    "print (\"The contents of deleted dictionary is : \",end=\"\")\n",
    "print (dic1.items())\n",
    "print(dic3.items())\n",
    "print(\"dict4 is now blank\")\n",
    "print(dic4.items())"
   ]
  },
  {
   "cell_type": "code",
   "execution_count": 10,
   "metadata": {},
   "outputs": [
    {
     "name": "stdout",
     "output_type": "stream",
     "text": [
      "The updated dictionary is : \n",
      "{'Name': 'Nandini', 'Age': 19, 'ID': 2541997}\n",
      "The new dictionary values are : \n",
      "{'Name': 5, 'Age': 5, 'ID': 5}\n"
     ]
    }
   ],
   "source": [
    "# Python code to demonstrate working of\n",
    "# fromkeys() and update()\n",
    " \n",
    "# Initializing dictionary 1\n",
    "dic1 = { 'Name' : 'Nandini', 'Age' : 19 }\n",
    " \n",
    "# Initializing dictionary 2\n",
    "dic2 = { 'ID' : 2541997 }\n",
    " \n",
    "# Initializing sequence\n",
    "sequ = ('Name', 'Age', 'ID')\n",
    " \n",
    "# using update to add dic2 values in dic 1\n",
    "dic1.update(dic2)\n",
    " \n",
    "# printing updated dictionary values\n",
    "print (\"The updated dictionary is : \")\n",
    "print (str(dic1))\n",
    " \n",
    "# using fromkeys() to transform sequence into dictionary\n",
    "dict = dict.fromkeys(sequ,5)\n",
    " \n",
    "# printing new dictionary values\n",
    "print (\"The new dictionary values are : \")\n",
    "print (str(dict))"
   ]
  },
  {
   "cell_type": "code",
   "execution_count": 5,
   "metadata": {},
   "outputs": [
    {
     "name": "stdout",
     "output_type": "stream",
     "text": [
      "Name is a key\n",
      "The value associated with ID is : \n",
      "Not Present\n",
      "The dictionary values are : \n",
      "{'Name': 'Nandini', 'Age': 19}\n"
     ]
    }
   ],
   "source": [
    "# Python code to demonstrate working of\n",
    "# has_key() and get()\n",
    " \n",
    "# Initializing dictionary\n",
    "dict = { 'Name' : 'Nandini', 'Age' : 19 }\n",
    " \n",
    "# using has_key() to check if dic1 has a key\n",
    "if dict.get('Name'):\n",
    "       print (\"Name is a key\")\n",
    "else : print (\"Name is not a key\")\n",
    " \n",
    "# using get() to print a key value\n",
    "print (\"The value associated with ID is : \")\n",
    "print (dict.get('ID', \"Not Present\"))\n",
    " \n",
    "# printing dictionary values\n",
    "print (\"The dictionary values are : \")\n",
    "print (str(dict))\n"
   ]
  },
  {
   "cell_type": "code",
   "execution_count": 50,
   "metadata": {},
   "outputs": [
    {
     "name": "stdout",
     "output_type": "stream",
     "text": [
      "The value associated with Age is : No ID\n",
      "The dictionary values are : \n",
      "{'Name': 'Nandini', 'Age': 19, 'ID': 'No ID'}\n"
     ]
    }
   ],
   "source": [
    "#Python code to demonstrate working of\n",
    "# setdefault()\n",
    " \n",
    "# Initializing dictionary\n",
    "dict = { 'Name' : 'Nandini', 'Age' : 19 }\n",
    " \n",
    "# using setdefault() to print a key value\n",
    "print (\"The value associated with Age is : \",end=\"\")\n",
    "print (dict.setdefault('ID', \"No ID\"))\n",
    " \n",
    "# printing dictionary values\n",
    "print (\"The dictionary values are : \")\n",
    "print (str(dict))"
   ]
  },
  {
   "cell_type": "code",
   "execution_count": 49,
   "metadata": {},
   "outputs": [
    {
     "name": "stdout",
     "output_type": "stream",
     "text": [
      "1\n",
      "None\n",
      "Not Found ! \n"
     ]
    }
   ],
   "source": [
    "dic = {\"A\":1, \"B\":2}\n",
    "print(dic.get(\"A\"))\n",
    "print(dic.get(\"C\"))\n",
    "print(dic.get(\"C\",\"Not Found ! \"))"
   ]
  },
  {
   "cell_type": "code",
   "execution_count": 15,
   "metadata": {},
   "outputs": [
    {
     "name": "stdout",
     "output_type": "stream",
     "text": [
      "The value associated with 'c' is : \n"
     ]
    },
    {
     "ename": "TypeError",
     "evalue": "'dict' object is not callable",
     "output_type": "error",
     "traceback": [
      "\u001b[1;31m---------------------------------------------------------------------------\u001b[0m",
      "\u001b[1;31mTypeError\u001b[0m                                 Traceback (most recent call last)",
      "\u001b[1;32m<ipython-input-15-e3a177569ef2>\u001b[0m in \u001b[0;36m<module>\u001b[1;34m()\u001b[0m\n\u001b[0;32m      7\u001b[0m \u001b[1;31m# trying to output value of absent key\u001b[0m\u001b[1;33m\u001b[0m\u001b[1;33m\u001b[0m\u001b[0m\n\u001b[0;32m      8\u001b[0m \u001b[0mprint\u001b[0m \u001b[1;33m(\u001b[0m\u001b[1;34m\"The value associated with 'c' is : \"\u001b[0m\u001b[1;33m)\u001b[0m\u001b[1;33m\u001b[0m\u001b[0m\n\u001b[1;32m----> 9\u001b[1;33m \u001b[0mprint\u001b[0m \u001b[1;33m(\u001b[0m\u001b[0md\u001b[0m\u001b[1;33m(\u001b[0m\u001b[1;34m\"c\"\u001b[0m\u001b[1;33m)\u001b[0m\u001b[1;33m)\u001b[0m\u001b[1;33m\u001b[0m\u001b[0m\n\u001b[0m",
      "\u001b[1;31mTypeError\u001b[0m: 'dict' object is not callable"
     ]
    }
   ],
   "source": [
    "# Python code to demonstrate Dictionary and\n",
    "# missing value error\n",
    " \n",
    "# initializing Dictionary\n",
    "d = { 'a' : 1 , 'b' : 2 }\n",
    " \n",
    "# trying to output value of absent key \n",
    "print (\"The value associated with 'c' is : \")\n",
    "print (d(\"c\"))"
   ]
  },
  {
   "cell_type": "code",
   "execution_count": 52,
   "metadata": {},
   "outputs": [
    {
     "name": "stdout",
     "output_type": "stream",
     "text": [
      "The value associated with 'a' is : 1\n",
      "The value associated with 'c' is : Key Not found\n"
     ]
    }
   ],
   "source": [
    "# Python code to demonstrate defaultdict\n",
    " \n",
    "# importing \"collections\" for defaultdict\n",
    "import collections\n",
    " \n",
    "# declaring defaultdict\n",
    "# sets default value 'Key Not found' to absent keys\n",
    "defd = collections.defaultdict(lambda : 'Key Not found')\n",
    " \n",
    "# initializing values \n",
    "defd['a'] = 1\n",
    " \n",
    "# initializing values \n",
    "defd['b'] = 2\n",
    " \n",
    "# printing value \n",
    "print (\"The value associated with 'a' is : \",end=\"\")\n",
    "print (defd['a'])\n",
    " \n",
    "# printing value associated with 'c'\n",
    "print (\"The value associated with 'c' is : \",end=\"\")\n",
    "print (defd['c'])"
   ]
  },
  {
   "cell_type": "code",
   "execution_count": 18,
   "metadata": {},
   "outputs": [
    {
     "name": "stdout",
     "output_type": "stream",
     "text": [
      "OrderedDict([(12, None), (10, None), (9, None), (45, None), (2, None)])\n",
      "12, 10, 9, 45, 2\n"
     ]
    }
   ],
   "source": [
    "# Python program to print All Distinct\n",
    "# Elements of a given integer array\n",
    " \n",
    "from collections import OrderedDict\n",
    " \n",
    "def printDistinct(input):\n",
    "     # convert list into ordered dictionary\n",
    "     ordDict = OrderedDict.fromkeys(input)\n",
    "     print(ordDict)\n",
    " \n",
    "     # iterate through dictionary and get list of keys\n",
    "     # list of keys will be resultant distinct elements \n",
    "     # in array\n",
    "     result = [ key for (key, value) in ordDict.items() ]\n",
    " \n",
    "     # concatenate list of elements with ', ' and print\n",
    "     print (', '.join(map(str, result)))  \n",
    " \n",
    "# Driver program\n",
    "if __name__ == \"__main__\":\n",
    "    input = [12, 10, 9, 45, 2, 10, 10, 45]\n",
    "    printDistinct(input)"
   ]
  },
  {
   "cell_type": "code",
   "execution_count": 25,
   "metadata": {},
   "outputs": [
    {
     "name": "stdout",
     "output_type": "stream",
     "text": [
      "OrderedDict([(12, None), (10, None), (9, None), (45, None), (2, None)])\n",
      "[12, 10, 9, 45, 2]\n",
      "12, 10, 9, 45, 2\n"
     ]
    }
   ],
   "source": [
    "# Python program to print All Distinct\n",
    "# Elements of a given integer array\n",
    " \n",
    "from collections import OrderedDict\n",
    " \n",
    "def printDistinct(input):\n",
    "     # convert list into ordered dictionary\n",
    "     ordDict = OrderedDict.fromkeys(input)\n",
    "     print(ordDict)\n",
    " \n",
    "     # iterate through dictionary and get list of keys\n",
    "     # list of keys will be resultant distinct elements \n",
    "     # in array\n",
    "     result = [ key for (key, value) in ordDict.items() ]\n",
    " \n",
    "     print(result)\n",
    "     # concatenate list of elements with ', ' and print\n",
    "     print (', '.join(map(str, result)))  \n",
    " \n",
    "# Driver program\n",
    "def main():\n",
    "    input = [12, 10, 9, 45, 2, 10, 10, 45]\n",
    "    printDistinct(input)\n",
    "    \n",
    "main()"
   ]
  },
  {
   "cell_type": "code",
   "execution_count": 2,
   "metadata": {},
   "outputs": [
    {
     "name": "stdout",
     "output_type": "stream",
     "text": [
      "None\n",
      "{'d': 6, 'c': 4, 'a': 10, 'b': 8}\n"
     ]
    }
   ],
   "source": [
    "# Python code to merge dict using update() method\n",
    "def Merge(dict1, dict2):\n",
    "    return(dict2.update(dict1))\n",
    "     \n",
    "# Driver code\n",
    "dict1 = {'a': 10, 'b': 8}\n",
    "dict2 = {'d': 6, 'c': 4}\n",
    " \n",
    "# This return None\n",
    "print(Merge(dict1, dict2))\n",
    " \n",
    "# changes made in dict2\n",
    "print(dict2)"
   ]
  },
  {
   "cell_type": "code",
   "execution_count": 55,
   "metadata": {},
   "outputs": [
    {
     "name": "stdout",
     "output_type": "stream",
     "text": [
      "{'a': 10, 'b': 8, 'd': 6, 'c': 4}\n"
     ]
    }
   ],
   "source": [
    "# Python code to merge dict using a single \n",
    "# expression\n",
    "def Merge(dict1, dict2):\n",
    "    res = {**dict1, **dict2}\n",
    "    return res\n",
    "     \n",
    "# Driver code\n",
    "dict1 = {'a': 10, 'b': 8}\n",
    "dict2 = {'d': 6, 'c': 4}\n",
    "dict3 = Merge(dict1, dict2)\n",
    "print(dict3)"
   ]
  },
  {
   "cell_type": "code",
   "execution_count": 26,
   "metadata": {},
   "outputs": [
    {
     "ename": "SyntaxError",
     "evalue": "invalid syntax (<ipython-input-26-61cd8324fd14>, line 1)",
     "output_type": "error",
     "traceback": [
      "\u001b[1;36m  File \u001b[1;32m\"<ipython-input-26-61cd8324fd14>\"\u001b[1;36m, line \u001b[1;32m1\u001b[0m\n\u001b[1;33m    Find frequency of each word in a string in Python\u001b[0m\n\u001b[1;37m                 ^\u001b[0m\n\u001b[1;31mSyntaxError\u001b[0m\u001b[1;31m:\u001b[0m invalid syntax\n"
     ]
    }
   ],
   "source": [
    "Find frequency of each word in a string in Python\n",
    "Input :  str[] = \"Apple Mango Orange Mango Guava Guava Mango\" \n",
    "Output : frequency of Apple is : 1\n",
    "         frequency of Mango is : 3\n",
    "         frequency of Orange is : 1\n",
    "         frequency of Guava is : 2\n",
    "\n",
    "Input :  str = \"Train Bus Bus Train Taxi Aeroplane Taxi Bus\"\n",
    "Output : frequency of Train is : 2\n",
    "         frequency of Bus is : 3\n",
    "         frequency of Taxi is : 2\n",
    "         frequency of Aeroplane is : 1"
   ]
  },
  {
   "cell_type": "code",
   "execution_count": 9,
   "metadata": {},
   "outputs": [
    {
     "name": "stdout",
     "output_type": "stream",
     "text": [
      "Frequency of apple is : 3\n",
      "Frequency of mango is : 3\n",
      "Frequency of orange is : 2\n",
      "Frequency of guava is : 1\n"
     ]
    }
   ],
   "source": [
    "#Note:\n",
    "#string_name.split(separator) method is used to split the string \n",
    "#by specified separator(delimiter) into the list.\n",
    "#If delimiter is not provided then white space is a separator. \n",
    "\n",
    "#For example:\n",
    "str='This is my book'\n",
    "str.split()\n",
    "#OUTPUT : ['This', 'is', 'my', 'book']\n",
    "    # Python code to find frequency of each word\n",
    "def freq(str):\n",
    " \n",
    "    # break the string into list of words \n",
    "    str = str.split()         \n",
    "    str2 = []\n",
    " \n",
    "    # loop till string values present in list str\n",
    "    for i in str:             \n",
    " \n",
    "        # checking for the duplicacy\n",
    "        if i not in str2:\n",
    " \n",
    "            # insert value in str2\n",
    "            str2.append(i) \n",
    "             \n",
    "    for i in range(0, len(str2)):\n",
    " \n",
    "        # count the frequency of each word(present \n",
    "        # in str2) in str and print\n",
    "        print( 'Frequency of', str2[i], 'is :', str.count(str2[i]))    \n",
    " \n",
    "def main():\n",
    "    str ='apple mango apple orange orange apple guava mango mango'\n",
    "    freq(str)                    \n",
    " \n",
    "if __name__==\"__main__\":\n",
    "    main()             # call main function"
   ]
  },
  {
   "cell_type": "code",
   "execution_count": 23,
   "metadata": {},
   "outputs": [
    {
     "name": "stdout",
     "output_type": "stream",
     "text": [
      "a\n"
     ]
    }
   ],
   "source": [
    "# Function to find winner of an election where votes\n",
    "# are represented as candidate names\n",
    "from collections import Counter\n",
    " \n",
    "def winner(input):\n",
    " \n",
    "     # convert list of candidates into dictionary\n",
    "     # output will be likes candidates = {'A':2, 'B':4}\n",
    "     votes = Counter(input)\n",
    "      \n",
    "     # create another dictionary and it's key will\n",
    "     # be count of votes values will be name of \n",
    "     # candidates\n",
    "     dict = {}\n",
    " \n",
    "     for value in votes.values():\n",
    " \n",
    "          # initialize empty list to each key to \n",
    "          # insert candidate names having same \n",
    "          # number of votes \n",
    "          dict[value] = []\n",
    " \n",
    "     for (key,value) in votes.items():\n",
    "          dict[value].append(key)\n",
    " \n",
    "     # sort keys in descending order to get maximum \n",
    "     # value of votes\n",
    "     maxVote = sorted(dict.keys(),reverse=True)[0]\n",
    " \n",
    "     # check if more than 1 candidates have same \n",
    "     # number of votes. If yes, then sort the list\n",
    "     # first and print first element\n",
    "     if len(dict[maxVote])>1:\n",
    "         print (sorted(dict[maxVote])[0])\n",
    "     else:\n",
    "         print (dict[maxVote][0])\n",
    " \n",
    "# Driver program\n",
    "if __name__ == \"__main__\":\n",
    "    input =['john','johnny','jackie','johnny','john','jackie','jamie','jamie','john','johnny','jamie','johnny','john']\n",
    "    winner(input)\n"
   ]
  },
  {
   "cell_type": "code",
   "execution_count": 24,
   "metadata": {},
   "outputs": [
    {
     "ename": "AttributeError",
     "evalue": "'collections.OrderedDict' object has no attribute 'iteritems'",
     "output_type": "error",
     "traceback": [
      "\u001b[1;31m---------------------------------------------------------------------------\u001b[0m",
      "\u001b[1;31mAttributeError\u001b[0m                            Traceback (most recent call last)",
      "\u001b[1;32m<ipython-input-24-3e5782d05c94>\u001b[0m in \u001b[0;36m<module>\u001b[1;34m()\u001b[0m\n\u001b[0;32m     30\u001b[0m     \u001b[0minput\u001b[0m \u001b[1;33m=\u001b[0m \u001b[1;34m'engineers rock'\u001b[0m\u001b[1;33m\u001b[0m\u001b[0m\n\u001b[0;32m     31\u001b[0m     \u001b[0mpattern\u001b[0m \u001b[1;33m=\u001b[0m \u001b[1;34m'egr'\u001b[0m\u001b[1;33m\u001b[0m\u001b[0m\n\u001b[1;32m---> 32\u001b[1;33m     \u001b[0mprint\u001b[0m\u001b[1;33m(\u001b[0m \u001b[0mcheckOrder\u001b[0m\u001b[1;33m(\u001b[0m\u001b[0minput\u001b[0m\u001b[1;33m,\u001b[0m\u001b[0mpattern\u001b[0m\u001b[1;33m)\u001b[0m\u001b[1;33m)\u001b[0m\u001b[1;33m\u001b[0m\u001b[0m\n\u001b[0m",
      "\u001b[1;32m<ipython-input-24-3e5782d05c94>\u001b[0m in \u001b[0;36mcheckOrder\u001b[1;34m(input, pattern)\u001b[0m\n\u001b[0;32m     13\u001b[0m     \u001b[1;31m# are same or not\u001b[0m\u001b[1;33m\u001b[0m\u001b[1;33m\u001b[0m\u001b[0m\n\u001b[0;32m     14\u001b[0m     \u001b[0mptrlen\u001b[0m \u001b[1;33m=\u001b[0m \u001b[1;36m0\u001b[0m\u001b[1;33m\u001b[0m\u001b[0m\n\u001b[1;32m---> 15\u001b[1;33m     \u001b[1;32mfor\u001b[0m \u001b[0mkey\u001b[0m\u001b[1;33m,\u001b[0m\u001b[0mvalue\u001b[0m \u001b[1;32min\u001b[0m \u001b[0mdict\u001b[0m\u001b[1;33m.\u001b[0m\u001b[0miteritems\u001b[0m\u001b[1;33m(\u001b[0m\u001b[1;33m)\u001b[0m\u001b[1;33m:\u001b[0m\u001b[1;33m\u001b[0m\u001b[0m\n\u001b[0m\u001b[0;32m     16\u001b[0m         \u001b[1;32mif\u001b[0m \u001b[1;33m(\u001b[0m\u001b[0mkey\u001b[0m \u001b[1;33m==\u001b[0m \u001b[0mpattern\u001b[0m\u001b[1;33m[\u001b[0m\u001b[0mptrlen\u001b[0m\u001b[1;33m]\u001b[0m\u001b[1;33m)\u001b[0m\u001b[1;33m:\u001b[0m\u001b[1;33m\u001b[0m\u001b[0m\n\u001b[0;32m     17\u001b[0m             \u001b[0mptrlen\u001b[0m \u001b[1;33m=\u001b[0m \u001b[0mptrlen\u001b[0m \u001b[1;33m+\u001b[0m \u001b[1;36m1\u001b[0m\u001b[1;33m\u001b[0m\u001b[0m\n",
      "\u001b[1;31mAttributeError\u001b[0m: 'collections.OrderedDict' object has no attribute 'iteritems'"
     ]
    }
   ],
   "source": [
    "# Function to check if string follows order of \n",
    "# characters defined by a pattern\n",
    "from collections import OrderedDict\n",
    " \n",
    "def checkOrder(input, pattern):\n",
    "     \n",
    "    # create empty OrderedDict\n",
    "    # output will be like {'a': None,'b': None, 'c': None}\n",
    "    dict = OrderedDict.fromkeys(input)\n",
    " \n",
    "    # traverse generated OrderedDict parallel with\n",
    "    # pattern string to check if order of characters \n",
    "    # are same or not\n",
    "    ptrlen = 0\n",
    "    for key,value in dict.iteritems():\n",
    "        if (key == pattern[ptrlen]):\n",
    "            ptrlen = ptrlen + 1\n",
    "         \n",
    "        # check if we have traverse complete \n",
    "        # pattern string\n",
    "        if (ptrlen == (len(pattern))):\n",
    "            return 'true'\n",
    " \n",
    "    # if we come out from for loop that means \n",
    "    # order was mismatched\n",
    "    return 'false'\n",
    "  \n",
    "# Driver program\n",
    "if __name__ == \"__main__\":\n",
    "    input = 'engineers rock'\n",
    "    pattern = 'egr'\n",
    "    print( checkOrder(input,pattern))\n"
   ]
  },
  {
   "cell_type": "code",
   "execution_count": 25,
   "metadata": {},
   "outputs": [
    {
     "name": "stdout",
     "output_type": "stream",
     "text": [
      "cat tac act dog god \n"
     ]
    }
   ],
   "source": [
    "# Function to return all anagrams together\n",
    "def allAnagram(input):\n",
    "     \n",
    "    # empty dictionary which holds subsets \n",
    "    # of all anagrams together\n",
    "    dict = {}\n",
    " \n",
    "    # traverse list of strings\n",
    "    for strVal in input:\n",
    "         \n",
    "        # sorted(iterable) method accepts any \n",
    "        # iterable and rerturns list of items\n",
    "        # in ascending order\n",
    "        key = ''.join(sorted(strVal))\n",
    "         \n",
    "        # now check if key exist in dictionary\n",
    "        # or not. If yes then simply append the  \n",
    "        # strVal into the list of it's corresponding \n",
    "        # key. If not then map empty list onto\n",
    "        # key and then start appending values\n",
    "        if key in dict.keys():\n",
    "            dict[key].append(strVal)\n",
    "        else:\n",
    "            dict[key] = []\n",
    "            dict[key].append(strVal)\n",
    " \n",
    "     # traverse dictionary and concatenate values \n",
    "     # of keys together\n",
    "    output = \"\"\n",
    "    for key,value in dict.items():\n",
    "         output = output + ' '.join(value) + ' '\n",
    " \n",
    "    return output\n",
    " \n",
    "# Driver function\n",
    "if __name__ == \"__main__\":\n",
    "    input=['cat', 'dog', 'tac', 'god', 'act']\n",
    "    print( allAnagram(input))"
   ]
  },
  {
   "cell_type": "code",
   "execution_count": 75,
   "metadata": {},
   "outputs": [
    {
     "name": "stdout",
     "output_type": "stream",
     "text": [
      "All the ChainMap contents are : \n",
      "[{'a': 1, 'b': 2}, {'b': 3, 'c': 4}]\n",
      "All keys of ChainMap are : \n",
      "['a', 'c', 'b']\n",
      "All values of ChainMap are : \n",
      "[1, 4, 2]\n"
     ]
    }
   ],
   "source": [
    "#Please select Python 3 for running this code in IDE\n",
    "# Python code to demonstrate ChainMap and\n",
    "# keys(), values() and maps\n",
    " \n",
    "# importing collections for ChainMap operations\n",
    "import collections\n",
    " \n",
    "# initializing dictionaries\n",
    "dic1 = { 'a' : 1, 'b' : 2 }\n",
    "dic2 = { 'b' : 3, 'c' : 4 }\n",
    " \n",
    "# initializing ChainMap\n",
    "chain = collections.ChainMap(dic1, dic2)\n",
    " \n",
    "# printing chainMap using maps\n",
    "print (\"All the ChainMap contents are : \")\n",
    "print (chain.maps)\n",
    " \n",
    "# printing keys using keys()\n",
    "print (\"All keys of ChainMap are : \")\n",
    "print (list(chain.keys()))\n",
    " \n",
    "# printing keys using keys()\n",
    "print (\"All values of ChainMap are : \")\n",
    "print (list(chain.values()))"
   ]
  },
  {
   "cell_type": "code",
   "execution_count": 6,
   "metadata": {},
   "outputs": [
    {
     "name": "stdout",
     "output_type": "stream",
     "text": [
      "All the ChainMap contents are : \n",
      "[{'a': 1, 'b': 2}, {'b': 3, 'c': 4}]\n",
      "Displaying new ChainMap : \n",
      "[{'f': 5}, {'a': 1, 'b': 2}, {'b': 3, 'c': 4}]\n",
      "Value associated with b before reversing is : 2\n",
      "Value associated with b after reversing is : 3\n"
     ]
    }
   ],
   "source": [
    "#Please select Python 3 for running this code in IDE\n",
    "# Python code to demonstrate ChainMap and\n",
    "# reversed() and new_child()\n",
    " \n",
    "# importing collections for ChainMap operations\n",
    "import collections\n",
    " \n",
    "# initializing dictionaries\n",
    "dic1 = { 'a' : 1, 'b' : 2 }\n",
    "dic2 = { 'b' : 3, 'c' : 4 }\n",
    "dic3 = { 'f' : 5 }\n",
    " \n",
    "# initializing ChainMap\n",
    "chain = collections.ChainMap(dic1, dic2)\n",
    " \n",
    "# printing chainMap using map\n",
    "print (\"All the ChainMap contents are : \")\n",
    "print (chain.maps)\n",
    " \n",
    "# using new_child() to add new dictionary\n",
    "chain1 = chain.new_child(dic3)\n",
    " \n",
    "# printing chainMap using map\n",
    "print (\"Displaying new ChainMap : \")\n",
    "print (chain1.maps)\n",
    " \n",
    "# displaying value associated with b before reversing\n",
    "print (\"Value associated with b before reversing is : \",end=\"\")\n",
    "print (chain1['b'])\n",
    " \n",
    "# reversing the ChainMap\n",
    "chain1.maps = reversed(chain1.maps)\n",
    " \n",
    "# displaying value associated with b after reversing\n",
    "print (\"Value associated with b after reversing is : \",end=\"\")\n",
    "print (chain1['b'])\n"
   ]
  },
  {
   "cell_type": "code",
   "execution_count": 79,
   "metadata": {},
   "outputs": [],
   "source": [
    "# GraphicsManager\n",
    "\n",
    "def draw_sprite(self, name, x, y, rot):\n",
    "    \"\"\"Blits a rotated sprite onto DISPLAY_SURF with a\n",
    "    negative offset equal to half the height and\n",
    "    length of the sprite.\n",
    "    \"\"\"\n",
    "\n",
    "    rotated_sprite = pygame.transform.rotate(self.content.SPRITES[name], 360-math.degrees(rot))\n",
    "    rect = rotated_sprite.get_rect()\n",
    "    rect.center = (x, y)\n",
    "    self.DISPLAY_SURF.blit(rotated_sprite, rect)"
   ]
  },
  {
   "cell_type": "code",
   "execution_count": 10,
   "metadata": {},
   "outputs": [
    {
     "name": "stdout",
     "output_type": "stream",
     "text": [
      "6\n"
     ]
    }
   ],
   "source": [
    "a=\"banana\"\n",
    "print(len(a))"
   ]
  },
  {
   "cell_type": "code",
   "execution_count": 20,
   "metadata": {},
   "outputs": [
    {
     "name": "stdout",
     "output_type": "stream",
     "text": [
      "hello\n"
     ]
    }
   ],
   "source": [
    "mystr=\"HELlo\"\n",
    "mystr=mystr.casefold()\n",
    "print(mystr)"
   ]
  },
  {
   "cell_type": "code",
   "execution_count": 1,
   "metadata": {},
   "outputs": [],
   "source": []
  },
  {
   "cell_type": "code",
   "execution_count": null,
   "metadata": {},
   "outputs": [],
   "source": []
  },
  {
   "cell_type": "code",
   "execution_count": 2,
   "metadata": {},
   "outputs": [
    {
     "name": "stdout",
     "output_type": "stream",
     "text": [
      "10\n"
     ]
    }
   ],
   "source": []
  },
  {
   "cell_type": "code",
   "execution_count": null,
   "metadata": {},
   "outputs": [],
   "source": []
  }
 ],
 "metadata": {
  "kernelspec": {
   "display_name": "Python 3",
   "language": "python",
   "name": "python3"
  },
  "language_info": {
   "codemirror_mode": {
    "name": "ipython",
    "version": 3
   },
   "file_extension": ".py",
   "mimetype": "text/x-python",
   "name": "python",
   "nbconvert_exporter": "python",
   "pygments_lexer": "ipython3",
   "version": "3.6.4"
  }
 },
 "nbformat": 4,
 "nbformat_minor": 2
}
