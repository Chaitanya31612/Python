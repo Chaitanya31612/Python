{
 "cells": [
  {
   "cell_type": "code",
   "execution_count": 1,
   "metadata": {},
   "outputs": [
    {
     "name": "stdout",
     "output_type": "stream",
     "text": [
      "out\n",
      "hello world\n"
     ]
    }
   ],
   "source": [
    "def main():\n",
    "    print(\"hello world\")\n",
    "print(\"out\")\n",
    "\n",
    "main()"
   ]
  },
  {
   "cell_type": "code",
   "execution_count": 6,
   "metadata": {},
   "outputs": [
    {
     "name": "stdout",
     "output_type": "stream",
     "text": [
      "Enter value -1 for quit3\n",
      "Enter value -1 for quit5\n",
      "Enter value -1 for quit-1\n",
      "[3, 5]\n"
     ]
    }
   ],
   "source": [
    "#To Build a list\n",
    "def make_list(): \n",
    "    result=[] \n",
    "    in_val=0 \n",
    "    while in_val >= 0: \n",
    "        in_val=int(input(\"Enter value -1 for quit\")) \n",
    "        if in_val >=0: \n",
    "            result+=[in_val] \n",
    "        # add item to the list\n",
    "    return result\n",
    "\n",
    "def m():\n",
    "    lst=make_list()\n",
    "    print(lst)\n",
    "m()"
   ]
  },
  {
   "cell_type": "markdown",
   "metadata": {},
   "source": [
    "-1\n",
    "3\n",
    "#### To Build a list\n",
    "def make_list():\n",
    "    result=[]\n",
    "    in_val=0\n",
    "    while in_val >= 0:\n",
    "        in_val=int(input(\"Enter value -1 for quit\"))\n",
    "        if in_val >=0:\n",
    "            result+=[in_val]   \n",
    "            # add item to the list\n",
    "    return result\n",
    "\n",
    "def m():\n",
    "    lst=make_list()\n",
    "    print(lst)\n",
    "    \n",
    "m()"
   ]
  },
  {
   "cell_type": "code",
   "execution_count": 3,
   "metadata": {},
   "outputs": [
    {
     "name": "stdout",
     "output_type": "stream",
     "text": [
      "Enter a, b: 3,4\n"
     ]
    }
   ],
   "source": [
    "#One can assign elements at indices 1 and 4 from user input\n",
    "   #using tuple assignment\n",
    "nums=[0,0,0,0,0,0,0,0]  \n",
    "nums[1], nums[4] = eval(input(\"Enter a, b: \"))\n",
    "#print(nums[1])\n"
   ]
  },
  {
   "cell_type": "markdown",
   "metadata": {},
   "source": [
    "### \n"
   ]
  },
  {
   "cell_type": "code",
   "execution_count": 4,
   "metadata": {},
   "outputs": [
    {
     "name": "stdout",
     "output_type": "stream",
     "text": [
      "[0, 3, 0, 0, 4, 0, 0, 0]\n"
     ]
    }
   ],
   "source": [
    "print(nums)\n"
   ]
  },
  {
   "cell_type": "code",
   "execution_count": null,
   "metadata": {},
   "outputs": [],
   "source": []
  },
  {
   "cell_type": "code",
   "execution_count": 12,
   "metadata": {},
   "outputs": [
    {
     "name": "stdout",
     "output_type": "stream",
     "text": [
      "['9pti', '2plv', '1crn']\n",
      "['9pti', '2plv', '1crn', '1alm']\n",
      "----\n",
      "['2plv', '1crn', '1alm', '1', '2', '3']\n",
      "['2plv', '1crn', '1alm', '1', '2', '3']\n"
     ]
    }
   ],
   "source": [
    "#lists are mutable\n",
    "ids = [\"9pti\", \"2plv\", \"1crn\"]\n",
    "print(ids)\n",
    "ids.append(\"1alm\")\n",
    "print(ids)\n",
    "print(\"----\")\n",
    "\n",
    "L=['1','2','3']\n",
    "ids.extend(L)      # same as a[len(a):] = L.\n",
    "\n",
    "del ids[0]\n",
    "print(ids)\n",
    "\n",
    "\n",
    "print(ids)"
   ]
  },
  {
   "cell_type": "code",
   "execution_count": 6,
   "metadata": {},
   "outputs": [
    {
     "name": "stdout",
     "output_type": "stream",
     "text": [
      "[3, 4, 1, 6, 8, 2]\n",
      "[1, 2, 3, 4, 6, 8]\n",
      "[8, 6, 4, 3, 2, 1]\n",
      "<zip object at 0x000001D6F3DB6D08>\n"
     ]
    }
   ],
   "source": [
    "#sorting a list\n",
    "l1=[3,4,1,6,8,2]\n",
    "print(l1)\n",
    "l1.sort()\n",
    "print(l1)\n",
    "\n",
    "\n",
    "#reversing a list\n",
    "l1.reverse()\n",
    "print(l1)\n",
    "\n",
    "names=['ben', 'chen', 'yaqin']\n",
    "\n",
    "gender = [0, 0, 1]\n",
    "\n",
    "print(zip(names, gender))\n",
    "\n"
   ]
  },
  {
   "cell_type": "code",
   "execution_count": 14,
   "metadata": {},
   "outputs": [
    {
     "name": "stdout",
     "output_type": "stream",
     "text": [
      "The zipped result is : {('Astha', 2, 70), ('Nikhil', 1, 50), ('Shambhavi', 3, 60), ('Manjeet', 4, 40)}\n"
     ]
    }
   ],
   "source": [
    "#zipped method\n",
    "#initializing lists\n",
    "name = [ \"Manjeet\", \"Nikhil\", \"Shambhavi\", \"Astha\" ]\n",
    "roll_no = [ 4, 1, 3, 2 ]\n",
    "marks = [ 40, 50, 60, 70 ]\n",
    "# using zip() to map values\n",
    "mapped = zip(name, roll_no, marks)\n",
    "# converting values to print as set\n",
    "mapped = set(mapped)\n",
    "# printing resultant values \n",
    "print (\"The zipped result is : \",end=\"\")\n",
    "print (mapped)\n"
   ]
  },
  {
   "cell_type": "code",
   "execution_count": null,
   "metadata": {},
   "outputs": [],
   "source": []
  }
 ],
 "metadata": {
  "kernelspec": {
   "display_name": "Python 3",
   "language": "python",
   "name": "python3"
  },
  "language_info": {
   "codemirror_mode": {
    "name": "ipython",
    "version": 3
   },
   "file_extension": ".py",
   "mimetype": "text/x-python",
   "name": "python",
   "nbconvert_exporter": "python",
   "pygments_lexer": "ipython3",
   "version": "3.6.4"
  }
 },
 "nbformat": 4,
 "nbformat_minor": 2
}
