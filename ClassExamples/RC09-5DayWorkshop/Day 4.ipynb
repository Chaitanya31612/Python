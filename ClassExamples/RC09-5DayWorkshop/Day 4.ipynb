{
 "cells": [
  {
   "cell_type": "code",
   "execution_count": 4,
   "metadata": {},
   "outputs": [
    {
     "name": "stdout",
     "output_type": "stream",
     "text": [
      "enter no123456\n",
      "sum of digits 123456 = 21\n",
      "sum of digits 21 = 3\n"
     ]
    }
   ],
   "source": [
    "#sum og digits using functions \n",
    "def sum(n):\n",
    "    temp=n\n",
    "    sum=0\n",
    "    while n!=0:\n",
    "        r=n%10\n",
    "        sum=sum+r\n",
    "        n=n//10\n",
    "    print(\"sum of digits\",temp,\"=\",sum)\n",
    "    return sum\n",
    "\n",
    "def main():\n",
    "    n=int(input(\"enter no\"))\n",
    "    while n>=10:\n",
    "        n=sum(n)\n",
    "main()"
   ]
  },
  {
   "cell_type": "code",
   "execution_count": 4,
   "metadata": {},
   "outputs": [
    {
     "name": "stdout",
     "output_type": "stream",
     "text": [
      "HELLO\n",
      "how\n",
      "hello how\n"
     ]
    }
   ],
   "source": [
    "print(\"HELLO\")\n",
    "print(\"how\")\n",
    "\n",
    "print(\"hello\",end=\" \")\n",
    "print(\"how\")"
   ]
  },
  {
   "cell_type": "code",
   "execution_count": 5,
   "metadata": {},
   "outputs": [
    {
     "name": "stdout",
     "output_type": "stream",
     "text": [
      "HELLO\n"
     ]
    }
   ],
   "source": [
    "str1=\"hello\"\n",
    "k=str1.t\n",
    "print(k)"
   ]
  },
  {
   "cell_type": "code",
   "execution_count": 5,
   "metadata": {},
   "outputs": [
    {
     "name": "stdout",
     "output_type": "stream",
     "text": [
      "ana\n"
     ]
    }
   ],
   "source": [
    "#string slicing [n:m]\n",
    "fruit='banana'\n",
    "n=fruit[3:6]\n",
    "print(n)"
   ]
  },
  {
   "cell_type": "code",
   "execution_count": 6,
   "metadata": {},
   "outputs": [
    {
     "name": "stdout",
     "output_type": "stream",
     "text": [
      "3\n"
     ]
    }
   ],
   "source": [
    "#frequency of letter a in word\n",
    "word='banana'\n",
    "count=0\n",
    "for letter in word:\n",
    "    if letter =='a':\n",
    "        count=count+1\n",
    "print(count)"
   ]
  },
  {
   "cell_type": "code",
   "execution_count": 8,
   "metadata": {},
   "outputs": [
    {
     "name": "stdout",
     "output_type": "stream",
     "text": [
      "3\n"
     ]
    }
   ],
   "source": [
    "#calculate no of vowels in a string\n",
    "word='lipakshi'\n",
    "count=0\n",
    "for letter in word:\n",
    "    if letter=='a'or letter=='e' or letter=='i' or letter=='o' or letter=='u':\n",
    "        count=count+1\n",
    "print(count)"
   ]
  },
  {
   "cell_type": "code",
   "execution_count": 9,
   "metadata": {},
   "outputs": [
    {
     "name": "stdout",
     "output_type": "stream",
     "text": [
      "LIPAKSHI\n"
     ]
    }
   ],
   "source": [
    "#convert in upper case\n",
    "word='lipakshi'\n",
    "n=word.upper()\n",
    "print(n)"
   ]
  },
  {
   "cell_type": "raw",
   "metadata": {},
   "source": []
  },
  {
   "cell_type": "code",
   "execution_count": 10,
   "metadata": {},
   "outputs": [
    {
     "name": "stdout",
     "output_type": "stream",
     "text": [
      "lipakshi\n"
     ]
    }
   ],
   "source": [
    "#convert in lower case\n",
    "word='LIPAKSHI'\n",
    "n=word.lower()\n",
    "print(n)"
   ]
  },
  {
   "cell_type": "code",
   "execution_count": 11,
   "metadata": {},
   "outputs": [
    {
     "name": "stdout",
     "output_type": "stream",
     "text": [
      "8\n"
     ]
    }
   ],
   "source": [
    "#check length of string\n",
    "word='lipakshi'\n",
    "n=len(word)\n",
    "print(n)"
   ]
  },
  {
   "cell_type": "code",
   "execution_count": 12,
   "metadata": {},
   "outputs": [
    {
     "name": "stdout",
     "output_type": "stream",
     "text": [
      "3\n"
     ]
    }
   ],
   "source": [
    "#enter a string nd find particular word\n",
    "word='computer'\n",
    "n=word.find('put')\n",
    "print(n)"
   ]
  },
  {
   "cell_type": "code",
   "execution_count": 15,
   "metadata": {},
   "outputs": [
    {
     "name": "stdout",
     "output_type": "stream",
     "text": [
      "YES\n"
     ]
    }
   ],
   "source": [
    "#checking for pallindrome in string\n",
    "str='madam'\n",
    "revstr=reversed(str)\n",
    "if list(str)==list(revstr):\n",
    "    print(\"YES\")\n",
    "else:\n",
    "    print(\"NO\")"
   ]
  },
  {
   "cell_type": "code",
   "execution_count": 17,
   "metadata": {},
   "outputs": [
    {
     "name": "stdout",
     "output_type": "stream",
     "text": [
      "ENTER MARKS OF ENGLISH67\n",
      "ENTER MARKS OF SCIENCE78\n",
      "ENTER MARKS OF MATHS89\n",
      "total marks are  234\n",
      "grade is C\n",
      "percentage is  78.0\n"
     ]
    }
   ],
   "source": [
    "#calculate percentage sum and grade using functions\n",
    "def sum(me,ms,mm):\n",
    "    return me+ms+mm\n",
    "def grade(total):\n",
    "    p=total/3\n",
    "    if p>=240:\n",
    "        print(\"grade is A\")\n",
    "    elif p>=180:\n",
    "        print(\"grade is B\")\n",
    "    elif p>=50:\n",
    "        print(\"grade is C\")\n",
    "    else :\n",
    "        print(\"Fail\")\n",
    "    return p\n",
    "def main():\n",
    "    me=int(input(\"ENTER MARKS OF ENGLISH\"))\n",
    "    ms=int(input(\"ENTER MARKS OF SCIENCE\"))\n",
    "    mm=int(input(\"ENTER MARKS OF MATHS\"))\n",
    "    total=sum(me,ms,mm)\n",
    "    print(\"total marks are \",total)\n",
    "    p=grade(total)\n",
    "    print(\"percentage is \",p)\n",
    "main()\n"
   ]
  },
  {
   "cell_type": "code",
   "execution_count": null,
   "metadata": {},
   "outputs": [],
   "source": []
  }
 ],
 "metadata": {
  "kernelspec": {
   "display_name": "Python 3",
   "language": "python",
   "name": "python3"
  },
  "language_info": {
   "codemirror_mode": {
    "name": "ipython",
    "version": 3
   },
   "file_extension": ".py",
   "mimetype": "text/x-python",
   "name": "python",
   "nbconvert_exporter": "python",
   "pygments_lexer": "ipython3",
   "version": "3.6.4"
  }
 },
 "nbformat": 4,
 "nbformat_minor": 2
}
