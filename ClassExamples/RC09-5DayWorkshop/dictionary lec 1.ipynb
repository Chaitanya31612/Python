{
 "cells": [
  {
   "cell_type": "code",
   "execution_count": 2,
   "metadata": {},
   "outputs": [
    {
     "name": "stdout",
     "output_type": "stream",
     "text": [
      "\n",
      "There are 4 contacts in the 5 address6-book\n",
      "\n"
     ]
    }
   ],
   "source": [
    "ab=[2,3,4,5]\n",
    "print('\\nThere are {} contacts in the {} address{}-book\\n'.format(len(ab),5,6))\n"
   ]
  },
  {
   "cell_type": "code",
   "execution_count": 15,
   "metadata": {},
   "outputs": [
    {
     "name": "stdout",
     "output_type": "stream",
     "text": [
      "{'fname': 'Sonia', 'lname': 'Suri', 'age': 52, 'children': ['anu', 'renu', 'anil'], 'pets': {'dog': 'dubo', 'cat': 'cutie'}, 'friends': {'close': ['a', 'b', 'c', 'd'], 'not close': ['x', 'y']}}\n"
     ]
    }
   ],
   "source": [
    "person={}\n",
    "person['fname']='Sonia'\n",
    "person['lname']='Suri'\n",
    "person['age']=52\n",
    "person['children']=['anu','renu','anil']\n",
    "person['pets']={'dog': 'dubo','cat' : 'cutie'}\n",
    "person['friends']={'close':['a','b','c','d'], 'not close':['x','y']}\n",
    "print(person)\n"
   ]
  },
  {
   "cell_type": "code",
   "execution_count": 9,
   "metadata": {},
   "outputs": [
    {
     "name": "stdout",
     "output_type": "stream",
     "text": [
      "Suri\n"
     ]
    }
   ],
   "source": [
    "a=person['lname']\n",
    "print(a)"
   ]
  },
  {
   "cell_type": "code",
   "execution_count": 20,
   "metadata": {},
   "outputs": [
    {
     "name": "stdout",
     "output_type": "stream",
     "text": [
      "renu\n",
      "anu\n"
     ]
    }
   ],
   "source": [
    "print(person['children'][-2])\n",
    "print(person['children'][0])"
   ]
  },
  {
   "cell_type": "code",
   "execution_count": 31,
   "metadata": {},
   "outputs": [
    {
     "name": "stdout",
     "output_type": "stream",
     "text": [
      "dubo\n",
      "{'fname': 'Sonia', 'lname': 'Suri', 'age': 52, 'children': ['anu', 'renu', 'anil'], 'pets': {'dog': 'dubo', 'cat': 'cutie'}, 'friends': {'close': ['a', 'b', 'c', 'd'], 'not close': ['x', 'y']}}\n",
      "b\n"
     ]
    }
   ],
   "source": [
    "print(person['pets']['dog'])\n",
    "#print(person['pets'][0])\n",
    "print(person)\n",
    "print(person['friends']['close'][1])"
   ]
  },
  {
   "cell_type": "code",
   "execution_count": 51,
   "metadata": {},
   "outputs": [
    {
     "name": "stdout",
     "output_type": "stream",
     "text": [
      "fname Sonia\n",
      "lname Suri\n",
      "age 52\n",
      "children ['anu', 'renu', 'anil']\n",
      "pets {'dog': 'dubo', 'cat': 'cutie'}\n",
      "friends {'close': ['a', 'b', 'c', 'd'], 'not close': ['x', 'y']}\n",
      "dog : dubo\n",
      "cat : cutie\n",
      "close : ['a', 'b', 'c', 'd']\n",
      "not close : ['x', 'y']\n"
     ]
    }
   ],
   "source": [
    "for a,b in person.items()    :\n",
    "    print(a,b)\n",
    "    \n"
   ]
  },
  {
   "cell_type": "code",
   "execution_count": 53,
   "metadata": {},
   "outputs": [
    {
     "name": "stdout",
     "output_type": "stream",
     "text": [
      "dog : dubo\n",
      "cat : cutie\n",
      "close : ['a', 'b', 'c', 'd']\n",
      "not close : ['x', 'y']\n"
     ]
    }
   ],
   "source": [
    "for k, v in person.items():\n",
    "    if type(v) is dict:\n",
    "        for t, c in v.items():\n",
    "            print( \"{0} : {1}\".format(t, c))"
   ]
  },
  {
   "cell_type": "code",
   "execution_count": 60,
   "metadata": {},
   "outputs": [
    {
     "name": "stdout",
     "output_type": "stream",
     "text": [
      "anu\n",
      "renu\n",
      "anil\n"
     ]
    }
   ],
   "source": [
    "for k, v in person.items():\n",
    "    if type(v) is list:\n",
    "        for t in v:\n",
    "            print( \"{0}\".format(t))"
   ]
  },
  {
   "cell_type": "code",
   "execution_count": 62,
   "metadata": {},
   "outputs": [
    {
     "name": "stdout",
     "output_type": "stream",
     "text": [
      "anu\n",
      "renu\n",
      "anil\n",
      "dog : dubo\n",
      "cat : cutie\n",
      "close : ['a', 'b', 'c', 'd']\n",
      "not close : ['x', 'y']\n"
     ]
    }
   ],
   "source": [
    "for k, v in person.items():\n",
    "    if type(v) is dict:\n",
    "        for t, c in v.items():\n",
    "            print( \"{0} : {1}\".format(t, c))\n",
    "    else:\n",
    "        if type(v) is list:\n",
    "            for t in v:\n",
    "                print( \"{0}\".format(t))\n",
    "        "
   ]
  },
  {
   "cell_type": "code",
   "execution_count": 9,
   "metadata": {},
   "outputs": [],
   "source": [
    "def histogram(s):\n",
    "    d=dict()\n",
    "    for c in s:\n",
    "        if c not in d:\n",
    "            d[c]=1\n",
    "        else:\n",
    "            d[c]=d[c]+1\n",
    "    return d\n",
    "\n",
    "x=histogram(\"helloanita\")"
   ]
  },
  {
   "cell_type": "code",
   "execution_count": 35,
   "metadata": {},
   "outputs": [
    {
     "name": "stdout",
     "output_type": "stream",
     "text": [
      "{'h': 1, 'e': 1, 'l': 2, 'o': 1, 'a': 2, 'n': 1, 'i': 1, 't': 1}\n"
     ]
    }
   ],
   "source": [
    "print(x)"
   ]
  },
  {
   "cell_type": "code",
   "execution_count": 14,
   "metadata": {},
   "outputs": [
    {
     "data": {
      "text/plain": [
       "{1: ['h', 'e', 'o', 'n', 'i', 't'], 2: ['l', 'a']}"
      ]
     },
     "execution_count": 14,
     "metadata": {},
     "output_type": "execute_result"
    }
   ],
   "source": [
    "def inversedict(d):\n",
    "    inverse = dict()\n",
    "\n",
    "    for key in d: \n",
    "        val = d[key] \n",
    "        if val not in inverse: \n",
    "            inverse[val] = [key] \n",
    "        else: \n",
    "            inverse[val].append(key) \n",
    "    return inverse\n",
    "\n",
    "inversedict(x)"
   ]
  },
  {
   "cell_type": "code",
   "execution_count": 12,
   "metadata": {},
   "outputs": [
    {
     "ename": "NameError",
     "evalue": "name 'inverse' is not defined",
     "output_type": "error",
     "traceback": [
      "\u001b[1;31m---------------------------------------------------------------------------\u001b[0m",
      "\u001b[1;31mNameError\u001b[0m                                 Traceback (most recent call last)",
      "\u001b[1;32m<ipython-input-12-ecb392801269>\u001b[0m in \u001b[0;36m<module>\u001b[1;34m()\u001b[0m\n\u001b[1;32m----> 1\u001b[1;33m \u001b[0mprint\u001b[0m\u001b[1;33m(\u001b[0m\u001b[0minverse\u001b[0m\u001b[1;33m)\u001b[0m\u001b[1;33m\u001b[0m\u001b[0m\n\u001b[0m",
      "\u001b[1;31mNameError\u001b[0m: name 'inverse' is not defined"
     ]
    }
   ],
   "source": [
    "print(inverse)"
   ]
  },
  {
   "cell_type": "code",
   "execution_count": 8,
   "metadata": {},
   "outputs": [
    {
     "name": "stdout",
     "output_type": "stream",
     "text": [
      "{1: ['h', 'e', 'o', 'n', 'i', 't'], 2: ['l', 'a']}\n"
     ]
    }
   ],
   "source": [
    "y=inversedict(x)\n",
    "print(y)"
   ]
  },
  {
   "cell_type": "code",
   "execution_count": 36,
   "metadata": {},
   "outputs": [
    {
     "name": "stdout",
     "output_type": "stream",
     "text": [
      "h 1\n",
      "e 1\n",
      "l 2\n",
      "o 1\n",
      "a 2\n",
      "n 1\n",
      "i 1\n",
      "t 1\n"
     ]
    }
   ],
   "source": [
    "#printing dictionary line by line\n",
    "def print_hist(h):\n",
    "    for c in h:\n",
    "        print(c,h[c])\n",
    "        \n",
    "print_hist(x) "
   ]
  },
  {
   "cell_type": "code",
   "execution_count": null,
   "metadata": {},
   "outputs": [],
   "source": []
  }
 ],
 "metadata": {
  "kernelspec": {
   "display_name": "Python 3",
   "language": "python",
   "name": "python3"
  },
  "language_info": {
   "codemirror_mode": {
    "name": "ipython",
    "version": 3
   },
   "file_extension": ".py",
   "mimetype": "text/x-python",
   "name": "python",
   "nbconvert_exporter": "python",
   "pygments_lexer": "ipython3",
   "version": "3.6.4"
  }
 },
 "nbformat": 4,
 "nbformat_minor": 2
}
