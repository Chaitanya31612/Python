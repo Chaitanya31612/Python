{
 "cells": [
  {
   "cell_type": "code",
   "execution_count": 1,
   "metadata": {},
   "outputs": [
    {
     "name": "stdout",
     "output_type": "stream",
     "text": [
      "[False, False, False, False, False, False, False, False, False, False, False, False, False, False, False, False, False, False, False, False, False, False, False, False, False, False, False, False, False, False, False, False, False, False, False, False, False, False, False, False, False, False, False, False, False, False, False, False, False, False, False, False, False, False, False, False, False, False, False, False, False, False, False, False, False, False, False, False, False, False, False, False, False, False, False, False, False, False, False, False, False, False, False, False, False, False, False, False, False, False, False, False, False, False, False, False, False, False, False, False]\n",
      "2 3 5 7 11 13 17 19 23 29 31 37 41 43 47 53 59 61 67 71 73 79 83 89 97 \n"
     ]
    }
   ],
   "source": [
    "#very good logic of prime nos by greek math Eratosthenes\n",
    "#print prime nos between 2 and 100\n",
    "MAX=100\n",
    "def main():\n",
    "    nonprimes = MAX  * [False]   # initialise to all false\n",
    "    #first prime number is 2 ; 0 and 1 are not prime\n",
    "    print(nonprimes)\n",
    "    nonprimes[0] = nonprimes[1] = True\n",
    "    \n",
    "    #start with the number 2\n",
    "    for i in range(2, MAX ):\n",
    "        if not nonprimes[i]: \n",
    "        # means if prime, means if false & initialising all to false\n",
    "            print(i, end=\" \")\n",
    "            #it is prime so eliminate all of its\n",
    "            #multiples that cannot be prime\n",
    "            for j in range(2*i, MAX , i):\n",
    "                nonprimes[j]= True\n",
    "    print()\n",
    "        \n",
    "main()    "
   ]
  },
  {
   "cell_type": "code",
   "execution_count": null,
   "metadata": {},
   "outputs": [],
   "source": []
  },
  {
   "cell_type": "code",
   "execution_count": null,
   "metadata": {},
   "outputs": [],
   "source": []
  },
  {
   "cell_type": "code",
   "execution_count": null,
   "metadata": {},
   "outputs": [],
   "source": []
  }
 ],
 "metadata": {
  "kernelspec": {
   "display_name": "Python 3",
   "language": "python",
   "name": "python3"
  },
  "language_info": {
   "codemirror_mode": {
    "name": "ipython",
    "version": 3
   },
   "file_extension": ".py",
   "mimetype": "text/x-python",
   "name": "python",
   "nbconvert_exporter": "python",
   "pygments_lexer": "ipython3",
   "version": "3.6.4"
  }
 },
 "nbformat": 4,
 "nbformat_minor": 2
}
