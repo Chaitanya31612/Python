{
 "cells": [
  {
   "cell_type": "code",
   "execution_count": 2,
   "metadata": {},
   "outputs": [
    {
     "name": "stdout",
     "output_type": "stream",
     "text": [
      "  C_CONTIGUOUS : True\n",
      "  F_CONTIGUOUS : False\n",
      "  OWNDATA : True\n",
      "  WRITEABLE : True\n",
      "  ALIGNED : True\n",
      "  WRITEBACKIFCOPY : False\n",
      "  UPDATEIFCOPY : False\n"
     ]
    }
   ],
   "source": [
    "import numpy as np\n",
    "x=np.array([[3,4],[3,5]])\n",
    "print(x.flags)"
   ]
  },
  {
   "cell_type": "code",
   "execution_count": null,
   "metadata": {},
   "outputs": [],
   "source": [
    "%"
   ]
  },
  {
   "cell_type": "code",
   "execution_count": 3,
   "metadata": {},
   "outputs": [
    {
     "name": "stdout",
     "output_type": "stream",
     "text": [
      "Original array : \n",
      " [0 1 2 3 4 5 6 7]\n",
      "\n",
      "array reshaped with 2 rows and 4 columns : \n",
      " [[0 1 2 3]\n",
      " [4 5 6 7]]\n",
      "\n",
      "array reshaped with 2 rows and 4 columns : \n",
      " [[0 1]\n",
      " [2 3]\n",
      " [4 5]\n",
      " [6 7]]\n",
      "\n",
      "Original array reshaped to 3D : \n",
      " [[[0 1]\n",
      "  [2 3]]\n",
      "\n",
      " [[4 5]\n",
      "  [6 7]]]\n"
     ]
    }
   ],
   "source": [
    "array = np.arange(8)\n",
    "array.\n",
    "print(\"Original array : \\n\", array)\n",
    " \n",
    "# shape array with 2 rows and 4 columns\n",
    "array = np.arange(8).reshape(2, 4)\n",
    "print(\"\\narray reshaped with 2 rows and 4 columns : \\n\", array)\n",
    " \n",
    "# shape array with 2 rows and 4 columns\n",
    "array = np.arange(8).reshape(4 ,2)\n",
    "print(\"\\narray reshaped with 2 rows and 4 columns : \\n\", array)\n",
    " \n",
    "# Constructs 3D array\n",
    "array = np.arange(8).reshape(2, 2, 2)\n",
    "print(\"\\nOriginal array reshaped to 3D : \\n\", array)\n"
   ]
  },
  {
   "cell_type": "code",
   "execution_count": 4,
   "metadata": {},
   "outputs": [
    {
     "name": "stdout",
     "output_type": "stream",
     "text": [
      "[0 1 2 3 4 5]\n",
      "[[0 1 2]\n",
      " [3 4 5]]\n",
      "[[[ 0  1  2  3]\n",
      "  [ 4  5  6  7]\n",
      "  [ 8  9 10 11]]\n",
      "\n",
      " [[12 13 14 15]\n",
      "  [16 17 18 19]\n",
      "  [20 21 22 23]]]\n",
      "(48, 16, 4)\n",
      "17\n",
      "68\n",
      "17.0\n",
      "(120, 40, 20, 4)\n",
      "[[[[ 0  1  2  3  4]\n",
      "   [ 5  6  7  8  9]]\n",
      "\n",
      "  [[10 11 12 13 14]\n",
      "   [15 16 17 18 19]]\n",
      "\n",
      "  [[20 21 22 23 24]\n",
      "   [25 26 27 28 29]]]\n",
      "\n",
      "\n",
      " [[[30 31 32 33 34]\n",
      "   [35 36 37 38 39]]\n",
      "\n",
      "  [[40 41 42 43 44]\n",
      "   [45 46 47 48 49]]\n",
      "\n",
      "  [[50 51 52 53 54]\n",
      "   [55 56 57 58 59]]]]\n"
     ]
    }
   ],
   "source": [
    "#anther example\n",
    "y=np.arange(6)\n",
    "\n",
    "print(y)\n",
    "\n",
    "#reshaping array into 2 d\n",
    "y= np.reshape(np.arange(6), (2,3))\n",
    "# or write like this for better understanding\n",
    "#y= np.reshape(np.arange(2*3), (2,3))\n",
    "print(y)\n",
    "\n",
    "#reshaping array into 3 d\n",
    "y = np.reshape(np.arange(24), (2,3,4))\n",
    "# or write like this \n",
    "#y = np.reshape(np.arange(2*3*4), (2,3,4))\n",
    "\n",
    "print(y)\n",
    "\n",
    "print(y.strides)\n",
    "\n",
    "print(y[1,1,1])\n",
    "\n",
    "offset=sum(y.strides * np.array((1,1,1)))\n",
    "print(offset)\n",
    "print(offset/y.itemsize)\n",
    "\n",
    "#reshaping into 4 d\n",
    "x = np.reshape(np.arange(2*3*2*5), (2,3,2,5))\n",
    "print(x.strides)\n",
    "print(x)"
   ]
  },
  {
   "cell_type": "code",
   "execution_count": null,
   "metadata": {},
   "outputs": [],
   "source": []
  }
 ],
 "metadata": {
  "kernelspec": {
   "display_name": "Python 3",
   "language": "python",
   "name": "python3"
  },
  "language_info": {
   "codemirror_mode": {
    "name": "ipython",
    "version": 3
   },
   "file_extension": ".py",
   "mimetype": "text/x-python",
   "name": "python",
   "nbconvert_exporter": "python",
   "pygments_lexer": "ipython3",
   "version": "3.6.4"
  }
 },
 "nbformat": 4,
 "nbformat_minor": 2
}
