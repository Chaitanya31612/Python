{
 "cells": [
  {
   "cell_type": "code",
   "execution_count": 1,
   "metadata": {},
   "outputs": [
    {
     "name": "stdout",
     "output_type": "stream",
     "text": [
      "numpy\n"
     ]
    }
   ],
   "source": [
    "print(\"numpy\")\n",
    "import numpy as np"
   ]
  },
  {
   "cell_type": "code",
   "execution_count": 2,
   "metadata": {},
   "outputs": [
    {
     "data": {
      "text/plain": [
       "array([0, 1, 2, 3])"
      ]
     },
     "execution_count": 2,
     "metadata": {},
     "output_type": "execute_result"
    }
   ],
   "source": [
    "import numpy as np\n",
    "a = np.array([0,1,2,3])\n",
    "a\n",
    "\n"
   ]
  },
  {
   "cell_type": "code",
   "execution_count": 11,
   "metadata": {},
   "outputs": [
    {
     "name": "stdout",
     "output_type": "stream",
     "text": [
      "<class 'numpy.ndarray'>\n",
      "int32\n",
      "4\n"
     ]
    }
   ],
   "source": [
    "print(type(a))\n",
    "print(a.dtype)\n",
    "print(a.itemsize)"
   ]
  },
  {
   "cell_type": "code",
   "execution_count": 3,
   "metadata": {},
   "outputs": [
    {
     "name": "stdout",
     "output_type": "stream",
     "text": [
      "float64\n",
      "[1. 2. 3. 4.]\n",
      "8\n"
     ]
    }
   ],
   "source": [
    "b=np.array([1,2,3,4], dtype=float)\n",
    "print(b.dtype)\n",
    "print(b)\n",
    "print(b.itemsize)\n"
   ]
  },
  {
   "cell_type": "code",
   "execution_count": 26,
   "metadata": {},
   "outputs": [
    {
     "data": {
      "text/plain": [
       "(4,)"
      ]
     },
     "execution_count": 26,
     "metadata": {},
     "output_type": "execute_result"
    }
   ],
   "source": [
    "#print the shape which returns in tuple format the length of array along each dimension\n",
    "b.shape"
   ]
  },
  {
   "cell_type": "code",
   "execution_count": 4,
   "metadata": {},
   "outputs": [
    {
     "data": {
      "text/plain": [
       "4"
      ]
     },
     "execution_count": 4,
     "metadata": {},
     "output_type": "execute_result"
    }
   ],
   "source": [
    "#size reports the entire number of elements in an array.\n",
    "a.size\n",
    "4\n"
   ]
  },
  {
   "cell_type": "code",
   "execution_count": 41,
   "metadata": {},
   "outputs": [
    {
     "data": {
      "text/plain": [
       "16"
      ]
     },
     "execution_count": 41,
     "metadata": {},
     "output_type": "execute_result"
    }
   ],
   "source": [
    "#returns the number of bytes used by the data portion of the array.\n",
    "a = np.array([0,1,2,3])\n",
    "a.nbytes\n"
   ]
  },
  {
   "cell_type": "code",
   "execution_count": 40,
   "metadata": {},
   "outputs": [
    {
     "data": {
      "text/plain": [
       "32"
      ]
     },
     "execution_count": 40,
     "metadata": {},
     "output_type": "execute_result"
    }
   ],
   "source": [
    "b=np.array([1,2,3,4], dtype=float)\n",
    "b.nbytes"
   ]
  },
  {
   "cell_type": "code",
   "execution_count": 49,
   "metadata": {},
   "outputs": [
    {
     "data": {
      "text/plain": [
       "array([0, 1, 2, 3])"
      ]
     },
     "execution_count": 49,
     "metadata": {},
     "output_type": "execute_result"
    }
   ],
   "source": [
    "#Number of dimensions\n",
    "a.ndim\n",
    "#Array Cop creates a copy of the array\n",
    "b = a.copy()\n",
    "b\n"
   ]
  },
  {
   "cell_type": "code",
   "execution_count": 59,
   "metadata": {},
   "outputs": [
    {
     "name": "stdout",
     "output_type": "stream",
     "text": [
      "[0 1 2 3]\n",
      "[5 6 7]\n"
     ]
    }
   ],
   "source": [
    "# convert a numpy array to a python list.\n",
    "a.tolist()\n",
    "print(a)\n",
    "#For 1D arrays, list also  works equivalently, but  is slower.\n",
    "d=np.array([5,6,7])\n",
    "d\n",
    "print(d)\n",
    "\n"
   ]
  },
  {
   "cell_type": "code",
   "execution_count": 62,
   "metadata": {},
   "outputs": [
    {
     "name": "stdout",
     "output_type": "stream",
     "text": [
      "0\n"
     ]
    },
    {
     "data": {
      "text/plain": [
       "array([10,  1,  2,  3])"
      ]
     },
     "execution_count": 62,
     "metadata": {},
     "output_type": "execute_result"
    }
   ],
   "source": [
    "#Array Indexing\n",
    "import numpy as np\n",
    "a = np.array([0,1,2,3])\n",
    "print(a[0])\n",
    "a[0] = 10\n",
    "a\n",
    "\n"
   ]
  },
  {
   "cell_type": "code",
   "execution_count": 64,
   "metadata": {},
   "outputs": [
    {
     "name": "stdout",
     "output_type": "stream",
     "text": [
      "[0 0 0 0]\n"
     ]
    },
    {
     "data": {
      "text/plain": [
       "[1, 1, 1, 1]"
      ]
     },
     "execution_count": 64,
     "metadata": {},
     "output_type": "execute_result"
    }
   ],
   "source": [
    "#Fill to set all values in an array.\n",
    "a.fill(0)\n",
    "print(a)\n",
    "a[:] = 1\t\t # same but slower\n",
    "a\n",
    "[1,1,1,1]   \n"
   ]
  },
  {
   "cell_type": "code",
   "execution_count": 71,
   "metadata": {},
   "outputs": [
    {
     "data": {
      "text/plain": [
       "(2, 4)"
      ]
     },
     "execution_count": 71,
     "metadata": {},
     "output_type": "execute_result"
    }
   ],
   "source": [
    "a = np.array([[ 0, 1, 2, 3],\n",
    "               [10,11,12,13]])\n",
    "a.shape"
   ]
  },
  {
   "cell_type": "code",
   "execution_count": 79,
   "metadata": {},
   "outputs": [
    {
     "name": "stdout",
     "output_type": "stream",
     "text": [
      "8\n"
     ]
    },
    {
     "data": {
      "text/plain": [
       "2"
      ]
     },
     "execution_count": 79,
     "metadata": {},
     "output_type": "execute_result"
    }
   ],
   "source": [
    "#Element Count\n",
    "print(a.size)\n",
    "#dimension\n",
    "a.ndim\n",
    "\n"
   ]
  },
  {
   "cell_type": "code",
   "execution_count": 90,
   "metadata": {},
   "outputs": [
    {
     "name": "stdout",
     "output_type": "stream",
     "text": [
      "[[ 0  1  2  3]\n",
      " [10 11 12 13]]\n",
      "[[ 0  1  2  3]\n",
      " [10 11 12 -1]]\n",
      "[[ 0  1  2  3]\n",
      " [10 11 12 -1]]\n"
     ]
    }
   ],
   "source": [
    "#copying refers to same\n",
    "a = np.array([[ 0, 1, 2, 3],\n",
    "               [10,11,12,13]])\n",
    "b=a\n",
    "print(b)\n",
    "a[1,3] = -1\n",
    "print(a)\n",
    "print(b)"
   ]
  },
  {
   "cell_type": "code",
   "execution_count": 18,
   "metadata": {},
   "outputs": [
    {
     "data": {
      "text/plain": [
       "array([[ 0,  1,  2,  3,  4,  5],\n",
       "       [10, 11, 12, 13, 14, 15],\n",
       "       [20, 21, 22, 23, 24, 25],\n",
       "       [30, 31, 32, 33, 34, 35],\n",
       "       [40, 41, 42, 43, 44, 45],\n",
       "       [50, 51, 52, 53, 54, 55]])"
      ]
     },
     "execution_count": 18,
     "metadata": {},
     "output_type": "execute_result"
    }
   ],
   "source": [
    "arr=np.array([[0,1,2,3,4,5],\n",
    "            [10,11,12,13,14,15],\n",
    "            [20,21,22,23,24,25],\n",
    "            [30,31,32,33,34,35],\n",
    "            [40,41,42,43,44,45],\n",
    "            [50,51,52,53,54,55]])\n",
    "arr"
   ]
  },
  {
   "cell_type": "code",
   "execution_count": 11,
   "metadata": {},
   "outputs": [
    {
     "name": "stdout",
     "output_type": "stream",
     "text": [
      "[3 4]\n",
      "-----\n",
      "[[44 45]\n",
      " [54 55]]\n",
      "-----\n",
      "[ 2 12 22 32 42 52]\n",
      "-----\n",
      "[[20 22 24]\n",
      " [40 42 44]]\n"
     ]
    }
   ],
   "source": [
    "print(arr[0,3:5])\n",
    "#prints row 0 from column 3 to 4\n",
    "print('-----')\n",
    "print(arr[4:,4:])\n",
    "#prints row fourth from 4 col onwards\n",
    "print('-----')\n",
    "print(arr[:,2])\n",
    "#prints all rows restricted to col 2\n",
    "print('-----')\n",
    "#strides\n",
    "print(arr[2::2,::2])\n",
    "#prints from row 2 step 2 for row (ie row 2 then row 4) and  step 2 in columns also\n",
    "\n"
   ]
  },
  {
   "cell_type": "code",
   "execution_count": 24,
   "metadata": {},
   "outputs": [
    {
     "name": "stdout",
     "output_type": "stream",
     "text": [
      "[[ 0  1  2  3  4  5]\n",
      " [10 11 12 13 14 15]\n",
      " [20 21 22 23 24 25]\n",
      " [30 31 32 33 34 35]\n",
      " [40 41 42 43 44 45]\n",
      " [50 51 52 53 54 55]]\n",
      "36\n",
      "144\n",
      "(24, 4)\n",
      "False True\n",
      "(4, 24)\n",
      "2\n",
      "(6, 6)\n"
     ]
    }
   ],
   "source": [
    "print(arr)\n",
    "#Strides is tuple of bytes to step in each dimension when traversing an array.\n",
    "print(arr.size)\n",
    "print(arr.nbytes)\n",
    "print(arr.strides)\n",
    "print( arr.flags.fortran, arr.flags.contiguous)\n",
    "#each element takes 4 bytes\n",
    "print(arr.T.strides)\n",
    "\n",
    "print(arr.ndim)\n",
    "print(arr.shape)\n",
    "\n",
    "#antoher example\n",
    "y = np.reshape(np.arange(2*3*4), (2,3,4))\n",
    "print(y)\n",
    "array([[[ 0,  1,  2,  3],\n",
    "        [ 4,  5,  6,  7],\n",
    "        [ 8,  9, 10, 11]],\n",
    "       [[12, 13, 14, 15],\n",
    "        [16, 17, 18, 19],\n",
    "        [20, 21, 22, 23]]])\n",
    ">>> y.strides\n",
    "(48, 16, 4)\n",
    ">>> y[1,1,1]\n",
    "17\n",
    ">>> offset=sum(y.strides * np.array((1,1,1)))\n",
    ">>> offset/y.itemsize\n",
    "17\n",
    ">>> x = np.reshape(np.arange(5*6*7*8), (5,6,7,8)).transpose(2,3,1,0)\n",
    ">>> x.strides\n",
    "(32, 4, 224, 1344)\n",
    ">>> i = np.array([3,5,2,2])\n",
    ">>> offset = sum(i * x.strides)\n",
    ">>> x[3,5,2,2]\n",
    "813\n",
    ">>> offset / x.itemsize"
   ]
  },
  {
   "cell_type": "code",
   "execution_count": 9,
   "metadata": {},
   "outputs": [
    {
     "name": "stdout",
     "output_type": "stream",
     "text": [
      "print b...........\n",
      "\n",
      "[[1 3]\n",
      " [4 6]]\n",
      "printing a......\n",
      "\n",
      "[[  1   2 100]\n",
      " [  4   5   6]]\n",
      "printing c.....\n",
      "\n",
      "[[  1 100]\n",
      " [  4   6]]\n",
      "[[  1 100]\n",
      " [500   6]]\n",
      "printing changed c.....\n",
      "\n",
      "printing a.....\n",
      "[[  1   2 100]\n",
      " [  4   5   6]]\n"
     ]
    }
   ],
   "source": [
    "#memory model\n",
    "#simple indexing of the array to be the view of the same data\n",
    "a = np.array([[ 1, 2, 3],\n",
    "               [4,5,6]])\n",
    "b = a[:,::2]\n",
    "print(\"print b...........\\n\")\n",
    "#b is just a view ...pointing to the same a\n",
    "print(b)\n",
    "b[0,1] = 100\n",
    "print(\"printing a......\\n\")\n",
    "#a has changed\n",
    "print(a)\n",
    "c = a[:,::2].copy()\n",
    "print(\"printing c.....\\n\")\n",
    "#copy makes a new array...so c is new but a reamins the same\n",
    "print(c)\n",
    "c[1,0] = 500\n",
    "print(c)\n",
    "print(\"printing changed c.....\\n\")\n",
    "\n",
    "print(\"printing a.....\")\n",
    "print(a)\n",
    "\n",
    "\n"
   ]
  },
  {
   "cell_type": "code",
   "execution_count": 10,
   "metadata": {},
   "outputs": [
    {
     "name": "stdout",
     "output_type": "stream",
     "text": [
      "[2 3]\n",
      "[10  3]\n",
      "[ 0  1 10  3  4]\n"
     ]
    }
   ],
   "source": [
    "#slice is a view another example\n",
    "a = np.array([0,1,2,3,4])\n",
    "\n",
    "# create a slice \n",
    "b = a[2:4] \n",
    "print(b) \n",
    "b[0] = 10\n",
    "print(b)\n",
    "# changing b changed a!\n",
    "print(a)\n"
   ]
  },
  {
   "cell_type": "code",
   "execution_count": 125,
   "metadata": {},
   "outputs": [
    {
     "name": "stdout",
     "output_type": "stream",
     "text": [
      "[ 0 10 20 30 40 50 60 70]\n",
      "[10 20 50]\n",
      "[ 3 20 50]\n",
      "[ 0 10 20 30 40 50 60 70]\n",
      "[ 5 20 50]\n",
      "[ 0 10 20 30 40 50 60 70]\n"
     ]
    }
   ],
   "source": [
    "#Indexing by Position\n",
    "a = np.arange(0,80,10)\n",
    "print(a)\n",
    "y = a[[1, 2, -3]]\n",
    "print (y)\n",
    "y[0]=3\n",
    "print(y)\n",
    "print(a)\n",
    "# using take\n",
    "y = np.take(a,[1,2,-3])\n",
    "y[0]=5\n",
    "print( y)\n",
    "print(a)\n"
   ]
  },
  {
   "cell_type": "code",
   "execution_count": 146,
   "metadata": {},
   "outputs": [
    {
     "ename": "SyntaxError",
     "evalue": "invalid syntax (<ipython-input-146-cbd4009977f7>, line 4)",
     "output_type": "error",
     "traceback": [
      "\u001b[1;36m  File \u001b[1;32m\"<ipython-input-146-cbd4009977f7>\"\u001b[1;36m, line \u001b[1;32m4\u001b[0m\n\u001b[1;33m    y=a[mask]\u001b[0m\n\u001b[1;37m    ^\u001b[0m\n\u001b[1;31mSyntaxError\u001b[0m\u001b[1;31m:\u001b[0m invalid syntax\n"
     ]
    }
   ],
   "source": [
    "mask = np.array([0,1,1,0,0,1,0,0], dtype=bool)\n",
    "a=np.array([ 0, 10, 20, 30, 40, 50, 60, 70]\n",
    "# fancy indexing\n",
    "y=a[mask]\n",
    "Print(y)\n",
    "# using compress\n",
    "y = compress(mask, a)\n",
    "print(y)\n",
    "\n"
   ]
  },
  {
   "cell_type": "code",
   "execution_count": 9,
   "metadata": {},
   "outputs": [
    {
     "name": "stdout",
     "output_type": "stream",
     "text": [
      "10\n",
      "30\n",
      "50\n"
     ]
    },
    {
     "data": {
      "text/plain": [
       "array([10, 30, 50])"
      ]
     },
     "execution_count": 9,
     "metadata": {},
     "output_type": "execute_result"
    }
   ],
   "source": [
    "import numpy as np\n",
    "bb=np.array([0,10,20,30,40,50,60,70,80])\n",
    "print(bb[1])\n",
    "print(bb[3])\n",
    "print(bb[5])\n",
    "#instead fancy indexing allows\n",
    "\n",
    "\n",
    "bb[[1,3,5]]"
   ]
  },
  {
   "cell_type": "code",
   "execution_count": 144,
   "metadata": {},
   "outputs": [
    {
     "data": {
      "text/plain": [
       "array([ 1, 12, 23, 34, 45])"
      ]
     },
     "execution_count": 144,
     "metadata": {},
     "output_type": "execute_result"
    }
   ],
   "source": [
    "#fancy indexing in 2-D\n",
    "\n",
    "arr=np.array([[0,1,2,3,4,5],\n",
    "            [10,11,12,13,14,15],\n",
    "            [20,21,22,23,24,25],\n",
    "            [30,31,32,33,34,35],\n",
    "            [40,41,42,43,44,45],\n",
    "            [50,51,52,53,54,55]])\n",
    "\n",
    "#accessing one to one mapping, 0,1    1,2   2,3   3,4   4,5 \n",
    "\n",
    "arr[(0,1,2,3,4),(1,2,3,4,5)]\n"
   ]
  },
  {
   "cell_type": "code",
   "execution_count": 137,
   "metadata": {},
   "outputs": [
    {
     "name": "stdout",
     "output_type": "stream",
     "text": [
      "[[30 32 35]\n",
      " [40 42 45]\n",
      " [50 52 55]]\n",
      "\n",
      "\n",
      "\n",
      "[ 2 22 52]\n"
     ]
    }
   ],
   "source": [
    "#fancy indexing in 2-D\n",
    "\n",
    "#a[(0,1,2,3,4),(1,2,3,4,5)]\n",
    "\n",
    "\n",
    "\n",
    "arr=np.array([[0,1,2,3,4,5],\n",
    "            [10,11,12,13,14,15],\n",
    "            [20,21,22,23,24,25],\n",
    "            [30,31,32,33,34,35],\n",
    "            [40,41,42,43,44,45],\n",
    "            [50,51,52,53,54,55]])\n",
    "arr\n",
    "#column  0 2 and 5 are required staring row 3 \n",
    "a=arr[3:,[0, 2, 5]]\n",
    "print(a)\n",
    "\n",
    "mask = np.array([1,0,1,0,0,1],\n",
    "                 dtype=bool) \n",
    "#mask with column 2 \n",
    "b=arr[mask,2]\n",
    "print(\"\\n\\n\")\n",
    "print(b)\n"
   ]
  },
  {
   "cell_type": "code",
   "execution_count": 43,
   "metadata": {},
   "outputs": [
    {
     "data": {
      "text/plain": [
       "array([[ 0,  1,  2,  3],\n",
       "       [ 4,  5,  6,  7],\n",
       "       [ 8,  9, 10, 11]])"
      ]
     },
     "execution_count": 43,
     "metadata": {},
     "output_type": "execute_result"
    }
   ],
   "source": [
    "X = np.arange(12).reshape((3, 4))\n",
    "X"
   ]
  },
  {
   "cell_type": "code",
   "execution_count": 138,
   "metadata": {},
   "outputs": [
    {
     "name": "stdout",
     "output_type": "stream",
     "text": [
      "-----Summing a vector----\n",
      "6 \n",
      "\n",
      "[[9. 2. 3.]\n",
      " [4. 5. 6.]] \n",
      "\n",
      "-----Summing a 2 d where corr values are summed----\n",
      "[13.  7.  9.] \n",
      "\n",
      "----using axis keyword------ \n",
      "\n",
      "[13.  7.  9.] \n",
      "\n",
      "[14. 15.] \n",
      "\n"
     ]
    }
   ],
   "source": [
    "#array calculation\n",
    "b=np.array([1,2,3])\n",
    "print(\"-----Summing a vector----\")\n",
    "print(sum(b),'\\n')\n",
    " \n",
    "a = np.array([[9,2,3], [4,5,6]], float)\n",
    "print(a,'\\n')\n",
    "# Sum defaults to summing all array values.\n",
    "print(\"-----Summing a 2 d where corr values are summed----\"   )  \n",
    "print(sum(a),'\\n')\n",
    "#another way to add corresponding row values\n",
    "print(\"----using axis keyword------\",'\\n')\n",
    "print(a.sum(axis=0),'\\n')\n",
    "#to add column values\n",
    "print(a.sum(axis=1),'\\n')\n",
    "\n"
   ]
  },
  {
   "cell_type": "code",
   "execution_count": 69,
   "metadata": {},
   "outputs": [
    {
     "data": {
      "text/plain": [
       "array([5., 7., 9.])"
      ]
     },
     "execution_count": 69,
     "metadata": {},
     "output_type": "execute_result"
    }
   ],
   "source": [
    "# The a.sum() defaults to summing *all* array values\n",
    "a = np.array([[1,2,3], [4,5,6]], float)\n",
    "a.sum()\n",
    "21.\n",
    "# Supply an axis argument to sum along a specific axis.\n",
    "a.sum(axis=0)\n",
    "\n"
   ]
  },
  {
   "cell_type": "code",
   "execution_count": 20,
   "metadata": {},
   "outputs": [
    {
     "data": {
      "text/plain": [
       "array([ 4., 10., 18.])"
      ]
     },
     "execution_count": 20,
     "metadata": {},
     "output_type": "execute_result"
    }
   ],
   "source": [
    "# product along columns.\n",
    "a = np.array([[1,2,3], [4,5,6]], float)\n",
    "a.prod(axis=0)\n",
    "\n"
   ]
  },
  {
   "cell_type": "code",
   "execution_count": 73,
   "metadata": {},
   "outputs": [
    {
     "name": "stdout",
     "output_type": "stream",
     "text": [
      "0.0\n",
      "3.0\n"
     ]
    }
   ],
   "source": [
    "a = np.array([2.,3.,0.,1.]) \n",
    "a.min(axis=0)\n",
    "\n",
    "# use Numpy’s amin() instead  of Python’s builtin min() \n",
    "# for speed operations on  multi-dimensional arrays.\n",
    "print(np.amin(a, axis=0))\n",
    "print(np.amax(a))\n",
    "     "
   ]
  },
  {
   "cell_type": "code",
   "execution_count": 84,
   "metadata": {
    "collapsed": true
   },
   "outputs": [
    {
     "name": "stdout",
     "output_type": "stream",
     "text": [
      "2\n",
      "2\n",
      "4\n",
      "4\n"
     ]
    }
   ],
   "source": [
    "#Find index of minimum value.\n",
    "a=np.array([6,78,4,32,94])\n",
    "print(a.argmin(axis=0) )\n",
    "\n",
    "# functional form\n",
    "print(np.argmin(a, axis=0))\n",
    "\n",
    "#Find index of maximum value.\n",
    "a=np.array([6,78,4,32,94])\n",
    "print(a.argmax(axis=0) )\n",
    "\n",
    "# functional form\n",
    "print(np.argmax(a, axis=0))\n"
   ]
  },
  {
   "cell_type": "code",
   "execution_count": 140,
   "metadata": {},
   "outputs": [
    {
     "name": "stdout",
     "output_type": "stream",
     "text": [
      "Mean value /n\n",
      "[2.5 3.5 4.5]\n",
      "[2.5 3.5 4.5]\n",
      "[2.5 3.5 4.5]\n",
      "weighted Average\n",
      "[3. 4. 5.]\n"
     ]
    }
   ],
   "source": [
    "a = np.array([[1,2,3],\n",
    "              [4,5,6]], float)\n",
    "\n",
    "# mean value of each column 3 methods\n",
    "print(\"Mean value\",'/n')\n",
    "print(a.mean(axis=0))\n",
    "\n",
    "print(np.mean(a, axis=0))\n",
    "#print(\"Average\",'/n')\n",
    "print(np.average(a, axis=0))\n",
    "\n",
    "\n",
    "# average can also calculate\n",
    "# a weighted average\n",
    "print(\"weighted Average\")\n",
    "print(np.average(a, weights=[1,2],axis=0))\n",
    "\n"
   ]
  },
  {
   "cell_type": "code",
   "execution_count": 141,
   "metadata": {},
   "outputs": [
    {
     "name": "stdout",
     "output_type": "stream",
     "text": [
      "range(1, 5)\n",
      "average data  10/4 \n",
      "\n",
      "2.5\n",
      "average data (1,2,3,4) weights (4,3,2,1),(4/10+6/10+6/10+4/10=20/10=2\n",
      "2.0\n",
      "the new shaped array\n",
      "[[0 1]\n",
      " [2 3]\n",
      " [4 5]]\n",
      "average weighted data /n\n",
      "[0.75 2.75 4.75]\n",
      "weighted data /n, \"error will come as shapes and weights are different\n"
     ]
    }
   ],
   "source": [
    "data = range(1,5)\n",
    "print(data)\n",
    "print(\"average data  10/4\",'\\n')\n",
    "print(np.average(data))\n",
    "      \n",
    "b=np.average(range(1,5), weights=range(4,0,-1))\n",
    "print(\"average data (1,2,3,4) weights (4,3,2,1),(4/10+6/10+6/10+4/10=20/10=2\")\n",
    "print(b)\n",
    "print(\"the new shaped array\")\n",
    "data = np.arange(6).reshape((3,2))\n",
    "print(data)\n",
    "\n",
    "c=np.average(data, axis=1, weights=[1./4, 3./4])\n",
    "print(\"average weighted data\",'/n')\n",
    "print(c)\n",
    "print(\"weighted data\",'/n, \"error will come as shapes and weights are different')\n",
    "#np.average(data, weights=[1./4, 3./4])\n",
    "\n"
   ]
  },
  {
   "cell_type": "code",
   "execution_count": 142,
   "metadata": {},
   "outputs": [
    {
     "name": "stdout",
     "output_type": "stream",
     "text": [
      "1.707825127659933\n"
     ]
    },
    {
     "data": {
      "text/plain": [
       "array([2.25, 2.25, 2.25])"
      ]
     },
     "execution_count": 142,
     "metadata": {},
     "output_type": "execute_result"
    }
   ],
   "source": [
    "a =np.array([[1,2,3],\n",
    "               [4,5,6]], float)\n",
    "\n",
    "#Standard Deviation\n",
    "a.std(axis=0)\n",
    "print(np.std(a))\n",
    "\n",
    "# Variance\n",
    "a.var(axis=0)\n",
    "#another method\n",
    "np.var(a, axis=0)\n",
    "\n",
    "\n",
    "\n"
   ]
  },
  {
   "cell_type": "code",
   "execution_count": 130,
   "metadata": {},
   "outputs": [
    {
     "name": "stdout",
     "output_type": "stream",
     "text": [
      "a\n",
      "\n",
      "\n",
      "[0 1 2 3 4 5 6 7 8 9]\n",
      "after clipping\n",
      "\n",
      "\n",
      "[1 1 2 3 4 5 6 7 8 8]\n",
      "\n",
      "\n",
      "after clipping\n",
      "[3 3 3 3 4 5 6 6 6 6]\n",
      "\n",
      "\n",
      "[0 1 2 3 4 5 6 7 8 9]\n",
      "[3 4 2 3 4 5 6 7 8 8]\n"
     ]
    }
   ],
   "source": [
    "#Clip\n",
    "a = np.arange(10)\n",
    "print(\"a\")\n",
    "print(\"\\n\")\n",
    "print(a)\n",
    "print(\"after clipping\")\n",
    "print(\"\\n\")\n",
    "print(np.clip(a, 1, 8))\n",
    "print(\"\\n\")\n",
    "\n",
    "np.clip(a, 3, 6, out=a)\n",
    "print(\"after clipping\")\n",
    "print(a)\n",
    "a = np.arange(10)\n",
    "\n",
    "print(\"\\n\")\n",
    "print(a)\n",
    "print(np.clip(a, [3, 4, 1, 1, 1, 4, 4, 4, 4, 4], 8))\n",
    "\n"
   ]
  },
  {
   "cell_type": "code",
   "execution_count": 122,
   "metadata": {},
   "outputs": [
    {
     "data": {
      "text/plain": [
       "array([0, 1, 2, 3, 4, 5, 6, 7, 8, 9])"
      ]
     },
     "execution_count": 122,
     "metadata": {},
     "output_type": "execute_result"
    }
   ],
   "source": [
    "# Round values in an array.\n",
    "# Numpy rounds to even, so \n",
    "# 1.5 and 2.5 both round to 2.\n",
    "\n",
    "a.round()\n",
    "\n",
    "\n",
    "# Round to first decimal place.\n",
    "a.round(decimals=1)\n",
    "\n"
   ]
  },
  {
   "cell_type": "code",
   "execution_count": 132,
   "metadata": {},
   "outputs": [
    {
     "name": "stdout",
     "output_type": "stream",
     "text": [
      "[[ 0  1  2  3]\n",
      " [ 4  5  6  7]\n",
      " [ 8  9 10 11]]\n",
      "----\n",
      "[8 8 8 8]\n",
      "[3 3 3]\n",
      "11\n"
     ]
    }
   ],
   "source": [
    "#ptp returns max - min value along axis and returns a vector\n",
    "x = np.array(np.arange(12).reshape((3,4)))\n",
    "print(x)\n",
    "\n",
    "print(\"----\")\n",
    "print(x.ptp(0))\n",
    "print(x.ptp(1))\n",
    "print(x.ptp())\n",
    "\n"
   ]
  },
  {
   "cell_type": "code",
   "execution_count": 129,
   "metadata": {},
   "outputs": [
    {
     "name": "stdout",
     "output_type": "stream",
     "text": [
      "[ 0 99 99  3 99  5  6  7 99  9]\n"
     ]
    }
   ],
   "source": [
    "#modifying vakyes with fancy indexing\n",
    "\n",
    "x=np.array([0,1,2,3,4,5,6,7,8,9])\n",
    "i=np.array([1,2,8,4])\n",
    "x[i]=99\n",
    "#the values at position 1,2,8 and 4 are modified\n",
    "print(x)"
   ]
  },
  {
   "cell_type": "code",
   "execution_count": 133,
   "metadata": {},
   "outputs": [
    {
     "name": "stdout",
     "output_type": "stream",
     "text": [
      "[[1 0 1]\n",
      " [1 0 1]\n",
      " [1 0 1]\n",
      " [1 0 1]]\n",
      "[[ 2  2  4]\n",
      " [ 5  5  7]\n",
      " [ 8  8 10]\n",
      " [11 11 13]]\n"
     ]
    }
   ],
   "source": [
    "# We will add the vector v to each row of the matrix x,\n",
    "# storing the result in the matrix y\n",
    "x = np.array([[1,2,3], [4,5,6], [7,8,9], [10, 11, 12]])\n",
    "v = np.array([1, 0, 1])\n",
    "vv = np.tile(v, (4, 1))   # Stack 4 copies of v on top of each other\n",
    "print(vv)                 # Prints \"[[1 0 1]\n",
    "                          #          [1 0 1]\n",
    "                          #          [1 0 1]\n",
    "                          #          [1 0 1]]\"\n",
    "y = x + vv  # Add x and vv elementwise\n",
    "print(y)  # Prints \"[[ 2  2  4\n",
    "          #          [ 5  5  7]\n",
    "          #          [ 8  8 10]\n",
    "          #          [11 11 13]]\""
   ]
  },
  {
   "cell_type": "code",
   "execution_count": 135,
   "metadata": {},
   "outputs": [
    {
     "name": "stdout",
     "output_type": "stream",
     "text": [
      "[[ 2  2  4]\n",
      " [ 5  5  7]\n",
      " [ 8  8 10]\n",
      " [11 11 13]]\n"
     ]
    }
   ],
   "source": [
    "#broadcasting\n",
    "# We will add the vector v to each row of the matrix x,\n",
    "# storing the result in the matrix y\n",
    "x = np.array([[1,2,3], [4,5,6], [7,8,9], [10, 11, 12]])\n",
    "v = np.array([1, 0, 1])\n",
    "y = np.empty_like(x)   # Create an empty matrix with the same shape as x\n",
    "# Add the vector v to each row of the matrix x with an explicit loop\n",
    "\n",
    "for i in range(4):\n",
    "    y[i, :] = x[i, :] + v\n",
    "\n",
    "print(y)\n",
    "\n"
   ]
  },
  {
   "cell_type": "code",
   "execution_count": null,
   "metadata": {},
   "outputs": [],
   "source": []
  }
 ],
 "metadata": {
  "kernelspec": {
   "display_name": "Python 3",
   "language": "python",
   "name": "python3"
  },
  "language_info": {
   "codemirror_mode": {
    "name": "ipython",
    "version": 3
   },
   "file_extension": ".py",
   "mimetype": "text/x-python",
   "name": "python",
   "nbconvert_exporter": "python",
   "pygments_lexer": "ipython3",
   "version": "3.6.4"
  }
 },
 "nbformat": 4,
 "nbformat_minor": 2
}
