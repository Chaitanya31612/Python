{
 "cells": [
  {
   "cell_type": "code",
   "execution_count": 1,
   "metadata": {},
   "outputs": [
    {
     "name": "stdout",
     "output_type": "stream",
     "text": [
      "[8, 6, -18, 16, 12, -36, 24, 18, -54]\n",
      "[6, 5, -7, 8, 7, -5, 10, 9, -3]\n"
     ]
    },
    {
     "data": {
      "text/plain": [
       "[8, 12, -54]"
      ]
     },
     "execution_count": 1,
     "metadata": {},
     "output_type": "execute_result"
    }
   ],
   "source": [
    "#List comprehensions\n",
    "vec1 = [2,4,6]\n",
    "vec2 = [4,3,-9]\n",
    "a=[x*y for x in vec1 for y in vec2]\n",
    "print(a)\n",
    "\n",
    "b=[x+y for x in vec1 for y in vec2]\n",
    "print(b)\n",
    "\n",
    "[vec1[i]*vec2[i] for i in range(len(vec1))]\n",
    "\n"
   ]
  },
  {
   "cell_type": "code",
   "execution_count": 2,
   "metadata": {},
   "outputs": [
    {
     "name": "stdout",
     "output_type": "stream",
     "text": [
      "[8, 6, -18, 16, 12, -36, 24, 18, -54]\n"
     ]
    }
   ],
   "source": [
    "#List comprehensions alternative conventional\n",
    "vec1 = [2,4,6]\n",
    "vec2 = [4,3,-9]\n",
    "b=[]\n",
    "for x in vec1:\n",
    "    for y in vec2:\n",
    "        c=x*y\n",
    "        b.append(c)\n",
    "print(b)"
   ]
  },
  {
   "cell_type": "code",
   "execution_count": 12,
   "metadata": {},
   "outputs": [
    {
     "data": {
      "text/plain": [
       "[12, 18]"
      ]
     },
     "execution_count": 12,
     "metadata": {},
     "output_type": "execute_result"
    }
   ],
   "source": [
    "#using if in list \n",
    "[3*x for x in vec1 if x > 3]\n",
    "[12, 18]"
   ]
  },
  {
   "cell_type": "code",
   "execution_count": 1,
   "metadata": {},
   "outputs": [
    {
     "name": "stdout",
     "output_type": "stream",
     "text": [
      "[1, 9, 25, 49, 81]\n",
      "[1, 9, 25, 49, 81]\n",
      "[2, 4, 8, 16, 32, 64, 128, 256]\n",
      "[2, 3, 5, 7, 11, 13, 17, 19, 23, 29, 31, 37, 41, 43, 47]\n",
      "['a', 'b', 'c']\n",
      "\n",
      "Extracted digits\n",
      "['1', '1', '1', '2', '2']\n",
      "\n",
      "Multiplication Table\n",
      "[5, 1, 5]\n",
      "[5, 2, 10]\n",
      "[5, 3, 15]\n",
      "[5, 4, 20]\n",
      "[5, 5, 25]\n",
      "[5, 6, 30]\n",
      "[5, 7, 35]\n",
      "[5, 8, 40]\n",
      "[5, 9, 45]\n",
      "[5, 10, 50]\n"
     ]
    }
   ],
   "source": [
    "# Python program to demonstrate list comprehension in Python  \n",
    "  \n",
    "# below list contains square of all odd numbers from \n",
    "# range 1 to 10 \n",
    "odd_square = [x ** 2 for x in range(1, 11) if x % 2 == 1] \n",
    "print(odd_square )\n",
    "  \n",
    "# for understanding, above generation is same as, \n",
    "odd_square = [] \n",
    "for x in range(1, 11): \n",
    "    if x % 2 == 1: \n",
    "        odd_square.append(x**2) \n",
    "print(odd_square )\n",
    "  \n",
    "# below list contains power of 2 from 1 to 8 \n",
    "power_of_2 = [2 ** x for x in range(1, 9)] \n",
    "print(power_of_2) \n",
    "  \n",
    "# below list contains prime and non-prime in range 1 to 50 \n",
    "noprimes = [j for i in range(2, 8) for j in range(i*2, 50, i)] \n",
    "primes = [x for x in range(2, 50) if x not in noprimes] \n",
    "print (primes)\n",
    "  \n",
    "# list for lowering the characters \n",
    "print([x.lower() for x in [\"A\",\"B\",\"C\"]] )\n",
    "  \n",
    "# list which extracts number \n",
    "string = \"my phone number is : 11122 !!\"\n",
    "  \n",
    "print(\"\\nExtracted digits\") \n",
    "numbers = [x for x in string if x.isdigit()] \n",
    "print(numbers)\n",
    "  \n",
    "# A list of list for multiplication table \n",
    "a = 5\n",
    "table = [[a, b, a * b] for b in range(1, 11)] \n",
    "  \n",
    "print(\"\\nMultiplication Table\") \n",
    "for i in table: \n",
    "    print(i )"
   ]
  },
  {
   "cell_type": "code",
   "execution_count": 13,
   "metadata": {},
   "outputs": [
    {
     "name": "stdout",
     "output_type": "stream",
     "text": [
      "[1, 66.6, 333, 333, 1234.5]\n",
      "[1, 66.6, 1234.5]\n"
     ]
    }
   ],
   "source": [
    "#removing from list\n",
    "a = [-1,1,66.6,333,333,1234.5]\n",
    "del a[0]\n",
    "print(a)\n",
    "\n",
    "\n",
    "b=[1,66.6,333,333,1234.5]\n",
    "del b[2:4]\n",
    "print(b)\n"
   ]
  },
  {
   "cell_type": "code",
   "execution_count": 19,
   "metadata": {},
   "outputs": [
    {
     "name": "stdout",
     "output_type": "stream",
     "text": [
      "['tram', 'car', 'jeep', 'bus', 'scooter']\n",
      "['tram', 'car', 'jeep', 'bus', 'scooter']\n",
      "['tram', 'car', 'jeep', 'bus', 'scooter', 'bus']\n",
      "['tram', 'car', 'jeep', 'bus', 'scooter', 'bus']\n",
      "['tram', 'car', 'a', 'jeep', 'bus', 'scooter', 'bus']\n"
     ]
    }
   ],
   "source": [
    "#points to the same object\n",
    "vehicle=['tram', 'car','jeep','bus','scooter']\n",
    "print(vehicle)\n",
    "new_vehicle=vehicle\n",
    "print(new_vehicle)\n",
    "new_vehicle.append('bus')\n",
    "print(new_vehicle)\n",
    "print(vehicle)\n",
    "new_vehicle.insert(2,'a')\n",
    "print(new_vehicle)"
   ]
  },
  {
   "cell_type": "code",
   "execution_count": 15,
   "metadata": {},
   "outputs": [
    {
     "name": "stdout",
     "output_type": "stream",
     "text": [
      "['tram', 'car', 'jeep', 'bus', 'scooter', 'bus']\n",
      "['car', 'jeep', 'bus', 'scooter', 'bus']\n"
     ]
    }
   ],
   "source": [
    "#to make a copy of the list , use\n",
    "copyvehicle=vehicle[:]\n",
    "#now copyvehicle is different from newvehicle\n",
    "del copyvehicle[0]\n",
    "print(vehicle)\n",
    "print(copyvehicle)\n"
   ]
  },
  {
   "cell_type": "code",
   "execution_count": null,
   "metadata": {},
   "outputs": [],
   "source": []
  }
 ],
 "metadata": {
  "kernelspec": {
   "display_name": "Python 3",
   "language": "python",
   "name": "python3"
  },
  "language_info": {
   "codemirror_mode": {
    "name": "ipython",
    "version": 3
   },
   "file_extension": ".py",
   "mimetype": "text/x-python",
   "name": "python",
   "nbconvert_exporter": "python",
   "pygments_lexer": "ipython3",
   "version": "3.6.4"
  }
 },
 "nbformat": 4,
 "nbformat_minor": 2
}
