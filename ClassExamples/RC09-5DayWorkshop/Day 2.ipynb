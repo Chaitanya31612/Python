{
 "cells": [
  {
   "cell_type": "code",
   "execution_count": 3,
   "metadata": {},
   "outputs": [
    {
     "name": "stdout",
     "output_type": "stream",
     "text": [
      "enter r for rectangle c for circle and t for triangler\n",
      "enter length:3\n",
      "enter breadth:5\n",
      "area of rectangle is 15\n"
     ]
    }
   ],
   "source": [
    "#input shape and calculate area\n",
    "n=input(\"enter r for rectangle c for circle and t for triangle\")\n",
    "if n=='r' or n=='R':\n",
    "    l=eval(input(\"enter length:\"))\n",
    "    b=eval(input(\"enter breadth:\"))\n",
    "    area=l*b\n",
    "    print(\"area of rectangle is\",area)\n",
    "else:\n",
    "    if n=='c' or n=='C':\n",
    "        r=eval(input(\"enter radius:\"))\n",
    "        area =3.14*r*r\n",
    "        print(\"area of circle is\",area)\n",
    "    else :\n",
    "        if n=='t' or n=='T':\n",
    "            b=eval(input(\"enter base:\"))\n",
    "            h=eval(input(\"enter height:\"))\n",
    "            area=0.5*b*h\n",
    "            print(\"area of triangle is\",area)\n",
    "        else :\n",
    "            print(\"Quit\")\n",
    "        "
   ]
  },
  {
   "cell_type": "code",
   "execution_count": 2,
   "metadata": {},
   "outputs": [
    {
     "name": "stdout",
     "output_type": "stream",
     "text": [
      "enter r for rectangle c for circle and t for trianglet\n",
      "enter base3\n",
      "enter height4\n",
      "area of triangle is 6.0\n",
      "enter r for rectangle c for circle and t for triangler\n",
      "enter length3\n",
      "enter breadth4\n",
      "area of rectangle is 12\n",
      "enter r for rectangle c for circle and t for trianglec\n",
      "enter radius:3\n",
      "area of circle is 28.259999999999998\n",
      "enter r for rectangle c for circle and t for triangleq\n",
      "enter quit to exit\n",
      "enter r for rectangle c for circle and t for trianglequit\n",
      "enter quit to exit\n",
      "END\n"
     ]
    }
   ],
   "source": [
    "#input shape by using WHILE\n",
    "n='c'\n",
    "while n!=\"quit\" :\n",
    "    n=input(\"enter r for rectangle c for circle and t for triangle\")\n",
    "    if n=='r' or n=='R':\n",
    "        l=eval(input(\"enter length\"))\n",
    "        b=eval(input(\"enter breadth\"))\n",
    "        area=l*b\n",
    "        print(\"area of rectangle is\",area)\n",
    "    else :\n",
    "        if n=='c' or n=='C':\n",
    "            r=eval(input(\"enter radius:\"))\n",
    "            area =3.14*r*r\n",
    "            print(\"area of circle is\",area)\n",
    "        else :\n",
    "            if n=='t' or n=='T':\n",
    "                b=eval(input(\"enter base\"))\n",
    "                h=eval(input(\"enter height\"))\n",
    "                area=0.5*h*b\n",
    "                print(\"area of triangle is\",area)\n",
    "            else :\n",
    "                print(\"enter quit to exit\")\n",
    "print(\"END\")\n",
    "                \n",
    "            "
   ]
  },
  {
   "cell_type": "code",
   "execution_count": null,
   "metadata": {},
   "outputs": [],
   "source": []
  },
  {
   "cell_type": "code",
   "execution_count": 4,
   "metadata": {},
   "outputs": [
    {
     "name": "stdout",
     "output_type": "stream",
     "text": [
      "enter number12\n",
      "12  is not a prime number\n"
     ]
    }
   ],
   "source": [
    "#to find prime number\n",
    "n=eval(input(\"enter number\"))\n",
    "d=2\n",
    "while d<n/2 :\n",
    "    if n%d==0:\n",
    "        print(n,\" is not a prime number\")\n",
    "        break\n",
    "    else:\n",
    "        d+=1\n",
    "if d>=n/2:\n",
    "    print(n,\" is a prime number\")"
   ]
  },
  {
   "cell_type": "code",
   "execution_count": 1,
   "metadata": {},
   "outputs": [
    {
     "name": "stdout",
     "output_type": "stream",
     "text": [
      "enter no max of 3 digit567\n",
      "FIVE SIX SEVEN "
     ]
    }
   ],
   "source": [
    "#string slicing\n",
    "num=(input(\"enter no max of 3 digit\"))\n",
    "i=0\n",
    "while i<3 :\n",
    "    if num[i]=='0':\n",
    "        print(\"ZERO\",end=' ')\n",
    "    elif num[i]=='1':\n",
    "        print(\"ONE\",end=' ')\n",
    "    elif num[i]=='2':\n",
    "        print(\"TWO\",end=' ')\n",
    "    elif num[i]=='3':\n",
    "        print(\"THREE\",end=' ')\n",
    "    elif num[i]=='4':\n",
    "        print(\"FOUR\",end=' ')\n",
    "    elif num[i]=='5':\n",
    "        print(\"FIVE\",end=' ')\n",
    "    elif num[i]=='6':\n",
    "        print(\"SIX\",end=' ')\n",
    "    elif num[i]=='7':\n",
    "        print(\"SEVEN\",end=' ')\n",
    "    elif num[i]=='8':\n",
    "        print(\"EIGHT\",end=' ')\n",
    "    elif num[i]=='9':\n",
    "        print(\"NINE\",end=' ')\n",
    "    i=i+1"
   ]
  },
  {
   "cell_type": "code",
   "execution_count": 1,
   "metadata": {},
   "outputs": [
    {
     "name": "stdout",
     "output_type": "stream",
     "text": [
      "enter no: 5\n",
      "sum is  15\n"
     ]
    }
   ],
   "source": [
    "#sum of n numbers\n",
    "a=eval(input(\"enter no: \"))\n",
    "i=1\n",
    "sum=0\n",
    "while i<=a:\n",
    "    sum=sum+i\n",
    "    i+=1\n",
    "print(\"sum is \",sum)"
   ]
  },
  {
   "cell_type": "code",
   "execution_count": 6,
   "metadata": {},
   "outputs": [
    {
     "name": "stdout",
     "output_type": "stream",
     "text": [
      "<reversed object at 0x00000176521591D0>\n",
      "madam\n",
      "It is not palindrome\n"
     ]
    }
   ],
   "source": [
    "my_str = 'Madam'\n",
    "\n",
    "# make it suitable for caseless comparison\n",
    "my_str = my_str.casefold()\n",
    "\n",
    "# reverse the string\n",
    "rev_str = reversed(my_str)\n",
    "print(rev_str)\n",
    "print(my_str)\n",
    "# check if the string is equal to its reverse\n",
    "if my_str == rev_str:\n",
    "   print(\"It is palindrome\")\n",
    "else:\n",
    "   print(\"It is not palindrome\")\n"
   ]
  },
  {
   "cell_type": "code",
   "execution_count": null,
   "metadata": {},
   "outputs": [],
   "source": []
  }
 ],
 "metadata": {
  "kernelspec": {
   "display_name": "Python 3",
   "language": "python",
   "name": "python3"
  },
  "language_info": {
   "codemirror_mode": {
    "name": "ipython",
    "version": 3
   },
   "file_extension": ".py",
   "mimetype": "text/x-python",
   "name": "python",
   "nbconvert_exporter": "python",
   "pygments_lexer": "ipython3",
   "version": "3.6.4"
  }
 },
 "nbformat": 4,
 "nbformat_minor": 2
}
