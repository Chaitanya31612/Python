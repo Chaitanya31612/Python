{
 "cells": [
  {
   "cell_type": "code",
   "execution_count": 1,
   "metadata": {},
   "outputs": [
    {
     "name": "stdout",
     "output_type": "stream",
     "text": [
      "enter no5\n"
     ]
    }
   ],
   "source": [
    "a=eval(input(\"enter no\"))"
   ]
  },
  {
   "cell_type": "code",
   "execution_count": 4,
   "metadata": {},
   "outputs": [
    {
     "name": "stdout",
     "output_type": "stream",
     "text": [
      "enter no a:18\n",
      "enter no b:18\n",
      "enter no c:1\n",
      "18\n",
      "end\n"
     ]
    }
   ],
   "source": [
    "#greatest 3 nos\n",
    "a=eval(input(\"enter no a:\"))\n",
    "b=eval(input(\"enter no b:\"))\n",
    "c=eval(input(\"enter no c:\"))\n",
    "if a>b:\n",
    "    if a>c:\n",
    "        print(a)\n",
    "    else:\n",
    "        print(c)\n",
    "else:\n",
    "    if b>c:\n",
    "        print(b)\n",
    "    else:\n",
    "        print(c)\n",
    "        \n",
    "print(\"end\")"
   ]
  },
  {
   "cell_type": "code",
   "execution_count": 1,
   "metadata": {},
   "outputs": [
    {
     "name": "stdout",
     "output_type": "stream",
     "text": [
      "enter radius3\n",
      "28.259999999999998\n"
     ]
    }
   ],
   "source": [
    "#to calculate radius\n",
    "r=eval(input(\"enter radius\"))\n",
    "area=3.14*r*r\n",
    "print(area)"
   ]
  },
  {
   "cell_type": "code",
   "execution_count": 3,
   "metadata": {},
   "outputs": [
    {
     "name": "stdout",
     "output_type": "stream",
     "text": [
      "enter divident12\n",
      "enter divisor3\n",
      "4.0\n"
     ]
    }
   ],
   "source": [
    "#enter divisor and divident\n",
    "divident=eval(input(\"enter divident\"))\n",
    "divisor=eval(input(\"enter divisor\"))\n",
    "if divident!=0:\n",
    "    q=divident/divisor\n",
    "    print(q)\n",
    "else:\n",
    "    print(\"not possible\")"
   ]
  },
  {
   "cell_type": "code",
   "execution_count": 9,
   "metadata": {},
   "outputs": [
    {
     "name": "stdout",
     "output_type": "stream",
     "text": [
      "enter no a:23\n",
      "enter no b:1\n",
      "enter no c:23\n",
      "C\n",
      "congartulations\n"
     ]
    }
   ],
   "source": [
    "#3 marks nd grades\n",
    "a=eval(input(\"enter no a:\"))\n",
    "b=eval(input(\"enter no b:\"))\n",
    "c=eval(input(\"enter no c:\"))\n",
    "sum=a+b+c\n",
    "if sum>=240:\n",
    "    print(\"A\")\n",
    "else:\n",
    "    if sum>=180:\n",
    "        print(\"B\")\n",
    "    else:\n",
    "        if sum>=40:\n",
    "            print(\"C\")\n",
    "        else:\n",
    "            print(\"FAIL\")\n",
    "if sum>=40:\n",
    "    print(\"congartulations\")\n",
    "else:\n",
    "    print(\"try hard\")\n"
   ]
  },
  {
   "cell_type": "code",
   "execution_count": null,
   "metadata": {},
   "outputs": [],
   "source": [
    "#greatest btw 2 nos\n",
    "a=eval(input(\"enter a\"))\n",
    "b=eval(input(\"enter b\"))\n",
    "if a>b:\n",
    "    print(a,\"is greatest\")\n",
    "else:\n",
    "    print(b,\"is greatest\")"
   ]
  },
  {
   "cell_type": "code",
   "execution_count": null,
   "metadata": {},
   "outputs": [],
   "source": [
    "#leap year\n",
    "year=eval(input(\"enter year\"))\n",
    "if year%4==0:\n",
    "    print(\"leap year is:\",year)\n",
    "else :\n",
    "    print(year,\"is not a leap year\")"
   ]
  }
 ],
 "metadata": {
  "kernelspec": {
   "display_name": "Python 3",
   "language": "python",
   "name": "python3"
  },
  "language_info": {
   "codemirror_mode": {
    "name": "ipython",
    "version": 3
   },
   "file_extension": ".py",
   "mimetype": "text/x-python",
   "name": "python",
   "nbconvert_exporter": "python",
   "pygments_lexer": "ipython3",
   "version": "3.6.4"
  }
 },
 "nbformat": 4,
 "nbformat_minor": 2
}
