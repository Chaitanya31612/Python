{
 "cells": [
  {
   "cell_type": "code",
   "execution_count": null,
   "metadata": {},
   "outputs": [],
   "source": [
    "email=[\"anita@yahoo.com \", \"ram@yahoo.com \",\"sunita@gmail.com \",\"deepak@yahoo.com \",\"abc@rediff.com \"]\n",
    "ctr=0\n",
    "for em in email:\n",
    "    pos1=em.find(\"@\")\n",
    "    print(pos1)\n",
    "    pos2=em.find(' ',pos1)\n",
    "    print(pos2)\n",
    "    host = em[pos1+1:pos2]\n",
    "    \n",
    "    histogram(host)\n",
    "    "
   ]
  },
  {
   "cell_type": "code",
   "execution_count": 1,
   "metadata": {},
   "outputs": [
    {
     "name": "stdout",
     "output_type": "stream",
     "text": [
      "10 20 30 40 50 60\n",
      "60 50 40 30 20 10\n",
      "--------\n",
      "-6\n",
      "--------\n",
      "60 50 40 30 20 10 \n",
      "--------\n",
      "10 20 30 40 50 60 \n"
     ]
    }
   ],
   "source": [
    "def main():\n",
    "    data=[10,20,30,40,50,60]\n",
    "    print(data[0],data[1],data[2],data[3],data[4],data[5])\n",
    "    \n",
    "    #print individual elements\n",
    "     #print in reverse\n",
    "    #-1 means the last element, -2 second last and so o\n",
    "    print(data[-1],data[-2],data[-3],data[-4],data[-5],data[-6])\n",
    "    \n",
    "    print('--------')\n",
    "    print(-len(data))\n",
    "    print('--------')\n",
    "   \n",
    "    #therefore -len(list) is actually same as list[0]\n",
    "    \n",
    "    for i in range(-1,-len(data)-1, -1):\n",
    "        print(data[i], end=' ')\n",
    "    print()\n",
    "    print('--------')\n",
    "    for i in range(len(data)):\n",
    "        print(data[i], end=' ')\n",
    "    print()\n",
    "    \n",
    "main()  "
   ]
  },
  {
   "cell_type": "code",
   "execution_count": 14,
   "metadata": {},
   "outputs": [
    {
     "name": "stdout",
     "output_type": "stream",
     "text": [
      "10 20 30 40 50 60 10 60\n"
     ]
    }
   ],
   "source": [
    "data=[10,20,30,40,50,60]\n",
    "print(data[0],data[1],data[2],data[3],data[4],data[5],data[-6],data[-1])"
   ]
  },
  {
   "cell_type": "code",
   "execution_count": null,
   "metadata": {},
   "outputs": [],
   "source": []
  }
 ],
 "metadata": {
  "kernelspec": {
   "display_name": "Python 3",
   "language": "python",
   "name": "python3"
  },
  "language_info": {
   "codemirror_mode": {
    "name": "ipython",
    "version": 3
   },
   "file_extension": ".py",
   "mimetype": "text/x-python",
   "name": "python",
   "nbconvert_exporter": "python",
   "pygments_lexer": "ipython3",
   "version": "3.6.4"
  }
 },
 "nbformat": 4,
 "nbformat_minor": 2
}
