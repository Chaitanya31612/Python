{
 "cells": [
  {
   "cell_type": "code",
   "execution_count": 4,
   "metadata": {},
   "outputs": [
    {
     "name": "stdout",
     "output_type": "stream",
     "text": [
      "Enter the number of elements to be in the list:9\n",
      "Element: 1\n",
      "Element: 5\n",
      "Element: 46\n",
      "Element: 78\n",
      "Element: 23\n",
      "Element: 44\n",
      "Element: 55\n",
      "Element: 66\n",
      "Element: 99\n",
      "Largest even number: 78\n",
      "Largest odd number 99\n"
     ]
    }
   ],
   "source": [
    "#to prrint the largest even and largest odd number in a list\n",
    "n=int(input(\"Enter the number of elements to be in the list:\"))\n",
    "b=[]\n",
    "for i in range(0,n):\n",
    "    a=int(input(\"Element: \"))\n",
    "    b.append(a)\n",
    "c=[]\n",
    "d=[]\n",
    "for i in b:\n",
    "    if(i%2==0):\n",
    "        c.append(i)\n",
    "    else:\n",
    "        d.append(i)\n",
    "c.sort()\n",
    "d.sort()\n",
    "count1=0\n",
    "count2=0\n",
    "\n",
    "for k in c:\n",
    "    count1=count1+1\n",
    "for j in d:\n",
    "    count2=count2+1\n",
    "print(\"Largest even number:\",c[-1])\n",
    "print(\"Largest odd number\",d[count2-1])"
   ]
  },
  {
   "cell_type": "code",
   "execution_count": 2,
   "metadata": {},
   "outputs": [
    {
     "name": "stdout",
     "output_type": "stream",
     "text": [
      "Enter number of elements:6\n",
      "Enter element:4\n",
      "Enter element:5\n",
      "Enter element:4\n",
      "Enter element:5\n",
      "Enter element:3\n",
      "Enter element:4\n",
      "Enter the number to be counted:4\n",
      "Number of times 4 appears is 3\n"
     ]
    }
   ],
   "source": [
    "# to search the number of times a particular number occurs in a list\n",
    "a=[]\n",
    "n=int(input(\"Enter number of elements:\"))\n",
    "for i in range(1,n+1):\n",
    "    b=int(input(\"Enter element:\"))\n",
    "    a.append(b)\n",
    "k=0\n",
    "num=int(input(\"Enter the number to be counted:\"))\n",
    "for j in a:\n",
    "    if(j==num):\n",
    "        k=k+1\n",
    "print(\"Number of times\",num,\"appears is\",k)"
   ]
  },
  {
   "cell_type": "code",
   "execution_count": 17,
   "metadata": {},
   "outputs": [
    {
     "name": "stdout",
     "output_type": "stream",
     "text": [
      "Enter number of elements:3\n",
      "Enter element:45\n",
      "Enter element:56\n",
      "Enter element:34\n",
      "Largest element is: 56\n"
     ]
    }
   ],
   "source": [
    "#to find the largest no in a list\n",
    "a=[]\n",
    "n=int(input(\"Enter number of elements:\"))\n",
    "for i in range(1,n+1):\n",
    "    b=int(input(\"Enter element:\"))\n",
    "    a.append(b)\n",
    "a.sort()\n",
    "print(\"Largest element is:\",a[n-1])"
   ]
  },
  {
   "cell_type": "code",
   "execution_count": 19,
   "metadata": {},
   "outputs": [
    {
     "name": "stdout",
     "output_type": "stream",
     "text": [
      "Enter number of elements:3\n",
      "Enter element:1\n",
      "Enter element:2\n",
      "Enter element:3\n",
      "Second largest element is: 2\n"
     ]
    }
   ],
   "source": [
    "#to find 2nd largest no in a list\n",
    "a=[]\n",
    "n=int(input(\"Enter number of elements:\"))\n",
    "for i in range(1,n+1):\n",
    "    b=int(input(\"Enter element:\"))\n",
    "    a.append(b)\n",
    "a.sort()\n",
    "print(\"Second largest element is:\",a[n-2])"
   ]
  },
  {
   "cell_type": "markdown",
   "metadata": {},
   "source": []
  },
  {
   "cell_type": "code",
   "execution_count": 20,
   "metadata": {},
   "outputs": [
    {
     "name": "stdout",
     "output_type": "stream",
     "text": [
      "Enter number of elements:8\n",
      "Enter element:1\n",
      "Enter element:2\n",
      "Enter element:3\n",
      "Enter element:2\n",
      "Enter element:4\n",
      "Enter element:3\n",
      "Enter element:5\n",
      "Enter element:6\n",
      "The even list [2, 2, 4, 6]\n",
      "The odd list [1, 3, 3, 5]\n"
     ]
    }
   ],
   "source": [
    "#to put the even and odd elements in a list into two different lists\n",
    "a=[]\n",
    "n=int(input(\"Enter number of elements:\"))\n",
    "for i in range(1,n+1):\n",
    "    b=int(input(\"Enter element:\"))\n",
    "    a.append(b)\n",
    "even=[]\n",
    "odd=[]\n",
    "for j in a:\n",
    "    if(j%2==0):\n",
    "        even.append(j)\n",
    "    else:\n",
    "        odd.append(j)\n",
    "print(\"The even list\",even)\n",
    "print(\"The odd list\",odd)"
   ]
  },
  {
   "cell_type": "code",
   "execution_count": 21,
   "metadata": {},
   "outputs": [
    {
     "name": "stdout",
     "output_type": "stream",
     "text": [
      "Enter number of elements:5\n",
      "Enter element:1\n",
      "Enter element:2\n",
      "Enter element:3\n",
      "Enter element:21\n",
      "Enter element:34\n",
      "Enter number of elements:4\n",
      "Enter element:45\n",
      "Enter element:1\n",
      "Enter element:34\n",
      "Enter element:67\n",
      "Sorted list is: [1, 1, 2, 3, 21, 34, 34, 45, 67]\n"
     ]
    }
   ],
   "source": [
    "#merge two lists and sort it\n",
    "a=[]\n",
    "c=[]\n",
    "n1=int(input(\"Enter number of elements:\"))\n",
    "for i in range(1,n1+1):\n",
    "    b=int(input(\"Enter element:\"))\n",
    "    a.append(b)\n",
    "n2=int(input(\"Enter number of elements:\"))\n",
    "for i in range(1,n2+1):\n",
    "    d=int(input(\"Enter element:\"))\n",
    "    c.append(d)\n",
    "new=a+c\n",
    "new.sort()\n",
    "print(\"Sorted list is:\",new)"
   ]
  },
  {
   "cell_type": "code",
   "execution_count": 1,
   "metadata": {},
   "outputs": [
    {
     "name": "stdout",
     "output_type": "stream",
     "text": [
      "[['B', 21], ['C', 26], ['A', 34]]\n"
     ]
    }
   ],
   "source": [
    "# to sort the list according to the second element in the sublist\n",
    "#use bubble sort to sort the sublists based on the second value of the sublist.\n",
    "#if the second element of the first sublist is greater than the second element of the second sublist,\n",
    "#exchange the entire sublist.\n",
    "a=[['A',34],['B',21],['C',26]]\n",
    "for i in range(0,len(a)):\n",
    "    for j in range(0,len(a)-i-1):\n",
    "        if(a[j][1]>a[j+1][1]):\n",
    "            temp=a[j]\n",
    "            a[j]=a[j+1]\n",
    "            a[j+1]=temp\n",
    " \n",
    "print(a)\n"
   ]
  },
  {
   "cell_type": "code",
   "execution_count": 16,
   "metadata": {},
   "outputs": [],
   "source": [
    "#to find the second largest number in a list using bubble sort\n",
    "a=[]\n",
    "n=int(input(\"Enter number of elements:\"))\n",
    "for i in range(1,n+1):\n",
    "    b=int(input(\"Enter element:\"))\n",
    "    a.append(b)\n",
    "for i in range(0,len(a)):\n",
    "    for j in range(0,len(a)-i-1):\n",
    "        if(a[j]>a[j+1]):\n",
    "            temp=a[j]\n",
    "            a[j]=a[j+1]\n",
    "            a[j+1]=temp \n",
    "print('Second largest number is:',a[n-2])\n"
   ]
  },
  {
   "cell_type": "code",
   "execution_count": 23,
   "metadata": {},
   "outputs": [
    {
     "name": "stdout",
     "output_type": "stream",
     "text": [
      "Enter the number of elements in list:3\n",
      "Enter element1:2\n",
      "Enter element2:2\n",
      "Enter element3:2\n",
      "The original list is:  [2, 2, 2]\n",
      "The new list is:  [2, 4, 6]\n"
     ]
    }
   ],
   "source": [
    "#union of two lists\n",
    "a=[]\n",
    "n= int(input(\"Enter the number of elements in list:\"))\n",
    "for x in range(0,n):\n",
    "    element=int(input(\"Enter element\" + str(x+1) + \":\"))\n",
    "    a.append(element)\n",
    "b=[sum(a[0:x+1]) for x in range(0,len(a))]\n",
    "print(\"The original list is: \",a)\n",
    "print(\"The new list is: \",b)"
   ]
  },
  {
   "cell_type": "code",
   "execution_count": 2,
   "metadata": {},
   "outputs": [
    {
     "name": "stdout",
     "output_type": "stream",
     "text": [
      "Enter number of elements for list1:1\n",
      "Enter number of elements for list2:2\n",
      "For list1:\n",
      "Enter element1:3\n",
      "For list2:\n",
      "Enter element1:4\n",
      "Enter element2:3\n",
      "The intersection is :\n",
      "[3]\n"
     ]
    }
   ],
   "source": [
    "#intersection of two lists\n",
    "def intersection(a, b):\n",
    "    return list(set(a) & set(b))\n",
    " \n",
    "def main():\n",
    "    alist=[]\n",
    "    blist=[]\n",
    "    n1=int(input(\"Enter number of elements for list1:\"))\n",
    "    n2=int(input(\"Enter number of elements for list2:\"))\n",
    "    print(\"For list1:\")\n",
    "    for x in range(0,n1):\n",
    "        element=int(input(\"Enter element\" + str(x+1) + \":\"))\n",
    "        alist.append(element)\n",
    "    print(\"For list2:\")\n",
    "    for x in range(0,n2):\n",
    "        element=int(input(\"Enter element\" + str(x+1) + \":\"))\n",
    "        blist.append(element)\n",
    "    print(\"The intersection is :\")\n",
    "    print(intersection(alist, blist))\n",
    "main()"
   ]
  },
  {
   "cell_type": "code",
   "execution_count": 9,
   "metadata": {},
   "outputs": [
    {
     "name": "stdout",
     "output_type": "stream",
     "text": [
      "Enter the lower range:10\n",
      "Enter the upper range:20\n",
      "[(10, 100), (11, 121), (12, 144), (13, 169), (14, 196), (15, 225), (16, 256), (17, 289), (18, 324), (19, 361), (20, 400)]\n"
     ]
    }
   ],
   "source": [
    "#takes a range and creates a list of tuples within that range \n",
    "#with the first element as the number and the second element as the square of the number.\n",
    "l_range=int(input(\"Enter the lower range:\"))\n",
    "u_range=int(input(\"Enter the upper range:\"))\n",
    "#print(\"sum of\", x, \"and\", y, \"is\" ,sum(x,y))\n",
    "a=[(x,x**2) for x in range(l_range,u_range+1)]\n",
    "print(a)"
   ]
  },
  {
   "cell_type": "code",
   "execution_count": 26,
   "metadata": {},
   "outputs": [
    {
     "name": "stdout",
     "output_type": "stream",
     "text": [
      "Enter lower range: 1\n",
      "Enter upper range: 2\n",
      "[1]\n"
     ]
    }
   ],
   "source": [
    " #to create a list of of all numbers in a range which are perfect squares and the\n",
    "#sum of the digits of the number is less than 10\n",
    "l=int(input(\"Enter lower range: \"))\n",
    "u=int(input(\"Enter upper range: \"))\n",
    "a=[]\n",
    "a=[x for x in range(l,u+1) if (int(x**0.5))**2==x and sum(list(map(int,str(x))))<10]\n",
    "print(a)\n",
    "    "
   ]
  },
  {
   "cell_type": "code",
   "execution_count": 8,
   "metadata": {},
   "outputs": [
    {
     "name": "stdout",
     "output_type": "stream",
     "text": [
      "Enter number of elements:20\n",
      "Randomised list is:  [849, 781, 822, 922, 406, 1669, 1253, 1237, 1015, 1609, 1742, 196, 1561, 443, 959, 257, 1016, 361, 1527, 672]\n"
     ]
    }
   ],
   "source": [
    "# to generate random numbers from 1 to 20 and append them to the list.\n",
    "import random\n",
    "a=[]\n",
    "n=int(input(\"Enter number of elements:\"))\n",
    "for j in range(n):\n",
    "    a.append(random.randint(1,2000))\n",
    "print('Randomised list is: ',a)"
   ]
  },
  {
   "cell_type": "code",
   "execution_count": 5,
   "metadata": {},
   "outputs": [
    {
     "name": "stdout",
     "output_type": "stream",
     "text": [
      "Enter a list of tuples:(1,2)\n",
      "Sorted:\n",
      "['(', ')', ',', '1', '2']\n"
     ]
    }
   ],
   "source": [
    "#to sort a list of tuples in increasing order by the last element in each tuple.\n",
    "def last(n):\n",
    "    return n[-1]  \n",
    " \n",
    "def sort(tuples):\n",
    "    return sorted(tuples, key=last)\n",
    " \n",
    "a=input(\"Enter a list of tuples:\")\n",
    "print(\"Sorted:\")\n",
    "print(sort(a))\n",
    "#Case 1:\n",
    "#Enter a list of tuples:[(2,5),(1,2),(4,4),(2,3)]\n",
    "#Sorted:\n",
    "#[(1, 2), (2, 3), (4, 4), (2, 5)]\n"
   ]
  },
  {
   "cell_type": "code",
   "execution_count": 35,
   "metadata": {},
   "outputs": [
    {
     "name": "stdout",
     "output_type": "stream",
     "text": [
      "Enter the number of elements in list:5\n",
      "Enter element1:2\n",
      "Enter element2:3\n",
      "Enter element3:4\n",
      "Enter element4:5\n",
      "Enter element5:6\n",
      "New list is:\n",
      "[6, 3, 4, 5, 2]\n"
     ]
    }
   ],
   "source": [
    "#to swap the first and last value of a list\n",
    "a=[]\n",
    "n= int(input(\"Enter the number of elements in list:\"))\n",
    "for x in range(0,n):\n",
    "    element=int(input(\"Enter element\" + str(x+1) + \":\"))\n",
    "    a.append(element)\n",
    "temp=a[0]\n",
    "a[0]=a[n-1]\n",
    "a[n-1]=temp\n",
    "print(\"New list is:\")\n",
    "print(a)"
   ]
  },
  {
   "cell_type": "code",
   "execution_count": 4,
   "metadata": {},
   "outputs": [
    {
     "name": "stdout",
     "output_type": "stream",
     "text": [
      "Enter the number of elements in list:6\n",
      "Enter element1:2\n",
      "Enter element2:3\n",
      "Enter element3:4\n",
      "Enter element4:3\n",
      "Enter element5:2\n",
      "Enter element6:5\n",
      "Non-duplicate items:\n",
      "[2, 3, 4, 5]\n",
      "{2, 3, 4, 5}\n"
     ]
    }
   ],
   "source": [
    "# to remove the duplicate items from a list.\n",
    "a=[]\n",
    "n= int(input(\"Enter the number of elements in list:\"))\n",
    "for x in range(0,n):\n",
    "    element=int(input(\"Enter element\" + str(x+1) + \":\"))\n",
    "    a.append(element)\n",
    "b = set()\n",
    "unique = []\n",
    "for x in a:\n",
    "    if x not in b:\n",
    "        unique.append(x)\n",
    "        b.add(x)\n",
    "print(\"Non-duplicate items:\")\n",
    "print(unique)\n",
    "print(b)"
   ]
  },
  {
   "cell_type": "markdown",
   "metadata": {},
   "source": [
    "\n"
   ]
  },
  {
   "cell_type": "code",
   "execution_count": 1,
   "metadata": {},
   "outputs": [
    {
     "name": "stdout",
     "output_type": "stream",
     "text": [
      "Enter the number of elements in list:5\n",
      "Enter element1:hi\n",
      "Enter element2:anita\n",
      "Enter element3:budhiraja\n",
      "Enter element4:sood\n",
      "Enter element5:mrhta\n",
      "The word with the longest length is:\n",
      "budhiraja\n"
     ]
    }
   ],
   "source": [
    "# to read a list of words and return the length of the longest one\n",
    "a=[]\n",
    "n= int(input(\"Enter the number of elements in list:\"))\n",
    "for x in range(0,n):\n",
    "    element=input(\"Enter element\" + str(x+1) + \":\")\n",
    "    a.append(element)\n",
    "max1=len(a[0])\n",
    "temp=a[0]\n",
    "for i in a:\n",
    "    if(len(i)>max1):\n",
    "       max1=len(i)\n",
    "       temp=i\n",
    "print(\"The word with the longest length is:\")\n",
    "print(temp)"
   ]
  },
  {
   "cell_type": "code",
   "execution_count": 2,
   "metadata": {},
   "outputs": [
    {
     "name": "stdout",
     "output_type": "stream",
     "text": [
      "Enter the number of elements in list:5\n",
      "Enter element1:hello\n",
      "Enter element2:are\n",
      "Enter element3:hello\n",
      "Enter element4:how\n",
      "Enter element5:are\n",
      "['hello', 'are', 'hello', 'how', 'are']\n",
      "Enter word to remove: hello\n",
      "Enter the occurrence to remove: 2\n",
      "The number of repetitions is:  2\n",
      "Updated list is:  ['hello', 'are', 'how', 'are']\n",
      "The distinct elements are:  {'how', 'hello', 'are'}\n"
     ]
    }
   ],
   "source": [
    "#to remove the ith occurrence of the given word in list where words can repeat\n",
    "a=[]\n",
    "n= int(input(\"Enter the number of elements in list:\"))\n",
    "for x in range(0,n):\n",
    "    element=input(\"Enter element\" + str(x+1) + \":\")\n",
    "    a.append(element)\n",
    "print(a)\n",
    "c=[]\n",
    "count=0\n",
    "b=input(\"Enter word to remove: \")\n",
    "n=int(input(\"Enter the occurrence to remove: \"))\n",
    "for i in a:\n",
    "    if(i==b):\n",
    "        count=count+1\n",
    "        if(count!=n):\n",
    "            c.append(i)\n",
    "    else:\n",
    "        c.append(i)\n",
    "if(count==0):\n",
    "    print(\"Item not found \")\n",
    "else: \n",
    "    print(\"The number of repetitions is: \",count)\n",
    "    print(\"Updated list is: \",c)\n",
    "    print(\"The distinct elements are: \",set(a))"
   ]
  },
  {
   "cell_type": "code",
   "execution_count": 3,
   "metadata": {},
   "outputs": [
    {
     "name": "stdout",
     "output_type": "stream",
     "text": [
      "[3, 4, 5, 6, 3, 4, 7, 8]\n",
      "{3, 4, 5, 6, 7, 8}\n"
     ]
    }
   ],
   "source": [
    "t=[3,4,5,6,3,4,7,8]\n",
    "print(t)\n",
    "print(set(t))"
   ]
  },
  {
   "cell_type": "code",
   "execution_count": 6,
   "metadata": {},
   "outputs": [
    {
     "name": "stdout",
     "output_type": "stream",
     "text": [
      "[4, 5, 6, 6, 7, 8, 9]\n"
     ]
    }
   ],
   "source": [
    "#merge and sort\n",
    "l=[4,5,8,6]\n",
    "l1=[6,7,9]\n",
    "l.extend(l1)\n",
    "l.sort()\n",
    "print(l)\n"
   ]
  },
  {
   "cell_type": "code",
   "execution_count": null,
   "metadata": {},
   "outputs": [],
   "source": []
  }
 ],
 "metadata": {
  "kernelspec": {
   "display_name": "Python 3",
   "language": "python",
   "name": "python3"
  },
  "language_info": {
   "codemirror_mode": {
    "name": "ipython",
    "version": 3
   },
   "file_extension": ".py",
   "mimetype": "text/x-python",
   "name": "python",
   "nbconvert_exporter": "python",
   "pygments_lexer": "ipython3",
   "version": "3.6.4"
  }
 },
 "nbformat": 4,
 "nbformat_minor": 2
}
