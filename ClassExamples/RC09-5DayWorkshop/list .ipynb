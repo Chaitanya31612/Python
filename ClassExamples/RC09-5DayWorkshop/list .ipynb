{
 "cells": [
  {
   "cell_type": "code",
   "execution_count": 3,
   "metadata": {},
   "outputs": [
    {
     "name": "stdout",
     "output_type": "stream",
     "text": [
      "[4, 6, 8]\n",
      "[5, 7, 9]\n"
     ]
    }
   ],
   "source": [
    "def oddevenlist(b):\n",
    "    c=[]\n",
    "    d=[]\n",
    "    b=[4,5,6,7,8,9]\n",
    "    for i in b:\n",
    "        if(i%2==0):\n",
    "            c.append(i)\n",
    "        else:\n",
    "            d.append(i)\n",
    "    print(c)\n",
    "    print(d)\n",
    "    \n",
    "def main():\n",
    "    b=[1,2,3,4,5,6]\n",
    "    oddevenlist(b)\n",
    "    \n",
    "main()    \n"
   ]
  },
  {
   "cell_type": "code",
   "execution_count": 1,
   "metadata": {},
   "outputs": [
    {
     "name": "stdout",
     "output_type": "stream",
     "text": [
      "6\n"
     ]
    }
   ],
   "source": [
    "#enter a string nd count vowels\n",
    "def vowel(string):\n",
    "    vowels = ('a', 'e', 'i', 'o', 'u')\n",
    "    count=0\n",
    "    for x in string:\n",
    "        if x in vowels:\n",
    "            count=count+1\n",
    "    print(count)\n",
    "\n",
    "    \n",
    "string = \"Have a nice day\"\n",
    "vowel(string)"
   ]
  },
  {
   "cell_type": "code",
   "execution_count": 47,
   "metadata": {},
   "outputs": [
    {
     "name": "stdout",
     "output_type": "stream",
     "text": [
      "[10, 20, 30, 40]\n",
      "yes\n",
      "no\n",
      "dia\n"
     ]
    }
   ],
   "source": [
    "#membership tests\n",
    "a=10\n",
    "list=[]\n",
    "\n",
    "for i in range(10,50,10):\n",
    "    list.append(i)\n",
    "\n",
    "print(list)\n",
    "\n",
    "if a in list:\n",
    "    print(\"yes\")\n",
    "    \n",
    "if 400 not in list:\n",
    "    print(\"no\")\n",
    "    \n",
    "if \"dia\" in \"india\":\n",
    "    print(\"dia\")\n"
   ]
  },
  {
   "cell_type": "code",
   "execution_count": 1,
   "metadata": {},
   "outputs": [
    {
     "name": "stdout",
     "output_type": "stream",
     "text": [
      "Hv  nc dy\n"
     ]
    }
   ],
   "source": [
    "#enter a string and remove vowels \n",
    "def vowel(string):\n",
    "    vowels = ('a', 'e', 'i', 'o', 'u') \n",
    "    for x in string:\n",
    "        if x in vowels:\n",
    "            string = string.replace(x, \"\")\n",
    "             \n",
    "    \n",
    "    print(string)\n",
    "string = \"Have a nice day\"\n",
    "vowel(string)"
   ]
  },
  {
   "cell_type": "code",
   "execution_count": 2,
   "metadata": {},
   "outputs": [
    {
     "name": "stdout",
     "output_type": "stream",
     "text": [
      "6\n"
     ]
    }
   ],
   "source": []
  },
  {
   "cell_type": "code",
   "execution_count": 5,
   "metadata": {},
   "outputs": [
    {
     "name": "stdout",
     "output_type": "stream",
     "text": [
      "3\n"
     ]
    }
   ],
   "source": [
    "list1=[\"heyo\",\"helloo\",\"hi\"]\n",
    "print(len(list1))"
   ]
  },
  {
   "cell_type": "code",
   "execution_count": 11,
   "metadata": {},
   "outputs": [
    {
     "name": "stdout",
     "output_type": "stream",
     "text": [
      "{40, 10, 80, 50, 20, 60, 30}\n"
     ]
    }
   ],
   "source": [
    "#to extract unique items from a list\n",
    "a = [10,20,30,20,10,50,60,40,80,50,40]\n",
    "#The major advantage of using a set, as opposed to a list, \n",
    "#is that it has a highly optimized method for checking whether a specific element is\n",
    "#contained in the set. This is based on a data structure known as a hash table.\n",
    "\n",
    "dup_items = set()\n",
    "uniq_items = []\n",
    "for x in a:\n",
    "    if x not in dup_items:\n",
    "        uniq_items.append(x)\n",
    "        #if dup_items is a list, use append\n",
    "        #add method for sets\n",
    "        dup_items.add(x)\n",
    "\n",
    "print(dup_items)"
   ]
  },
  {
   "cell_type": "code",
   "execution_count": 14,
   "metadata": {},
   "outputs": [
    {
     "name": "stdout",
     "output_type": "stream",
     "text": [
      "9\n",
      "[8, 7, 9, 8, 6, 3, 2, 1, 5, 3, 7]\n",
      "7\n",
      "[8, 9, 8, 6, 3, 2, 1, 5, 3, 7]\n",
      "8\n",
      "[9, 8, 6, 3, 2, 1, 5, 3, 7]\n",
      "3\n",
      "[9, 8, 6, 2, 1, 5, 3, 7]\n",
      "1\n",
      "[9, 8, 6, 2, 5, 3, 7]\n",
      "3\n",
      "[9, 8, 6, 2, 5, 7]\n",
      "[9, 8, 6, 2, 5, 7]\n"
     ]
    }
   ],
   "source": [
    "a=[9,8,7,9,8,6,3,2,1,5,3,7]\n",
    "#remove function deletes the first occurrence of number mentioned in its arguments.\n",
    "for x in a :\n",
    "    print(x)\n",
    "    a.remove(x)\n",
    "    print(a)\n",
    "print(a)"
   ]
  },
  {
   "cell_type": "code",
   "execution_count": 8,
   "metadata": {},
   "outputs": [
    {
     "name": "stdout",
     "output_type": "stream",
     "text": [
      "List elements after deleting are : 2 1 3 8 "
     ]
    }
   ],
   "source": [
    "# initializing list  \n",
    "lis = [2, 1, 3, 5, 4, 3, 8] \n",
    "  \n",
    "# using del to delete elements from pos. 2 to 5 \n",
    "# deletes 3,5,4 \n",
    "del lis[2 : 5] \n",
    "  \n",
    "# displaying list after deleting  \n",
    "print (\"List elements after deleting are : \",end=\"\") \n",
    "for i in range(0, len(lis)): \n",
    "    print(lis[i],end=\" \")"
   ]
  },
  {
   "cell_type": "code",
   "execution_count": 11,
   "metadata": {},
   "outputs": [
    {
     "name": "stdout",
     "output_type": "stream",
     "text": [
      "[2, 1, 3, 8]\n",
      "List elements after popping are : 2 1 8 "
     ]
    }
   ],
   "source": [
    "# using pop() to delete element at pos 2 \n",
    "# deletes 3 \n",
    "print(lis)\n",
    "lis.pop(2) \n",
    "  \n",
    "# displaying list after popping   \n",
    "print (\"List elements after popping are : \", end=\"\") \n",
    "for i in range(0, len(lis)): \n",
    "    print(lis[i], end=\" \") "
   ]
  },
  {
   "cell_type": "code",
   "execution_count": 21,
   "metadata": {},
   "outputs": [
    {
     "name": "stdout",
     "output_type": "stream",
     "text": [
      "List elements after inserting 4 are : 2 1 3 4 5 3 8 \r\n"
     ]
    }
   ],
   "source": [
    "# Python code to demonstrate the working of \n",
    "# insert() and remove() \n",
    "  \n",
    "# initializing list  \n",
    "lis = [2, 1, 3, 5, 3, 8] \n",
    "  \n",
    "# using insert() to insert 4 at 3rd pos \n",
    "lis.insert(3, 4) \n",
    "  \n",
    "# displaying list after inserting \n",
    "print(\"List elements after inserting 4 are : \", end=\"\") \n",
    "for i in range(0, len(lis)): \n",
    "    print(lis[i], end=\" \") \n",
    "      \n",
    "print(\"\\r\") "
   ]
  },
  {
   "cell_type": "code",
   "execution_count": 22,
   "metadata": {},
   "outputs": [
    {
     "name": "stdout",
     "output_type": "stream",
     "text": [
      "List elements after removing are : 2 1 4 5 3 8 "
     ]
    }
   ],
   "source": [
    "  \n",
    "# using remove() to remove first occurrence of 3 \n",
    "# removes 3 at pos 2 \n",
    "lis.remove(3) \n",
    "  \n",
    "# displaying list after removing  \n",
    "print (\"List elements after removing are : \", end=\"\") \n",
    "for i in range(0, len(lis)): \n",
    "    print(lis[i], end=\" \") "
   ]
  },
  {
   "cell_type": "code",
   "execution_count": 23,
   "metadata": {},
   "outputs": [
    {
     "name": "stdout",
     "output_type": "stream",
     "text": [
      "List elements after sorting are : 1 2 3 3 5 8 \r\n"
     ]
    }
   ],
   "source": [
    "# Python code to demonstrate the working of \n",
    "# sort() and reverse() \n",
    "  \n",
    "# initializing list  \n",
    "lis = [2, 1, 3, 5, 3, 8] \n",
    "  \n",
    "# using sort() to sort the list \n",
    "lis.sort() \n",
    "  \n",
    "# displaying list after sorting \n",
    "print (\"List elements after sorting are : \", end=\"\") \n",
    "for i in range(0, len(lis)): \n",
    "    print(lis[i], end=\" \") \n",
    "      \n",
    "print(\"\\r\") "
   ]
  },
  {
   "cell_type": "code",
   "execution_count": 24,
   "metadata": {},
   "outputs": [
    {
     "name": "stdout",
     "output_type": "stream",
     "text": [
      "List elements after reversing are : 8 5 3 3 2 1 "
     ]
    }
   ],
   "source": [
    "# using reverse() to reverse the list \n",
    "lis.reverse() \n",
    "  \n",
    "# displaying list after reversing \n",
    "print (\"List elements after reversing are : \", end=\"\") \n",
    "for i in range(0, len(lis)): \n",
    "    print(lis[i], end=\" \") "
   ]
  },
  {
   "cell_type": "code",
   "execution_count": 25,
   "metadata": {},
   "outputs": [
    {
     "name": "stdout",
     "output_type": "stream",
     "text": [
      "List elements after extending are : 2 1 3 5 6 4 3 \r\n",
      "List elements after clearing are : "
     ]
    }
   ],
   "source": [
    "# Python code to demonstrate the working of \n",
    "# extend() and clear() \n",
    "  \n",
    "# initializing list 1 \n",
    "lis1 = [2, 1, 3, 5] \n",
    "  \n",
    "# initializing list 1 \n",
    "lis2 = [6, 4, 3] \n",
    "  \n",
    "# using extend() to add elements of lis2 in lis1 \n",
    "lis1.extend(lis2) \n",
    "  \n",
    "# displaying list after sorting \n",
    "print (\"List elements after extending are : \", end=\"\") \n",
    "for i in range(0, len(lis1)): \n",
    "    print(lis1[i], end=\" \") \n",
    "      \n",
    "print (\"\\r\") \n",
    "  \n",
    "# using clear() to delete all lis1 contents \n",
    "lis1.clear() \n",
    "  \n",
    "# displaying list after clearing \n",
    "print (\"List elements after clearing are : \", end=\"\") \n",
    "for i in range(0, len(lis1)): \n",
    "    print(lis1[i], end=\" \") "
   ]
  },
  {
   "cell_type": "code",
   "execution_count": 32,
   "metadata": {},
   "outputs": [
    {
     "name": "stdout",
     "output_type": "stream",
     "text": [
      "[1, 9, 25, 49, 81]\n",
      "[1, 9, 25, 49, 81]\n",
      "[2, 4, 8, 16, 32, 64, 128, 256]\n",
      "[2, 3, 5, 7, 11, 13, 17, 19, 23, 29, 31, 37, 41, 43, 47]\n",
      "['a', 'b', 'c']\n",
      "\n",
      "Extracted digits\n",
      "['1', '1', '1', '2', '2']\n",
      "\n",
      "Multiplication Table\n",
      "[5, 1, 5]\n",
      "[5, 2, 10]\n",
      "[5, 3, 15]\n",
      "[5, 4, 20]\n",
      "[5, 5, 25]\n",
      "[5, 6, 30]\n",
      "[5, 7, 35]\n",
      "[5, 8, 40]\n",
      "[5, 9, 45]\n",
      "[5, 10, 50]\n"
     ]
    }
   ],
   "source": []
  },
  {
   "cell_type": "code",
   "execution_count": 21,
   "metadata": {},
   "outputs": [
    {
     "name": "stdout",
     "output_type": "stream",
     "text": [
      "['a', 'c', 1, 2.3]\n"
     ]
    }
   ],
   "source": [
    "l=[]\n",
    "l=['a','c',1,2.3]\n",
    "print(l)"
   ]
  },
  {
   "cell_type": "code",
   "execution_count": 22,
   "metadata": {},
   "outputs": [
    {
     "name": "stdout",
     "output_type": "stream",
     "text": [
      "['a', 'c', 1, 2.3, 3]\n"
     ]
    }
   ],
   "source": [
    "l.append(3)\n",
    "print(l)"
   ]
  },
  {
   "cell_type": "code",
   "execution_count": 23,
   "metadata": {},
   "outputs": [],
   "source": [
    "l.extend([4,5])"
   ]
  },
  {
   "cell_type": "code",
   "execution_count": 24,
   "metadata": {},
   "outputs": [
    {
     "name": "stdout",
     "output_type": "stream",
     "text": [
      "['a', 'c', 1, 2.3, 3, 4, 5]\n"
     ]
    }
   ],
   "source": [
    "print(l)"
   ]
  },
  {
   "cell_type": "code",
   "execution_count": 37,
   "metadata": {},
   "outputs": [],
   "source": [
    "l.append([4,5])"
   ]
  },
  {
   "cell_type": "code",
   "execution_count": 38,
   "metadata": {},
   "outputs": [
    {
     "name": "stdout",
     "output_type": "stream",
     "text": [
      "['a', 'c', 1, 2.3, 3, 4, 5, [4, 5]]\n"
     ]
    }
   ],
   "source": [
    "print(l)\n"
   ]
  },
  {
   "cell_type": "code",
   "execution_count": 39,
   "metadata": {},
   "outputs": [
    {
     "name": "stdout",
     "output_type": "stream",
     "text": [
      "[4, 5]\n"
     ]
    }
   ],
   "source": [
    "print(l[7])"
   ]
  },
  {
   "cell_type": "code",
   "execution_count": 40,
   "metadata": {},
   "outputs": [
    {
     "name": "stdout",
     "output_type": "stream",
     "text": [
      "5\n"
     ]
    }
   ],
   "source": [
    "print(l[7][1])"
   ]
  },
  {
   "cell_type": "code",
   "execution_count": 32,
   "metadata": {},
   "outputs": [
    {
     "name": "stdout",
     "output_type": "stream",
     "text": [
      "powder\n",
      "ki\n",
      "m\n",
      "a\n"
     ]
    }
   ],
   "source": [
    "l=['washing', 'powder','nirma','doodh','ki','safedi','nirma','se','ai']\n",
    "print(l[1])\n",
    "print(l[4])\n",
    "print(l[2][3])\n",
    "print(l[5][1])\n"
   ]
  },
  {
   "cell_type": "code",
   "execution_count": 37,
   "metadata": {},
   "outputs": [
    {
     "name": "stdout",
     "output_type": "stream",
     "text": [
      "w a s h i n g   p o w d e r   n i r m a   d o o d h   k i   s a f e d i   n i r m a   s e   a i   "
     ]
    }
   ],
   "source": [
    "m=['a','e','i','o','u']for i in l:\n",
    "    for j in i:\n",
    "        if j in m:\n",
    "            print(j,end=)\n",
    "        "
   ]
  },
  {
   "cell_type": "code",
   "execution_count": null,
   "metadata": {},
   "outputs": [],
   "source": []
  }
 ],
 "metadata": {
  "kernelspec": {
   "display_name": "Python 3",
   "language": "python",
   "name": "python3"
  },
  "language_info": {
   "codemirror_mode": {
    "name": "ipython",
    "version": 3
   },
   "file_extension": ".py",
   "mimetype": "text/x-python",
   "name": "python",
   "nbconvert_exporter": "python",
   "pygments_lexer": "ipython3",
   "version": "3.6.4"
  }
 },
 "nbformat": 4,
 "nbformat_minor": 2
}
