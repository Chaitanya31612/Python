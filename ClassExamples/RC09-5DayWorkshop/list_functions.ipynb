{
 "cells": [
  {
   "cell_type": "code",
   "execution_count": 8,
   "metadata": {},
   "outputs": [
    {
     "name": "stdout",
     "output_type": "stream",
     "text": [
      "20\n",
      "[0, 0, 0, 0]\n",
      "[]\n",
      "0\n",
      "[65, 88, 26, 61, 79, 99, 39, 96, 33, 15]\n",
      "601\n"
     ]
    }
   ],
   "source": [
    "def sum(lst):\n",
    "    s=0\n",
    "    for itm in lst:\n",
    "        s=s+itm\n",
    "    return s\n",
    "\n",
    "def clear(lst):\n",
    "    for i in range(len(lst)):\n",
    "        lst[i]=0\n",
    "        \n",
    "def random_list(n):\n",
    "    import random\n",
    "    result=[]\n",
    "    for i in range(n):\n",
    "        rand=random.randrange(100)\n",
    "        result +=[rand]\n",
    "    return result\n",
    "\n",
    "def mai():\n",
    "    a=[2,4,6,8]\n",
    "    print(sum(a))\n",
    "    clear(a)\n",
    "    print(a)\n",
    "    \n",
    "    a=[]\n",
    "    #a becomes empty\n",
    "    print(a)\n",
    "    #prints []\n",
    "    print(sum(a))\n",
    "    \n",
    "    #pseudorandom list with 10 elements\n",
    "    a=random_list(10)\n",
    "    \n",
    "    print(a)\n",
    "    print(sum(a))\n",
    "\n",
    "mai()"
   ]
  },
  {
   "cell_type": "code",
   "execution_count": null,
   "metadata": {},
   "outputs": [],
   "source": []
  },
  {
   "cell_type": "code",
   "execution_count": null,
   "metadata": {},
   "outputs": [],
   "source": []
  },
  {
   "cell_type": "code",
   "execution_count": null,
   "metadata": {},
   "outputs": [],
   "source": []
  }
 ],
 "metadata": {
  "kernelspec": {
   "display_name": "Python 3",
   "language": "python",
   "name": "python3"
  },
  "language_info": {
   "codemirror_mode": {
    "name": "ipython",
    "version": 3
   },
   "file_extension": ".py",
   "mimetype": "text/x-python",
   "name": "python",
   "nbconvert_exporter": "python",
   "pygments_lexer": "ipython3",
   "version": "3.6.4"
  }
 },
 "nbformat": 4,
 "nbformat_minor": 2
}
