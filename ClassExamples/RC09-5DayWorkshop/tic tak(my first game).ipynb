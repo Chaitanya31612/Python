{
 "cells": [
  {
   "cell_type": "code",
   "execution_count": 1,
   "metadata": {},
   "outputs": [],
   "source": [
    "from tkinter import*\n",
    "\n",
    "import tkinter.messagebox\n",
    "tk=Tk()\n",
    "tk.title(\"TIC TAK\")\n",
    "\n",
    "click = True\n",
    "\n",
    "def chk(buttons):\n",
    "    global click\n",
    "    if buttons[\"text\"] == \" \" and click == True:\n",
    "        buttons[\"text\"] = \"X\"\n",
    "        click = False\n",
    "\n",
    "    elif buttons [\"text\"] == \" \" and click == False:\n",
    "        buttons[\"text\"] = \"O\"\n",
    "        click = True\n",
    "    elif(button1[\"text\"] == \"X\" and button2[\"text\"] == \"X\" and button3[\"text\"] == \"X\" or\n",
    "         button4[\"text\"] == \"X\" and button5[\"text\"] == \"X\" and button6[\"text\"] == \"X\" or\n",
    "         button7[\"text\"] == \"X\" and button8[\"text\"] == \"X\" and button9[\"text\"] == \"X\" or\n",
    "         button1[\"text\"] == \"X\" and button4[\"text\"] == \"X\" and button7[\"text\"] == \"X\" or\n",
    "         button2[\"text\"] == \"X\" and button5[\"text\"] == \"X\" and button8[\"text\"] == \"X\" or\n",
    "         button3[\"text\"] == \"X\" and button6[\"text\"] == \"X\" and button9[\"text\"] == \"X\" or\n",
    "         button1[\"text\"] == \"X\" and button5[\"text\"] == \"X\" and button9[\"text\"] == \"X\" or\n",
    "         button3[\"text\"] == \"X\" and button5[\"text\"] == \"X\" and button7[\"text\"] == \"X\"):\n",
    "         tkinter.messagebox.showinfo(\"winner X\", \"X win the game\")\n",
    "         \n",
    "    elif(button1[\"text\"] == \"O\" and button2[\"text\"] == \"O\" and button3[\"text\"] == \"O\" or\n",
    "         button4[\"text\"] == \"O\" and button5[\"text\"] == \"O\" and button6[\"text\"] == \"O\" or\n",
    "         button7[\"text\"] == \"O\" and button8[\"text\"] == \"O\" and button9[\"text\"] == \"O\" or\n",
    "         button1[\"text\"] == \"O\" and button4[\"text\"] == \"O\" and button7[\"text\"] == \"O\" or\n",
    "         button2[\"text\"] == \"O\" and button5[\"text\"] == \"O\" and button8[\"text\"] == \"O\" or\n",
    "         button3[\"text\"] == \"O\" and button6[\"text\"] == \"O\" and button9[\"text\"] == \"O\" or\n",
    "         button1[\"text\"] == \"O\" and button5[\"text\"] == \"O\" and button9[\"text\"] == \"O\" or\n",
    "         button3[\"text\"] == \"O\" and button5[\"text\"] == \"O\" and button7[\"text\"] == \"O\"):\n",
    "         tkinter.messagebox.showinfo(\"winner O\", \"O win the game\")      \n",
    "         \n",
    "    buttons=StringVar()\n",
    "\n",
    "button1 = Button(tk,text=\" \",font=('Time 26 bold'), height = 4 , width = 8, command=lambda:chk(button1))\n",
    "button1.grid(row=1, column=0,sticky = S+N+E+W)\n",
    "button2 = Button(tk,text=\" \",font=('Time 26 bold'), height = 4 , width = 8, command=lambda:chk(button2))\n",
    "button2.grid(row=1, column=1,sticky = S+N+E+W)\n",
    "button3 = Button(tk,text=\" \",font=('Time 26 bold'), height = 4 , width = 8, command=lambda:chk(button3))\n",
    "button3.grid(row=1, column=2,sticky = S+N+E+W)\n",
    "button4 = Button(tk,text=\" \",font=('Time 26 bold'), height = 4 , width = 8, command=lambda:chk(button4))\n",
    "button4.grid(row=2, column=0,sticky = S+N+E+W)\n",
    "button5 = Button(tk,text=\" \",font=('Time 26 bold'), height = 4 , width = 8, command=lambda:chk(button5))\n",
    "button5.grid(row=2, column=1,sticky = S+N+E+W)\n",
    "button6 = Button(tk,text=\" \",font=('Time 26 bold'), height = 4 , width = 8, command=lambda:chk(button6))\n",
    "button6.grid(row=2, column=2,sticky = S+N+E+W)\n",
    "button7 = Button(tk,text=\" \",font=('Time 26 bold'), height = 4 , width = 8, command=lambda:chk(button7))\n",
    "button7.grid(row=3, column=0,sticky = S+N+E+W)\n",
    "button8 = Button(tk,text=\" \",font=('Time 26 bold'), height = 4 , width = 8, command=lambda:chk(button8))\n",
    "button8.grid(row=3, column=1,sticky = S+N+E+W)\n",
    "button9 = Button(tk,text=\" \",font=('Time 26 bold'), height = 4 , width = 8, command=lambda:chk(button9))\n",
    "button9.grid(row=3, column=2,sticky = S+N+E+W)\n",
    "\n",
    "tk.mainloop()"
   ]
  },
  {
   "cell_type": "code",
   "execution_count": 6,
   "metadata": {},
   "outputs": [],
   "source": []
  },
  {
   "cell_type": "code",
   "execution_count": null,
   "metadata": {},
   "outputs": [],
   "source": []
  },
  {
   "cell_type": "code",
   "execution_count": null,
   "metadata": {},
   "outputs": [],
   "source": []
  },
  {
   "cell_type": "code",
   "execution_count": null,
   "metadata": {},
   "outputs": [],
   "source": []
  }
 ],
 "metadata": {
  "kernelspec": {
   "display_name": "Python 3",
   "language": "python",
   "name": "python3"
  },
  "language_info": {
   "codemirror_mode": {
    "name": "ipython",
    "version": 3
   },
   "file_extension": ".py",
   "mimetype": "text/x-python",
   "name": "python",
   "nbconvert_exporter": "python",
   "pygments_lexer": "ipython3",
   "version": "3.6.4"
  }
 },
 "nbformat": 4,
 "nbformat_minor": 2
}
