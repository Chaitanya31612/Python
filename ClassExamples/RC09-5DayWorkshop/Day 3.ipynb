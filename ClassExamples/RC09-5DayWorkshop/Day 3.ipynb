{
 "cells": [
  {
   "cell_type": "code",
   "execution_count": 1,
   "metadata": {},
   "outputs": [
    {
     "name": "stdout",
     "output_type": "stream",
     "text": [
      "1\n",
      "2\n",
      "3\n",
      "4\n",
      "5\n",
      "6\n",
      "7\n",
      "8\n",
      "9\n",
      "10\n"
     ]
    }
   ],
   "source": [
    "#for loop\n",
    "for n in range(1,11):\n",
    "    print(n )"
   ]
  },
  {
   "cell_type": "code",
   "execution_count": 3,
   "metadata": {},
   "outputs": [
    {
     "name": "stdout",
     "output_type": "stream",
     "text": [
      "21 18 15 12 9 6 3 "
     ]
    }
   ],
   "source": [
    "for i in range(21,0,-3):\n",
    "    print(i,end=\" \")"
   ]
  },
  {
   "cell_type": "code",
   "execution_count": 4,
   "metadata": {},
   "outputs": [
    {
     "name": "stdout",
     "output_type": "stream",
     "text": [
      "i= 1   j= 1\n",
      "i= 1   j= 2\n",
      "i= 2   j= 1\n",
      "i= 2   j= 2\n",
      "i= 3   j= 1\n",
      "i= 3   j= 2\n",
      "i= 4   j= 1\n",
      "i= 4   j= 2\n"
     ]
    }
   ],
   "source": [
    "#nesting\n",
    "for i in range (1,5,1):\n",
    "    for j in range(1,3,1):\n",
    "        print(\"i=\",i,\" \",\"j=\",j)"
   ]
  },
  {
   "cell_type": "code",
   "execution_count": 5,
   "metadata": {},
   "outputs": [
    {
     "name": "stdout",
     "output_type": "stream",
     "text": [
      "enter no:12\n",
      "12 * 0 = 0\n",
      "12 * 1 = 12\n",
      "12 * 2 = 24\n",
      "12 * 3 = 36\n",
      "12 * 4 = 48\n",
      "12 * 5 = 60\n",
      "12 * 6 = 72\n",
      "12 * 7 = 84\n",
      "12 * 8 = 96\n",
      "12 * 9 = 108\n",
      "12 * 10 = 120\n",
      "12 * 11 = 132\n",
      "12 * 12 = 144\n"
     ]
    }
   ],
   "source": [
    "#multiplication\n",
    "n=int(input(\"enter no:\"))\n",
    "for i in range (0,n+1,1):\n",
    "    print(n,\"*\",i,\"=\",n*i)"
   ]
  },
  {
   "cell_type": "code",
   "execution_count": 6,
   "metadata": {},
   "outputs": [
    {
     "name": "stdout",
     "output_type": "stream",
     "text": [
      "enter no: 7\n",
      "0 1 1 2 3 5 8 "
     ]
    }
   ],
   "source": [
    "#fibonaci series\n",
    "n=int(input(\"enter no: \"))\n",
    "a=0\n",
    "b=1\n",
    "for i in range (1,n+1,1):\n",
    "    print(a,end=\" \")\n",
    "    t=a+b\n",
    "    a=b\n",
    "    b=t"
   ]
  },
  {
   "cell_type": "code",
   "execution_count": 7,
   "metadata": {},
   "outputs": [
    {
     "name": "stdout",
     "output_type": "stream",
     "text": [
      "enter m :5\n",
      "enter n :20\n",
      "200\n",
      "avg is 13.333333333333334\n"
     ]
    }
   ],
   "source": [
    "#avg of numbers entered by user\n",
    "m=int(input(\"enter m :\"))\n",
    "n=int(input(\"enter n :\"))\n",
    "sum=0\n",
    "for i in range(m,n+1,1):\n",
    "    sum=sum+i\n",
    "print(sum)\n",
    "total=n-m\n",
    "avg=sum/total\n",
    "print(\"avg is\",avg)"
   ]
  },
  {
   "cell_type": "code",
   "execution_count": 8,
   "metadata": {},
   "outputs": [
    {
     "data": {
      "text/plain": [
       "12"
      ]
     },
     "execution_count": 8,
     "metadata": {},
     "output_type": "execute_result"
    }
   ],
   "source": [
    "def gcd(a,b):\n",
    "    ''' greatest common divisor '''\n",
    "    while a!=0:\n",
    "        a,b=b%a,a #parallel \n",
    "        return b\n",
    "gcd(12,20)"
   ]
  },
  {
   "cell_type": "code",
   "execution_count": null,
   "metadata": {},
   "outputs": [],
   "source": []
  }
 ],
 "metadata": {
  "kernelspec": {
   "display_name": "Python 3",
   "language": "python",
   "name": "python3"
  },
  "language_info": {
   "codemirror_mode": {
    "name": "ipython",
    "version": 3
   },
   "file_extension": ".py",
   "mimetype": "text/x-python",
   "name": "python",
   "nbconvert_exporter": "python",
   "pygments_lexer": "ipython3",
   "version": "3.6.4"
  }
 },
 "nbformat": 4,
 "nbformat_minor": 2
}
