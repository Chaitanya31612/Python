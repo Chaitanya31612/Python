{
 "cells": [
  {
   "cell_type": "code",
   "execution_count": 1,
   "metadata": {},
   "outputs": [
    {
     "name": "stdout",
     "output_type": "stream",
     "text": [
      "this is anita\n",
      "hello python\n"
     ]
    }
   ],
   "source": [
    "def sayhello():\n",
    "     print (\"this is anita\")\n",
    "     print (\"hello python\")  \n",
    "\t\t \n",
    "sayhello()"
   ]
  },
  {
   "cell_type": "code",
   "execution_count": 5,
   "metadata": {},
   "outputs": [
    {
     "name": "stdout",
     "output_type": "stream",
     "text": [
      "[['\"1994', '1', '2', '7', '7772\"'], ['\"1994', '1', '3', '1', '10142\"'], ['\"1994', '1', '4', '2', '11248\"'], ['\"1994', '1', '5', '3', '11053\"'], ['\"1994', '1', '6', '4', '11406\"'], ['\"1994', '1', '7', '5', '11251\"'], ['\"1994', '1', '8', '6', '8653\"'], ['']]\n"
     ]
    }
   ],
   "source": [
    "def read_csv(x):\n",
    "    string_data = open(x).read()\n",
    "    string_list = string_data.split(\"\\n\")[1:]\n",
    "    final_list = []\n",
    "    \n",
    "    for row in string_list:\n",
    "        string_fields = row.split(\",\")\n",
    "        int_fields = []\n",
    "        for value in string_fields:\n",
    "            int_fields.append((value))\n",
    "        final_list.append(int_fields)\n",
    "    return final_list\n",
    "        \n",
    "cdc_list = read_csv(\"US_births_1994-2003_CDC_NCHS.csv\")\n",
    "\n",
    "print(cdc_list)"
   ]
  },
  {
   "cell_type": "code",
   "execution_count": null,
   "metadata": {},
   "outputs": [],
   "source": [
    "()"
   ]
  }
 ],
 "metadata": {
  "kernelspec": {
   "display_name": "Python 3",
   "language": "python",
   "name": "python3"
  },
  "language_info": {
   "codemirror_mode": {
    "name": "ipython",
    "version": 3
   },
   "file_extension": ".py",
   "mimetype": "text/x-python",
   "name": "python",
   "nbconvert_exporter": "python",
   "pygments_lexer": "ipython3",
   "version": "3.6.4"
  }
 },
 "nbformat": 4,
 "nbformat_minor": 2
}
