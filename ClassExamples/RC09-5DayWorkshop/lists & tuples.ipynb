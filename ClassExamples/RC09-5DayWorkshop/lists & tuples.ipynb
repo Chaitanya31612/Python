{
 "cells": [
  {
   "cell_type": "code",
   "execution_count": 10,
   "metadata": {},
   "outputs": [],
   "source": [
    "def my_function():\n",
    "    \"\"\"Demonstrate docstrings\"\"\"\n",
    "    return none\n"
   ]
  },
  {
   "cell_type": "code",
   "execution_count": 11,
   "metadata": {},
   "outputs": [
    {
     "name": "stdout",
     "output_type": "stream",
     "text": [
      "Help on built-in function dir in module builtins:\n",
      "\n",
      "dir(...)\n",
      "    dir([object]) -> list of strings\n",
      "    \n",
      "    If called without an argument, return the names in the current scope.\n",
      "    Else, return an alphabetized list of names comprising (some of) the attributes\n",
      "    of the given object, and of attributes reachable from it.\n",
      "    If the object supplies a method named __dir__, it will be used; otherwise\n",
      "    the default dir() logic is used and returns:\n",
      "      for a module object: the module's attributes.\n",
      "      for a class object:  its attributes, and recursively the attributes\n",
      "        of its bases.\n",
      "      for any other object: its attributes, its class's attributes, and\n",
      "        recursively the attributes of its class's base classes.\n",
      "\n"
     ]
    }
   ],
   "source": [
    "help(dir)"
   ]
  },
  {
   "cell_type": "code",
   "execution_count": 8,
   "metadata": {},
   "outputs": [
    {
     "name": "stdout",
     "output_type": "stream",
     "text": [
      "using __doc__\n",
      "Demonstrate docstrings\n",
      "using help\n",
      "Help on function my_function in module __main__:\n",
      "\n",
      "my_function()\n",
      "    Demonstrate docstrings\n",
      "\n"
     ]
    }
   ],
   "source": [
    "print(\"using __doc__\")\n",
    "print(my_function.__doc__)\n",
    "print(\"using help\")\n",
    "help(my_function)"
   ]
  },
  {
   "cell_type": "code",
   "execution_count": 9,
   "metadata": {},
   "outputs": [
    {
     "name": "stdout",
     "output_type": "stream",
     "text": [
      "\n",
      "    Demonstrate \n",
      "    docstrings\n",
      "    \n"
     ]
    }
   ],
   "source": [
    "#multiple lines\n",
    "def my_function1():\n",
    "    \"\"\"\n",
    "    Demonstrate \n",
    "    docstrings\n",
    "    \"\"\"\n",
    "    return none\n",
    "\n",
    "print(my_function1.__doc__)"
   ]
  },
  {
   "cell_type": "code",
   "execution_count": 15,
   "metadata": {},
   "outputs": [
    {
     "name": "stdout",
     "output_type": "stream",
     "text": [
      "['tram', 'car', 'jeep', 'bus', 'scooter']\n",
      "['bus', 'car', 'jeep', 'scooter', 'tram']\n",
      "the bus is deleted\n",
      "Now the vehicle list is : ['car', 'jeep', 'scooter', 'tram']\n",
      "['tram', 'scooter', 'jeep', 'car']\n",
      "['tram', 'jeep']\n",
      "['car', 'scooter']\n"
     ]
    }
   ],
   "source": [
    "vehicle=['tram', 'car','jeep','bus','scooter']\n",
    "print(vehicle)\n",
    "vehicle.sort()\n",
    "print(vehicle)\n",
    "oldvehicle=vehicle[0]\n",
    "del vehicle[0]\n",
    "print(\"the\", oldvehicle ,\"is deleted\")\n",
    "print(\"Now the vehicle list is :\",vehicle)\n",
    "#print in reverse order using slicing\n",
    "print(vehicle[::-1])\n",
    "print(vehicle[::-2])\n",
    "print(vehicle[::2])\n"
   ]
  },
  {
   "cell_type": "code",
   "execution_count": 16,
   "metadata": {},
   "outputs": [
    {
     "name": "stdout",
     "output_type": "stream",
     "text": [
      "['car', 'jeep', 'scooter', 'tram']\n",
      "['car', 'jeep', 'scooter', 'tram', 'bus']\n",
      "['car', 'jeep', 'scooter', 'tram', 'bus']\n"
     ]
    }
   ],
   "source": [
    "new_vehicle=vehicle\n",
    "print(new_vehicle)\n",
    "new_vehicle.append('bus')\n",
    "print(new_vehicle)\n",
    "print(vehicle)\n"
   ]
  },
  {
   "cell_type": "code",
   "execution_count": 17,
   "metadata": {},
   "outputs": [
    {
     "name": "stdout",
     "output_type": "stream",
     "text": [
      "['car', 'jeep', 'bus', 'scooter']\n",
      "['car', 'jeep', 'bus', 'scooter']\n",
      "['car', 'jeep', 'bus', 'scooter']\n",
      "['jeep', 'bus', 'scooter']\n"
     ]
    }
   ],
   "source": [
    "vehicle=['tram', 'car','jeep','bus','scooter']\n",
    "newvehicle=vehicle\n",
    "#this makes both point to the same object\n",
    "del vehicle[0]\n",
    "print(newvehicle)\n",
    "print(vehicle)\n",
    "#to make a copy of the list , use\n",
    "copyvehicle=vehicle[:]\n",
    "#now copyvehicle is different from newvehicle\n",
    "del copyvehicle[0]\n",
    "print(vehicle)\n",
    "print(copyvehicle)\n"
   ]
  },
  {
   "cell_type": "code",
   "execution_count": 23,
   "metadata": {},
   "outputs": [
    {
     "name": "stdout",
     "output_type": "stream",
     "text": [
      "('abcd', 786, 2.23, 'nielit', 70.2)\n",
      "abcd\n",
      "(786, 2.23)\n",
      "(2.23, 'nielit', 70.2)\n",
      "(123, 'nielit', 123, 'nielit')\n"
     ]
    }
   ],
   "source": [
    "tuple = ( 'abcd', 786 , 2.23, 'nielit', 70.2  )\n",
    "tinytuple = (123, 'nielit')\n",
    "print(tuple)           # Prints complete list\n",
    "print(tuple[0])        # Prints first element of the list\n",
    "print(tuple[1:3])      # Prints elements starting from 2nd till 3rd \n",
    "print(tuple[2:]  )     # Prints elements starting from 3rd element\n",
    "print(tinytuple * 2)   # Prints list two times\n",
    "#print( tuple + tinytuple) # Prints concatenated lists\n"
   ]
  },
  {
   "cell_type": "code",
   "execution_count": 28,
   "metadata": {},
   "outputs": [
    {
     "data": {
      "text/plain": [
       "['abcd', 786, 1000, 'john', 70.2]"
      ]
     },
     "execution_count": 28,
     "metadata": {},
     "output_type": "execute_result"
    }
   ],
   "source": [
    "tuple = ( 'abcd', 786 , 2.23, 'john', 70.2  )\n",
    "list = [ 'abcd', 786 , 2.23, 'john', 70.2  ]\n",
    "#tuple[2] = 1000    # Invalid syntax with tuple\n",
    "list[2] = 1000     # Valid syntax with list\n",
    "list"
   ]
  },
  {
   "cell_type": "code",
   "execution_count": 49,
   "metadata": {},
   "outputs": [
    {
     "name": "stdout",
     "output_type": "stream",
     "text": [
      "543\n"
     ]
    }
   ],
   "source": [
    "t = (123, 543, 'bar')\n",
    "#or \n",
    "#t= 123,543,'bar'    parenthesis optional\n",
    "x, y, z = t\n",
    "x\n",
    "print(t[1])\n",
    "\n",
    "#packing always creates tuple\n",
    "#unpacking works for any sequence (list, string, tuple)\n",
    "\n",
    "\n",
    "\n"
   ]
  },
  {
   "cell_type": "code",
   "execution_count": 48,
   "metadata": {},
   "outputs": [
    {
     "name": "stdout",
     "output_type": "stream",
     "text": [
      "bar\n"
     ]
    }
   ],
   "source": [
    "t = [123, 543, 'bar']\n",
    "x, y, z = t\n",
    "x\n",
    "print(t[2])"
   ]
  },
  {
   "cell_type": "code",
   "execution_count": 51,
   "metadata": {},
   "outputs": [
    {
     "data": {
      "text/plain": [
       "'h'"
      ]
     },
     "execution_count": 51,
     "metadata": {},
     "output_type": "execute_result"
    }
   ],
   "source": [
    "t = \"hello\"\n",
    "x, y, z, a, r = t\n",
    "x\n",
    "#print(t[3])"
   ]
  },
  {
   "cell_type": "code",
   "execution_count": 65,
   "metadata": {},
   "outputs": [],
   "source": [
    "point = x, y, z\t # parentheses optional\n",
    "x, y, z = point   "
   ]
  },
  {
   "cell_type": "code",
   "execution_count": 63,
   "metadata": {},
   "outputs": [
    {
     "name": "stdout",
     "output_type": "stream",
     "text": [
      "g\n",
      "e\n",
      "l\n"
     ]
    }
   ],
   "source": [
    "print(x)\n",
    "print(y)\n",
    "print(z)"
   ]
  },
  {
   "cell_type": "code",
   "execution_count": null,
   "metadata": {},
   "outputs": [],
   "source": []
  }
 ],
 "metadata": {
  "kernelspec": {
   "display_name": "Python 3",
   "language": "python",
   "name": "python3"
  },
  "language_info": {
   "codemirror_mode": {
    "name": "ipython",
    "version": 3
   },
   "file_extension": ".py",
   "mimetype": "text/x-python",
   "name": "python",
   "nbconvert_exporter": "python",
   "pygments_lexer": "ipython3",
   "version": "3.6.4"
  }
 },
 "nbformat": 4,
 "nbformat_minor": 2
}
