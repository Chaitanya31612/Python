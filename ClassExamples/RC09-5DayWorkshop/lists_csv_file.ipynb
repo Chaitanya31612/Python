{
 "cells": [
  {
   "cell_type": "code",
   "execution_count": 1,
   "metadata": {},
   "outputs": [
    {
     "name": "stdout",
     "output_type": "stream",
     "text": [
      "enter first number:3\n",
      "enter second number:4\n",
      "the sum of 3 and 4 is 7\n"
     ]
    }
   ],
   "source": [
    "#program to add to number\n",
    "num1=input('enter first number:')\n",
    "num2=input('enter second number:')\n",
    "sum=int(num1)+int(num2)\n",
    "print('the sum of {0} and {1} is {2}'.format(num1,num2,sum))"
   ]
  },
  {
   "cell_type": "code",
   "execution_count": null,
   "metadata": {},
   "outputs": [],
   "source": []
  },
  {
   "cell_type": "code",
   "execution_count": 6,
   "metadata": {},
   "outputs": [],
   "source": [
    "import csv\n",
    "def read_csv(x):\n",
    "    string_data = open(x).read()\n",
    "    print(string_data)\n",
    "    #convert ito lists\n",
    "    string_list = string_data.split(\"\\n\")\n",
    "    final_list = []\n",
    "    print(string_list)\n",
    "    \n",
    "    for row in string_list:\n",
    "        string_fields = row.split(\",\")\n",
    "        #print (string_fields)\n",
    "        \n",
    "        \n",
    "        int_fields = []\n",
    "        for value in string_fields:\n",
    "            int_fields.append((value))\n",
    "        final_list.append(int_fields)\n",
    "    return final_list\n",
    "    \n",
    "        \n"
   ]
  },
  {
   "cell_type": "code",
   "execution_count": 5,
   "metadata": {},
   "outputs": [
    {
     "name": "stdout",
     "output_type": "stream",
     "text": [
      "\"1994,1,1,6,8096\"\n",
      "\"1994,1,2,7,7772\"\n",
      "\"1994,1,3,1,10142\"\n",
      "\"1994,1,4,2,11248\"\n",
      "\"1994,1,5,3,11053\"\n",
      "\"1994,1,6,4,11406\"\n",
      "\"1994,1,7,5,11251\"\n",
      "\"1994,1,8,6,8653\"\n",
      "\n",
      "['\"1994,1,1,6,8096\"', '\"1994,1,2,7,7772\"', '\"1994,1,3,1,10142\"', '\"1994,1,4,2,11248\"', '\"1994,1,5,3,11053\"', '\"1994,1,6,4,11406\"', '\"1994,1,7,5,11251\"', '\"1994,1,8,6,8653\"', '']\n",
      "['\"1994', '1', '1', '6', '8096\"']\n",
      "['\"1994', '1', '2', '7', '7772\"']\n",
      "['\"1994', '1', '3', '1', '10142\"']\n",
      "['\"1994', '1', '4', '2', '11248\"']\n",
      "['\"1994', '1', '5', '3', '11053\"']\n",
      "['\"1994', '1', '6', '4', '11406\"']\n",
      "['\"1994', '1', '7', '5', '11251\"']\n",
      "['\"1994', '1', '8', '6', '8653\"']\n",
      "['']\n"
     ]
    }
   ],
   "source": [
    "cdc_list = read_csv(\"US_births_1994-2003_CDC_NCHS.csv\")\n",
    "print(cdc_list)"
   ]
  },
  {
   "cell_type": "code",
   "execution_count": 7,
   "metadata": {},
   "outputs": [
    {
     "name": "stdout",
     "output_type": "stream",
     "text": [
      "[['\"1994', '1', '1', '6', '8096\"'], ['\"1994', '1', '2', '7', '7772\"'], ['\"1994', '1', '3', '1', '10142\"'], ['\"1994', '1', '4', '2', '11248\"'], ['\"1994', '1', '5', '3', '11053\"'], ['\"1994', '1', '6', '4', '11406\"'], ['\"1994', '1', '7', '5', '11251\"'], ['\"1994', '1', '8', '6', '8653\"'], ['']]\n"
     ]
    }
   ],
   "source": [
    "print(cdc_list)"
   ]
  },
  {
   "cell_type": "code",
   "execution_count": null,
   "metadata": {},
   "outputs": [],
   "source": []
  },
  {
   "cell_type": "code",
   "execution_count": null,
   "metadata": {},
   "outputs": [],
   "source": []
  }
 ],
 "metadata": {
  "kernelspec": {
   "display_name": "Python 3",
   "language": "python",
   "name": "python3"
  },
  "language_info": {
   "codemirror_mode": {
    "name": "ipython",
    "version": 3
   },
   "file_extension": ".py",
   "mimetype": "text/x-python",
   "name": "python",
   "nbconvert_exporter": "python",
   "pygments_lexer": "ipython3",
   "version": "3.6.4"
  }
 },
 "nbformat": 4,
 "nbformat_minor": 2
}
