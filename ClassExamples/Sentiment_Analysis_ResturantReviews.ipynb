{
 "cells": [
  {
   "cell_type": "code",
   "execution_count": 2,
   "metadata": {
    "collapsed": true
   },
   "outputs": [],
   "source": [
    "import nltk\n",
    "from nltk.tokenize import word_tokenize\n",
    "# Step 1 – Training data\n",
    "train = [(\"Great place to be when you are in Bangalore.\", \"pos\"), (\"The place was being renovated when I visited so the seating was limited.\", \"neg\"), (\"Loved the ambience, loved the food\", \"pos\"), (\"The food is delicious but not over the top.\", \"neg\"), (\"Service - Little slow, probably because too many people.\", \"neg\"), (\"The place is not easy to locate\", \"neg\"), (\"Mushroom fried rice was spicy\", \"pos\") ]\n",
    "  \n"
   ]
  },
  {
   "cell_type": "code",
   "execution_count": 10,
   "metadata": {},
   "outputs": [
    {
     "data": {
      "text/plain": [
       "[('Great place to be when you are in Bangalore.', 'pos'),\n",
       " ('The place was being renovated when I visited so the seating was limited.',\n",
       "  'neg'),\n",
       " ('Loved the ambience, loved the food', 'pos'),\n",
       " ('The food is delicious but not over the top.', 'neg'),\n",
       " ('Service - Little slow, probably because too many people.', 'neg'),\n",
       " ('The place is not easy to locate', 'neg'),\n",
       " ('Mushroom fried rice was spicy', 'pos')]"
      ]
     },
     "execution_count": 10,
     "metadata": {},
     "output_type": "execute_result"
    }
   ],
   "source": [
    "train"
   ]
  },
  {
   "cell_type": "code",
   "execution_count": 3,
   "metadata": {},
   "outputs": [
    {
     "name": "stdout",
     "output_type": "stream",
     "text": [
      "*dictionary*\n",
      "{'so', 'to', 'i', 'food', '.', 'be', 'when', 'probably', 'loved', 'easy', 'great', 'you', 'little', 'in', 'ambience', 'delicious', 'limited', 'are', 'slow', 'service', 'is', 'over', 'fried', 'but', 'not', 'place', 'was', 'locate', '-', 'rice', 'visited', ',', 'spicy', 'people', 'mushroom', 'too', 'many', 'the', 'renovated', 'top', 'because', 'seating', 'being', 'bangalore'}\n"
     ]
    }
   ],
   "source": [
    "# Step 2\n",
    "dictionary = set(word.lower() for passage in train for word in word_tokenize(passage[0]))\n",
    "print(\"*dictionary*\")\n",
    "print(dictionary)\n"
   ]
  },
  {
   "cell_type": "code",
   "execution_count": 12,
   "metadata": {},
   "outputs": [
    {
     "name": "stdout",
     "output_type": "stream",
     "text": [
      "*t*\n",
      "[({'being': False, 'fried': False, 'top': False, 'loved': False, 'because': False, ',': False, 'was': False, '-': False, 'the': False, 'spicy': False, 'bangalore': False, 'mushroom': False, '.': True, 'probably': False, 'locate': False, 'be': True, 'is': False, 'but': False, 'people': False, 'place': True, 'seating': False, 'you': True, 'so': False, 'delicious': False, 'many': False, 'when': True, 'not': False, 'great': False, 'renovated': False, 'visited': False, 'are': True, 'i': False, 'to': True, 'ambience': False, 'food': False, 'little': False, 'over': False, 'in': True, 'too': False, 'slow': False, 'easy': False, 'limited': False, 'rice': False, 'service': False}, 'pos'), ({'being': True, 'fried': False, 'top': False, 'loved': False, 'because': False, ',': False, 'was': True, '-': False, 'the': True, 'spicy': False, 'bangalore': False, 'mushroom': False, '.': True, 'probably': False, 'locate': False, 'be': False, 'is': False, 'but': False, 'people': False, 'place': True, 'seating': True, 'you': False, 'so': True, 'delicious': False, 'many': False, 'when': True, 'not': False, 'great': False, 'renovated': True, 'visited': True, 'are': False, 'i': False, 'to': False, 'ambience': False, 'food': False, 'little': False, 'over': False, 'in': False, 'too': False, 'slow': False, 'easy': False, 'limited': True, 'rice': False, 'service': False}, 'neg'), ({'being': False, 'fried': False, 'top': False, 'loved': True, 'because': False, ',': True, 'was': False, '-': False, 'the': True, 'spicy': False, 'bangalore': False, 'mushroom': False, '.': False, 'probably': False, 'locate': False, 'be': False, 'is': False, 'but': False, 'people': False, 'place': False, 'seating': False, 'you': False, 'so': False, 'delicious': False, 'many': False, 'when': False, 'not': False, 'great': False, 'renovated': False, 'visited': False, 'are': False, 'i': False, 'to': False, 'ambience': True, 'food': True, 'little': False, 'over': False, 'in': False, 'too': False, 'slow': False, 'easy': False, 'limited': False, 'rice': False, 'service': False}, 'pos'), ({'being': False, 'fried': False, 'top': True, 'loved': False, 'because': False, ',': False, 'was': False, '-': False, 'the': True, 'spicy': False, 'bangalore': False, 'mushroom': False, '.': True, 'probably': False, 'locate': False, 'be': False, 'is': True, 'but': True, 'people': False, 'place': False, 'seating': False, 'you': False, 'so': False, 'delicious': True, 'many': False, 'when': False, 'not': True, 'great': False, 'renovated': False, 'visited': False, 'are': False, 'i': False, 'to': False, 'ambience': False, 'food': True, 'little': False, 'over': True, 'in': False, 'too': False, 'slow': False, 'easy': False, 'limited': False, 'rice': False, 'service': False}, 'neg'), ({'being': False, 'fried': False, 'top': False, 'loved': False, 'because': True, ',': True, 'was': False, '-': True, 'the': False, 'spicy': False, 'bangalore': False, 'mushroom': False, '.': True, 'probably': True, 'locate': False, 'be': False, 'is': False, 'but': False, 'people': True, 'place': False, 'seating': False, 'you': False, 'so': False, 'delicious': False, 'many': True, 'when': False, 'not': False, 'great': False, 'renovated': False, 'visited': False, 'are': False, 'i': False, 'to': False, 'ambience': False, 'food': False, 'little': False, 'over': False, 'in': False, 'too': True, 'slow': True, 'easy': False, 'limited': False, 'rice': False, 'service': False}, 'neg'), ({'being': False, 'fried': False, 'top': False, 'loved': False, 'because': False, ',': False, 'was': False, '-': False, 'the': False, 'spicy': False, 'bangalore': False, 'mushroom': False, '.': False, 'probably': False, 'locate': True, 'be': False, 'is': True, 'but': False, 'people': False, 'place': True, 'seating': False, 'you': False, 'so': False, 'delicious': False, 'many': False, 'when': False, 'not': True, 'great': False, 'renovated': False, 'visited': False, 'are': False, 'i': False, 'to': True, 'ambience': False, 'food': False, 'little': False, 'over': False, 'in': False, 'too': False, 'slow': False, 'easy': True, 'limited': False, 'rice': False, 'service': False}, 'neg'), ({'being': False, 'fried': True, 'top': False, 'loved': False, 'because': False, ',': False, 'was': True, '-': False, 'the': False, 'spicy': True, 'bangalore': False, 'mushroom': False, '.': False, 'probably': False, 'locate': False, 'be': False, 'is': False, 'but': False, 'people': False, 'place': False, 'seating': False, 'you': False, 'so': False, 'delicious': False, 'many': False, 'when': False, 'not': False, 'great': False, 'renovated': False, 'visited': False, 'are': False, 'i': False, 'to': False, 'ambience': False, 'food': False, 'little': False, 'over': False, 'in': False, 'too': False, 'slow': False, 'easy': False, 'limited': False, 'rice': True, 'service': False}, 'pos')]\n"
     ]
    }
   ],
   "source": [
    "\n",
    "# Step 3\n",
    "t = [({word: (word in word_tokenize(x[0])) for word in dictionary}, x[1]) for x in train]\n",
    "print(\"*t*\")\n",
    "print(t)  \n"
   ]
  },
  {
   "cell_type": "code",
   "execution_count": 13,
   "metadata": {
    "collapsed": true
   },
   "outputs": [],
   "source": [
    "# Step 4 – the classifier is trained with sample data\n",
    "classifier = nltk.NaiveBayesClassifier.train(t)\n"
   ]
  },
  {
   "cell_type": "code",
   "execution_count": 17,
   "metadata": {},
   "outputs": [
    {
     "name": "stdout",
     "output_type": "stream",
     "text": [
      "*** home not easy to locate\n",
      "neg\n"
     ]
    }
   ],
   "source": [
    "#step 5-  testing the result - prediction \n",
    "\n",
    "  \n",
    "#test_data = \"Manchurian was not tasty and hot\" #pos\n",
    "#test_data = \"seating is limited in resturant\" # neg\n",
    "test_data = \"home not easy to locate\"  #neg\n",
    "#test_data = \"food was delicious\" #pos\n",
    "#test_data = \" Ram had mouth watering food\" #pos\n",
    "#test_data = \"sitting was bad\"  #neg\n",
    "\n",
    "test_data_features = {word.lower(): (word in word_tokenize(test_data.lower())) \n",
    "                      for word in dictionary}\n",
    "#print(\"*test_data_features*\")\n",
    "#print(test_data_features)\n",
    "  \n",
    "print(\"***\", test_data)\n",
    "print (classifier.classify(test_data_features))\n"
   ]
  },
  {
   "cell_type": "code",
   "execution_count": null,
   "metadata": {
    "collapsed": true
   },
   "outputs": [],
   "source": []
  }
 ],
 "metadata": {
  "kernelspec": {
   "display_name": "Python 3",
   "language": "python",
   "name": "python3"
  },
  "language_info": {
   "codemirror_mode": {
    "name": "ipython",
    "version": 3
   },
   "file_extension": ".py",
   "mimetype": "text/x-python",
   "name": "python",
   "nbconvert_exporter": "python",
   "pygments_lexer": "ipython3",
   "version": "3.6.3"
  }
 },
 "nbformat": 4,
 "nbformat_minor": 2
}
