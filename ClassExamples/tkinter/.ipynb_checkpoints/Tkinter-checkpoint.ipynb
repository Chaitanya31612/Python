{
 "cells": [
  {
   "cell_type": "code",
   "execution_count": 11,
   "metadata": {
    "collapsed": true
   },
   "outputs": [],
   "source": [
    "import tkinter as tk\n",
    "m=tkinter.Tk() \n",
    "m.title('Welcome Screen')\n",
    "button = tk.Button(m, text='Stop', width=50, command=m.destroy)\n",
    "button.pack()\n",
    "m.mainloop()"
   ]
  },
  {
   "cell_type": "code",
   "execution_count": 12,
   "metadata": {},
   "outputs": [],
   "source": [
    "from tkinter import *\n",
    "master = Tk()\n",
    "var1 = IntVar()\n",
    "Checkbutton(master, text='male', variable=var1).grid(row=0, sticky=W)\n",
    "var2 = IntVar()\n",
    "Checkbutton(master, text='female', variable=var2).grid(row=1, sticky=W)\n",
    "mainloop()"
   ]
  },
  {
   "cell_type": "code",
   "execution_count": 13,
   "metadata": {
    "collapsed": true
   },
   "outputs": [],
   "source": [
    "from tkinter import *\n",
    "master = Tk()\n",
    "Label(master, text='First Name').grid(row=0)\n",
    "Label(master, text='Last Name').grid(row=1)\n",
    "e1 = Entry(master)\n",
    "e2 = Entry(master)\n",
    "e1.grid(row=0, column=1)\n",
    "e2.grid(row=1, column=1)\n",
    "mainloop()"
   ]
  },
  {
   "cell_type": "code",
   "execution_count": 19,
   "metadata": {},
   "outputs": [],
   "source": [
    "from tkinter import *\n",
    "top = Tk()\n",
    "mb =  Menubutton ( top, text = \"ClickMenu\")\n",
    "mb.grid()\n",
    "mb.menu  =  Menu ( mb, tearoff = 0 )\n",
    "mb[\"menu\"]  =  mb.menu\n",
    "cVar  = IntVar()\n",
    "aVar = IntVar()\n",
    "mb.menu.add_checkbutton ( label ='Contact', variable = cVar )\n",
    "mb.menu.add_checkbutton ( label = 'About', variable = aVar )\n",
    "mb.pack()\n",
    "top.mainloop()\n"
   ]
  },
  {
   "cell_type": "code",
   "execution_count": 20,
   "metadata": {
    "collapsed": true
   },
   "outputs": [],
   "source": [
    "from tkinter import * \n",
    "root = Tk()\n",
    "menu = Menu(root)\n",
    "root.config(menu=menu)\n",
    "filemenu = Menu(menu)\n",
    "menu.add_cascade(label='File', menu=filemenu)\n",
    "filemenu.add_command(label='New')\n",
    "filemenu.add_command(label='Open...')\n",
    "filemenu.add_separator()\n",
    "filemenu.add_command(label='Exit', command=root.quit)\n",
    "helpmenu = Menu(menu)\n",
    "menu.add_cascade(label='Help', menu=helpmenu)\n",
    "helpmenu.add_command(label='About')\n",
    "mainloop()"
   ]
  },
  {
   "cell_type": "code",
   "execution_count": 26,
   "metadata": {
    "collapsed": true
   },
   "outputs": [],
   "source": [
    "import tkinter as tk\n",
    "\n",
    "root = tk.Tk()\n",
    "logo = tk.PhotoImage(file=\"nielit.png\" )\n",
    "\n",
    "w1 = tk.Label(root, image=logo).pack(side=\"right\")\n",
    "\n",
    "explanation = \"\"\"National Institute of Electronics \n",
    "& Information Technology (NIELIT),\n",
    "(erstwhile DOEACC Society), an Autonomous \n",
    "Scientific Society under the administrative \n",
    "control of Ministry of Electronics & Information \n",
    "Technology (MoE&IT), Government of India, was \n",
    "set up to carry out Human Resource Development \n",
    "and related activities .\"\"\"\n",
    "\n",
    "w2 = tk.Label(root, \n",
    "              justify=tk.LEFT,\n",
    "              padx = 10, \n",
    "              text=explanation).pack(side=\"left\")\n",
    "root.mainloop()"
   ]
  },
  {
   "cell_type": "code",
   "execution_count": 28,
   "metadata": {},
   "outputs": [],
   "source": [
    "import tkinter as tk\n",
    "\n",
    "root = tk.Tk()\n",
    "logo = tk.PhotoImage(file=\"nielit.png\" )\n",
    "\n",
    "explanation = \"\"\"National Institute of Electronics \n",
    "& Information Technology (NIELIT),\n",
    "(erstwhile DOEACC Society), an Autonomous \n",
    "Scientific Society under the administrative \n",
    "control of Ministry of Electronics & Information \n",
    "Technology (MoE&IT), Government of India, was \n",
    "set up to carry out Human Resource Development \n",
    "and related activities .\"\"\"\n",
    "\n",
    "w = tk.Label(root, \n",
    "             compound = tk.CENTER,\n",
    "             text=explanation, \n",
    "             image=logo).pack(side=\"right\")\n",
    "root.mainloop()"
   ]
  },
  {
   "cell_type": "code",
   "execution_count": 29,
   "metadata": {
    "collapsed": true
   },
   "outputs": [],
   "source": [
    "import tkinter as tk\n",
    "\n",
    "counter = 0 \n",
    "def counter_label(label):\n",
    "  def count():\n",
    "    global counter\n",
    "    counter += 1\n",
    "    label.config(text=str(counter))\n",
    "    label.after(1000, count)\n",
    "  count()\n",
    " \n",
    " \n",
    "root = tk.Tk()\n",
    "root.title(\"Counting Seconds\")\n",
    "label = tk.Label(root, fg=\"green\")\n",
    "label.pack()\n",
    "counter_label(label)\n",
    "button = tk.Button(root, text='Stop', width=25, command=root.destroy)\n",
    "button.pack()\n",
    "root.mainloop()"
   ]
  },
  {
   "cell_type": "code",
   "execution_count": 33,
   "metadata": {},
   "outputs": [],
   "source": []
  },
  {
   "cell_type": "code",
   "execution_count": null,
   "metadata": {
    "collapsed": true
   },
   "outputs": [],
   "source": []
  }
 ],
 "metadata": {
  "kernelspec": {
   "display_name": "Python 3",
   "language": "python",
   "name": "python3"
  },
  "language_info": {
   "codemirror_mode": {
    "name": "ipython",
    "version": 3
   },
   "file_extension": ".py",
   "mimetype": "text/x-python",
   "name": "python",
   "nbconvert_exporter": "python",
   "pygments_lexer": "ipython3",
   "version": "3.6.3"
  }
 },
 "nbformat": 4,
 "nbformat_minor": 2
}
