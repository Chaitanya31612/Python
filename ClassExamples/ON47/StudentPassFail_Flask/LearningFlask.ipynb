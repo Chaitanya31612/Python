{
 "cells": [
  {
   "cell_type": "code",
   "execution_count": null,
   "metadata": {},
   "outputs": [],
   "source": [
    "#Basic setup \n",
    "from flask import Flask\n",
    "\n",
    "#instantiate the object of Flask - app\n",
    "app = Flask(__name__)\n",
    "\n",
    "#the object app will handle incoming request from the web/browser\n",
    "# the method inside app object is route  ( parameter is the path)\n",
    "# and define the method attached with that - in our example we have home()\n",
    "@app.route('/')\n",
    "def home() : \n",
    "    return \"<h1> Welcome Flask </h1>\" \n",
    "\n",
    "# the default module/program name is  __main__\n",
    "if __name__ == '__main__':\n",
    "    app.run(debug=False)\n",
    "    "
   ]
  },
  {
   "cell_type": "code",
   "execution_count": null,
   "metadata": {
    "collapsed": true
   },
   "outputs": [],
   "source": [
    "#adding multiple pages or multiple routes\n",
    "from flask import Flask\n",
    "\n",
    "#instantiate the object of Flask - app\n",
    "app = Flask(__name__)\n",
    "\n",
    "#the object app will handle incoming request from the web/browser\n",
    "# the method inside app object is route  ( parameter is the path)\n",
    "# and define the method attached with that - in our example we have home()\n",
    "@app.route('/')\n",
    "def home() : \n",
    "    return \"<h1> Welcome Flask </h1><br> Thank you <a href=/page2> Go to Page2 </a> \"\n",
    "\n",
    "@app.route('/page2')\n",
    "def showpage2() : \n",
    "    return \"<h1> Welcome to Page2 of Website </h1><br> Deep Learning Champs \"\n",
    "\n",
    "# the default module/program name is  __main__\n",
    "if __name__ == '__main__':\n",
    "    app.run(debug=False)"
   ]
  },
  {
   "cell_type": "code",
   "execution_count": null,
   "metadata": {},
   "outputs": [],
   "source": [
    "#opening html page in flask\n",
    "\n",
    "from flask import Flask, render_template\n",
    "\n",
    "app = Flask(__name__)\n",
    "\n",
    "@app.route('/')\n",
    "def index():\n",
    "    return render_template('first.html')\n",
    "\n",
    "if __name__ == '__main__':\n",
    "    app.run()"
   ]
  },
  {
   "cell_type": "code",
   "execution_count": null,
   "metadata": {
    "collapsed": true
   },
   "outputs": [],
   "source": []
  }
 ],
 "metadata": {
  "kernelspec": {
   "display_name": "Python 3",
   "language": "python",
   "name": "python3"
  },
  "language_info": {
   "codemirror_mode": {
    "name": "ipython",
    "version": 3
   },
   "file_extension": ".py",
   "mimetype": "text/x-python",
   "name": "python",
   "nbconvert_exporter": "python",
   "pygments_lexer": "ipython3",
   "version": "3.6.3"
  }
 },
 "nbformat": 4,
 "nbformat_minor": 2
}
