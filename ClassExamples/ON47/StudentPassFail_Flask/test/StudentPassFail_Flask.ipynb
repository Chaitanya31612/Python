{
 "cells": [
  {
   "cell_type": "code",
   "execution_count": null,
   "metadata": {
    "collapsed": true
   },
   "outputs": [],
   "source": [
    "import numpy as np\n",
    "import pandas as pd\n",
    "from sklearn.linear_model import LogisticRegression\n",
    " \n",
    "import pickle\n",
    "import warnings\n",
    "warnings.filterwarnings(\"ignore\")"
   ]
  },
  {
   "cell_type": "code",
   "execution_count": null,
   "metadata": {
    "collapsed": true
   },
   "outputs": [],
   "source": [
    "#https://raw.githubusercontent.com/sarwansingh/Python/master/ClassExamples/data/student-pass-fail-data.csv\n",
    "data = pd.read_csv(\"student-pass-fail-data.csv\")\n",
    "data = np.array(data)\n",
    "print(data[:5])"
   ]
  },
  {
   "cell_type": "code",
   "execution_count": null,
   "metadata": {
    "collapsed": true
   },
   "outputs": [],
   "source": [
    "# extract the input matrix from data in X\n",
    "X = data[:, 0:-1]\n",
    "# extract the labels in y \n",
    "y = data[:, -1]\n",
    "#casting the entire data into int\n",
    "y = y.astype('int')\n",
    "X = X.astype('int')\n",
    "\n",
    "print(\"Rows in X \" , len(X) , \" \\nRows in y \", len(y))\n",
    "print(X[:5],y[:5])\n"
   ]
  },
  {
   "cell_type": "code",
   "execution_count": null,
   "metadata": {
    "collapsed": true
   },
   "outputs": [],
   "source": [
    "#build the logisticRegression model\n",
    "log_reg = LogisticRegression()\n",
    "# fit the model with data\n",
    "log_reg.fit(X,y)"
   ]
  },
  {
   "cell_type": "code",
   "execution_count": null,
   "metadata": {
    "collapsed": true
   },
   "outputs": [],
   "source": [
    "#testing the build model \n",
    "test=[[ 7,27]]\n",
    "print(test)\n",
    "\n",
    "print(log_reg.predict_proba(test))\n",
    "print(log_reg.predict(test))  # pass\n",
    "print(log_reg.predict([[2,43]])) #fail"
   ]
  },
  {
   "cell_type": "code",
   "execution_count": null,
   "metadata": {
    "collapsed": true
   },
   "outputs": [],
   "source": [
    "# Saving model to disk\n",
    "#pickle.dump(log_reg,open('model.pkl','wb'))\n",
    "\n",
    "# Loading model to compare the results\n",
    "model=pickle.load(open('model.pkl','rb'))\n",
    "print(model.predict_proba([[7,43]]))\n",
    "print(model.predict([[7,27]]))"
   ]
  },
  {
   "cell_type": "code",
   "execution_count": null,
   "metadata": {
    "collapsed": true
   },
   "outputs": [],
   "source": []
  },
  {
   "cell_type": "markdown",
   "metadata": {},
   "source": [
    "## use the model and display in Flask"
   ]
  },
  {
   "cell_type": "code",
   "execution_count": null,
   "metadata": {},
   "outputs": [],
   "source": [
    "#app.py\n",
    "from flask import Flask,request, url_for, redirect, render_template\n",
    "import pickle\n",
    "import numpy as np\n",
    "\n",
    "app = Flask(__name__)\n",
    "model=pickle.load(open('model.pkl','rb'))\n",
    "\n",
    "@app.route('/')\n",
    "def home():\n",
    "    return render_template(\"index.html\")\n",
    "\n",
    "@app.route('/predict',methods=['POST','GET'])\n",
    "def predict():\n",
    "    # receive the values send by user in three text boxes thru request object -> requesst.form.values()\n",
    "    \n",
    "    int_features = [int(x) for x in request.form.values()]\n",
    "    final_features = [np.array(int_features)]\n",
    "       \n",
    "    prediction=model.predict_proba(final_features)\n",
    "    output='{0:.{1}f}'.format(prediction[0][1], 2)\n",
    "   \n",
    "    return render_template('index.html', pred='Student passing probability is :  {}'.format(output))\n",
    "\n",
    "if __name__ == '__main__':\n",
    "    app.run(debug=False)\n"
   ]
  },
  {
   "cell_type": "code",
   "execution_count": null,
   "metadata": {
    "collapsed": true
   },
   "outputs": [],
   "source": [
    "print(type(output))"
   ]
  },
  {
   "cell_type": "code",
   "execution_count": null,
   "metadata": {
    "collapsed": true
   },
   "outputs": [],
   "source": [
    "  \n",
    "    int_features=[int(x) for x in request.form.values()]\n",
    "    final=[np.array(int_features)]\n",
    "    print(int_features)\n",
    "    print(final)\n",
    "    prediction=model.predict_proba(final)\n",
    "    output='{0:.{1}f}'.format(prediction[0][1], 2)\n",
    "\n",
    "    if output>str(0.5):\n",
    "        return render_template('forest_fire1.html',pred='Your Forest is in Danger.\\nProbability of fire occuring is {}'.format(output))\n",
    "    else:\n",
    "        return render_template('forest_fire1.html',pred='Your Forest is safe.\\n Probability of fire occuring is {}'.format(output))\n"
   ]
  },
  {
   "cell_type": "code",
   "execution_count": null,
   "metadata": {
    "collapsed": true
   },
   "outputs": [],
   "source": []
  },
  {
   "cell_type": "code",
   "execution_count": null,
   "metadata": {
    "collapsed": true
   },
   "outputs": [],
   "source": []
  }
 ],
 "metadata": {
  "kernelspec": {
   "display_name": "Python 3",
   "language": "python",
   "name": "python3"
  },
  "language_info": {
   "codemirror_mode": {
    "name": "ipython",
    "version": 3
   },
   "file_extension": ".py",
   "mimetype": "text/x-python",
   "name": "python",
   "nbconvert_exporter": "python",
   "pygments_lexer": "ipython3",
   "version": "3.6.3"
  }
 },
 "nbformat": 4,
 "nbformat_minor": 2
}
