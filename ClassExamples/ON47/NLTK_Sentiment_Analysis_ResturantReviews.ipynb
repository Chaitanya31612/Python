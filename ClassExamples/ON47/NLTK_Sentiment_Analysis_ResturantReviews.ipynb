{
  "nbformat": 4,
  "nbformat_minor": 0,
  "metadata": {
    "kernelspec": {
      "display_name": "Python 3",
      "language": "python",
      "name": "python3"
    },
    "language_info": {
      "codemirror_mode": {
        "name": "ipython",
        "version": 3
      },
      "file_extension": ".py",
      "mimetype": "text/x-python",
      "name": "python",
      "nbconvert_exporter": "python",
      "pygments_lexer": "ipython3",
      "version": "3.6.3"
    },
    "colab": {
      "name": "NLTK_Sentiment_Analysis_ResturantReviews.ipynb",
      "provenance": [],
      "collapsed_sections": []
    }
  },
  "cells": [
    {
      "cell_type": "code",
      "metadata": {
        "id": "OsCMvA5_4hOh",
        "colab_type": "code",
        "colab": {}
      },
      "source": [
        "import nltk\n",
        "from nltk.tokenize import word_tokenize\n",
        "# Step 1 – Training data\n",
        "train = [(\"Great place to be when you are in Bangalore.\", \"pos\"), \n",
        "         (\"The place was being renovated when I visited so the seating was limited.\", \"neg\"),\n",
        "         (\"Loved the ambience, loved the food\", \"pos\"), \n",
        "         (\"The food is delicious but not over the top.\", \"neg\"), \n",
        "         (\"Service - Little slow, probably because too many people.\", \"neg\"), \n",
        "         (\"The place is not easy to locate\", \"neg\"), \n",
        "         (\"Mushroom fried rice was spicy\", \"pos\") ]"
      ],
      "execution_count": 1,
      "outputs": []
    },
    {
      "cell_type": "code",
      "metadata": {
        "id": "JYjfRgKU4hOo",
        "colab_type": "code",
        "colab": {
          "base_uri": "https://localhost:8080/",
          "height": 163
        },
        "outputId": "1be5683d-3a87-4a6a-c0fa-fdab29f477d5"
      },
      "source": [
        "train"
      ],
      "execution_count": 2,
      "outputs": [
        {
          "output_type": "execute_result",
          "data": {
            "text/plain": [
              "[('Great place to be when you are in Bangalore.', 'pos'),\n",
              " ('The place was being renovated when I visited so the seating was limited.',\n",
              "  'neg'),\n",
              " ('Loved the ambience, loved the food', 'pos'),\n",
              " ('The food is delicious but not over the top.', 'neg'),\n",
              " ('Service - Little slow, probably because too many people.', 'neg'),\n",
              " ('The place is not easy to locate', 'neg'),\n",
              " ('Mushroom fried rice was spicy', 'pos')]"
            ]
          },
          "metadata": {
            "tags": []
          },
          "execution_count": 2
        }
      ]
    },
    {
      "cell_type": "code",
      "metadata": {
        "id": "msmy2jlU4hOw",
        "colab_type": "code",
        "colab": {
          "base_uri": "https://localhost:8080/",
          "height": 110
        },
        "outputId": "3bdbdbef-4836-48e1-a415-1688729317db"
      },
      "source": [
        "# Step 2\n",
        "nltk.download('punkt')\n",
        "dictionary = set(word.lower() for passage in train for word in word_tokenize(passage[0]))\n",
        "print(\"*dictionary*\")\n",
        "print(dictionary)\n"
      ],
      "execution_count": 3,
      "outputs": [
        {
          "output_type": "stream",
          "text": [
            "[nltk_data] Downloading package punkt to /root/nltk_data...\n",
            "[nltk_data]   Unzipping tokenizers/punkt.zip.\n",
            "*dictionary*\n",
            "{'when', 'over', 'you', 'slow', 'being', 'not', 'ambience', 'probably', 'be', 'so', 'are', 'delicious', 'in', 'was', 'spicy', 'place', 'locate', 'limited', 'i', 'is', 'rice', 'food', 'seating', 'bangalore', 'people', 'visited', 'but', 'great', 'the', 'to', 'renovated', 'service', 'loved', ',', '-', 'many', 'easy', 'too', 'fried', 'mushroom', 'little', '.', 'because', 'top'}\n"
          ],
          "name": "stdout"
        }
      ]
    },
    {
      "cell_type": "code",
      "metadata": {
        "id": "wPJVL8l84hO3",
        "colab_type": "code",
        "colab": {
          "base_uri": "https://localhost:8080/",
          "height": 74
        },
        "outputId": "221d88e0-a5df-4e3b-9e93-992c3e9c777c"
      },
      "source": [
        "# Step 3\n",
        "t = [({word: (word in word_tokenize(x[0])) for word in dictionary}, x[1]) for x in train]\n",
        "print(\"*t*\")\n",
        "print(len(t) , t[0])  \n"
      ],
      "execution_count": 6,
      "outputs": [
        {
          "output_type": "stream",
          "text": [
            "*t*\n",
            "7 ({'when': True, 'over': False, 'you': True, 'slow': False, 'being': False, 'not': False, 'ambience': False, 'probably': False, 'be': True, 'so': False, 'are': True, 'delicious': False, 'in': True, 'was': False, 'spicy': False, 'place': True, 'locate': False, 'limited': False, 'i': False, 'is': False, 'rice': False, 'food': False, 'seating': False, 'bangalore': False, 'people': False, 'visited': False, 'but': False, 'great': False, 'the': False, 'to': True, 'renovated': False, 'service': False, 'loved': False, ',': False, '-': False, 'many': False, 'easy': False, 'too': False, 'fried': False, 'mushroom': False, 'little': False, '.': True, 'because': False, 'top': False}, 'pos')\n"
          ],
          "name": "stdout"
        }
      ]
    },
    {
      "cell_type": "code",
      "metadata": {
        "id": "-cpaj-fo4hO6",
        "colab_type": "code",
        "colab": {}
      },
      "source": [
        "# Step 4 – the classifier is trained with sample data\n",
        "classifier = nltk.NaiveBayesClassifier.train(t)\n"
      ],
      "execution_count": 7,
      "outputs": []
    },
    {
      "cell_type": "code",
      "metadata": {
        "id": "gqj1P2Sa4hO9",
        "colab_type": "code",
        "colab": {
          "base_uri": "https://localhost:8080/",
          "height": 54
        },
        "outputId": "5dd183ec-3d7d-46a1-a7b9-ce4f3531f765"
      },
      "source": [
        "#step 5-  testing the result - prediction \n",
        "\n",
        "  \n",
        "#test_data = \"Manchurian was not tasty and hot\" #pos\n",
        "#test_data = \"seating is limited in resturant\" # neg\n",
        "#test_data = \" not easy to locate\"  #neg\n",
        "#test_data = \"food was delicious\" #pos\n",
        "#test_data = \" Ram had mouth watering food\" #pos\n",
        "#test_data = \"loved the service but waiter is not dressed properly\"  #pos\n",
        "#test_data = \" loved the bad food\"\n",
        "#test_data = input(\"enter review\")\n",
        "\n",
        "#test_data = \"It is renovated and is fabolous\"\n",
        "\n",
        "#test_data = \"The ambience is  good \"\n",
        "\n",
        "#test_data = \"Great place to be when you are in Bangalore.\"\n",
        "#test_data = \"Great place to be when you are in Nagaland\"\n",
        "#test_data = \"Great place to be in\"\n",
        "#test_data = \"Great place\"\n",
        "\n",
        "test_data = \"The place was renovated\"\n",
        "test_data = \"The place was renovated but \"\n",
        "test_data = \"The place was renovated but loved the manager\"\n",
        "\n",
        "test_data_features = {word.lower(): (word in word_tokenize(test_data.lower())) \n",
        "                      for word in dictionary}\n",
        "#print(\"*test_data_features*\")\n",
        "#print(test_data_features)\n",
        "  \n",
        "print(\"***\", test_data)\n",
        "print (classifier.classify(test_data_features))\n",
        "\n",
        "#classifier.show_most_informative_features()\n"
      ],
      "execution_count": 18,
      "outputs": [
        {
          "output_type": "stream",
          "text": [
            "*** The place was renovated but loved the manager\n",
            "pos\n"
          ],
          "name": "stdout"
        }
      ]
    },
    {
      "cell_type": "code",
      "metadata": {
        "id": "9nWU66qd4hPD",
        "colab_type": "code",
        "colab": {}
      },
      "source": [
        "\"\""
      ],
      "execution_count": null,
      "outputs": []
    }
  ]
}