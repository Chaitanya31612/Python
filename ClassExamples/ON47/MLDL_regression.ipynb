{
  "nbformat": 4,
  "nbformat_minor": 0,
  "metadata": {
    "colab": {
      "name": "MLDL_regression.ipynb",
      "provenance": [],
      "collapsed_sections": []
    },
    "kernelspec": {
      "name": "python3",
      "display_name": "Python 3"
    }
  },
  "cells": [
    {
      "cell_type": "code",
      "metadata": {
        "id": "TplmTjVNXdGK",
        "colab_type": "code",
        "colab": {}
      },
      "source": [
        "import matplotlib.pyplot as plt\n",
        "import numpy as np\n"
      ],
      "execution_count": null,
      "outputs": []
    },
    {
      "cell_type": "code",
      "metadata": {
        "id": "TJGnRoELXj-m",
        "colab_type": "code",
        "colab": {}
      },
      "source": [
        "rng = np.random.RandomState(42)\n",
        "x = 10 * rng.rand(50)\n",
        "#y1 = 2 * x - 1 \n",
        "y = 2 * x - 1 + rng.randn(50)\n",
        "#print(x)\n",
        "#print(y)\n",
        "#print(2 * x - 1)\n",
        "#print((2 * x - 1) +rng.randn(50))"
      ],
      "execution_count": null,
      "outputs": []
    },
    {
      "cell_type": "code",
      "metadata": {
        "id": "nhfjuRdtXx1O",
        "colab_type": "code",
        "colab": {
          "base_uri": "https://localhost:8080/",
          "height": 265
        },
        "outputId": "c0a105c1-4969-4143-ef2c-f858e73d9905"
      },
      "source": [
        "plt.scatter(x, y) \n",
        "plt.show()\n",
        "#what will be value of y when x = 15\n",
        "# y=mx+c \n",
        "# we estimate the value of m and c from the given points then we can draw straight line.\n"
      ],
      "execution_count": null,
      "outputs": [
        {
          "output_type": "display_data",
          "data": {
            "image/png": "[encoded data removed]",
            "text/plain": [
              "<Figure size 432x288 with 1 Axes>"
            ]
          },
          "metadata": {
            "tags": [],
            "needs_background": "light"
          }
        }
      ]
    },
    {
      "cell_type": "code",
      "metadata": {
        "id": "w-xlpUpiZ3wt",
        "colab_type": "code",
        "colab": {}
      },
      "source": [
        "#plt.scatter(x, y1) \n",
        "#plt.show()"
      ],
      "execution_count": null,
      "outputs": []
    },
    {
      "cell_type": "code",
      "metadata": {
        "id": "tIprw9bzZ51M",
        "colab_type": "code",
        "colab": {}
      },
      "source": [
        "# build model \n",
        "from sklearn.linear_model import LinearRegression"
      ],
      "execution_count": null,
      "outputs": []
    },
    {
      "cell_type": "code",
      "metadata": {
        "id": "7COH6mSskfqf",
        "colab_type": "code",
        "colab": {}
      },
      "source": [
        "model = LinearRegression()\n",
        "#LinearRegression(fit_intercept=True, normalize=False, copy_X=True, n_jobs=None)"
      ],
      "execution_count": null,
      "outputs": []
    },
    {
      "cell_type": "code",
      "metadata": {
        "id": "uCAXeHCRo83R",
        "colab_type": "code",
        "colab": {
          "base_uri": "https://localhost:8080/",
          "height": 145
        },
        "outputId": "c52b16d3-1eaf-4a4d-cbef-ff9c1ee7fbde"
      },
      "source": [
        "#print (x)\n",
        "X = x[:, np.newaxis] \n",
        "print (X.shape)\n",
        "print (X[:5])\n",
        "print(y[:5] )"
      ],
      "execution_count": null,
      "outputs": [
        {
          "output_type": "stream",
          "text": [
            "(50, 1)\n",
            "[[3.74540119]\n",
            " [9.50714306]\n",
            " [7.31993942]\n",
            " [5.98658484]\n",
            " [1.5601864 ]]\n",
            "[ 7.22926896 18.18565441 13.52423055 10.67206599  0.64185082]\n"
          ],
          "name": "stdout"
        }
      ]
    },
    {
      "cell_type": "code",
      "metadata": {
        "id": "CfFW1il2OX2p",
        "colab_type": "code",
        "colab": {
          "base_uri": "https://localhost:8080/",
          "height": 35
        },
        "outputId": "7c937df2-5791-4610-a9f6-31164b1991c2"
      },
      "source": [
        "#fit the model\n",
        "model.fit( X , y )"
      ],
      "execution_count": null,
      "outputs": [
        {
          "output_type": "execute_result",
          "data": {
            "text/plain": [
              "LinearRegression(copy_X=True, fit_intercept=True, n_jobs=None, normalize=False)"
            ]
          },
          "metadata": {
            "tags": []
          },
          "execution_count": 9
        }
      ]
    },
    {
      "cell_type": "code",
      "metadata": {
        "id": "Yyx1mnLcOYvF",
        "colab_type": "code",
        "colab": {
          "base_uri": "https://localhost:8080/",
          "height": 54
        },
        "outputId": "af64fc88-eafe-4ff8-a16a-28b274312de8"
      },
      "source": [
        "#test the value \n",
        "print(model.predict([[9.5]]))\n",
        "print(model.predict([[7.31]]))"
      ],
      "execution_count": null,
      "outputs": [
        {
          "output_type": "stream",
          "text": [
            "[17.88442698]\n",
            "[13.55335902]\n"
          ],
          "name": "stdout"
        }
      ]
    },
    {
      "cell_type": "markdown",
      "metadata": {
        "id": "jgt8e0ALo6Sr",
        "colab_type": "text"
      },
      "source": [
        "## Example code "
      ]
    },
    {
      "cell_type": "code",
      "metadata": {
        "id": "KlsecqFOOSK8",
        "colab_type": "code",
        "colab": {}
      },
      "source": [
        ""
      ],
      "execution_count": null,
      "outputs": []
    },
    {
      "cell_type": "code",
      "metadata": {
        "id": "JFCo8CXIleEv",
        "colab_type": "code",
        "colab": {
          "base_uri": "https://localhost:8080/",
          "height": 108
        },
        "outputId": "6f4bd264-e324-4789-fb12-086ed81f8d6e"
      },
      "source": [
        "# testing the example code\n",
        "import numpy as np \n",
        "from sklearn.linear_model import LinearRegression \n",
        "X = np.array([[1, 1], [1, 2], [2, 2], [2, 3]]) \n",
        "# y = 1 * x_0 + 2 * x_1 + 3 \n",
        "y = np.dot(X, np.array([1, 2])) + 3 \n",
        "\n",
        "print(\"X\" ,X ,  \" \\n y \" ,y)"
      ],
      "execution_count": null,
      "outputs": [
        {
          "output_type": "stream",
          "text": [
            "X [[1 1]\n",
            " [1 2]\n",
            " [2 2]\n",
            " [2 3]]  \n",
            " y  [ 6  8  9 11]\n"
          ],
          "name": "stdout"
        }
      ]
    },
    {
      "cell_type": "code",
      "metadata": {
        "id": "yKSD5tjEmDQm",
        "colab_type": "code",
        "colab": {
          "base_uri": "https://localhost:8080/",
          "height": 126
        },
        "outputId": "acb07948-95b1-4a9c-da03-9b42cbb272d6"
      },
      "source": [
        "reg = LinearRegression().fit(X, y) \n",
        "print(reg.score(X, y))    # 1.0  \n",
        "print(reg.coef_)          # array([1., 2.]) \n",
        "print(reg.intercept_ )     # 3.0000...    eq. of line -> y=mx+C\n",
        "print(\" test data  [1,1] result = \", reg.predict(np.array([[1, 1]]))  )\n",
        "print(\" test data  [2,2] result = \", reg.predict(np.array([[2, 2]]))  )\n",
        "print(\" New data  [3,5] result = \",reg.predict(np.array([[3, 5]]))  )   #array([16.])"
      ],
      "execution_count": null,
      "outputs": [
        {
          "output_type": "stream",
          "text": [
            "1.0\n",
            "[1. 2.]\n",
            "3.0000000000000018\n",
            " test data  [1,1] result =  [6.]\n",
            " test data  [2,2] result =  [9.]\n",
            " New data  [3,5] result =  [16.]\n"
          ],
          "name": "stdout"
        }
      ]
    },
    {
      "cell_type": "code",
      "metadata": {
        "id": "xM36an6Qm6Iw",
        "colab_type": "code",
        "colab": {}
      },
      "source": [
        ""
      ],
      "execution_count": null,
      "outputs": []
    }
  ]
}