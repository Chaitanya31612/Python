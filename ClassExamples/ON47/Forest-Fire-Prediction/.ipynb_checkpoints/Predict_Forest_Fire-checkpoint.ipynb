{
 "cells": [
  {
   "cell_type": "code",
   "execution_count": null,
   "metadata": {
    "collapsed": true
   },
   "outputs": [],
   "source": [
    "import numpy as np\n",
    "import pandas as pd\n",
    "from sklearn.linear_model import LogisticRegression\n",
    "from sklearn.model_selection import train_test_split\n",
    "\n",
    "import pickle\n",
    "import warnings\n",
    "warnings.filterwarnings(\"ignore\")"
   ]
  },
  {
   "cell_type": "code",
   "execution_count": null,
   "metadata": {},
   "outputs": [],
   "source": [
    "data = pd.read_csv(\"Forest_fire.csv\")\n",
    "data = np.array(data)\n",
    "print(data[:5])"
   ]
  },
  {
   "cell_type": "code",
   "execution_count": null,
   "metadata": {},
   "outputs": [],
   "source": [
    "X = data[1:, 1:-1]\n",
    "y = data[1:, -1]\n",
    "y = y.astype('int')\n",
    "X = X.astype('int')\n",
    "print(len(X))\n",
    "print(X[:5],y[:5])\n"
   ]
  },
  {
   "cell_type": "code",
   "execution_count": null,
   "metadata": {},
   "outputs": [],
   "source": [
    "X_train, X_test, y_train, y_test = train_test_split(X, y, test_size=0.3, random_state=0)\n",
    "print(len(X_train) , len(X_test))\n",
    "print(len(y_train) , len(y_test))"
   ]
  },
  {
   "cell_type": "code",
   "execution_count": null,
   "metadata": {},
   "outputs": [],
   "source": [
    "log_reg = LogisticRegression()\n",
    "\n",
    "log_reg.fit(X_train, y_train)"
   ]
  },
  {
   "cell_type": "code",
   "execution_count": null,
   "metadata": {},
   "outputs": [],
   "source": [
    "inputt=[int(x) for x in \"45 32 60\".split(' ')]\n",
    "final=[np.array(inputt)]\n",
    "print(final)\n",
    "b = log_reg.predict_proba(final)\n",
    "print(b)\n",
    "\n",
    "pickle.dump(log_reg,open('model.pkl','wb'))\n",
    "model=pickle.load(open('model.pkl','rb'))"
   ]
  },
  {
   "cell_type": "code",
   "execution_count": null,
   "metadata": {},
   "outputs": [],
   "source": [
    "#inputt=[int(x) for x in \"45 32 60\".split(' ')]\n",
    "#final=[np.array(inputt)]\n",
    "#print(final)\n",
    "b = log_reg.predict([[45,32,60]])\n",
    "print(b)"
   ]
  },
  {
   "cell_type": "markdown",
   "metadata": {},
   "source": [
    "## use the model and display in Flask"
   ]
  },
  {
   "cell_type": "code",
   "execution_count": null,
   "metadata": {},
   "outputs": [
    {
     "name": "stderr",
     "output_type": "stream",
     "text": [
      " * Running on http://127.0.0.1:5000/ (Press CTRL+C to quit)\n",
      "127.0.0.1 - - [27/Aug/2020 16:20:42] \"\u001b[37mGET / HTTP/1.1\u001b[0m\" 200 -\n",
      "127.0.0.1 - - [27/Aug/2020 16:20:42] \"\u001b[37mGET / HTTP/1.1\u001b[0m\" 200 -\n",
      "127.0.0.1 - - [27/Aug/2020 16:20:42] \"\u001b[33mGET /.js/materialize.js HTTP/1.1\u001b[0m\" 404 -\n",
      "127.0.0.1 - - [27/Aug/2020 16:20:42] \"\u001b[33mGET /js/init.js HTTP/1.1\u001b[0m\" 404 -\n",
      "127.0.0.1 - - [27/Aug/2020 16:20:42] \"\u001b[33mGET /.js/materialize.js HTTP/1.1\u001b[0m\" 404 -\n",
      "127.0.0.1 - - [27/Aug/2020 16:20:42] \"\u001b[33mGET /js/init.js HTTP/1.1\u001b[0m\" 404 -\n",
      "127.0.0.1 - - [27/Aug/2020 16:20:50] \"\u001b[37mPOST /predict HTTP/1.1\u001b[0m\" 200 -\n",
      "127.0.0.1 - - [27/Aug/2020 16:20:50] \"\u001b[33mGET /js/init.js HTTP/1.1\u001b[0m\" 404 -\n",
      "127.0.0.1 - - [27/Aug/2020 16:20:50] \"\u001b[33mGET /.js/materialize.js HTTP/1.1\u001b[0m\" 404 -\n",
      "127.0.0.1 - - [27/Aug/2020 16:20:50] \"\u001b[33mGET /.js/materialize.js HTTP/1.1\u001b[0m\" 404 -\n",
      "127.0.0.1 - - [27/Aug/2020 16:20:50] \"\u001b[33mGET /js/init.js HTTP/1.1\u001b[0m\" 404 -\n"
     ]
    },
    {
     "name": "stdout",
     "output_type": "stream",
     "text": [
      "[40, 40, 60]\n",
      "[array([40, 40, 60])]\n"
     ]
    },
    {
     "name": "stderr",
     "output_type": "stream",
     "text": [
      "[2020-08-27 16:21:02,633] ERROR in app: Exception on /predict [POST]\n",
      "Traceback (most recent call last):\n",
      "  File \"C:\\ProgramData\\Anaconda3\\lib\\site-packages\\flask\\app.py\", line 1982, in wsgi_app\n",
      "    response = self.full_dispatch_request()\n",
      "  File \"C:\\ProgramData\\Anaconda3\\lib\\site-packages\\flask\\app.py\", line 1614, in full_dispatch_request\n",
      "    rv = self.handle_user_exception(e)\n",
      "  File \"C:\\ProgramData\\Anaconda3\\lib\\site-packages\\flask\\app.py\", line 1517, in handle_user_exception\n",
      "    reraise(exc_type, exc_value, tb)\n",
      "  File \"C:\\ProgramData\\Anaconda3\\lib\\site-packages\\flask\\_compat.py\", line 33, in reraise\n",
      "    raise value\n",
      "  File \"C:\\ProgramData\\Anaconda3\\lib\\site-packages\\flask\\app.py\", line 1612, in full_dispatch_request\n",
      "    rv = self.dispatch_request()\n",
      "  File \"C:\\ProgramData\\Anaconda3\\lib\\site-packages\\flask\\app.py\", line 1598, in dispatch_request\n",
      "    return self.view_functions[rule.endpoint](**req.view_args)\n",
      "  File \"<ipython-input-1-60d99ab23a5c>\", line 15, in predict\n",
      "    int_features=[int(x) for x in request.form.values()]\n",
      "  File \"<ipython-input-1-60d99ab23a5c>\", line 15, in <listcomp>\n",
      "    int_features=[int(x) for x in request.form.values()]\n",
      "ValueError: invalid literal for int() with base 10: ''\n",
      "127.0.0.1 - - [27/Aug/2020 16:21:02] \"\u001b[1m\u001b[35mPOST /predict HTTP/1.1\u001b[0m\" 500 -\n",
      "127.0.0.1 - - [27/Aug/2020 16:21:09] \"\u001b[37mPOST /predict HTTP/1.1\u001b[0m\" 200 -\n",
      "127.0.0.1 - - [27/Aug/2020 16:21:09] \"\u001b[33mGET /.js/materialize.js HTTP/1.1\u001b[0m\" 404 -\n",
      "127.0.0.1 - - [27/Aug/2020 16:21:09] \"\u001b[33mGET /js/init.js HTTP/1.1\u001b[0m\" 404 -\n",
      "127.0.0.1 - - [27/Aug/2020 16:21:10] \"\u001b[33mGET /.js/materialize.js HTTP/1.1\u001b[0m\" 404 -\n",
      "127.0.0.1 - - [27/Aug/2020 16:21:10] \"\u001b[33mGET /js/init.js HTTP/1.1\u001b[0m\" 404 -\n"
     ]
    },
    {
     "name": "stdout",
     "output_type": "stream",
     "text": [
      "[10, 10, 10]\n",
      "[array([10, 10, 10])]\n"
     ]
    }
   ],
   "source": [
    "from flask import Flask,request, url_for, redirect, render_template\n",
    "import pickle\n",
    "import numpy as np\n",
    "\n",
    "app = Flask(__name__)\n",
    "model=pickle.load(open('model.pkl','rb'))\n",
    "\n",
    "@app.route('/')\n",
    "def hello_world():\n",
    "    return render_template(\"forest_fire1.html\")\n",
    "\n",
    "@app.route('/predict',methods=['POST','GET'])\n",
    "def predict():\n",
    "    # receive the values send by user in three text boxes thru request object -> requesst.form.values()\n",
    "    int_features=[int(x) for x in request.form.values()]\n",
    "    final=[np.array(int_features)]\n",
    "    print(int_features)\n",
    "    print(final)\n",
    "    prediction=model.predict_proba(final)\n",
    "    output='{0:.{1}f}'.format(prediction[0][1], 2)\n",
    "\n",
    "    if output>str(0.5):\n",
    "        return render_template('forest_fire1.html',pred='Your Forest is in Danger.\\nProbability of fire occuring is {}'.format(output))\n",
    "    else:\n",
    "        return render_template('forest_fire1.html',pred='Your Forest is safe.\\n Probability of fire occuring is {}'.format(output))\n",
    "\n",
    "if __name__ == '__main__':\n",
    "    app.run(debug=False)\n"
   ]
  },
  {
   "cell_type": "code",
   "execution_count": null,
   "metadata": {
    "collapsed": true
   },
   "outputs": [],
   "source": [
    "  \n",
    "    \n"
   ]
  },
  {
   "cell_type": "code",
   "execution_count": null,
   "metadata": {
    "collapsed": true
   },
   "outputs": [],
   "source": []
  },
  {
   "cell_type": "code",
   "execution_count": null,
   "metadata": {
    "collapsed": true
   },
   "outputs": [],
   "source": []
  }
 ],
 "metadata": {
  "kernelspec": {
   "display_name": "Python 3",
   "language": "python",
   "name": "python3"
  },
  "language_info": {
   "codemirror_mode": {
    "name": "ipython",
    "version": 3
   },
   "file_extension": ".py",
   "mimetype": "text/x-python",
   "name": "python",
   "nbconvert_exporter": "python",
   "pygments_lexer": "ipython3",
   "version": "3.6.3"
  }
 },
 "nbformat": 4,
 "nbformat_minor": 2
}
