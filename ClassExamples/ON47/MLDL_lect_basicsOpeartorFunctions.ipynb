{
  "nbformat": 4,
  "nbformat_minor": 0,
  "metadata": {
    "colab": {
      "name": "online_MLDL_lect1.ipynb",
      "provenance": [],
      "collapsed_sections": [
        "05Zy1d7p2XOt",
        "3SyEzlC1-V0q"
      ]
    },
    "kernelspec": {
      "name": "python3",
      "display_name": "Python 3"
    }
  },
  "cells": [
    {
      "cell_type": "markdown",
      "metadata": {
        "id": "DHliY37px3VR",
        "colab_type": "text"
      },
      "source": [
        "ML-DL course (Lecture 1 -**basics of Python**)"
      ]
    },
    {
      "cell_type": "markdown",
      "metadata": {
        "id": "05Zy1d7p2XOt",
        "colab_type": "text"
      },
      "source": [
        "###Data Type"
      ]
    },
    {
      "cell_type": "code",
      "metadata": {
        "id": "FospRD36xuXx",
        "colab_type": "code",
        "colab": {
          "base_uri": "https://localhost:8080/",
          "height": 35
        },
        "outputId": "caab2514-b983-4460-fe57-4adc4349335a"
      },
      "source": [
        "# comment , sinlge line \n",
        "i=10\n",
        "i"
      ],
      "execution_count": null,
      "outputs": [
        {
          "output_type": "execute_result",
          "data": {
            "text/plain": [
              "10"
            ]
          },
          "metadata": {
            "tags": []
          },
          "execution_count": 4
        }
      ]
    },
    {
      "cell_type": "code",
      "metadata": {
        "id": "h3l40Xhxy11n",
        "colab_type": "code",
        "colab": {
          "base_uri": "https://localhost:8080/",
          "height": 54
        },
        "outputId": "9c2f9cdf-17bd-473e-b207-cfeb4314661e"
      },
      "source": [
        "print(i)\n",
        "print(type(i))"
      ],
      "execution_count": null,
      "outputs": [
        {
          "output_type": "stream",
          "text": [
            "10\n",
            "<class 'int'>\n"
          ],
          "name": "stdout"
        }
      ]
    },
    {
      "cell_type": "code",
      "metadata": {
        "id": "QgitcTWHy4HD",
        "colab_type": "code",
        "colab": {
          "base_uri": "https://localhost:8080/",
          "height": 54
        },
        "outputId": "088d7111-bcda-47c2-a3f9-471c08c048b2"
      },
      "source": [
        "f1 = \"India is Great\"\n",
        "print(f1)\n",
        "print(type (f1))"
      ],
      "execution_count": null,
      "outputs": [
        {
          "output_type": "stream",
          "text": [
            "India is Great\n",
            "<class 'str'>\n"
          ],
          "name": "stdout"
        }
      ]
    },
    {
      "cell_type": "code",
      "metadata": {
        "id": "r6crueSYzTnF",
        "colab_type": "code",
        "colab": {
          "base_uri": "https://localhost:8080/",
          "height": 225
        },
        "outputId": "732945e8-e23e-4499-d346-00b48fff683b"
      },
      "source": [
        "print(f1)\n",
        "del f1\n",
        "print (f1)"
      ],
      "execution_count": null,
      "outputs": [
        {
          "output_type": "stream",
          "text": [
            "India is Great\n"
          ],
          "name": "stdout"
        },
        {
          "output_type": "error",
          "ename": "NameError",
          "evalue": "ignored",
          "traceback": [
            "\u001b[0;31m---------------------------------------------------------------------------\u001b[0m",
            "\u001b[0;31mNameError\u001b[0m                                 Traceback (most recent call last)",
            "\u001b[0;32m<ipython-input-7-b6e2718b2199>\u001b[0m in \u001b[0;36m<module>\u001b[0;34m()\u001b[0m\n\u001b[1;32m      1\u001b[0m \u001b[0mprint\u001b[0m\u001b[0;34m(\u001b[0m\u001b[0mf1\u001b[0m\u001b[0;34m)\u001b[0m\u001b[0;34m\u001b[0m\u001b[0;34m\u001b[0m\u001b[0m\n\u001b[1;32m      2\u001b[0m \u001b[0;32mdel\u001b[0m \u001b[0mf1\u001b[0m\u001b[0;34m\u001b[0m\u001b[0;34m\u001b[0m\u001b[0m\n\u001b[0;32m----> 3\u001b[0;31m \u001b[0mprint\u001b[0m \u001b[0;34m(\u001b[0m\u001b[0mf1\u001b[0m\u001b[0;34m)\u001b[0m\u001b[0;34m\u001b[0m\u001b[0;34m\u001b[0m\u001b[0m\n\u001b[0m",
            "\u001b[0;31mNameError\u001b[0m: name 'f1' is not defined"
          ]
        }
      ]
    },
    {
      "cell_type": "code",
      "metadata": {
        "id": "zGpIj_8pv0DZ",
        "colab_type": "code",
        "colab": {
          "base_uri": "https://localhost:8080/",
          "height": 35
        },
        "outputId": "ab814400-d5b6-4152-dc34-9624a23a2341"
      },
      "source": [
        "a=10\n",
        "b=20\n",
        "c=30\n",
        "# multiple command in same line\n",
        "x=10;y=20;z=30\n",
        "#span single command in multiple lines\n",
        "a\\\n",
        "=\\\n",
        "200\n",
        "print (a)"
      ],
      "execution_count": null,
      "outputs": [
        {
          "output_type": "stream",
          "text": [
            "200\n"
          ],
          "name": "stdout"
        }
      ]
    },
    {
      "cell_type": "markdown",
      "metadata": {
        "id": "lm9JyakVznDW",
        "colab_type": "text"
      },
      "source": [
        "Memory Allocation"
      ]
    },
    {
      "cell_type": "code",
      "metadata": {
        "id": "gfxR6gVyzpOi",
        "colab_type": "code",
        "colab": {
          "base_uri": "https://localhost:8080/",
          "height": 35
        },
        "outputId": "1942e63c-d788-4abf-df02-0915c379aed3"
      },
      "source": [
        "i1=10\n",
        "print(id(i1), \"  \" ,type(i1) , \"   \" , i1)"
      ],
      "execution_count": null,
      "outputs": [
        {
          "output_type": "stream",
          "text": [
            "10914784    <class 'int'>     10\n"
          ],
          "name": "stdout"
        }
      ]
    },
    {
      "cell_type": "code",
      "metadata": {
        "id": "no1iV_LCzyEF",
        "colab_type": "code",
        "colab": {
          "base_uri": "https://localhost:8080/",
          "height": 35
        },
        "outputId": "0a4ab812-c13b-40ed-b1c0-971b1d7928f0"
      },
      "source": [
        "i2 = 10\n",
        "print(id(i2), \"  \" ,type(i2) , \"   \" , i2)"
      ],
      "execution_count": null,
      "outputs": [
        {
          "output_type": "stream",
          "text": [
            "10914784    <class 'int'>     10\n"
          ],
          "name": "stdout"
        }
      ]
    },
    {
      "cell_type": "code",
      "metadata": {
        "id": "265qtZ9Jz3-t",
        "colab_type": "code",
        "colab": {
          "base_uri": "https://localhost:8080/",
          "height": 72
        },
        "outputId": "d1065cda-14df-4f1d-e0c6-77e5a29af0c5"
      },
      "source": [
        "str1 = 'Amit'\n",
        "print(id(str1), \"  \" ,type(str1) , \"   \" , str1)\n",
        "str2 = 'Amit'\n",
        "print(id(str2), \"  \" ,type(str2) , \"   \" , str2)\n",
        "str3 = str2\n",
        "print(id(str3), \"  \" ,type(str3) , \"   \" , str3)"
      ],
      "execution_count": null,
      "outputs": [
        {
          "output_type": "stream",
          "text": [
            "139839599352216    <class 'str'>     Amit\n",
            "139839599352216    <class 'str'>     Amit\n",
            "139839599352216    <class 'str'>     Amit\n"
          ],
          "name": "stdout"
        }
      ]
    },
    {
      "cell_type": "code",
      "metadata": {
        "id": "kcnK1C_-0IrC",
        "colab_type": "code",
        "colab": {
          "base_uri": "https://localhost:8080/",
          "height": 72
        },
        "outputId": "8b46198b-c758-4f7e-d01b-fdd066ab6b63"
      },
      "source": [
        "str2 ='Sumit'\n",
        "print(id(str1), \"  \" ,type(str1) , \"   \" , str1)\n",
        "print(id(str2), \"  \" ,type(str2) , \"   \" , str2)\n",
        "print(id(str3), \"  \" ,type(str3) , \"   \" , str3)"
      ],
      "execution_count": null,
      "outputs": [
        {
          "output_type": "stream",
          "text": [
            "139839599352216    <class 'str'>     Amit\n",
            "139839599353224    <class 'str'>     Sumit\n",
            "139839599352216    <class 'str'>     Amit\n"
          ],
          "name": "stdout"
        }
      ]
    },
    {
      "cell_type": "code",
      "metadata": {
        "id": "9P5a_t4G06wU",
        "colab_type": "code",
        "colab": {
          "base_uri": "https://localhost:8080/",
          "height": 35
        },
        "outputId": "79bac2e8-83dd-4e7f-ba8e-25239402cc1f"
      },
      "source": [
        "print(str1, str2, str3,i1)"
      ],
      "execution_count": null,
      "outputs": [
        {
          "output_type": "stream",
          "text": [
            "Amit Sumit Amit 10\n"
          ],
          "name": "stdout"
        }
      ]
    },
    {
      "cell_type": "code",
      "metadata": {
        "id": "lhj-30ue1vPD",
        "colab_type": "code",
        "colab": {}
      },
      "source": [
        ""
      ],
      "execution_count": null,
      "outputs": []
    },
    {
      "cell_type": "markdown",
      "metadata": {
        "id": "gwf6SXlP2S5W",
        "colab_type": "text"
      },
      "source": [
        "###Operator "
      ]
    },
    {
      "cell_type": "markdown",
      "metadata": {
        "id": "OFhhEzsolslt",
        "colab_type": "text"
      },
      "source": [
        "Python language supports the following types of operators.\n",
        "\n",
        "* Arithmetic Operators ( +, - , /, ** , //,%,* )\n",
        "* Comparison (Relational) Operators (== , != , >, < , <> , >= , <= )\n",
        "* Assignment Operators (+=, -=, *= , **=, /=, //=, %=)\n",
        "* Logical Operators ( and, or , not)\n",
        "* Bitwise Operators  ( & , | , ^ , >>, <<  , ~)\n",
        "* Membership Operators (in , not in )\n",
        "* Identity Operators ( is, not is) "
      ]
    },
    {
      "cell_type": "code",
      "metadata": {
        "id": "i2ZlUEg52VZ8",
        "colab_type": "code",
        "colab": {
          "base_uri": "https://localhost:8080/",
          "height": 90
        },
        "outputId": "32eee585-0346-42b5-9283-82ea69b233e6"
      },
      "source": [
        "a, b=10,20\n",
        "print(a,b)\n",
        "c=a+b\n",
        "#assignment \n",
        "# a=a+b  -> a+=b  shortcut notation in C lang. \n",
        "a+=b\n",
        "print(a)\n",
        "\n",
        "x = ((a > 20) and (b<10))\n",
        "print(x)\n",
        "y =  not ((a > 20) or (b<10))\n",
        "print(y)\n",
        "#print(not y)"
      ],
      "execution_count": null,
      "outputs": [
        {
          "output_type": "stream",
          "text": [
            "10 20\n",
            "30\n",
            "False\n",
            "False\n"
          ],
          "name": "stdout"
        }
      ]
    },
    {
      "cell_type": "markdown",
      "metadata": {
        "id": "Hy9uSct12bBd",
        "colab_type": "text"
      },
      "source": [
        "* Binary Operator ( & , | , ^ , >>, <<  , ~) \n",
        "```\n",
        "a b   &  |  ^\n",
        "0 0   0  0  0\n",
        "0 1   0  1  1\n",
        "1 0   0  1  1\n",
        "1 1   1  1  0\n",
        "```"
      ]
    },
    {
      "cell_type": "code",
      "metadata": {
        "id": "BOEYCt_T26pH",
        "colab_type": "code",
        "colab": {
          "base_uri": "https://localhost:8080/",
          "height": 90
        },
        "outputId": "1f382bab-aceb-4061-f132-7bd2002bcf10"
      },
      "source": [
        "a=10 #    01010 binary value  \n",
        "b=20 #    10100\n",
        "#a & b    00000\n",
        "#a | b    11110\n",
        "#a ^ b    11110\n",
        "print(a,b)\n",
        "print( \"a & b \",   a & b)\n",
        "print( \"a | b \",   a | b)\n",
        "print( \"a ^ b \",   a ^ b)"
      ],
      "execution_count": null,
      "outputs": [
        {
          "output_type": "stream",
          "text": [
            "10 20\n",
            "a & b  0\n",
            "a | b  30\n",
            "a ^ b  30\n"
          ],
          "name": "stdout"
        }
      ]
    },
    {
      "cell_type": "code",
      "metadata": {
        "id": "w-oCSqKj3Cp6",
        "colab_type": "code",
        "colab": {
          "base_uri": "https://localhost:8080/",
          "height": 90
        },
        "outputId": "f6ba1bdd-121c-4acf-9bb0-e8e3054710fb"
      },
      "source": [
        "a=14; b=18;\n",
        "print(a,b)\n",
        "print( \"a & b \",   a & b)\n",
        "print( \"a | b \",   a | b)\n",
        "print( \"a ^ b \",   a ^ b)"
      ],
      "execution_count": null,
      "outputs": [
        {
          "output_type": "stream",
          "text": [
            "14 18\n",
            "a & b  2\n",
            "a | b  30\n",
            "a ^ b  28\n"
          ],
          "name": "stdout"
        }
      ]
    },
    {
      "cell_type": "code",
      "metadata": {
        "id": "0XY8-h126TWN",
        "colab_type": "code",
        "colab": {
          "base_uri": "https://localhost:8080/",
          "height": 35
        },
        "outputId": "eb7e61df-8ea4-45b2-e34a-b29f84da62f0"
      },
      "source": [
        "data=20\n",
        "key=11 \n",
        "enc =data ^ key \n",
        "print(enc)"
      ],
      "execution_count": null,
      "outputs": [
        {
          "output_type": "stream",
          "text": [
            "31\n"
          ],
          "name": "stdout"
        }
      ]
    },
    {
      "cell_type": "code",
      "metadata": {
        "id": "kVRKnURN6fRQ",
        "colab_type": "code",
        "colab": {
          "base_uri": "https://localhost:8080/",
          "height": 35
        },
        "outputId": "68e93023-13c0-4647-ed31-91ea6bb108fa"
      },
      "source": [
        "atreceiver = enc ^ key\n",
        "print(atreceiver)"
      ],
      "execution_count": null,
      "outputs": [
        {
          "output_type": "stream",
          "text": [
            "20\n"
          ],
          "name": "stdout"
        }
      ]
    },
    {
      "cell_type": "code",
      "metadata": {
        "id": "m0s7NRJx7ARR",
        "colab_type": "code",
        "colab": {
          "base_uri": "https://localhost:8080/",
          "height": 90
        },
        "outputId": "0dcd161e-2f7e-485d-a117-90333c1f45e8"
      },
      "source": [
        "i1 = 10  #1010 >> 1\n",
        "print(i1 >> 1)\n",
        "print(i1 >> 2)\n",
        "print(i1 <<1)\n",
        "print(i1 <<4)"
      ],
      "execution_count": null,
      "outputs": [
        {
          "output_type": "stream",
          "text": [
            "5\n",
            "2\n",
            "20\n",
            "160\n"
          ],
          "name": "stdout"
        }
      ]
    },
    {
      "cell_type": "code",
      "metadata": {
        "id": "IFKInkrw7VFu",
        "colab_type": "code",
        "colab": {
          "base_uri": "https://localhost:8080/",
          "height": 35
        },
        "outputId": "d71ff977-5aa4-4a68-aeb2-4ab17b004b66"
      },
      "source": [
        "print(i1, ~i1)"
      ],
      "execution_count": null,
      "outputs": [
        {
          "output_type": "stream",
          "text": [
            "10 -11\n"
          ],
          "name": "stdout"
        }
      ]
    },
    {
      "cell_type": "code",
      "metadata": {
        "id": "UC7lgy3I7p-X",
        "colab_type": "code",
        "colab": {
          "base_uri": "https://localhost:8080/",
          "height": 35
        },
        "outputId": "03052c8d-4167-4cc7-b110-cf6795805d52"
      },
      "source": [
        "i2 = 0  #00000000\n",
        "#11111111 take 2'complement of negative numbers \n",
        "#00000000 + 1 == (-)000000001\n",
        "\n",
        "print(i2, ~i2)"
      ],
      "execution_count": null,
      "outputs": [
        {
          "output_type": "stream",
          "text": [
            "0 -1\n"
          ],
          "name": "stdout"
        }
      ]
    },
    {
      "cell_type": "code",
      "metadata": {
        "id": "YdNcdcVJ755y",
        "colab_type": "code",
        "colab": {
          "base_uri": "https://localhost:8080/",
          "height": 135
        },
        "outputId": "c71e99a1-a4c2-4c27-b070-d4be44f72e5c"
      },
      "source": [
        ""
      ],
      "execution_count": null,
      "outputs": [
        {
          "output_type": "error",
          "ename": "SyntaxError",
          "evalue": "ignored",
          "traceback": [
            "\u001b[0;36m  File \u001b[0;32m\"<ipython-input-26-c3547dd483f1>\"\u001b[0;36m, line \u001b[0;32m2\u001b[0m\n\u001b[0;31m    print(a<<<1)\u001b[0m\n\u001b[0m             ^\u001b[0m\n\u001b[0;31mSyntaxError\u001b[0m\u001b[0;31m:\u001b[0m invalid syntax\n"
          ]
        }
      ]
    },
    {
      "cell_type": "markdown",
      "metadata": {
        "id": "B0CuyVdkqVjw",
        "colab_type": "text"
      },
      "source": [
        "Operator Precedance\n",
        "\n",
        "```\n",
        "\tOperator & Description\n",
        " **  Exponentiation (raise to the power)\n",
        " ~ + -  Complement, unary plus and minus (method names for the last two are +@ and -@)\n",
        "  / % // Multiply, divide, modulo and floor division\n",
        " + - Addition and subtraction\n",
        " >> <<   Right and left bitwise shift\n",
        " &    Bitwise 'AND'\n",
        " ^ |   Bitwise exclusive `OR' and regular `OR'\n",
        " <= < > >=  Comparison operators\n",
        " <> == !=  Equality operators\n",
        " = %= /= //= -= += *= **=  Assignment operators\n",
        " is is not   Identity operators\n",
        " in not in   Membership operators\n",
        " not or and   Logical operators\n",
        "```"
      ]
    },
    {
      "cell_type": "code",
      "metadata": {
        "id": "Fmmw6ilk1IMR",
        "colab_type": "code",
        "colab": {}
      },
      "source": [
        "#check the version of python\n"
      ],
      "execution_count": null,
      "outputs": []
    },
    {
      "cell_type": "markdown",
      "metadata": {
        "id": "_v3V6ZMk1WyA",
        "colab_type": "text"
      },
      "source": [
        "in case of C Language \n",
        "```\n",
        "if (a>b) print(a)\n",
        "else print(b)\n",
        "\n",
        "(a>b) ? print(a) : print(b)\n",
        "```"
      ]
    },
    {
      "cell_type": "markdown",
      "metadata": {
        "id": "-FYBrDOPnr69",
        "colab_type": "text"
      },
      "source": [
        "####Ternary Operator in Python"
      ]
    },
    {
      "cell_type": "markdown",
      "metadata": {
        "id": "kiXUArf1nnmi",
        "colab_type": "text"
      },
      "source": [
        "\n",
        "Ternary operators also known as conditional expressions are operators that evaluate something based on a condition being true or false. It was added to Python in version 2.5.\n",
        "It simply allows to test a condition in a single line replacing the multiline if-else making the code compact.\n",
        "```\n",
        "Syntax :\n",
        "\n",
        "[on_true] if [expression] else [on_false] \n",
        "```"
      ]
    },
    {
      "cell_type": "code",
      "metadata": {
        "id": "EYIYAkLdn0ob",
        "colab_type": "code",
        "colab": {
          "base_uri": "https://localhost:8080/",
          "height": 54
        },
        "outputId": "3cbdfabf-4fb9-4560-c4db-a8d8cf859e27"
      },
      "source": [
        "a, b = 10, 20\n",
        "print(a,b) \n",
        "\n",
        "# Copy value of a in min if a < b else copy b \n",
        "min = a if a < b else b \n",
        "  \n",
        "print(min)"
      ],
      "execution_count": null,
      "outputs": [
        {
          "output_type": "stream",
          "text": [
            "10 20\n",
            "10\n"
          ],
          "name": "stdout"
        }
      ]
    },
    {
      "cell_type": "code",
      "metadata": {
        "id": "sXJhMto8oE7L",
        "colab_type": "code",
        "colab": {
          "base_uri": "https://localhost:8080/",
          "height": 35
        },
        "outputId": "ef8bcb3a-0abe-4379-ede2-c65e4beb436d"
      },
      "source": [
        "#Question \n",
        "# Python program to demonstrate nested ternary operator \n",
        "a, b = 10, 20\n",
        "  \n",
        "if a != b: \n",
        "    if a > b: \n",
        "        print(\"a is greater than b\") \n",
        "    else: \n",
        "        print(\"b is greater than a\") \n",
        "else: \n",
        "    print(\"Both a and b are equal\") "
      ],
      "execution_count": null,
      "outputs": [
        {
          "output_type": "stream",
          "text": [
            "b is greater than a\n"
          ],
          "name": "stdout"
        }
      ]
    },
    {
      "cell_type": "code",
      "metadata": {
        "id": "uGbi2xgvoZSk",
        "colab_type": "code",
        "colab": {
          "base_uri": "https://localhost:8080/",
          "height": 35
        },
        "outputId": "3771e196-cabb-47ac-c954-0e79cd5dafda"
      },
      "source": [
        "#alternate ternary operator usuage\n",
        "a, b = 10, 20\n",
        "  \n",
        "print (\"Both a and b are equal\" if a == b else \n",
        "                            (\"a is greater than b\" if a > b else \"b is greater than a\") ) "
      ],
      "execution_count": null,
      "outputs": [
        {
          "output_type": "stream",
          "text": [
            "b is greater than a\n"
          ],
          "name": "stdout"
        }
      ]
    },
    {
      "cell_type": "markdown",
      "metadata": {
        "id": "S75GJAjmpFze",
        "colab_type": "text"
      },
      "source": [
        " **Advance Usuage**"
      ]
    },
    {
      "cell_type": "code",
      "metadata": {
        "id": "M2Zez-AHo50k",
        "colab_type": "code",
        "colab": {
          "base_uri": "https://localhost:8080/",
          "height": 72
        },
        "outputId": "12fa776c-a64c-4a4d-ff5e-9762f9c90f0b"
      },
      "source": [
        "\n",
        "#Direct Method by using tuples, Dictionary and lambda\n",
        "a, b = 10, 20\n",
        "  \n",
        "# Use tuple for selecting an item \n",
        "# (if_test_false,if_test_true)[test] \n",
        "print( (b, a) [a < b] ) \n",
        "  \n",
        "# Use Dictionary for selecting an item \n",
        "print({True: a, False: b} [a < b]) \n",
        "  \n",
        "# lamda is more efficient than above two methods \n",
        "# because in lambda  we are assure that \n",
        "# only one expression will be evaluated unlike in \n",
        "# tuple and Dictionary \n",
        "print((lambda: b, lambda: a)[a < b]()) "
      ],
      "execution_count": null,
      "outputs": [
        {
          "output_type": "stream",
          "text": [
            "10\n",
            "10\n",
            "10\n"
          ],
          "name": "stdout"
        }
      ]
    },
    {
      "cell_type": "markdown",
      "metadata": {
        "id": "3SyEzlC1-V0q",
        "colab_type": "text"
      },
      "source": [
        "### conditional Statement/Loops"
      ]
    },
    {
      "cell_type": "code",
      "metadata": {
        "id": "MfyuBOHG-bDl",
        "colab_type": "code",
        "colab": {
          "base_uri": "https://localhost:8080/",
          "height": 90
        },
        "outputId": "4f6ed28f-5b85-48a0-951e-a5d0f070008f"
      },
      "source": [
        "a ,b=20,30\n",
        "a = eval(input(\"enter value of a :\"))\n",
        "b = eval(input(\"enter value of b :\"))\n",
        "#print(type(a))\n",
        "if (a==b):\n",
        "  print(\"a and b are equal\")\n",
        "elif(a>b):\n",
        "  print(a)\n",
        "else :  \n",
        "  print(b)\n",
        "\n",
        "\n"
      ],
      "execution_count": null,
      "outputs": [
        {
          "output_type": "stream",
          "text": [
            "enter value of a :23\n",
            "enter value of b :12\n",
            "<class 'int'>\n",
            "23\n"
          ],
          "name": "stdout"
        }
      ]
    },
    {
      "cell_type": "code",
      "metadata": {
        "id": "a_h8kaUy89UM",
        "colab_type": "code",
        "colab": {
          "base_uri": "https://localhost:8080/",
          "height": 108
        },
        "outputId": "2d418263-c0c9-4e19-db2f-db1cacd1e114"
      },
      "source": [
        "i=1\n",
        "while(i<5):\n",
        "  print(i)\n",
        "  i = i+1\n",
        "#else is optional \n",
        "else :\n",
        "  print (\"else\")"
      ],
      "execution_count": null,
      "outputs": [
        {
          "output_type": "stream",
          "text": [
            "1\n",
            "2\n",
            "3\n",
            "4\n",
            "else\n"
          ],
          "name": "stdout"
        }
      ]
    },
    {
      "cell_type": "code",
      "metadata": {
        "id": "K534pNmu9lgl",
        "colab_type": "code",
        "colab": {
          "base_uri": "https://localhost:8080/",
          "height": 217
        },
        "outputId": "d7eedbe6-c380-4e53-e9ee-fbb0894ca9f4"
      },
      "source": [
        "str = 'India'\n",
        "\n",
        "for i in range(len(str)):\n",
        "  print (i , str[i])\n",
        "\n",
        "print(\"str[1:3] \" , str[1:3])\n",
        "print(\"str[1:] \" , str[1:])\n",
        "print(\"str[:3] \" , str[:3])\n",
        "print(\"str[:] \" , str[:])\n",
        "\n",
        "q = \" is great\"\n",
        "print(str+q)\n",
        "print( str*2)\n",
        "#for x in str :\n",
        "#  print (x)"
      ],
      "execution_count": null,
      "outputs": [
        {
          "output_type": "stream",
          "text": [
            "0 I\n",
            "1 n\n",
            "2 d\n",
            "3 i\n",
            "4 a\n",
            "str[1:3]  nd\n",
            "str[1:]  ndia\n",
            "str[:3]  Ind\n",
            "str[:]  India\n",
            "India is great\n",
            "IndiaIndia\n"
          ],
          "name": "stdout"
        }
      ]
    },
    {
      "cell_type": "code",
      "metadata": {
        "id": "FXiCkSRVAHeQ",
        "colab_type": "code",
        "colab": {
          "base_uri": "https://localhost:8080/",
          "height": 108
        },
        "outputId": "a1c88331-e1a8-4e0e-e43a-e8f271528c63"
      },
      "source": [
        "for x in range(5):\n",
        "  print(x)"
      ],
      "execution_count": null,
      "outputs": [
        {
          "output_type": "stream",
          "text": [
            "0\n",
            "1\n",
            "2\n",
            "3\n",
            "4\n"
          ],
          "name": "stdout"
        }
      ]
    },
    {
      "cell_type": "code",
      "metadata": {
        "id": "Llq6JIJIARu3",
        "colab_type": "code",
        "colab": {
          "base_uri": "https://localhost:8080/",
          "height": 72
        },
        "outputId": "ebc1e03e-df39-4a00-ae62-06ecc1abb2b5"
      },
      "source": [
        "for x in range(2,5):  # range (start, stop, step )\n",
        "  print(x)"
      ],
      "execution_count": null,
      "outputs": [
        {
          "output_type": "stream",
          "text": [
            "2\n",
            "3\n",
            "4\n"
          ],
          "name": "stdout"
        }
      ]
    },
    {
      "cell_type": "code",
      "metadata": {
        "id": "2DEK0uJ-AYjB",
        "colab_type": "code",
        "colab": {
          "base_uri": "https://localhost:8080/",
          "height": 35
        },
        "outputId": "e808f422-0e71-45f1-ba03-c7a28ce93074"
      },
      "source": [
        "for x in range(2,50,4):\n",
        "  print(x, end=\" \")"
      ],
      "execution_count": null,
      "outputs": [
        {
          "output_type": "stream",
          "text": [
            "2 6 10 14 18 22 26 30 34 38 42 46 "
          ],
          "name": "stdout"
        }
      ]
    },
    {
      "cell_type": "code",
      "metadata": {
        "id": "ImUFJXHpAilg",
        "colab_type": "code",
        "colab": {
          "base_uri": "https://localhost:8080/",
          "height": 163
        },
        "outputId": "4569e14d-198a-4c5d-89f3-375eef7b6f4e"
      },
      "source": [
        "for x in range(200,50,-20):\n",
        "  print(x)"
      ],
      "execution_count": null,
      "outputs": [
        {
          "output_type": "stream",
          "text": [
            "200\n",
            "180\n",
            "160\n",
            "140\n",
            "120\n",
            "100\n",
            "80\n",
            "60\n"
          ],
          "name": "stdout"
        }
      ]
    },
    {
      "cell_type": "code",
      "metadata": {
        "id": "SWRSZnSaApv5",
        "colab_type": "code",
        "colab": {
          "base_uri": "https://localhost:8080/",
          "height": 90
        },
        "outputId": "173547a1-962b-46fc-d5fb-8621a7f1414d"
      },
      "source": [
        "stu = ['amit','sita','kevin','himmat']\n",
        "for s in stu:\n",
        "  print(s)"
      ],
      "execution_count": null,
      "outputs": [
        {
          "output_type": "stream",
          "text": [
            "amit\n",
            "sita\n",
            "kevin\n",
            "himmat\n"
          ],
          "name": "stdout"
        }
      ]
    },
    {
      "cell_type": "markdown",
      "metadata": {
        "id": "bW3IIegZ-bm5",
        "colab_type": "text"
      },
      "source": [
        "### Functions"
      ]
    },
    {
      "cell_type": "markdown",
      "metadata": {
        "id": "rDYm2M8T51tc",
        "colab_type": "text"
      },
      "source": [
        "* function name can have multiple words\n",
        "* good programming skill (convention)- inspire camel casing or hungarian notation e.g. checkPrime() , isOdd(), \n",
        "* proper documentation "
      ]
    },
    {
      "cell_type": "code",
      "metadata": {
        "id": "MXeVsR1CAXeM",
        "colab_type": "code",
        "colab": {}
      },
      "source": [
        "def myadd1():\n",
        "  a,b = 10,20\n",
        "  #print(a+b)\n",
        "  #return (a+b)"
      ],
      "execution_count": null,
      "outputs": []
    },
    {
      "cell_type": "code",
      "metadata": {
        "id": "m24b2hSq-eXi",
        "colab_type": "code",
        "colab": {
          "base_uri": "https://localhost:8080/",
          "height": 35
        },
        "outputId": "1e1f6cec-fd88-4ffb-869c-98aa074721ee"
      },
      "source": [
        "myadd2()\n",
        "#print(myadd2())"
      ],
      "execution_count": null,
      "outputs": [
        {
          "output_type": "stream",
          "text": [
            "30\n"
          ],
          "name": "stdout"
        }
      ]
    },
    {
      "cell_type": "code",
      "metadata": {
        "id": "j6z4NMT5E-JI",
        "colab_type": "code",
        "colab": {}
      },
      "source": [
        "def myadd2(a,b):\n",
        "  ''' this is the function to add two number passsed as arguments '''  #concept of reflection \n",
        "  return (a+b)"
      ],
      "execution_count": null,
      "outputs": []
    },
    {
      "cell_type": "code",
      "metadata": {
        "id": "jhaYVhI-GIIQ",
        "colab_type": "code",
        "colab": {
          "base_uri": "https://localhost:8080/",
          "height": 35
        },
        "outputId": "07776f03-8262-4c76-d9b6-a040309e2967"
      },
      "source": [
        "myadd2.__doc__"
      ],
      "execution_count": null,
      "outputs": [
        {
          "output_type": "execute_result",
          "data": {
            "application/vnd.google.colaboratory.intrinsic+json": {
              "type": "string"
            },
            "text/plain": [
              "' this is the function to add two number passsed as arguments '"
            ]
          },
          "metadata": {
            "tags": []
          },
          "execution_count": 83
        }
      ]
    },
    {
      "cell_type": "code",
      "metadata": {
        "id": "rXKLY5g6GGQP",
        "colab_type": "code",
        "colab": {
          "base_uri": "https://localhost:8080/",
          "height": 35
        },
        "outputId": "2f61220c-fa96-4409-d93a-3804e7fcef08"
      },
      "source": [
        "myadd2(90,34)"
      ],
      "execution_count": null,
      "outputs": [
        {
          "output_type": "execute_result",
          "data": {
            "text/plain": [
              "124"
            ]
          },
          "metadata": {
            "tags": []
          },
          "execution_count": 80
        }
      ]
    },
    {
      "cell_type": "code",
      "metadata": {
        "id": "7GArUP7rGhlW",
        "colab_type": "code",
        "colab": {}
      },
      "source": [
        "myadd1.__doc__"
      ],
      "execution_count": null,
      "outputs": []
    },
    {
      "cell_type": "code",
      "metadata": {
        "id": "rkSuZPMhGmo5",
        "colab_type": "code",
        "colab": {
          "base_uri": "https://localhost:8080/",
          "height": 72
        },
        "outputId": "8981716f-b99c-46c2-e0c3-9161e34e0a9f"
      },
      "source": [
        "def myaddc(a,b):\n",
        "  a+=1\n",
        "  b-=1\n",
        "  print(\"inside \"  , a,b)\n",
        "\n",
        "#call by reference/value\n",
        "x,y = 25,35\n",
        "print(\"Outside before call \" , x,y)\n",
        "myaddc(x,y)\n",
        "print(\"Outside after call \" ,x,y)"
      ],
      "execution_count": null,
      "outputs": [
        {
          "output_type": "stream",
          "text": [
            "Outside before call  25 35\n",
            "inside  26 34\n",
            "Outside after call  25 35\n"
          ],
          "name": "stdout"
        }
      ]
    },
    {
      "cell_type": "code",
      "metadata": {
        "id": "haAOmlqKHo2W",
        "colab_type": "code",
        "colab": {}
      },
      "source": [
        "# default value assignment\n",
        "def myadd(a,b,c=0):\n",
        "  return (a+b+c)"
      ],
      "execution_count": null,
      "outputs": []
    },
    {
      "cell_type": "code",
      "metadata": {
        "id": "nH5R-NJOIdCZ",
        "colab_type": "code",
        "colab": {
          "base_uri": "https://localhost:8080/",
          "height": 35
        },
        "outputId": "6c74db8f-a960-47ee-c755-7b1861db2410"
      },
      "source": [
        "myadd(10,20)"
      ],
      "execution_count": null,
      "outputs": [
        {
          "output_type": "execute_result",
          "data": {
            "text/plain": [
              "30"
            ]
          },
          "metadata": {
            "tags": []
          },
          "execution_count": 94
        }
      ]
    },
    {
      "cell_type": "code",
      "metadata": {
        "id": "XAPpxiT8IfFh",
        "colab_type": "code",
        "colab": {
          "base_uri": "https://localhost:8080/",
          "height": 35
        },
        "outputId": "a0477694-3d92-4031-d7c8-f4dd71851bff"
      },
      "source": [
        "myadd(10,20,25)"
      ],
      "execution_count": null,
      "outputs": [
        {
          "output_type": "execute_result",
          "data": {
            "text/plain": [
              "55"
            ]
          },
          "metadata": {
            "tags": []
          },
          "execution_count": 95
        }
      ]
    },
    {
      "cell_type": "code",
      "metadata": {
        "id": "F1WFujZDIhn1",
        "colab_type": "code",
        "colab": {
          "base_uri": "https://localhost:8080/",
          "height": 135
        },
        "outputId": "1227cb11-0001-471e-d390-eabd938bc255"
      },
      "source": [
        "# default value assignment\n",
        "# if any argument is assigned a default value then all element right to that should have default value\n",
        "def myadd(a,b,c=0,d):\n",
        "  return (a+b+c+d)"
      ],
      "execution_count": null,
      "outputs": [
        {
          "output_type": "error",
          "ename": "SyntaxError",
          "evalue": "ignored",
          "traceback": [
            "\u001b[0;36m  File \u001b[0;32m\"<ipython-input-98-33d4681d1191>\"\u001b[0;36m, line \u001b[0;32m3\u001b[0m\n\u001b[0;31m    def myadd(a,b,c=0,d):\u001b[0m\n\u001b[0m             ^\u001b[0m\n\u001b[0;31mSyntaxError\u001b[0m\u001b[0;31m:\u001b[0m non-default argument follows default argument\n"
          ]
        }
      ]
    },
    {
      "cell_type": "markdown",
      "metadata": {
        "id": "7xnFufUd8u-u",
        "colab_type": "text"
      },
      "source": [
        "#### Recursion"
      ]
    },
    {
      "cell_type": "code",
      "metadata": {
        "id": "CQGFfeZHJXMy",
        "colab_type": "code",
        "colab": {}
      },
      "source": [
        "def fact(n):\n",
        "  ''' function to calculate factorial recursively '''\n",
        "  #terminating condt\n",
        "  if n==0 : \n",
        "    print(\"in n==0\" )\n",
        "    return 1\n",
        "  else : \n",
        "    print(\"in else \" , n)\n",
        "    res = n * fact(n-1)\n",
        "    print (\"back in fact \",n , res)\n",
        "    return res"
      ],
      "execution_count": null,
      "outputs": []
    },
    {
      "cell_type": "code",
      "metadata": {
        "id": "_1UeEsKq9LuP",
        "colab_type": "code",
        "colab": {
          "base_uri": "https://localhost:8080/",
          "height": 199
        },
        "outputId": "601bbf1a-7927-4f54-d4b8-74971c0e716c"
      },
      "source": [
        "x=fact(4)"
      ],
      "execution_count": null,
      "outputs": [
        {
          "output_type": "stream",
          "text": [
            "in else  4\n",
            "in else  3\n",
            "in else  2\n",
            "in else  1\n",
            "in n==0\n",
            "back in fact  1 1\n",
            "back in fact  2 2\n",
            "back in fact  3 6\n",
            "back in fact  4 24\n"
          ],
          "name": "stdout"
        },
        {
          "output_type": "execute_result",
          "data": {
            "text/plain": [
              "24"
            ]
          },
          "metadata": {
            "tags": []
          },
          "execution_count": 10
        }
      ]
    },
    {
      "cell_type": "code",
      "metadata": {
        "id": "FjhSuT959NcX",
        "colab_type": "code",
        "colab": {}
      },
      "source": [
        "def fact1(n):\n",
        "  ''' function to calculate factorial recursively '''\n",
        "\n",
        "  return(  1 if n==0 else (n*fact1(n-1)))\n",
        "\n",
        "  #if n==0 :    return 1\n",
        "  #else :    return (n * fact1(n-1))\n",
        "  #syntax\n",
        "  #min = a if a < b else b \n"
      ],
      "execution_count": null,
      "outputs": []
    },
    {
      "cell_type": "code",
      "metadata": {
        "id": "lmhy44dp_NjB",
        "colab_type": "code",
        "colab": {
          "base_uri": "https://localhost:8080/",
          "height": 35
        },
        "outputId": "b742ed3f-c5a4-44f2-af16-30932937c70d"
      },
      "source": [
        "fact1(6)"
      ],
      "execution_count": null,
      "outputs": [
        {
          "output_type": "execute_result",
          "data": {
            "text/plain": [
              "720"
            ]
          },
          "metadata": {
            "tags": []
          },
          "execution_count": 33
        }
      ]
    },
    {
      "cell_type": "markdown",
      "metadata": {
        "id": "fAuZwC5sDou3",
        "colab_type": "text"
      },
      "source": [
        "#### Pass by Value / reference "
      ]
    },
    {
      "cell_type": "code",
      "metadata": {
        "id": "xlnkBIIf_QvT",
        "colab_type": "code",
        "colab": {}
      },
      "source": [
        "def method1 (a, b):\n",
        "  print(\"received in method       \"  ,a, id(a), b , id(b) )\n",
        "  a+=1\n",
        "  b-=1\n",
        "  print(\"After change in method   \"  ,a, id(a), b , id(b) )\n"
      ],
      "execution_count": null,
      "outputs": []
    },
    {
      "cell_type": "code",
      "metadata": {
        "id": "7S1EUoEeD_0X",
        "colab_type": "code",
        "colab": {
          "base_uri": "https://localhost:8080/",
          "height": 90
        },
        "outputId": "a07dd51f-42e5-4a73-b911-38f817c082eb"
      },
      "source": [
        "x,y=20,25\n",
        "print(\"Before calling method     \"  ,x, id(x), y , id(y) )\n",
        "method1(x,y)\n",
        "print(\"After  calling method     \"  ,x, id(x), y , id(y) )\n"
      ],
      "execution_count": null,
      "outputs": [
        {
          "output_type": "stream",
          "text": [
            "Before calling method      20 10915104 25 10915264\n",
            "received in method        20 10915104 25 10915264\n",
            "After change in method    21 10915136 24 10915232\n",
            "After  calling method      20 10915104 25 10915264\n"
          ],
          "name": "stdout"
        }
      ]
    },
    {
      "cell_type": "code",
      "metadata": {
        "id": "cL_gPs3zEEJw",
        "colab_type": "code",
        "colab": {}
      },
      "source": [
        "def method2 (arr):\n",
        "  print(\"received in method       \"  ,arr, id(arr) )\n",
        "  arr[1] +=20\n",
        "  #arr[2]  = [50,60]\n",
        "  print(\"After change in method   \"  ,arr, id(arr) )"
      ],
      "execution_count": null,
      "outputs": []
    },
    {
      "cell_type": "code",
      "metadata": {
        "id": "LlKlJGw3E_Md",
        "colab_type": "code",
        "colab": {
          "base_uri": "https://localhost:8080/",
          "height": 90
        },
        "outputId": "ac040ba7-3d55-493d-ecf9-a83e8df455cc"
      },
      "source": [
        "ar = [10,20,30]\n",
        "print(\"Before calling method     \"  ,ar, id(ar) )\n",
        "method2(ar)\n",
        "print(\"After  calling method     \"  ,ar, id(ar) )"
      ],
      "execution_count": null,
      "outputs": [
        {
          "output_type": "stream",
          "text": [
            "Before calling method      [10, 20, 30] 140056915458184\n",
            "received in method        [10, 20, 30] 140056915458184\n",
            "After change in method    [10, 40, [50, 60]] 140056915458184\n",
            "After  calling method      [10, 40, [50, 60]] 140056915458184\n"
          ],
          "name": "stdout"
        }
      ]
    },
    {
      "cell_type": "markdown",
      "metadata": {
        "id": "3s0axC8zFwkF",
        "colab_type": "text"
      },
      "source": [
        "#### Variable number of argument"
      ]
    },
    {
      "cell_type": "code",
      "metadata": {
        "id": "6UkHj80zF_1v",
        "colab_type": "code",
        "colab": {}
      },
      "source": [
        "def printVariables( arg1, *vararg ): \n",
        "  print(arg1)\n",
        "  for v in vararg :\n",
        "    print (v)"
      ],
      "execution_count": null,
      "outputs": []
    },
    {
      "cell_type": "code",
      "metadata": {
        "id": "xbSBV8-uGFfk",
        "colab_type": "code",
        "colab": {
          "base_uri": "https://localhost:8080/",
          "height": 90
        },
        "outputId": "a679f46c-a06e-4095-ad54-414ac7eb3c49"
      },
      "source": [
        "printVariables(10,20,30,40)"
      ],
      "execution_count": null,
      "outputs": [
        {
          "output_type": "stream",
          "text": [
            "10\n",
            "20\n",
            "30\n",
            "40\n"
          ],
          "name": "stdout"
        }
      ]
    },
    {
      "cell_type": "code",
      "metadata": {
        "id": "01Mzm24jGOyD",
        "colab_type": "code",
        "colab": {
          "base_uri": "https://localhost:8080/",
          "height": 108
        },
        "outputId": "3114e5cb-d319-4715-9138-7e9981e244f7"
      },
      "source": [
        "printVariables(10,'amit',30,'india', 40)"
      ],
      "execution_count": null,
      "outputs": [
        {
          "output_type": "stream",
          "text": [
            "10\n",
            "amit\n",
            "30\n",
            "india\n",
            "40\n"
          ],
          "name": "stdout"
        }
      ]
    },
    {
      "cell_type": "code",
      "metadata": {
        "id": "7dE7DLYBGVNy",
        "colab_type": "code",
        "colab": {
          "base_uri": "https://localhost:8080/",
          "height": 35
        },
        "outputId": "2df1365b-d7c4-49f2-8026-923321a5294c"
      },
      "source": [
        "printVariables(10)"
      ],
      "execution_count": null,
      "outputs": [
        {
          "output_type": "stream",
          "text": [
            "10\n"
          ],
          "name": "stdout"
        }
      ]
    },
    {
      "cell_type": "code",
      "metadata": {
        "id": "8RAlwMdxGddI",
        "colab_type": "code",
        "colab": {
          "base_uri": "https://localhost:8080/",
          "height": 171
        },
        "outputId": "fd021437-14df-4be5-912c-292f9aba45c1"
      },
      "source": [
        "printVariables()"
      ],
      "execution_count": null,
      "outputs": [
        {
          "output_type": "error",
          "ename": "TypeError",
          "evalue": "ignored",
          "traceback": [
            "\u001b[0;31m---------------------------------------------------------------------------\u001b[0m",
            "\u001b[0;31mTypeError\u001b[0m                                 Traceback (most recent call last)",
            "\u001b[0;32m<ipython-input-56-0a83b5cacf0a>\u001b[0m in \u001b[0;36m<module>\u001b[0;34m()\u001b[0m\n\u001b[0;32m----> 1\u001b[0;31m \u001b[0mprintVariables\u001b[0m\u001b[0;34m(\u001b[0m\u001b[0;34m)\u001b[0m\u001b[0;34m\u001b[0m\u001b[0;34m\u001b[0m\u001b[0m\n\u001b[0m",
            "\u001b[0;31mTypeError\u001b[0m: printVariables() missing 1 required positional argument: 'arg1'"
          ]
        }
      ]
    },
    {
      "cell_type": "code",
      "metadata": {
        "id": "tTVvvFnNGgvJ",
        "colab_type": "code",
        "colab": {}
      },
      "source": [
        "def printVariables1( *vararg ): \n",
        "\n",
        "  for v in vararg :\n",
        "    print (v)"
      ],
      "execution_count": null,
      "outputs": []
    },
    {
      "cell_type": "code",
      "metadata": {
        "id": "BDyh6LwDGpCv",
        "colab_type": "code",
        "colab": {
          "base_uri": "https://localhost:8080/",
          "height": 54
        },
        "outputId": "3a694efc-056e-46ce-d29a-d35b1e80d324"
      },
      "source": [
        "printVariables1(10,20)"
      ],
      "execution_count": null,
      "outputs": [
        {
          "output_type": "stream",
          "text": [
            "10\n",
            "20\n"
          ],
          "name": "stdout"
        }
      ]
    },
    {
      "cell_type": "code",
      "metadata": {
        "id": "UNKSrowRGrmb",
        "colab_type": "code",
        "colab": {}
      },
      "source": [
        "printVariables1()"
      ],
      "execution_count": null,
      "outputs": []
    },
    {
      "cell_type": "markdown",
      "metadata": {
        "id": "aD-XjcACG9cb",
        "colab_type": "text"
      },
      "source": [
        "#### Anonymous Functions (Lamda)"
      ]
    },
    {
      "cell_type": "code",
      "metadata": {
        "id": "COkW_csOHAIJ",
        "colab_type": "code",
        "colab": {}
      },
      "source": [
        "def myAdd(a,b):\n",
        "  return a+b"
      ],
      "execution_count": null,
      "outputs": []
    },
    {
      "cell_type": "code",
      "metadata": {
        "id": "lvDNAsm3HInM",
        "colab_type": "code",
        "colab": {
          "base_uri": "https://localhost:8080/",
          "height": 35
        },
        "outputId": "5e162e88-7de0-4540-8605-e36dfdba80f4"
      },
      "source": [
        "myAdd(10,20)"
      ],
      "execution_count": null,
      "outputs": [
        {
          "output_type": "execute_result",
          "data": {
            "text/plain": [
              "30"
            ]
          },
          "metadata": {
            "tags": []
          },
          "execution_count": 62
        }
      ]
    },
    {
      "cell_type": "code",
      "metadata": {
        "id": "vIFWi45pGtVu",
        "colab_type": "code",
        "colab": {}
      },
      "source": [
        "#lambda is a keyword\n",
        "sum = lambda arg1, arg2 : arg1 + arg2; "
      ],
      "execution_count": null,
      "outputs": []
    },
    {
      "cell_type": "code",
      "metadata": {
        "id": "CceGgCvkHKQc",
        "colab_type": "code",
        "colab": {
          "base_uri": "https://localhost:8080/",
          "height": 35
        },
        "outputId": "618ec17f-40b1-4c8a-ff6b-ec14b4c93a47"
      },
      "source": [
        "sum(10,20)"
      ],
      "execution_count": null,
      "outputs": [
        {
          "output_type": "execute_result",
          "data": {
            "text/plain": [
              "30"
            ]
          },
          "metadata": {
            "tags": []
          },
          "execution_count": 64
        }
      ]
    },
    {
      "cell_type": "code",
      "metadata": {
        "id": "-Ld-yxE-HVj-",
        "colab_type": "code",
        "colab": {}
      },
      "source": [
        "sum( )"
      ],
      "execution_count": null,
      "outputs": []
    }
  ]
}