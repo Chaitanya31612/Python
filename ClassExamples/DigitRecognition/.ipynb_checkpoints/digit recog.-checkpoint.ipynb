{
 "cells": [
  {
   "cell_type": "code",
   "execution_count": 8,
   "metadata": {},
   "outputs": [
    {
     "data": {
      "text/plain": [
       "RandomForestClassifier(bootstrap=True, class_weight=None, criterion='gini',\n",
       "            max_depth=None, max_features='auto', max_leaf_nodes=None,\n",
       "            min_impurity_decrease=0.0, min_impurity_split=None,\n",
       "            min_samples_leaf=1, min_samples_split=2,\n",
       "            min_weight_fraction_leaf=0.0, n_estimators=10, n_jobs=-1,\n",
       "            oob_score=False, random_state=None, verbose=0,\n",
       "            warm_start=False)"
      ]
     },
     "execution_count": 8,
     "metadata": {},
     "output_type": "execute_result"
    }
   ],
   "source": [
    "from sklearn.datasets import fetch_mldata\n",
    "mnist = fetch_mldata('MNIST original')\n",
    "\n",
    "import numpy as np\n",
    "import matplotlib.pyplot as plt\n",
    "import seaborn as sns\n",
    "%matplotlib inline\n",
    "\n",
    "features,labels=mnist.data,mnist.target\n",
    "\n",
    "from sklearn.model_selection import train_test_split\n",
    "X_train,X_test,y_train,y_test=train_test_split(features,labels,test_size=0.0,random_state=42)\n",
    "\n",
    "from sklearn.ensemble import RandomForestClassifier\n",
    "\n",
    "rfc = RandomForestClassifier(n_jobs=-1, n_estimators=10)\n",
    "\n",
    "rfc.fit(X_train,y_train)\n",
    "\n",
    "\n"
   ]
  },
  {
   "cell_type": "code",
   "execution_count": 11,
   "metadata": {},
   "outputs": [
    {
     "name": "stdout",
     "output_type": "stream",
     "text": [
      "The figure predicted is  :  [ 2.]\n"
     ]
    }
   ],
   "source": [
    "from scipy import misc\n",
    "\n",
    "img=misc.imread(\"image56.jpg\")\n",
    "img=misc.imresize(img,(28,28))\n",
    "# print(img)\n",
    "#type(digits_data.images)  ?? what is the diff\n",
    "\n",
    "img=misc.bytescale(img,high=16,low=0)\n",
    "\n",
    "\n",
    "x_test=[]\n",
    "for eachRow in img:\n",
    "    for eachPixel in eachRow:\n",
    "        x_test.append(sum(eachPixel)/3.0)\n",
    "\n",
    "print('The figure predicted is  : ',rfc.predict([x_test]))\n"
   ]
  },
  {
   "cell_type": "code",
   "execution_count": 1,
   "metadata": {
    "collapsed": true
   },
   "outputs": [],
   "source": [
    "class DigitReco:\n",
    "    def __init__(self):\n",
    "        ''' Constructor for this class. '''\n",
    "        print('training Model...........wait')\n",
    "        from sklearn.datasets import fetch_mldata\n",
    "        mnist = fetch_mldata('MNIST original')\n",
    "\n",
    "        import numpy as np\n",
    "        import matplotlib.pyplot as plt\n",
    "        import seaborn as sns\n",
    "        %matplotlib inline\n",
    "\n",
    "        features,labels=mnist.data,mnist.target\n",
    "\n",
    "        from sklearn.model_selection import train_test_split\n",
    "        X_train,X_test,y_train,y_test=train_test_split(features,labels,test_size=0.0,random_state=42)\n",
    "\n",
    "        from sklearn.ensemble import RandomForestClassifier\n",
    "\n",
    "        rfc = RandomForestClassifier(n_jobs=-1, n_estimators=10)\n",
    "        rfc.fit(X_train,y_train)\n",
    "        print('Model Trained...........ready to use')  \n",
    " \n",
    " \n",
    "    def testDigit(self, digitImg):\n",
    "        from scipy import misc\n",
    "\n",
    "        #img=misc.imread(\"image56.jpg\")\n",
    "        img=misc.imread(digitImg)\n",
    "        img=misc.imresize(img,(28,28))\n",
    "        # print(img)\n",
    "        #type(digits_data.images)  ?? what is the diff\n",
    "        img=misc.bytescale(img,high=16,low=0)\n",
    "        x_test=[]\n",
    "        for eachRow in img:\n",
    "            for eachPixel in eachRow:\n",
    "                x_test.append(sum(eachPixel)/3.0)\n",
    "\n",
    "        print(rfc.predict([x_test]))\n",
    "        "
   ]
  },
  {
   "cell_type": "code",
   "execution_count": 2,
   "metadata": {},
   "outputs": [
    {
     "name": "stdout",
     "output_type": "stream",
     "text": [
      "training Model...........wait\n",
      "Model Trained...........ready to use\n"
     ]
    }
   ],
   "source": [
    "dr = DigitReco()"
   ]
  },
  {
   "cell_type": "code",
   "execution_count": 6,
   "metadata": {},
   "outputs": [
    {
     "ename": "NameError",
     "evalue": "name 'rfc' is not defined",
     "output_type": "error",
     "traceback": [
      "\u001b[1;31m---------------------------------------------------------------------------\u001b[0m",
      "\u001b[1;31mNameError\u001b[0m                                 Traceback (most recent call last)",
      "\u001b[1;32m<ipython-input-6-6b5da3630bef>\u001b[0m in \u001b[0;36m<module>\u001b[1;34m()\u001b[0m\n\u001b[1;32m----> 1\u001b[1;33m \u001b[0mdr\u001b[0m\u001b[1;33m.\u001b[0m\u001b[0mtestDigit\u001b[0m\u001b[1;33m(\u001b[0m\u001b[1;34m\"image56.jpg\"\u001b[0m\u001b[1;33m)\u001b[0m\u001b[1;33m\u001b[0m\u001b[0m\n\u001b[0m",
      "\u001b[1;32m<ipython-input-1-162b63c122d1>\u001b[0m in \u001b[0;36mtestDigit\u001b[1;34m(self, digitImg)\u001b[0m\n\u001b[0;32m     37\u001b[0m                 \u001b[0mx_test\u001b[0m\u001b[1;33m.\u001b[0m\u001b[0mappend\u001b[0m\u001b[1;33m(\u001b[0m\u001b[0msum\u001b[0m\u001b[1;33m(\u001b[0m\u001b[0meachPixel\u001b[0m\u001b[1;33m)\u001b[0m\u001b[1;33m/\u001b[0m\u001b[1;36m3.0\u001b[0m\u001b[1;33m)\u001b[0m\u001b[1;33m\u001b[0m\u001b[0m\n\u001b[0;32m     38\u001b[0m \u001b[1;33m\u001b[0m\u001b[0m\n\u001b[1;32m---> 39\u001b[1;33m         \u001b[0mprint\u001b[0m\u001b[1;33m(\u001b[0m\u001b[0mrfc\u001b[0m\u001b[1;33m.\u001b[0m\u001b[0mpredict\u001b[0m\u001b[1;33m(\u001b[0m\u001b[1;33m[\u001b[0m\u001b[0mx_test\u001b[0m\u001b[1;33m]\u001b[0m\u001b[1;33m)\u001b[0m\u001b[1;33m)\u001b[0m\u001b[1;33m\u001b[0m\u001b[0m\n\u001b[0m\u001b[0;32m     40\u001b[0m \u001b[1;33m\u001b[0m\u001b[0m\n",
      "\u001b[1;31mNameError\u001b[0m: name 'rfc' is not defined"
     ]
    }
   ],
   "source": [
    "dr.testDigit(\"image56.jpg\")"
   ]
  },
  {
   "cell_type": "code",
   "execution_count": 3,
   "metadata": {},
   "outputs": [
    {
     "name": "stdout",
     "output_type": "stream",
     "text": [
      "training Model...........wait\n",
      "Model Trained...........ready to use\n"
     ]
    },
    {
     "name": "stderr",
     "output_type": "stream",
     "text": [
      "Exception in Tkinter callback\n",
      "Traceback (most recent call last):\n",
      "  File \"C:\\ProgramData\\Anaconda3\\lib\\tkinter\\__init__.py\", line 1699, in __call__\n",
      "    return self.func(*args)\n",
      "  File \"<ipython-input-3-f42cd9d103d4>\", line 23, in predictDigit\n",
      "    print( dr.testDigit(\"image56.jpg\"))\n",
      "  File \"<ipython-input-1-162b63c122d1>\", line 39, in testDigit\n",
      "    print(rfc.predict([x_test]))\n",
      "NameError: name 'rfc' is not defined\n",
      "Exception in Tkinter callback\n",
      "Traceback (most recent call last):\n",
      "  File \"C:\\ProgramData\\Anaconda3\\lib\\tkinter\\__init__.py\", line 1699, in __call__\n",
      "    return self.func(*args)\n",
      "  File \"<ipython-input-3-f42cd9d103d4>\", line 23, in predictDigit\n",
      "    print( dr.testDigit(\"image56.jpg\"))\n",
      "  File \"<ipython-input-1-162b63c122d1>\", line 39, in testDigit\n",
      "    print(rfc.predict([x_test]))\n",
      "NameError: name 'rfc' is not defined\n"
     ]
    }
   ],
   "source": [
    "from PIL import ImageTk, Image, ImageDraw\n",
    "import PIL\n",
    "from tkinter import *\n",
    "\n",
    "width = 200\n",
    "height = 200\n",
    "white = (225,225,225)\n",
    "black = (0,0,0)\n",
    "# creating objec of class DigitReco \n",
    "dr = DigitReco()\n",
    "\n",
    "def save():\n",
    "    filename = \"image56.jpg\"\n",
    "    image1.save(filename)\n",
    "\n",
    "def paint(event):\n",
    "    x1, y1 = (event.x - 1), (event.y - 1)\n",
    "    x2, y2 = (event.x + 1), (event.y + 1)\n",
    "    cv.create_oval(x1, y1, x2, y2, fill = 'white',width=5)\n",
    "    draw.line([x1, y1, x2, y2],fill = 'white',width=5)\n",
    "    \n",
    "def predictDigit():\n",
    "    print( dr.testDigit(\"image56.jpg\"))\n",
    "\n",
    "root = Tk()\n",
    "\n",
    "cv = Canvas(root, width=width, height=height, bg='white')\n",
    "cv.pack()\n",
    "\n",
    "#memory save\n",
    "\n",
    "image1 = PIL.Image.new(\"RGB\", (width, height),black)\n",
    "draw = ImageDraw.Draw(image1)\n",
    "\n",
    "#draw\n",
    "cv.pack(expand=YES, fill= BOTH)\n",
    "cv.bind(\"<B1-Motion>\", paint)\n",
    "\n",
    "button=Button(text=\"save\",command=save)\n",
    "button1=Button(text=\"Predict\",command=predictDigit)\n",
    "button.pack()\n",
    "button1.pack()\n",
    "root.mainloop()"
   ]
  },
  {
   "cell_type": "code",
   "execution_count": null,
   "metadata": {
    "collapsed": true
   },
   "outputs": [],
   "source": []
  }
 ],
 "metadata": {
  "kernelspec": {
   "display_name": "Python 3",
   "language": "python",
   "name": "python3"
  },
  "language_info": {
   "codemirror_mode": {
    "name": "ipython",
    "version": 3
   },
   "file_extension": ".py",
   "mimetype": "text/x-python",
   "name": "python",
   "nbconvert_exporter": "python",
   "pygments_lexer": "ipython3",
   "version": "3.6.3"
  }
 },
 "nbformat": 4,
 "nbformat_minor": 2
}
