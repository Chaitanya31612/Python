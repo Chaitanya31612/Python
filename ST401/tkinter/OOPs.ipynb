{
 "cells": [
  {
   "cell_type": "code",
   "execution_count": 24,
   "metadata": {
    "collapsed": true
   },
   "outputs": [],
   "source": [
    "def isPallindrome(my_str):\n",
    "    #my_str = my_str.casefold()\n",
    "    rev_str = reversed(my_str)\n",
    "    if list(my_str) == list(rev_str):\n",
    "        #print(\"It is palindrome\")\n",
    "        return True\n",
    "    else:\n",
    "        #print(\"It is not palindrome\")\n",
    "        return False"
   ]
  },
  {
   "cell_type": "code",
   "execution_count": 2,
   "metadata": {},
   "outputs": [
    {
     "data": {
      "text/plain": [
       "True"
      ]
     },
     "execution_count": 2,
     "metadata": {},
     "output_type": "execute_result"
    }
   ],
   "source": [
    "isPallindrome('madam')"
   ]
  },
  {
   "cell_type": "code",
   "execution_count": 3,
   "metadata": {},
   "outputs": [
    {
     "data": {
      "text/plain": [
       "False"
      ]
     },
     "execution_count": 3,
     "metadata": {},
     "output_type": "execute_result"
    }
   ],
   "source": [
    "isPallindrome('abcde')"
   ]
  },
  {
   "cell_type": "code",
   "execution_count": 18,
   "metadata": {
    "collapsed": true
   },
   "outputs": [],
   "source": [
    "class Student:\n",
    "    rno=0\n",
    "    def setRno( a):\n",
    "        rno=a\n",
    "    def getRno():\n",
    "        return rno\n",
    "        "
   ]
  },
  {
   "cell_type": "code",
   "execution_count": 19,
   "metadata": {
    "collapsed": true
   },
   "outputs": [],
   "source": [
    "s1 = Student()"
   ]
  },
  {
   "cell_type": "code",
   "execution_count": 6,
   "metadata": {},
   "outputs": [
    {
     "data": {
      "text/plain": [
       "__main__.Student"
      ]
     },
     "execution_count": 6,
     "metadata": {},
     "output_type": "execute_result"
    }
   ],
   "source": [
    "type(s1)"
   ]
  },
  {
   "cell_type": "code",
   "execution_count": 13,
   "metadata": {},
   "outputs": [],
   "source": [
    "s1.rno=10"
   ]
  },
  {
   "cell_type": "code",
   "execution_count": 15,
   "metadata": {},
   "outputs": [
    {
     "name": "stdout",
     "output_type": "stream",
     "text": [
      "10\n"
     ]
    }
   ],
   "source": [
    "print (s1.rno)"
   ]
  },
  {
   "cell_type": "code",
   "execution_count": 17,
   "metadata": {},
   "outputs": [
    {
     "ename": "TypeError",
     "evalue": "setRno() got multiple values for argument 'a'",
     "output_type": "error",
     "traceback": [
      "\u001b[1;31m---------------------------------------------------------------------------\u001b[0m",
      "\u001b[1;31mTypeError\u001b[0m                                 Traceback (most recent call last)",
      "\u001b[1;32m<ipython-input-17-ded9cc386d55>\u001b[0m in \u001b[0;36m<module>\u001b[1;34m()\u001b[0m\n\u001b[1;32m----> 1\u001b[1;33m \u001b[0ms1\u001b[0m\u001b[1;33m.\u001b[0m\u001b[0msetRno\u001b[0m\u001b[1;33m(\u001b[0m\u001b[0ma\u001b[0m\u001b[1;33m=\u001b[0m\u001b[1;36m10\u001b[0m\u001b[1;33m)\u001b[0m\u001b[1;33m\u001b[0m\u001b[0m\n\u001b[0m",
      "\u001b[1;31mTypeError\u001b[0m: setRno() got multiple values for argument 'a'"
     ]
    }
   ],
   "source": [
    "s1."
   ]
  },
  {
   "cell_type": "code",
   "execution_count": 26,
   "metadata": {},
   "outputs": [],
   "source": [
    "import tkinter \n",
    "from tkinter import StringVar\n",
    "\n",
    "top = tkinter.Tk() \n",
    "L = tkinter.Label(top, text='Enter text to check :').pack()  \n",
    "svalue = StringVar()  \n",
    "w = tkinter.Entry(top,textvariable=svalue)  \n",
    "w.pack()\n",
    "\n",
    "def btnClick():\n",
    "    res=isPallindrome(svalue.get())\n",
    "    if res is True :\n",
    "        B.configure(text='true')\n",
    "        B['text'] = 'Result : True'\n",
    "    else :\n",
    "        B['text'] = 'Result : False'\n",
    "    top.update()\n",
    "\n",
    "B = tkinter.Button(top, text =\"Result  : \", bg='cyan',command=btnClick )\n",
    "B.pack()\n",
    "B1 = tkinter.Button(top, text =\"Check\", command=btnClick )\n",
    "B1.pack() \n",
    "tkinter.Button(top, text =\"Quit\", command= top.destroy).pack() \n",
    "top.geometry('300x200')\n",
    "top.mainloop()"
   ]
  },
  {
   "cell_type": "code",
   "execution_count": null,
   "metadata": {
    "collapsed": true
   },
   "outputs": [],
   "source": []
  }
 ],
 "metadata": {
  "kernelspec": {
   "display_name": "Python 3",
   "language": "python",
   "name": "python3"
  },
  "language_info": {
   "codemirror_mode": {
    "name": "ipython",
    "version": 3
   },
   "file_extension": ".py",
   "mimetype": "text/x-python",
   "name": "python",
   "nbconvert_exporter": "python",
   "pygments_lexer": "ipython3",
   "version": "3.6.3"
  }
 },
 "nbformat": 4,
 "nbformat_minor": 2
}
